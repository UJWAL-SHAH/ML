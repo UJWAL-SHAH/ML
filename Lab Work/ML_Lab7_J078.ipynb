{
  "nbformat": 4,
  "nbformat_minor": 0,
  "metadata": {
    "colab": {
      "name": "ML_Lab7_J078.ipynb",
      "provenance": [],
      "collapsed_sections": [],
      "include_colab_link": true
    },
    "kernelspec": {
      "name": "python3",
      "display_name": "Python 3"
    },
    "accelerator": "GPU"
  },
  "cells": [
    {
      "cell_type": "markdown",
      "metadata": {
        "id": "view-in-github",
        "colab_type": "text"
      },
      "source": [
        "<a href=\"https://colab.research.google.com/github/UJWAL-SHAH/ML/blob/master/Lab%20Work/ML_Lab7_J078.ipynb\" target=\"_parent\"><img src=\"https://colab.research.google.com/assets/colab-badge.svg\" alt=\"Open In Colab\"/></a>"
      ]
    },
    {
      "cell_type": "markdown",
      "metadata": {
        "id": "LnHTCYPOTcAS",
        "colab_type": "text"
      },
      "source": [
        "##**LAB 7**\n",
        "\n",
        "##**ROLL NO : J078**"
      ]
    },
    {
      "cell_type": "markdown",
      "metadata": {
        "id": "C_YzrfBdqfjb",
        "colab_type": "text"
      },
      "source": [
        "#**load.fetch_covtype**"
      ]
    },
    {
      "cell_type": "code",
      "metadata": {
        "id": "z116ZErHTWPu",
        "colab_type": "code",
        "colab": {
          "base_uri": "https://localhost:8080/",
          "height": 34
        },
        "outputId": "78ed9787-969a-49c8-d666-cc30fc6f2530"
      },
      "source": [
        "import pandas as pd\n",
        "from sklearn.datasets import fetch_covtype\n",
        "#Dataset Link: https://scikit-learn.org/stable/modules/generated/sklearn.datasets.fetch_covtype.html#sklearn.datasets.fetch_covtype\n",
        "\n",
        "forest = fetch_covtype()\n",
        "x_fetch_covtype = forest.data\n",
        "y_fetch_covtype = forest.target\n"
      ],
      "execution_count": 1,
      "outputs": [
        {
          "output_type": "stream",
          "text": [
            "Downloading https://ndownloader.figshare.com/files/5976039\n"
          ],
          "name": "stderr"
        }
      ]
    },
    {
      "cell_type": "code",
      "metadata": {
        "id": "UCNkL6hcVGDo",
        "colab_type": "code",
        "colab": {
          "base_uri": "https://localhost:8080/",
          "height": 224
        },
        "outputId": "91c865a3-7afe-4a05-8bf0-7f4349cf1260"
      },
      "source": [
        "X=pd.DataFrame(x_fetch_covtype)\n",
        "Y=y_fetch_covtype\n",
        "Y1=pd.DataFrame(Y.copy())\n",
        "X.head()"
      ],
      "execution_count": 2,
      "outputs": [
        {
          "output_type": "execute_result",
          "data": {
            "text/html": [
              "<div>\n",
              "<style scoped>\n",
              "    .dataframe tbody tr th:only-of-type {\n",
              "        vertical-align: middle;\n",
              "    }\n",
              "\n",
              "    .dataframe tbody tr th {\n",
              "        vertical-align: top;\n",
              "    }\n",
              "\n",
              "    .dataframe thead th {\n",
              "        text-align: right;\n",
              "    }\n",
              "</style>\n",
              "<table border=\"1\" class=\"dataframe\">\n",
              "  <thead>\n",
              "    <tr style=\"text-align: right;\">\n",
              "      <th></th>\n",
              "      <th>0</th>\n",
              "      <th>1</th>\n",
              "      <th>2</th>\n",
              "      <th>3</th>\n",
              "      <th>4</th>\n",
              "      <th>5</th>\n",
              "      <th>6</th>\n",
              "      <th>7</th>\n",
              "      <th>8</th>\n",
              "      <th>9</th>\n",
              "      <th>10</th>\n",
              "      <th>11</th>\n",
              "      <th>12</th>\n",
              "      <th>13</th>\n",
              "      <th>14</th>\n",
              "      <th>15</th>\n",
              "      <th>16</th>\n",
              "      <th>17</th>\n",
              "      <th>18</th>\n",
              "      <th>19</th>\n",
              "      <th>20</th>\n",
              "      <th>21</th>\n",
              "      <th>22</th>\n",
              "      <th>23</th>\n",
              "      <th>24</th>\n",
              "      <th>25</th>\n",
              "      <th>26</th>\n",
              "      <th>27</th>\n",
              "      <th>28</th>\n",
              "      <th>29</th>\n",
              "      <th>30</th>\n",
              "      <th>31</th>\n",
              "      <th>32</th>\n",
              "      <th>33</th>\n",
              "      <th>34</th>\n",
              "      <th>35</th>\n",
              "      <th>36</th>\n",
              "      <th>37</th>\n",
              "      <th>38</th>\n",
              "      <th>39</th>\n",
              "      <th>40</th>\n",
              "      <th>41</th>\n",
              "      <th>42</th>\n",
              "      <th>43</th>\n",
              "      <th>44</th>\n",
              "      <th>45</th>\n",
              "      <th>46</th>\n",
              "      <th>47</th>\n",
              "      <th>48</th>\n",
              "      <th>49</th>\n",
              "      <th>50</th>\n",
              "      <th>51</th>\n",
              "      <th>52</th>\n",
              "      <th>53</th>\n",
              "    </tr>\n",
              "  </thead>\n",
              "  <tbody>\n",
              "    <tr>\n",
              "      <th>0</th>\n",
              "      <td>2596.0</td>\n",
              "      <td>51.0</td>\n",
              "      <td>3.0</td>\n",
              "      <td>258.0</td>\n",
              "      <td>0.0</td>\n",
              "      <td>510.0</td>\n",
              "      <td>221.0</td>\n",
              "      <td>232.0</td>\n",
              "      <td>148.0</td>\n",
              "      <td>6279.0</td>\n",
              "      <td>1.0</td>\n",
              "      <td>0.0</td>\n",
              "      <td>0.0</td>\n",
              "      <td>0.0</td>\n",
              "      <td>0.0</td>\n",
              "      <td>0.0</td>\n",
              "      <td>0.0</td>\n",
              "      <td>0.0</td>\n",
              "      <td>0.0</td>\n",
              "      <td>0.0</td>\n",
              "      <td>0.0</td>\n",
              "      <td>0.0</td>\n",
              "      <td>0.0</td>\n",
              "      <td>0.0</td>\n",
              "      <td>0.0</td>\n",
              "      <td>0.0</td>\n",
              "      <td>0.0</td>\n",
              "      <td>0.0</td>\n",
              "      <td>0.0</td>\n",
              "      <td>0.0</td>\n",
              "      <td>0.0</td>\n",
              "      <td>0.0</td>\n",
              "      <td>0.0</td>\n",
              "      <td>0.0</td>\n",
              "      <td>0.0</td>\n",
              "      <td>0.0</td>\n",
              "      <td>0.0</td>\n",
              "      <td>0.0</td>\n",
              "      <td>0.0</td>\n",
              "      <td>0.0</td>\n",
              "      <td>0.0</td>\n",
              "      <td>0.0</td>\n",
              "      <td>1.0</td>\n",
              "      <td>0.0</td>\n",
              "      <td>0.0</td>\n",
              "      <td>0.0</td>\n",
              "      <td>0.0</td>\n",
              "      <td>0.0</td>\n",
              "      <td>0.0</td>\n",
              "      <td>0.0</td>\n",
              "      <td>0.0</td>\n",
              "      <td>0.0</td>\n",
              "      <td>0.0</td>\n",
              "      <td>0.0</td>\n",
              "    </tr>\n",
              "    <tr>\n",
              "      <th>1</th>\n",
              "      <td>2590.0</td>\n",
              "      <td>56.0</td>\n",
              "      <td>2.0</td>\n",
              "      <td>212.0</td>\n",
              "      <td>-6.0</td>\n",
              "      <td>390.0</td>\n",
              "      <td>220.0</td>\n",
              "      <td>235.0</td>\n",
              "      <td>151.0</td>\n",
              "      <td>6225.0</td>\n",
              "      <td>1.0</td>\n",
              "      <td>0.0</td>\n",
              "      <td>0.0</td>\n",
              "      <td>0.0</td>\n",
              "      <td>0.0</td>\n",
              "      <td>0.0</td>\n",
              "      <td>0.0</td>\n",
              "      <td>0.0</td>\n",
              "      <td>0.0</td>\n",
              "      <td>0.0</td>\n",
              "      <td>0.0</td>\n",
              "      <td>0.0</td>\n",
              "      <td>0.0</td>\n",
              "      <td>0.0</td>\n",
              "      <td>0.0</td>\n",
              "      <td>0.0</td>\n",
              "      <td>0.0</td>\n",
              "      <td>0.0</td>\n",
              "      <td>0.0</td>\n",
              "      <td>0.0</td>\n",
              "      <td>0.0</td>\n",
              "      <td>0.0</td>\n",
              "      <td>0.0</td>\n",
              "      <td>0.0</td>\n",
              "      <td>0.0</td>\n",
              "      <td>0.0</td>\n",
              "      <td>0.0</td>\n",
              "      <td>0.0</td>\n",
              "      <td>0.0</td>\n",
              "      <td>0.0</td>\n",
              "      <td>0.0</td>\n",
              "      <td>0.0</td>\n",
              "      <td>1.0</td>\n",
              "      <td>0.0</td>\n",
              "      <td>0.0</td>\n",
              "      <td>0.0</td>\n",
              "      <td>0.0</td>\n",
              "      <td>0.0</td>\n",
              "      <td>0.0</td>\n",
              "      <td>0.0</td>\n",
              "      <td>0.0</td>\n",
              "      <td>0.0</td>\n",
              "      <td>0.0</td>\n",
              "      <td>0.0</td>\n",
              "    </tr>\n",
              "    <tr>\n",
              "      <th>2</th>\n",
              "      <td>2804.0</td>\n",
              "      <td>139.0</td>\n",
              "      <td>9.0</td>\n",
              "      <td>268.0</td>\n",
              "      <td>65.0</td>\n",
              "      <td>3180.0</td>\n",
              "      <td>234.0</td>\n",
              "      <td>238.0</td>\n",
              "      <td>135.0</td>\n",
              "      <td>6121.0</td>\n",
              "      <td>1.0</td>\n",
              "      <td>0.0</td>\n",
              "      <td>0.0</td>\n",
              "      <td>0.0</td>\n",
              "      <td>0.0</td>\n",
              "      <td>0.0</td>\n",
              "      <td>0.0</td>\n",
              "      <td>0.0</td>\n",
              "      <td>0.0</td>\n",
              "      <td>0.0</td>\n",
              "      <td>0.0</td>\n",
              "      <td>0.0</td>\n",
              "      <td>0.0</td>\n",
              "      <td>0.0</td>\n",
              "      <td>0.0</td>\n",
              "      <td>1.0</td>\n",
              "      <td>0.0</td>\n",
              "      <td>0.0</td>\n",
              "      <td>0.0</td>\n",
              "      <td>0.0</td>\n",
              "      <td>0.0</td>\n",
              "      <td>0.0</td>\n",
              "      <td>0.0</td>\n",
              "      <td>0.0</td>\n",
              "      <td>0.0</td>\n",
              "      <td>0.0</td>\n",
              "      <td>0.0</td>\n",
              "      <td>0.0</td>\n",
              "      <td>0.0</td>\n",
              "      <td>0.0</td>\n",
              "      <td>0.0</td>\n",
              "      <td>0.0</td>\n",
              "      <td>0.0</td>\n",
              "      <td>0.0</td>\n",
              "      <td>0.0</td>\n",
              "      <td>0.0</td>\n",
              "      <td>0.0</td>\n",
              "      <td>0.0</td>\n",
              "      <td>0.0</td>\n",
              "      <td>0.0</td>\n",
              "      <td>0.0</td>\n",
              "      <td>0.0</td>\n",
              "      <td>0.0</td>\n",
              "      <td>0.0</td>\n",
              "    </tr>\n",
              "    <tr>\n",
              "      <th>3</th>\n",
              "      <td>2785.0</td>\n",
              "      <td>155.0</td>\n",
              "      <td>18.0</td>\n",
              "      <td>242.0</td>\n",
              "      <td>118.0</td>\n",
              "      <td>3090.0</td>\n",
              "      <td>238.0</td>\n",
              "      <td>238.0</td>\n",
              "      <td>122.0</td>\n",
              "      <td>6211.0</td>\n",
              "      <td>1.0</td>\n",
              "      <td>0.0</td>\n",
              "      <td>0.0</td>\n",
              "      <td>0.0</td>\n",
              "      <td>0.0</td>\n",
              "      <td>0.0</td>\n",
              "      <td>0.0</td>\n",
              "      <td>0.0</td>\n",
              "      <td>0.0</td>\n",
              "      <td>0.0</td>\n",
              "      <td>0.0</td>\n",
              "      <td>0.0</td>\n",
              "      <td>0.0</td>\n",
              "      <td>0.0</td>\n",
              "      <td>0.0</td>\n",
              "      <td>0.0</td>\n",
              "      <td>0.0</td>\n",
              "      <td>0.0</td>\n",
              "      <td>0.0</td>\n",
              "      <td>0.0</td>\n",
              "      <td>0.0</td>\n",
              "      <td>0.0</td>\n",
              "      <td>0.0</td>\n",
              "      <td>0.0</td>\n",
              "      <td>0.0</td>\n",
              "      <td>0.0</td>\n",
              "      <td>0.0</td>\n",
              "      <td>0.0</td>\n",
              "      <td>0.0</td>\n",
              "      <td>0.0</td>\n",
              "      <td>0.0</td>\n",
              "      <td>0.0</td>\n",
              "      <td>0.0</td>\n",
              "      <td>1.0</td>\n",
              "      <td>0.0</td>\n",
              "      <td>0.0</td>\n",
              "      <td>0.0</td>\n",
              "      <td>0.0</td>\n",
              "      <td>0.0</td>\n",
              "      <td>0.0</td>\n",
              "      <td>0.0</td>\n",
              "      <td>0.0</td>\n",
              "      <td>0.0</td>\n",
              "      <td>0.0</td>\n",
              "    </tr>\n",
              "    <tr>\n",
              "      <th>4</th>\n",
              "      <td>2595.0</td>\n",
              "      <td>45.0</td>\n",
              "      <td>2.0</td>\n",
              "      <td>153.0</td>\n",
              "      <td>-1.0</td>\n",
              "      <td>391.0</td>\n",
              "      <td>220.0</td>\n",
              "      <td>234.0</td>\n",
              "      <td>150.0</td>\n",
              "      <td>6172.0</td>\n",
              "      <td>1.0</td>\n",
              "      <td>0.0</td>\n",
              "      <td>0.0</td>\n",
              "      <td>0.0</td>\n",
              "      <td>0.0</td>\n",
              "      <td>0.0</td>\n",
              "      <td>0.0</td>\n",
              "      <td>0.0</td>\n",
              "      <td>0.0</td>\n",
              "      <td>0.0</td>\n",
              "      <td>0.0</td>\n",
              "      <td>0.0</td>\n",
              "      <td>0.0</td>\n",
              "      <td>0.0</td>\n",
              "      <td>0.0</td>\n",
              "      <td>0.0</td>\n",
              "      <td>0.0</td>\n",
              "      <td>0.0</td>\n",
              "      <td>0.0</td>\n",
              "      <td>0.0</td>\n",
              "      <td>0.0</td>\n",
              "      <td>0.0</td>\n",
              "      <td>0.0</td>\n",
              "      <td>0.0</td>\n",
              "      <td>0.0</td>\n",
              "      <td>0.0</td>\n",
              "      <td>0.0</td>\n",
              "      <td>0.0</td>\n",
              "      <td>0.0</td>\n",
              "      <td>0.0</td>\n",
              "      <td>0.0</td>\n",
              "      <td>0.0</td>\n",
              "      <td>1.0</td>\n",
              "      <td>0.0</td>\n",
              "      <td>0.0</td>\n",
              "      <td>0.0</td>\n",
              "      <td>0.0</td>\n",
              "      <td>0.0</td>\n",
              "      <td>0.0</td>\n",
              "      <td>0.0</td>\n",
              "      <td>0.0</td>\n",
              "      <td>0.0</td>\n",
              "      <td>0.0</td>\n",
              "      <td>0.0</td>\n",
              "    </tr>\n",
              "  </tbody>\n",
              "</table>\n",
              "</div>"
            ],
            "text/plain": [
              "       0      1     2      3      4       5   ...   48   49   50   51   52   53\n",
              "0  2596.0   51.0   3.0  258.0    0.0   510.0  ...  0.0  0.0  0.0  0.0  0.0  0.0\n",
              "1  2590.0   56.0   2.0  212.0   -6.0   390.0  ...  0.0  0.0  0.0  0.0  0.0  0.0\n",
              "2  2804.0  139.0   9.0  268.0   65.0  3180.0  ...  0.0  0.0  0.0  0.0  0.0  0.0\n",
              "3  2785.0  155.0  18.0  242.0  118.0  3090.0  ...  0.0  0.0  0.0  0.0  0.0  0.0\n",
              "4  2595.0   45.0   2.0  153.0   -1.0   391.0  ...  0.0  0.0  0.0  0.0  0.0  0.0\n",
              "\n",
              "[5 rows x 54 columns]"
            ]
          },
          "metadata": {
            "tags": []
          },
          "execution_count": 2
        }
      ]
    },
    {
      "cell_type": "code",
      "metadata": {
        "id": "JWC_CK3dVckO",
        "colab_type": "code",
        "colab": {}
      },
      "source": [
        "Y1.columns=[\"Outcome\"]"
      ],
      "execution_count": 3,
      "outputs": []
    },
    {
      "cell_type": "code",
      "metadata": {
        "id": "G4mTO-didjFf",
        "colab_type": "code",
        "colab": {
          "base_uri": "https://localhost:8080/",
          "height": 204
        },
        "outputId": "4dff1de8-46dd-421d-d187-050368e2c771"
      },
      "source": [
        "Y1.head()"
      ],
      "execution_count": 4,
      "outputs": [
        {
          "output_type": "execute_result",
          "data": {
            "text/html": [
              "<div>\n",
              "<style scoped>\n",
              "    .dataframe tbody tr th:only-of-type {\n",
              "        vertical-align: middle;\n",
              "    }\n",
              "\n",
              "    .dataframe tbody tr th {\n",
              "        vertical-align: top;\n",
              "    }\n",
              "\n",
              "    .dataframe thead th {\n",
              "        text-align: right;\n",
              "    }\n",
              "</style>\n",
              "<table border=\"1\" class=\"dataframe\">\n",
              "  <thead>\n",
              "    <tr style=\"text-align: right;\">\n",
              "      <th></th>\n",
              "      <th>Outcome</th>\n",
              "    </tr>\n",
              "  </thead>\n",
              "  <tbody>\n",
              "    <tr>\n",
              "      <th>0</th>\n",
              "      <td>5</td>\n",
              "    </tr>\n",
              "    <tr>\n",
              "      <th>1</th>\n",
              "      <td>5</td>\n",
              "    </tr>\n",
              "    <tr>\n",
              "      <th>2</th>\n",
              "      <td>2</td>\n",
              "    </tr>\n",
              "    <tr>\n",
              "      <th>3</th>\n",
              "      <td>2</td>\n",
              "    </tr>\n",
              "    <tr>\n",
              "      <th>4</th>\n",
              "      <td>5</td>\n",
              "    </tr>\n",
              "  </tbody>\n",
              "</table>\n",
              "</div>"
            ],
            "text/plain": [
              "   Outcome\n",
              "0        5\n",
              "1        5\n",
              "2        2\n",
              "3        2\n",
              "4        5"
            ]
          },
          "metadata": {
            "tags": []
          },
          "execution_count": 4
        }
      ]
    },
    {
      "cell_type": "code",
      "metadata": {
        "id": "lSZYMCFFVnvt",
        "colab_type": "code",
        "colab": {
          "base_uri": "https://localhost:8080/",
          "height": 952
        },
        "outputId": "5daeeeaa-5c80-49e3-e7fb-50f04a6e7045"
      },
      "source": [
        "X.isnull().sum()"
      ],
      "execution_count": 5,
      "outputs": [
        {
          "output_type": "execute_result",
          "data": {
            "text/plain": [
              "0     0\n",
              "1     0\n",
              "2     0\n",
              "3     0\n",
              "4     0\n",
              "5     0\n",
              "6     0\n",
              "7     0\n",
              "8     0\n",
              "9     0\n",
              "10    0\n",
              "11    0\n",
              "12    0\n",
              "13    0\n",
              "14    0\n",
              "15    0\n",
              "16    0\n",
              "17    0\n",
              "18    0\n",
              "19    0\n",
              "20    0\n",
              "21    0\n",
              "22    0\n",
              "23    0\n",
              "24    0\n",
              "25    0\n",
              "26    0\n",
              "27    0\n",
              "28    0\n",
              "29    0\n",
              "30    0\n",
              "31    0\n",
              "32    0\n",
              "33    0\n",
              "34    0\n",
              "35    0\n",
              "36    0\n",
              "37    0\n",
              "38    0\n",
              "39    0\n",
              "40    0\n",
              "41    0\n",
              "42    0\n",
              "43    0\n",
              "44    0\n",
              "45    0\n",
              "46    0\n",
              "47    0\n",
              "48    0\n",
              "49    0\n",
              "50    0\n",
              "51    0\n",
              "52    0\n",
              "53    0\n",
              "dtype: int64"
            ]
          },
          "metadata": {
            "tags": []
          },
          "execution_count": 5
        }
      ]
    },
    {
      "cell_type": "markdown",
      "metadata": {
        "id": "_spNm8FhWg2k",
        "colab_type": "text"
      },
      "source": [
        "Hence No Null Values in the Dataset"
      ]
    },
    {
      "cell_type": "code",
      "metadata": {
        "id": "zIF1UF14WuoG",
        "colab_type": "code",
        "colab": {
          "base_uri": "https://localhost:8080/",
          "height": 224
        },
        "outputId": "ffe40c2d-fa88-4a23-f966-309793c94e8e"
      },
      "source": [
        "Fulldata = pd.concat([X,Y1], axis=1)\n",
        "Fulldata.head()"
      ],
      "execution_count": 6,
      "outputs": [
        {
          "output_type": "execute_result",
          "data": {
            "text/html": [
              "<div>\n",
              "<style scoped>\n",
              "    .dataframe tbody tr th:only-of-type {\n",
              "        vertical-align: middle;\n",
              "    }\n",
              "\n",
              "    .dataframe tbody tr th {\n",
              "        vertical-align: top;\n",
              "    }\n",
              "\n",
              "    .dataframe thead th {\n",
              "        text-align: right;\n",
              "    }\n",
              "</style>\n",
              "<table border=\"1\" class=\"dataframe\">\n",
              "  <thead>\n",
              "    <tr style=\"text-align: right;\">\n",
              "      <th></th>\n",
              "      <th>0</th>\n",
              "      <th>1</th>\n",
              "      <th>2</th>\n",
              "      <th>3</th>\n",
              "      <th>4</th>\n",
              "      <th>5</th>\n",
              "      <th>6</th>\n",
              "      <th>7</th>\n",
              "      <th>8</th>\n",
              "      <th>9</th>\n",
              "      <th>10</th>\n",
              "      <th>11</th>\n",
              "      <th>12</th>\n",
              "      <th>13</th>\n",
              "      <th>14</th>\n",
              "      <th>15</th>\n",
              "      <th>16</th>\n",
              "      <th>17</th>\n",
              "      <th>18</th>\n",
              "      <th>19</th>\n",
              "      <th>20</th>\n",
              "      <th>21</th>\n",
              "      <th>22</th>\n",
              "      <th>23</th>\n",
              "      <th>24</th>\n",
              "      <th>25</th>\n",
              "      <th>26</th>\n",
              "      <th>27</th>\n",
              "      <th>28</th>\n",
              "      <th>29</th>\n",
              "      <th>30</th>\n",
              "      <th>31</th>\n",
              "      <th>32</th>\n",
              "      <th>33</th>\n",
              "      <th>34</th>\n",
              "      <th>35</th>\n",
              "      <th>36</th>\n",
              "      <th>37</th>\n",
              "      <th>38</th>\n",
              "      <th>39</th>\n",
              "      <th>40</th>\n",
              "      <th>41</th>\n",
              "      <th>42</th>\n",
              "      <th>43</th>\n",
              "      <th>44</th>\n",
              "      <th>45</th>\n",
              "      <th>46</th>\n",
              "      <th>47</th>\n",
              "      <th>48</th>\n",
              "      <th>49</th>\n",
              "      <th>50</th>\n",
              "      <th>51</th>\n",
              "      <th>52</th>\n",
              "      <th>53</th>\n",
              "      <th>Outcome</th>\n",
              "    </tr>\n",
              "  </thead>\n",
              "  <tbody>\n",
              "    <tr>\n",
              "      <th>0</th>\n",
              "      <td>2596.0</td>\n",
              "      <td>51.0</td>\n",
              "      <td>3.0</td>\n",
              "      <td>258.0</td>\n",
              "      <td>0.0</td>\n",
              "      <td>510.0</td>\n",
              "      <td>221.0</td>\n",
              "      <td>232.0</td>\n",
              "      <td>148.0</td>\n",
              "      <td>6279.0</td>\n",
              "      <td>1.0</td>\n",
              "      <td>0.0</td>\n",
              "      <td>0.0</td>\n",
              "      <td>0.0</td>\n",
              "      <td>0.0</td>\n",
              "      <td>0.0</td>\n",
              "      <td>0.0</td>\n",
              "      <td>0.0</td>\n",
              "      <td>0.0</td>\n",
              "      <td>0.0</td>\n",
              "      <td>0.0</td>\n",
              "      <td>0.0</td>\n",
              "      <td>0.0</td>\n",
              "      <td>0.0</td>\n",
              "      <td>0.0</td>\n",
              "      <td>0.0</td>\n",
              "      <td>0.0</td>\n",
              "      <td>0.0</td>\n",
              "      <td>0.0</td>\n",
              "      <td>0.0</td>\n",
              "      <td>0.0</td>\n",
              "      <td>0.0</td>\n",
              "      <td>0.0</td>\n",
              "      <td>0.0</td>\n",
              "      <td>0.0</td>\n",
              "      <td>0.0</td>\n",
              "      <td>0.0</td>\n",
              "      <td>0.0</td>\n",
              "      <td>0.0</td>\n",
              "      <td>0.0</td>\n",
              "      <td>0.0</td>\n",
              "      <td>0.0</td>\n",
              "      <td>1.0</td>\n",
              "      <td>0.0</td>\n",
              "      <td>0.0</td>\n",
              "      <td>0.0</td>\n",
              "      <td>0.0</td>\n",
              "      <td>0.0</td>\n",
              "      <td>0.0</td>\n",
              "      <td>0.0</td>\n",
              "      <td>0.0</td>\n",
              "      <td>0.0</td>\n",
              "      <td>0.0</td>\n",
              "      <td>0.0</td>\n",
              "      <td>5</td>\n",
              "    </tr>\n",
              "    <tr>\n",
              "      <th>1</th>\n",
              "      <td>2590.0</td>\n",
              "      <td>56.0</td>\n",
              "      <td>2.0</td>\n",
              "      <td>212.0</td>\n",
              "      <td>-6.0</td>\n",
              "      <td>390.0</td>\n",
              "      <td>220.0</td>\n",
              "      <td>235.0</td>\n",
              "      <td>151.0</td>\n",
              "      <td>6225.0</td>\n",
              "      <td>1.0</td>\n",
              "      <td>0.0</td>\n",
              "      <td>0.0</td>\n",
              "      <td>0.0</td>\n",
              "      <td>0.0</td>\n",
              "      <td>0.0</td>\n",
              "      <td>0.0</td>\n",
              "      <td>0.0</td>\n",
              "      <td>0.0</td>\n",
              "      <td>0.0</td>\n",
              "      <td>0.0</td>\n",
              "      <td>0.0</td>\n",
              "      <td>0.0</td>\n",
              "      <td>0.0</td>\n",
              "      <td>0.0</td>\n",
              "      <td>0.0</td>\n",
              "      <td>0.0</td>\n",
              "      <td>0.0</td>\n",
              "      <td>0.0</td>\n",
              "      <td>0.0</td>\n",
              "      <td>0.0</td>\n",
              "      <td>0.0</td>\n",
              "      <td>0.0</td>\n",
              "      <td>0.0</td>\n",
              "      <td>0.0</td>\n",
              "      <td>0.0</td>\n",
              "      <td>0.0</td>\n",
              "      <td>0.0</td>\n",
              "      <td>0.0</td>\n",
              "      <td>0.0</td>\n",
              "      <td>0.0</td>\n",
              "      <td>0.0</td>\n",
              "      <td>1.0</td>\n",
              "      <td>0.0</td>\n",
              "      <td>0.0</td>\n",
              "      <td>0.0</td>\n",
              "      <td>0.0</td>\n",
              "      <td>0.0</td>\n",
              "      <td>0.0</td>\n",
              "      <td>0.0</td>\n",
              "      <td>0.0</td>\n",
              "      <td>0.0</td>\n",
              "      <td>0.0</td>\n",
              "      <td>0.0</td>\n",
              "      <td>5</td>\n",
              "    </tr>\n",
              "    <tr>\n",
              "      <th>2</th>\n",
              "      <td>2804.0</td>\n",
              "      <td>139.0</td>\n",
              "      <td>9.0</td>\n",
              "      <td>268.0</td>\n",
              "      <td>65.0</td>\n",
              "      <td>3180.0</td>\n",
              "      <td>234.0</td>\n",
              "      <td>238.0</td>\n",
              "      <td>135.0</td>\n",
              "      <td>6121.0</td>\n",
              "      <td>1.0</td>\n",
              "      <td>0.0</td>\n",
              "      <td>0.0</td>\n",
              "      <td>0.0</td>\n",
              "      <td>0.0</td>\n",
              "      <td>0.0</td>\n",
              "      <td>0.0</td>\n",
              "      <td>0.0</td>\n",
              "      <td>0.0</td>\n",
              "      <td>0.0</td>\n",
              "      <td>0.0</td>\n",
              "      <td>0.0</td>\n",
              "      <td>0.0</td>\n",
              "      <td>0.0</td>\n",
              "      <td>0.0</td>\n",
              "      <td>1.0</td>\n",
              "      <td>0.0</td>\n",
              "      <td>0.0</td>\n",
              "      <td>0.0</td>\n",
              "      <td>0.0</td>\n",
              "      <td>0.0</td>\n",
              "      <td>0.0</td>\n",
              "      <td>0.0</td>\n",
              "      <td>0.0</td>\n",
              "      <td>0.0</td>\n",
              "      <td>0.0</td>\n",
              "      <td>0.0</td>\n",
              "      <td>0.0</td>\n",
              "      <td>0.0</td>\n",
              "      <td>0.0</td>\n",
              "      <td>0.0</td>\n",
              "      <td>0.0</td>\n",
              "      <td>0.0</td>\n",
              "      <td>0.0</td>\n",
              "      <td>0.0</td>\n",
              "      <td>0.0</td>\n",
              "      <td>0.0</td>\n",
              "      <td>0.0</td>\n",
              "      <td>0.0</td>\n",
              "      <td>0.0</td>\n",
              "      <td>0.0</td>\n",
              "      <td>0.0</td>\n",
              "      <td>0.0</td>\n",
              "      <td>0.0</td>\n",
              "      <td>2</td>\n",
              "    </tr>\n",
              "    <tr>\n",
              "      <th>3</th>\n",
              "      <td>2785.0</td>\n",
              "      <td>155.0</td>\n",
              "      <td>18.0</td>\n",
              "      <td>242.0</td>\n",
              "      <td>118.0</td>\n",
              "      <td>3090.0</td>\n",
              "      <td>238.0</td>\n",
              "      <td>238.0</td>\n",
              "      <td>122.0</td>\n",
              "      <td>6211.0</td>\n",
              "      <td>1.0</td>\n",
              "      <td>0.0</td>\n",
              "      <td>0.0</td>\n",
              "      <td>0.0</td>\n",
              "      <td>0.0</td>\n",
              "      <td>0.0</td>\n",
              "      <td>0.0</td>\n",
              "      <td>0.0</td>\n",
              "      <td>0.0</td>\n",
              "      <td>0.0</td>\n",
              "      <td>0.0</td>\n",
              "      <td>0.0</td>\n",
              "      <td>0.0</td>\n",
              "      <td>0.0</td>\n",
              "      <td>0.0</td>\n",
              "      <td>0.0</td>\n",
              "      <td>0.0</td>\n",
              "      <td>0.0</td>\n",
              "      <td>0.0</td>\n",
              "      <td>0.0</td>\n",
              "      <td>0.0</td>\n",
              "      <td>0.0</td>\n",
              "      <td>0.0</td>\n",
              "      <td>0.0</td>\n",
              "      <td>0.0</td>\n",
              "      <td>0.0</td>\n",
              "      <td>0.0</td>\n",
              "      <td>0.0</td>\n",
              "      <td>0.0</td>\n",
              "      <td>0.0</td>\n",
              "      <td>0.0</td>\n",
              "      <td>0.0</td>\n",
              "      <td>0.0</td>\n",
              "      <td>1.0</td>\n",
              "      <td>0.0</td>\n",
              "      <td>0.0</td>\n",
              "      <td>0.0</td>\n",
              "      <td>0.0</td>\n",
              "      <td>0.0</td>\n",
              "      <td>0.0</td>\n",
              "      <td>0.0</td>\n",
              "      <td>0.0</td>\n",
              "      <td>0.0</td>\n",
              "      <td>0.0</td>\n",
              "      <td>2</td>\n",
              "    </tr>\n",
              "    <tr>\n",
              "      <th>4</th>\n",
              "      <td>2595.0</td>\n",
              "      <td>45.0</td>\n",
              "      <td>2.0</td>\n",
              "      <td>153.0</td>\n",
              "      <td>-1.0</td>\n",
              "      <td>391.0</td>\n",
              "      <td>220.0</td>\n",
              "      <td>234.0</td>\n",
              "      <td>150.0</td>\n",
              "      <td>6172.0</td>\n",
              "      <td>1.0</td>\n",
              "      <td>0.0</td>\n",
              "      <td>0.0</td>\n",
              "      <td>0.0</td>\n",
              "      <td>0.0</td>\n",
              "      <td>0.0</td>\n",
              "      <td>0.0</td>\n",
              "      <td>0.0</td>\n",
              "      <td>0.0</td>\n",
              "      <td>0.0</td>\n",
              "      <td>0.0</td>\n",
              "      <td>0.0</td>\n",
              "      <td>0.0</td>\n",
              "      <td>0.0</td>\n",
              "      <td>0.0</td>\n",
              "      <td>0.0</td>\n",
              "      <td>0.0</td>\n",
              "      <td>0.0</td>\n",
              "      <td>0.0</td>\n",
              "      <td>0.0</td>\n",
              "      <td>0.0</td>\n",
              "      <td>0.0</td>\n",
              "      <td>0.0</td>\n",
              "      <td>0.0</td>\n",
              "      <td>0.0</td>\n",
              "      <td>0.0</td>\n",
              "      <td>0.0</td>\n",
              "      <td>0.0</td>\n",
              "      <td>0.0</td>\n",
              "      <td>0.0</td>\n",
              "      <td>0.0</td>\n",
              "      <td>0.0</td>\n",
              "      <td>1.0</td>\n",
              "      <td>0.0</td>\n",
              "      <td>0.0</td>\n",
              "      <td>0.0</td>\n",
              "      <td>0.0</td>\n",
              "      <td>0.0</td>\n",
              "      <td>0.0</td>\n",
              "      <td>0.0</td>\n",
              "      <td>0.0</td>\n",
              "      <td>0.0</td>\n",
              "      <td>0.0</td>\n",
              "      <td>0.0</td>\n",
              "      <td>5</td>\n",
              "    </tr>\n",
              "  </tbody>\n",
              "</table>\n",
              "</div>"
            ],
            "text/plain": [
              "        0      1     2      3      4       5  ...   49   50   51   52   53  Outcome\n",
              "0  2596.0   51.0   3.0  258.0    0.0   510.0  ...  0.0  0.0  0.0  0.0  0.0        5\n",
              "1  2590.0   56.0   2.0  212.0   -6.0   390.0  ...  0.0  0.0  0.0  0.0  0.0        5\n",
              "2  2804.0  139.0   9.0  268.0   65.0  3180.0  ...  0.0  0.0  0.0  0.0  0.0        2\n",
              "3  2785.0  155.0  18.0  242.0  118.0  3090.0  ...  0.0  0.0  0.0  0.0  0.0        2\n",
              "4  2595.0   45.0   2.0  153.0   -1.0   391.0  ...  0.0  0.0  0.0  0.0  0.0        5\n",
              "\n",
              "[5 rows x 55 columns]"
            ]
          },
          "metadata": {
            "tags": []
          },
          "execution_count": 6
        }
      ]
    },
    {
      "cell_type": "code",
      "metadata": {
        "id": "WLJ_EcIdePhP",
        "colab_type": "code",
        "colab": {
          "base_uri": "https://localhost:8080/",
          "height": 1000
        },
        "outputId": "7dae070f-28cc-4b8d-a245-d13c67b7cc1e"
      },
      "source": [
        "import seaborn as sns\n",
        "import matplotlib.pyplot as plt\n",
        "corr = Fulldata.corr()\n",
        "fig= plt.subplots(figsize = [50,50])\n",
        "ax = sns.heatmap(\n",
        "    corr, \n",
        "    vmin=-1, vmax=1, center=0,\n",
        "    cmap=sns.diverging_palette(20, 220, n=200),\n",
        "    square=True\n",
        ")\n",
        "ax.set_xticklabels(ax.get_xticklabels(),\n",
        "    rotation=90,\n",
        "    horizontalalignment='right'\n",
        ");\n",
        "plt.show()"
      ],
      "execution_count": 7,
      "outputs": [
        {
          "output_type": "stream",
          "text": [
            "/usr/local/lib/python3.6/dist-packages/statsmodels/tools/_testing.py:19: FutureWarning: pandas.util.testing is deprecated. Use the functions in the public API at pandas.testing instead.\n",
            "  import pandas.util.testing as tm\n"
          ],
          "name": "stderr"
        },
        {
          "output_type": "display_data",
          "data": {
            "image/png": "[encoded data removed]",
            "text/plain": [
              "<Figure size 3600x3600 with 2 Axes>"
            ]
          },
          "metadata": {
            "tags": [],
            "needs_background": "light"
          }
        }
      ]
    },
    {
      "cell_type": "markdown",
      "metadata": {
        "id": "YeV-ObFhg4Lp",
        "colab_type": "text"
      },
      "source": [
        "From the figure we can see the highly correlated function with Outcome are: \n",
        "0-19 , 23 , 36-39 , 42, 50-53. "
      ]
    },
    {
      "cell_type": "code",
      "metadata": {
        "id": "xoQGv0lfhnYc",
        "colab_type": "code",
        "colab": {
          "base_uri": "https://localhost:8080/",
          "height": 204
        },
        "outputId": "e9ad74c0-da5a-473a-d0c0-5b87aed209d6"
      },
      "source": [
        "FilterData=Fulldata.iloc[:,[0,1,2,3,4,5,6,7,8,9,10,11,12,13,14,15,16,17,18,19,23,36,33,38,39,42,50,51,52,53]]\n",
        "FilterData.head()"
      ],
      "execution_count": 8,
      "outputs": [
        {
          "output_type": "execute_result",
          "data": {
            "text/html": [
              "<div>\n",
              "<style scoped>\n",
              "    .dataframe tbody tr th:only-of-type {\n",
              "        vertical-align: middle;\n",
              "    }\n",
              "\n",
              "    .dataframe tbody tr th {\n",
              "        vertical-align: top;\n",
              "    }\n",
              "\n",
              "    .dataframe thead th {\n",
              "        text-align: right;\n",
              "    }\n",
              "</style>\n",
              "<table border=\"1\" class=\"dataframe\">\n",
              "  <thead>\n",
              "    <tr style=\"text-align: right;\">\n",
              "      <th></th>\n",
              "      <th>0</th>\n",
              "      <th>1</th>\n",
              "      <th>2</th>\n",
              "      <th>3</th>\n",
              "      <th>4</th>\n",
              "      <th>5</th>\n",
              "      <th>6</th>\n",
              "      <th>7</th>\n",
              "      <th>8</th>\n",
              "      <th>9</th>\n",
              "      <th>10</th>\n",
              "      <th>11</th>\n",
              "      <th>12</th>\n",
              "      <th>13</th>\n",
              "      <th>14</th>\n",
              "      <th>15</th>\n",
              "      <th>16</th>\n",
              "      <th>17</th>\n",
              "      <th>18</th>\n",
              "      <th>19</th>\n",
              "      <th>23</th>\n",
              "      <th>36</th>\n",
              "      <th>33</th>\n",
              "      <th>38</th>\n",
              "      <th>39</th>\n",
              "      <th>42</th>\n",
              "      <th>50</th>\n",
              "      <th>51</th>\n",
              "      <th>52</th>\n",
              "      <th>53</th>\n",
              "    </tr>\n",
              "  </thead>\n",
              "  <tbody>\n",
              "    <tr>\n",
              "      <th>0</th>\n",
              "      <td>2596.0</td>\n",
              "      <td>51.0</td>\n",
              "      <td>3.0</td>\n",
              "      <td>258.0</td>\n",
              "      <td>0.0</td>\n",
              "      <td>510.0</td>\n",
              "      <td>221.0</td>\n",
              "      <td>232.0</td>\n",
              "      <td>148.0</td>\n",
              "      <td>6279.0</td>\n",
              "      <td>1.0</td>\n",
              "      <td>0.0</td>\n",
              "      <td>0.0</td>\n",
              "      <td>0.0</td>\n",
              "      <td>0.0</td>\n",
              "      <td>0.0</td>\n",
              "      <td>0.0</td>\n",
              "      <td>0.0</td>\n",
              "      <td>0.0</td>\n",
              "      <td>0.0</td>\n",
              "      <td>0.0</td>\n",
              "      <td>0.0</td>\n",
              "      <td>0.0</td>\n",
              "      <td>0.0</td>\n",
              "      <td>0.0</td>\n",
              "      <td>1.0</td>\n",
              "      <td>0.0</td>\n",
              "      <td>0.0</td>\n",
              "      <td>0.0</td>\n",
              "      <td>0.0</td>\n",
              "    </tr>\n",
              "    <tr>\n",
              "      <th>1</th>\n",
              "      <td>2590.0</td>\n",
              "      <td>56.0</td>\n",
              "      <td>2.0</td>\n",
              "      <td>212.0</td>\n",
              "      <td>-6.0</td>\n",
              "      <td>390.0</td>\n",
              "      <td>220.0</td>\n",
              "      <td>235.0</td>\n",
              "      <td>151.0</td>\n",
              "      <td>6225.0</td>\n",
              "      <td>1.0</td>\n",
              "      <td>0.0</td>\n",
              "      <td>0.0</td>\n",
              "      <td>0.0</td>\n",
              "      <td>0.0</td>\n",
              "      <td>0.0</td>\n",
              "      <td>0.0</td>\n",
              "      <td>0.0</td>\n",
              "      <td>0.0</td>\n",
              "      <td>0.0</td>\n",
              "      <td>0.0</td>\n",
              "      <td>0.0</td>\n",
              "      <td>0.0</td>\n",
              "      <td>0.0</td>\n",
              "      <td>0.0</td>\n",
              "      <td>1.0</td>\n",
              "      <td>0.0</td>\n",
              "      <td>0.0</td>\n",
              "      <td>0.0</td>\n",
              "      <td>0.0</td>\n",
              "    </tr>\n",
              "    <tr>\n",
              "      <th>2</th>\n",
              "      <td>2804.0</td>\n",
              "      <td>139.0</td>\n",
              "      <td>9.0</td>\n",
              "      <td>268.0</td>\n",
              "      <td>65.0</td>\n",
              "      <td>3180.0</td>\n",
              "      <td>234.0</td>\n",
              "      <td>238.0</td>\n",
              "      <td>135.0</td>\n",
              "      <td>6121.0</td>\n",
              "      <td>1.0</td>\n",
              "      <td>0.0</td>\n",
              "      <td>0.0</td>\n",
              "      <td>0.0</td>\n",
              "      <td>0.0</td>\n",
              "      <td>0.0</td>\n",
              "      <td>0.0</td>\n",
              "      <td>0.0</td>\n",
              "      <td>0.0</td>\n",
              "      <td>0.0</td>\n",
              "      <td>0.0</td>\n",
              "      <td>0.0</td>\n",
              "      <td>0.0</td>\n",
              "      <td>0.0</td>\n",
              "      <td>0.0</td>\n",
              "      <td>0.0</td>\n",
              "      <td>0.0</td>\n",
              "      <td>0.0</td>\n",
              "      <td>0.0</td>\n",
              "      <td>0.0</td>\n",
              "    </tr>\n",
              "    <tr>\n",
              "      <th>3</th>\n",
              "      <td>2785.0</td>\n",
              "      <td>155.0</td>\n",
              "      <td>18.0</td>\n",
              "      <td>242.0</td>\n",
              "      <td>118.0</td>\n",
              "      <td>3090.0</td>\n",
              "      <td>238.0</td>\n",
              "      <td>238.0</td>\n",
              "      <td>122.0</td>\n",
              "      <td>6211.0</td>\n",
              "      <td>1.0</td>\n",
              "      <td>0.0</td>\n",
              "      <td>0.0</td>\n",
              "      <td>0.0</td>\n",
              "      <td>0.0</td>\n",
              "      <td>0.0</td>\n",
              "      <td>0.0</td>\n",
              "      <td>0.0</td>\n",
              "      <td>0.0</td>\n",
              "      <td>0.0</td>\n",
              "      <td>0.0</td>\n",
              "      <td>0.0</td>\n",
              "      <td>0.0</td>\n",
              "      <td>0.0</td>\n",
              "      <td>0.0</td>\n",
              "      <td>0.0</td>\n",
              "      <td>0.0</td>\n",
              "      <td>0.0</td>\n",
              "      <td>0.0</td>\n",
              "      <td>0.0</td>\n",
              "    </tr>\n",
              "    <tr>\n",
              "      <th>4</th>\n",
              "      <td>2595.0</td>\n",
              "      <td>45.0</td>\n",
              "      <td>2.0</td>\n",
              "      <td>153.0</td>\n",
              "      <td>-1.0</td>\n",
              "      <td>391.0</td>\n",
              "      <td>220.0</td>\n",
              "      <td>234.0</td>\n",
              "      <td>150.0</td>\n",
              "      <td>6172.0</td>\n",
              "      <td>1.0</td>\n",
              "      <td>0.0</td>\n",
              "      <td>0.0</td>\n",
              "      <td>0.0</td>\n",
              "      <td>0.0</td>\n",
              "      <td>0.0</td>\n",
              "      <td>0.0</td>\n",
              "      <td>0.0</td>\n",
              "      <td>0.0</td>\n",
              "      <td>0.0</td>\n",
              "      <td>0.0</td>\n",
              "      <td>0.0</td>\n",
              "      <td>0.0</td>\n",
              "      <td>0.0</td>\n",
              "      <td>0.0</td>\n",
              "      <td>1.0</td>\n",
              "      <td>0.0</td>\n",
              "      <td>0.0</td>\n",
              "      <td>0.0</td>\n",
              "      <td>0.0</td>\n",
              "    </tr>\n",
              "  </tbody>\n",
              "</table>\n",
              "</div>"
            ],
            "text/plain": [
              "       0      1     2      3      4       5   ...   39   42   50   51   52   53\n",
              "0  2596.0   51.0   3.0  258.0    0.0   510.0  ...  0.0  1.0  0.0  0.0  0.0  0.0\n",
              "1  2590.0   56.0   2.0  212.0   -6.0   390.0  ...  0.0  1.0  0.0  0.0  0.0  0.0\n",
              "2  2804.0  139.0   9.0  268.0   65.0  3180.0  ...  0.0  0.0  0.0  0.0  0.0  0.0\n",
              "3  2785.0  155.0  18.0  242.0  118.0  3090.0  ...  0.0  0.0  0.0  0.0  0.0  0.0\n",
              "4  2595.0   45.0   2.0  153.0   -1.0   391.0  ...  0.0  1.0  0.0  0.0  0.0  0.0\n",
              "\n",
              "[5 rows x 30 columns]"
            ]
          },
          "metadata": {
            "tags": []
          },
          "execution_count": 8
        }
      ]
    },
    {
      "cell_type": "code",
      "metadata": {
        "id": "Wuig5PQgrFDH",
        "colab_type": "code",
        "colab": {
          "base_uri": "https://localhost:8080/",
          "height": 34
        },
        "outputId": "502e5238-e102-44b3-e8b2-492a0da7134a"
      },
      "source": [
        "FilterData.shape"
      ],
      "execution_count": 9,
      "outputs": [
        {
          "output_type": "execute_result",
          "data": {
            "text/plain": [
              "(581012, 30)"
            ]
          },
          "metadata": {
            "tags": []
          },
          "execution_count": 9
        }
      ]
    },
    {
      "cell_type": "markdown",
      "metadata": {
        "id": "vQOC7jsGjM5C",
        "colab_type": "text"
      },
      "source": [
        "Now variable selection is done ; Now we will do Standardisation of X Variables"
      ]
    },
    {
      "cell_type": "code",
      "metadata": {
        "id": "HZsQxRLgkds5",
        "colab_type": "code",
        "colab": {}
      },
      "source": [
        "from sklearn.preprocessing import StandardScaler\n",
        "scaler=StandardScaler()\n",
        "X_stand=scaler.fit_transform(FilterData)"
      ],
      "execution_count": 10,
      "outputs": []
    },
    {
      "cell_type": "markdown",
      "metadata": {
        "id": "tk9SrdLdlWet",
        "colab_type": "text"
      },
      "source": [
        "Label Encoding Y Values "
      ]
    },
    {
      "cell_type": "code",
      "metadata": {
        "id": "zKMYW5szmQxd",
        "colab_type": "code",
        "colab": {
          "base_uri": "https://localhost:8080/",
          "height": 204
        },
        "outputId": "98751820-a665-4b7e-9554-5b067f161dbb"
      },
      "source": [
        "Y1.head()"
      ],
      "execution_count": 11,
      "outputs": [
        {
          "output_type": "execute_result",
          "data": {
            "text/html": [
              "<div>\n",
              "<style scoped>\n",
              "    .dataframe tbody tr th:only-of-type {\n",
              "        vertical-align: middle;\n",
              "    }\n",
              "\n",
              "    .dataframe tbody tr th {\n",
              "        vertical-align: top;\n",
              "    }\n",
              "\n",
              "    .dataframe thead th {\n",
              "        text-align: right;\n",
              "    }\n",
              "</style>\n",
              "<table border=\"1\" class=\"dataframe\">\n",
              "  <thead>\n",
              "    <tr style=\"text-align: right;\">\n",
              "      <th></th>\n",
              "      <th>Outcome</th>\n",
              "    </tr>\n",
              "  </thead>\n",
              "  <tbody>\n",
              "    <tr>\n",
              "      <th>0</th>\n",
              "      <td>5</td>\n",
              "    </tr>\n",
              "    <tr>\n",
              "      <th>1</th>\n",
              "      <td>5</td>\n",
              "    </tr>\n",
              "    <tr>\n",
              "      <th>2</th>\n",
              "      <td>2</td>\n",
              "    </tr>\n",
              "    <tr>\n",
              "      <th>3</th>\n",
              "      <td>2</td>\n",
              "    </tr>\n",
              "    <tr>\n",
              "      <th>4</th>\n",
              "      <td>5</td>\n",
              "    </tr>\n",
              "  </tbody>\n",
              "</table>\n",
              "</div>"
            ],
            "text/plain": [
              "   Outcome\n",
              "0        5\n",
              "1        5\n",
              "2        2\n",
              "3        2\n",
              "4        5"
            ]
          },
          "metadata": {
            "tags": []
          },
          "execution_count": 11
        }
      ]
    },
    {
      "cell_type": "code",
      "metadata": {
        "id": "dMboX4s9lU-5",
        "colab_type": "code",
        "colab": {
          "base_uri": "https://localhost:8080/",
          "height": 419
        },
        "outputId": "85972d47-faee-406e-d340-60dcc1207ffc"
      },
      "source": [
        "Y = pd.get_dummies(Y1['Outcome'])\n",
        "Y"
      ],
      "execution_count": 12,
      "outputs": [
        {
          "output_type": "execute_result",
          "data": {
            "text/html": [
              "<div>\n",
              "<style scoped>\n",
              "    .dataframe tbody tr th:only-of-type {\n",
              "        vertical-align: middle;\n",
              "    }\n",
              "\n",
              "    .dataframe tbody tr th {\n",
              "        vertical-align: top;\n",
              "    }\n",
              "\n",
              "    .dataframe thead th {\n",
              "        text-align: right;\n",
              "    }\n",
              "</style>\n",
              "<table border=\"1\" class=\"dataframe\">\n",
              "  <thead>\n",
              "    <tr style=\"text-align: right;\">\n",
              "      <th></th>\n",
              "      <th>1</th>\n",
              "      <th>2</th>\n",
              "      <th>3</th>\n",
              "      <th>4</th>\n",
              "      <th>5</th>\n",
              "      <th>6</th>\n",
              "      <th>7</th>\n",
              "    </tr>\n",
              "  </thead>\n",
              "  <tbody>\n",
              "    <tr>\n",
              "      <th>0</th>\n",
              "      <td>0</td>\n",
              "      <td>0</td>\n",
              "      <td>0</td>\n",
              "      <td>0</td>\n",
              "      <td>1</td>\n",
              "      <td>0</td>\n",
              "      <td>0</td>\n",
              "    </tr>\n",
              "    <tr>\n",
              "      <th>1</th>\n",
              "      <td>0</td>\n",
              "      <td>0</td>\n",
              "      <td>0</td>\n",
              "      <td>0</td>\n",
              "      <td>1</td>\n",
              "      <td>0</td>\n",
              "      <td>0</td>\n",
              "    </tr>\n",
              "    <tr>\n",
              "      <th>2</th>\n",
              "      <td>0</td>\n",
              "      <td>1</td>\n",
              "      <td>0</td>\n",
              "      <td>0</td>\n",
              "      <td>0</td>\n",
              "      <td>0</td>\n",
              "      <td>0</td>\n",
              "    </tr>\n",
              "    <tr>\n",
              "      <th>3</th>\n",
              "      <td>0</td>\n",
              "      <td>1</td>\n",
              "      <td>0</td>\n",
              "      <td>0</td>\n",
              "      <td>0</td>\n",
              "      <td>0</td>\n",
              "      <td>0</td>\n",
              "    </tr>\n",
              "    <tr>\n",
              "      <th>4</th>\n",
              "      <td>0</td>\n",
              "      <td>0</td>\n",
              "      <td>0</td>\n",
              "      <td>0</td>\n",
              "      <td>1</td>\n",
              "      <td>0</td>\n",
              "      <td>0</td>\n",
              "    </tr>\n",
              "    <tr>\n",
              "      <th>...</th>\n",
              "      <td>...</td>\n",
              "      <td>...</td>\n",
              "      <td>...</td>\n",
              "      <td>...</td>\n",
              "      <td>...</td>\n",
              "      <td>...</td>\n",
              "      <td>...</td>\n",
              "    </tr>\n",
              "    <tr>\n",
              "      <th>581007</th>\n",
              "      <td>0</td>\n",
              "      <td>0</td>\n",
              "      <td>1</td>\n",
              "      <td>0</td>\n",
              "      <td>0</td>\n",
              "      <td>0</td>\n",
              "      <td>0</td>\n",
              "    </tr>\n",
              "    <tr>\n",
              "      <th>581008</th>\n",
              "      <td>0</td>\n",
              "      <td>0</td>\n",
              "      <td>1</td>\n",
              "      <td>0</td>\n",
              "      <td>0</td>\n",
              "      <td>0</td>\n",
              "      <td>0</td>\n",
              "    </tr>\n",
              "    <tr>\n",
              "      <th>581009</th>\n",
              "      <td>0</td>\n",
              "      <td>0</td>\n",
              "      <td>1</td>\n",
              "      <td>0</td>\n",
              "      <td>0</td>\n",
              "      <td>0</td>\n",
              "      <td>0</td>\n",
              "    </tr>\n",
              "    <tr>\n",
              "      <th>581010</th>\n",
              "      <td>0</td>\n",
              "      <td>0</td>\n",
              "      <td>1</td>\n",
              "      <td>0</td>\n",
              "      <td>0</td>\n",
              "      <td>0</td>\n",
              "      <td>0</td>\n",
              "    </tr>\n",
              "    <tr>\n",
              "      <th>581011</th>\n",
              "      <td>0</td>\n",
              "      <td>0</td>\n",
              "      <td>1</td>\n",
              "      <td>0</td>\n",
              "      <td>0</td>\n",
              "      <td>0</td>\n",
              "      <td>0</td>\n",
              "    </tr>\n",
              "  </tbody>\n",
              "</table>\n",
              "<p>581012 rows × 7 columns</p>\n",
              "</div>"
            ],
            "text/plain": [
              "        1  2  3  4  5  6  7\n",
              "0       0  0  0  0  1  0  0\n",
              "1       0  0  0  0  1  0  0\n",
              "2       0  1  0  0  0  0  0\n",
              "3       0  1  0  0  0  0  0\n",
              "4       0  0  0  0  1  0  0\n",
              "...    .. .. .. .. .. .. ..\n",
              "581007  0  0  1  0  0  0  0\n",
              "581008  0  0  1  0  0  0  0\n",
              "581009  0  0  1  0  0  0  0\n",
              "581010  0  0  1  0  0  0  0\n",
              "581011  0  0  1  0  0  0  0\n",
              "\n",
              "[581012 rows x 7 columns]"
            ]
          },
          "metadata": {
            "tags": []
          },
          "execution_count": 12
        }
      ]
    },
    {
      "cell_type": "markdown",
      "metadata": {
        "id": "jSUaAdkPk1OV",
        "colab_type": "text"
      },
      "source": [
        "Splitting the Data"
      ]
    },
    {
      "cell_type": "code",
      "metadata": {
        "id": "OEA78LGjkoJI",
        "colab_type": "code",
        "colab": {}
      },
      "source": [
        "from sklearn.model_selection import train_test_split\n",
        "seed = 8\n",
        "test_size = 0.2\n",
        "X_train, X_test, y_train, y_test = train_test_split(X_stand, Y, test_size=test_size, random_state=seed)"
      ],
      "execution_count": 13,
      "outputs": []
    },
    {
      "cell_type": "code",
      "metadata": {
        "id": "v6V2piR2pCd1",
        "colab_type": "code",
        "colab": {
          "base_uri": "https://localhost:8080/",
          "height": 238
        },
        "outputId": "bc119456-5ff8-4f42-cb43-055fd5dbd86a"
      },
      "source": [
        "X_train"
      ],
      "execution_count": 14,
      "outputs": [
        {
          "output_type": "execute_result",
          "data": {
            "text/plain": [
              "array([[ 0.14870359, -0.58667394, -0.01384886, ..., -0.16595612,\n",
              "        -0.15601398, -0.12365355],\n",
              "       [-1.11922377,  1.43274059,  0.11969395, ..., -0.16595612,\n",
              "        -0.15601398, -0.12365355],\n",
              "       [ 0.14870359, -0.98876976,  1.05449363, ..., -0.16595612,\n",
              "        -0.15601398, -0.12365355],\n",
              "       ...,\n",
              "       [-3.1407643 , -0.01480434,  2.92409298, ..., -0.16595612,\n",
              "        -0.15601398, -0.12365355],\n",
              "       [ 0.83445585, -0.82793143, -0.94864854, ..., -0.16595612,\n",
              "        -0.15601398, -0.12365355],\n",
              "       [-0.5406203 ,  0.53919434, -0.41447729, ..., -0.16595612,\n",
              "        -0.15601398, -0.12365355]])"
            ]
          },
          "metadata": {
            "tags": []
          },
          "execution_count": 14
        }
      ]
    },
    {
      "cell_type": "code",
      "metadata": {
        "id": "9w_mXaGYosfU",
        "colab_type": "code",
        "colab": {}
      },
      "source": [
        "y_train=y_train.to_numpy()\n",
        "y_test=y_test.to_numpy()"
      ],
      "execution_count": 15,
      "outputs": []
    },
    {
      "cell_type": "code",
      "metadata": {
        "id": "AZvzdJCjqEAU",
        "colab_type": "code",
        "colab": {
          "base_uri": "https://localhost:8080/",
          "height": 136
        },
        "outputId": "1636afe7-6030-486b-a338-01149ca9d233"
      },
      "source": [
        "y_train"
      ],
      "execution_count": 16,
      "outputs": [
        {
          "output_type": "execute_result",
          "data": {
            "text/plain": [
              "array([[0, 1, 0, ..., 0, 0, 0],\n",
              "       [0, 1, 0, ..., 0, 0, 0],\n",
              "       [1, 0, 0, ..., 0, 0, 0],\n",
              "       ...,\n",
              "       [0, 0, 1, ..., 0, 0, 0],\n",
              "       [1, 0, 0, ..., 0, 0, 0],\n",
              "       [0, 1, 0, ..., 0, 0, 0]], dtype=uint8)"
            ]
          },
          "metadata": {
            "tags": []
          },
          "execution_count": 16
        }
      ]
    },
    {
      "cell_type": "code",
      "metadata": {
        "id": "rUeA81EWpB-p",
        "colab_type": "code",
        "colab": {}
      },
      "source": [
        "from keras import models\n",
        "from keras import layers"
      ],
      "execution_count": 17,
      "outputs": []
    },
    {
      "cell_type": "code",
      "metadata": {
        "id": "tm79uTbUpGio",
        "colab_type": "code",
        "colab": {}
      },
      "source": [
        "import keras\n",
        "from keras import optimizers\n",
        "from keras.callbacks import ModelCheckpoint, EarlyStopping\n",
        "\n",
        "initializer = keras.initializers.glorot_normal()\n",
        "filepath = \"weights-improvement-covtype-{epoch:02d}-{val_accuracy:.2f}.hdf5\"\n",
        "checkpoint = ModelCheckpoint(filepath, monitor = 'val_accuracy', verbose=1, save_best_only=True, mode='max')\n",
        "es = EarlyStopping(monitor='val_loss', mode='min', verbose=1, patience=10, min_delta=0.01, baseline=0.75)\n",
        "\n",
        "callbacks_list = [checkpoint, es]\n",
        "\n",
        "model1=models.Sequential()\n",
        "model1.add(layers.Dense(50,activation=\"sigmoid\",input_shape=(30,), kernel_initializer=initializer, bias_initializer=initializer))\n",
        "model1.add(layers.Dense(7,activation='softmax', kernel_initializer=initializer, bias_initializer=initializer))"
      ],
      "execution_count": 18,
      "outputs": []
    },
    {
      "cell_type": "code",
      "metadata": {
        "id": "WLMWhtqApfmm",
        "colab_type": "code",
        "colab": {
          "base_uri": "https://localhost:8080/",
          "height": 221
        },
        "outputId": "f2f7cec9-b71d-4b78-e322-4eb640f98e3e"
      },
      "source": [
        "model1.summary()"
      ],
      "execution_count": 19,
      "outputs": [
        {
          "output_type": "stream",
          "text": [
            "Model: \"sequential\"\n",
            "_________________________________________________________________\n",
            "Layer (type)                 Output Shape              Param #   \n",
            "=================================================================\n",
            "dense (Dense)                (None, 50)                1550      \n",
            "_________________________________________________________________\n",
            "dense_1 (Dense)              (None, 7)                 357       \n",
            "=================================================================\n",
            "Total params: 1,907\n",
            "Trainable params: 1,907\n",
            "Non-trainable params: 0\n",
            "_________________________________________________________________\n"
          ],
          "name": "stdout"
        }
      ]
    },
    {
      "cell_type": "code",
      "metadata": {
        "id": "z7ZRoI9VppU5",
        "colab_type": "code",
        "colab": {}
      },
      "source": [
        "model1.compile(optimizer=\"adam\",loss='categorical_crossentropy',metrics=['accuracy'])"
      ],
      "execution_count": 20,
      "outputs": []
    },
    {
      "cell_type": "code",
      "metadata": {
        "id": "ero5VZgiprpF",
        "colab_type": "code",
        "colab": {
          "base_uri": "https://localhost:8080/",
          "height": 1000
        },
        "outputId": "c2396066-3f49-4bf1-8a0b-82714902c7cd"
      },
      "source": [
        "history=model1.fit(X_train, y_train, epochs=20,batch_size=50, verbose=1, validation_split=0.25,callbacks=callbacks_list)"
      ],
      "execution_count": 21,
      "outputs": [
        {
          "output_type": "stream",
          "text": [
            "Epoch 1/20\n",
            "6968/6973 [============================>.] - ETA: 0s - loss: 0.6887 - accuracy: 0.7080\n",
            "Epoch 00001: val_accuracy improved from -inf to 0.72840, saving model to weights-improvement-covtype-01-0.73.hdf5\n",
            "6973/6973 [==============================] - 20s 3ms/step - loss: 0.6887 - accuracy: 0.7080 - val_loss: 0.6299 - val_accuracy: 0.7284\n",
            "Epoch 2/20\n",
            "6958/6973 [============================>.] - ETA: 0s - loss: 0.6112 - accuracy: 0.7366\n",
            "Epoch 00002: val_accuracy improved from 0.72840 to 0.74537, saving model to weights-improvement-covtype-02-0.75.hdf5\n",
            "6973/6973 [==============================] - 19s 3ms/step - loss: 0.6112 - accuracy: 0.7366 - val_loss: 0.5911 - val_accuracy: 0.7454\n",
            "Epoch 3/20\n",
            "6966/6973 [============================>.] - ETA: 0s - loss: 0.5822 - accuracy: 0.7496\n",
            "Epoch 00003: val_accuracy improved from 0.74537 to 0.75610, saving model to weights-improvement-covtype-03-0.76.hdf5\n",
            "6973/6973 [==============================] - 19s 3ms/step - loss: 0.5822 - accuracy: 0.7496 - val_loss: 0.5674 - val_accuracy: 0.7561\n",
            "Epoch 4/20\n",
            "6972/6973 [============================>.] - ETA: 0s - loss: 0.5597 - accuracy: 0.7596\n",
            "Epoch 00004: val_accuracy improved from 0.75610 to 0.76498, saving model to weights-improvement-covtype-04-0.76.hdf5\n",
            "6973/6973 [==============================] - 20s 3ms/step - loss: 0.5597 - accuracy: 0.7596 - val_loss: 0.5451 - val_accuracy: 0.7650\n",
            "Epoch 5/20\n",
            "6952/6973 [============================>.] - ETA: 0s - loss: 0.5427 - accuracy: 0.7665\n",
            "Epoch 00005: val_accuracy improved from 0.76498 to 0.77131, saving model to weights-improvement-covtype-05-0.77.hdf5\n",
            "6973/6973 [==============================] - 20s 3ms/step - loss: 0.5427 - accuracy: 0.7665 - val_loss: 0.5302 - val_accuracy: 0.7713\n",
            "Epoch 6/20\n",
            "6964/6973 [============================>.] - ETA: 0s - loss: 0.5296 - accuracy: 0.7721\n",
            "Epoch 00006: val_accuracy improved from 0.77131 to 0.77617, saving model to weights-improvement-covtype-06-0.78.hdf5\n",
            "6973/6973 [==============================] - 20s 3ms/step - loss: 0.5297 - accuracy: 0.7721 - val_loss: 0.5194 - val_accuracy: 0.7762\n",
            "Epoch 7/20\n",
            "6962/6973 [============================>.] - ETA: 0s - loss: 0.5187 - accuracy: 0.7764\n",
            "Epoch 00007: val_accuracy improved from 0.77617 to 0.77883, saving model to weights-improvement-covtype-07-0.78.hdf5\n",
            "6973/6973 [==============================] - 19s 3ms/step - loss: 0.5187 - accuracy: 0.7764 - val_loss: 0.5127 - val_accuracy: 0.7788\n",
            "Epoch 8/20\n",
            "6960/6973 [============================>.] - ETA: 0s - loss: 0.5090 - accuracy: 0.7809\n",
            "Epoch 00008: val_accuracy improved from 0.77883 to 0.78660, saving model to weights-improvement-covtype-08-0.79.hdf5\n",
            "6973/6973 [==============================] - 20s 3ms/step - loss: 0.5091 - accuracy: 0.7809 - val_loss: 0.4997 - val_accuracy: 0.7866\n",
            "Epoch 9/20\n",
            "6953/6973 [============================>.] - ETA: 0s - loss: 0.5007 - accuracy: 0.7850\n",
            "Epoch 00009: val_accuracy improved from 0.78660 to 0.78804, saving model to weights-improvement-covtype-09-0.79.hdf5\n",
            "6973/6973 [==============================] - 20s 3ms/step - loss: 0.5008 - accuracy: 0.7850 - val_loss: 0.4937 - val_accuracy: 0.7880\n",
            "Epoch 10/20\n",
            "6973/6973 [==============================] - ETA: 0s - loss: 0.4934 - accuracy: 0.7889\n",
            "Epoch 00010: val_accuracy improved from 0.78804 to 0.79106, saving model to weights-improvement-covtype-10-0.79.hdf5\n",
            "6973/6973 [==============================] - 21s 3ms/step - loss: 0.4934 - accuracy: 0.7889 - val_loss: 0.4862 - val_accuracy: 0.7911\n",
            "Epoch 11/20\n",
            "6962/6973 [============================>.] - ETA: 0s - loss: 0.4871 - accuracy: 0.7920\n",
            "Epoch 00011: val_accuracy improved from 0.79106 to 0.79465, saving model to weights-improvement-covtype-11-0.79.hdf5\n",
            "6973/6973 [==============================] - 20s 3ms/step - loss: 0.4871 - accuracy: 0.7920 - val_loss: 0.4814 - val_accuracy: 0.7947\n",
            "Epoch 12/20\n",
            "6954/6973 [============================>.] - ETA: 0s - loss: 0.4818 - accuracy: 0.7946\n",
            "Epoch 00012: val_accuracy improved from 0.79465 to 0.79735, saving model to weights-improvement-covtype-12-0.80.hdf5\n",
            "6973/6973 [==============================] - 20s 3ms/step - loss: 0.4819 - accuracy: 0.7945 - val_loss: 0.4754 - val_accuracy: 0.7973\n",
            "Epoch 13/20\n",
            "6971/6973 [============================>.] - ETA: 0s - loss: 0.4772 - accuracy: 0.7965\n",
            "Epoch 00013: val_accuracy improved from 0.79735 to 0.79872, saving model to weights-improvement-covtype-13-0.80.hdf5\n",
            "6973/6973 [==============================] - 20s 3ms/step - loss: 0.4772 - accuracy: 0.7965 - val_loss: 0.4740 - val_accuracy: 0.7987\n",
            "Epoch 14/20\n",
            "6973/6973 [==============================] - ETA: 0s - loss: 0.4734 - accuracy: 0.7987\n",
            "Epoch 00014: val_accuracy improved from 0.79872 to 0.80051, saving model to weights-improvement-covtype-14-0.80.hdf5\n",
            "6973/6973 [==============================] - 20s 3ms/step - loss: 0.4734 - accuracy: 0.7987 - val_loss: 0.4691 - val_accuracy: 0.8005\n",
            "Epoch 15/20\n",
            "6953/6973 [============================>.] - ETA: 0s - loss: 0.4701 - accuracy: 0.8001\n",
            "Epoch 00015: val_accuracy improved from 0.80051 to 0.80328, saving model to weights-improvement-covtype-15-0.80.hdf5\n",
            "6973/6973 [==============================] - 20s 3ms/step - loss: 0.4701 - accuracy: 0.8001 - val_loss: 0.4667 - val_accuracy: 0.8033\n",
            "Epoch 16/20\n",
            "6960/6973 [============================>.] - ETA: 0s - loss: 0.4669 - accuracy: 0.8018\n",
            "Epoch 00016: val_accuracy improved from 0.80328 to 0.80524, saving model to weights-improvement-covtype-16-0.81.hdf5\n",
            "6973/6973 [==============================] - 20s 3ms/step - loss: 0.4669 - accuracy: 0.8018 - val_loss: 0.4624 - val_accuracy: 0.8052\n",
            "Epoch 17/20\n",
            "6954/6973 [============================>.] - ETA: 0s - loss: 0.4643 - accuracy: 0.8035\n",
            "Epoch 00017: val_accuracy improved from 0.80524 to 0.80596, saving model to weights-improvement-covtype-17-0.81.hdf5\n",
            "6973/6973 [==============================] - 20s 3ms/step - loss: 0.4642 - accuracy: 0.8035 - val_loss: 0.4617 - val_accuracy: 0.8060\n",
            "Epoch 18/20\n",
            "6970/6973 [============================>.] - ETA: 0s - loss: 0.4617 - accuracy: 0.8046\n",
            "Epoch 00018: val_accuracy improved from 0.80596 to 0.80840, saving model to weights-improvement-covtype-18-0.81.hdf5\n",
            "6973/6973 [==============================] - 19s 3ms/step - loss: 0.4617 - accuracy: 0.8046 - val_loss: 0.4572 - val_accuracy: 0.8084\n",
            "Epoch 19/20\n",
            "6970/6973 [============================>.] - ETA: 0s - loss: 0.4593 - accuracy: 0.8061\n",
            "Epoch 00019: val_accuracy improved from 0.80840 to 0.80906, saving model to weights-improvement-covtype-19-0.81.hdf5\n",
            "6973/6973 [==============================] - 19s 3ms/step - loss: 0.4593 - accuracy: 0.8062 - val_loss: 0.4568 - val_accuracy: 0.8091\n",
            "Epoch 20/20\n",
            "6965/6973 [============================>.] - ETA: 0s - loss: 0.4574 - accuracy: 0.8074\n",
            "Epoch 00020: val_accuracy improved from 0.80906 to 0.80950, saving model to weights-improvement-covtype-20-0.81.hdf5\n",
            "6973/6973 [==============================] - 20s 3ms/step - loss: 0.4573 - accuracy: 0.8074 - val_loss: 0.4534 - val_accuracy: 0.8095\n"
          ],
          "name": "stdout"
        }
      ]
    },
    {
      "cell_type": "code",
      "metadata": {
        "id": "xsHdw341DgXm",
        "colab_type": "code",
        "colab": {
          "base_uri": "https://localhost:8080/",
          "height": 51
        },
        "outputId": "c1375cce-28a1-456b-950e-3fbe924c1f58"
      },
      "source": [
        "models_new=models.Sequential()\n",
        "models_new.add(layers.Dense(50,activation=\"sigmoid\",input_shape=(30,), kernel_initializer=initializer, bias_initializer=initializer))\n",
        "models_new.add(layers.Dense(7,activation='softmax', kernel_initializer=initializer, bias_initializer=initializer))\n",
        "\n",
        "#Using callback to load weights of Train model in the test model \n",
        "models_new.load_weights(\"weights-improvement-covtype-20-0.81.hdf5\")\n",
        "#This depends on storage and jo saved hua hai...so sometimes u need to rename it and chose max accuracy wala only\n",
        "models_new.compile(loss='categorical_crossentropy', optimizer=\"adam\", metrics=['accuracy'])\n",
        "\n",
        "test_loss, test_acc = models_new.evaluate(X_test, y_test, verbose=0)\n",
        "print('Test Accuracy: %.8f' % ( test_acc))\n",
        "print('Test Loss: %.3f' % ( test_loss)) \n",
        "\n",
        "#Can use the below model also\n",
        "#from keras.models import load_model\n",
        "#saved_model = load_model('weights-improvement-covtype-10-0.81.hdf5')\n",
        "#test_loss, test_acc = saved_model.evaluate(X_test, y_test, verbose=0)\n",
        "#print('Test Accuracy: %.8f' % ( test_acc))\n",
        "#print('Test Loss: %.3f' % ( test_loss))"
      ],
      "execution_count": 23,
      "outputs": [
        {
          "output_type": "stream",
          "text": [
            "Test Accuracy: 0.80661428\n",
            "Test Loss: 0.458\n"
          ],
          "name": "stdout"
        }
      ]
    },
    {
      "cell_type": "markdown",
      "metadata": {
        "id": "leUFgZi7MQP-",
        "colab_type": "text"
      },
      "source": [
        "**Accuracy coming around ~ 80% in Training,Validation & Testing Dataset (i.e.above 75% Benchmark)**"
      ]
    },
    {
      "cell_type": "markdown",
      "metadata": {
        "id": "cLgKtRypJmrU",
        "colab_type": "text"
      },
      "source": [
        "Plot of accuracy of Train & Validation"
      ]
    },
    {
      "cell_type": "code",
      "metadata": {
        "id": "C09EuwKXDX1m",
        "colab_type": "code",
        "colab": {
          "base_uri": "https://localhost:8080/",
          "height": 295
        },
        "outputId": "c874eed7-4c22-4b11-ef33-de1ed0799aa0"
      },
      "source": [
        "import matplotlib.pyplot as plt\n",
        "\n",
        "plt.plot(history.history['accuracy'])\n",
        "plt.plot(history.history['val_accuracy'])\n",
        "plt.title(\"Model accuracy\")\n",
        "plt.ylabel(\"Accuracy\")\n",
        "plt.xlabel(\"Epochs/iterations\")\n",
        "plt.legend(['Train','Validation'], loc=\"upper left\")\n",
        "plt.show()"
      ],
      "execution_count": 24,
      "outputs": [
        {
          "output_type": "display_data",
          "data": {
            "image/png": "[encoded data removed]",
            "text/plain": [
              "<Figure size 432x288 with 1 Axes>"
            ]
          },
          "metadata": {
            "tags": [],
            "needs_background": "light"
          }
        }
      ]
    },
    {
      "cell_type": "markdown",
      "metadata": {
        "id": "MMQ1sYUaJuL3",
        "colab_type": "text"
      },
      "source": [
        "Plot of Loss of Train & Validation"
      ]
    },
    {
      "cell_type": "code",
      "metadata": {
        "id": "P60mOIZzDa88",
        "colab_type": "code",
        "colab": {
          "base_uri": "https://localhost:8080/",
          "height": 295
        },
        "outputId": "aeb87bf3-8970-48d1-ed7c-b2eb8f716737"
      },
      "source": [
        "import matplotlib.pyplot as plt\n",
        "\n",
        "plt.plot(history.history['loss'])\n",
        "plt.plot(history.history['val_loss'])\n",
        "plt.title(\"Model LOSS\")\n",
        "plt.ylabel(\"Accuracy\")\n",
        "plt.xlabel(\"Epochs/iterations\")\n",
        "plt.legend(['Train','Validation'], loc=\"upper left\")\n",
        "plt.show()"
      ],
      "execution_count": 25,
      "outputs": [
        {
          "output_type": "display_data",
          "data": {
            "image/png": "[encoded data removed]",
            "text/plain": [
              "<Figure size 432x288 with 1 Axes>"
            ]
          },
          "metadata": {
            "tags": [],
            "needs_background": "light"
          }
        }
      ]
    },
    {
      "cell_type": "markdown",
      "metadata": {
        "id": "0rhHtEO72XSK",
        "colab_type": "text"
      },
      "source": [
        "**Callback is used here to save the improved model.**\n",
        "\n",
        "**Hyper-Parameter used here are:**\n",
        "\n",
        "\n",
        "1)Made 1st Layer of Sigmoid Activation and the input dimension = 30 as 30 variables in dataset.\n",
        "\n",
        "2)Added 2nd Layer of Softmax that is also the output layer and 7 classes so choose 7 as next layer shape.\n",
        "\n",
        "3)Have added  a keras initializer while defining both the Layers.\n",
        "\n",
        "4)Optimizer used:Adam for faster convergence.\n",
        "\n",
        "5)Metrics: Accuracy to find accuray atlast.\n",
        "\n",
        "6)loss='categorical_crossentropy' as it has 7 different classes\n",
        "\n",
        "7)Have splited in 60:20:20 model of Train:Validation:Test\n",
        "\n",
        "8)Callbackused are: earlystopping, modelcheckpoint.\n",
        "\n",
        "9)Epoch=20 & Batch_size=50 & Steps_per_epoch=6973"
      ]
    },
    {
      "cell_type": "markdown",
      "metadata": {
        "id": "ELQo-Huq5v1k",
        "colab_type": "text"
      },
      "source": [
        "#**Dataset:kddcup99**"
      ]
    },
    {
      "cell_type": "code",
      "metadata": {
        "colab_type": "code",
        "id": "glqg-fbx59A0",
        "colab": {
          "base_uri": "https://localhost:8080/",
          "height": 68
        },
        "outputId": "9c11d567-5ee1-4c88-b401-690ab2ff38ea"
      },
      "source": [
        "import pandas as pd\n",
        "from sklearn.datasets import fetch_kddcup99\n",
        "#Dataset Link: https://scikit-learn.org/stable/modules/generated/sklearn.datasets.fetch_kddcup99.html#sklearn.datasets.fetch_kddcup99\n",
        "\n",
        "kddcup99 = fetch_kddcup99()\n",
        "x_fetch_kddcup99 = kddcup99.data\n",
        "y_fetch_kddcup99 = kddcup99.target\n",
        "X = pd.DataFrame(x_fetch_kddcup99)\n",
        "Y = pd.DataFrame(y_fetch_kddcup99)\n",
        "print(X.shape)\n",
        "print(Y.shape)"
      ],
      "execution_count": 26,
      "outputs": [
        {
          "output_type": "stream",
          "text": [
            "Downloading https://ndownloader.figshare.com/files/5976042\n"
          ],
          "name": "stderr"
        },
        {
          "output_type": "stream",
          "text": [
            "(494021, 41)\n",
            "(494021, 1)\n"
          ],
          "name": "stdout"
        }
      ]
    },
    {
      "cell_type": "code",
      "metadata": {
        "colab_type": "code",
        "id": "Wxz4X-YO59A9",
        "colab": {}
      },
      "source": [
        "from sklearn.preprocessing import LabelEncoder\n",
        "le = LabelEncoder()\n",
        "for i in [1,2,3]:\n",
        "  X[i] = [j.decode('utf-8') for j in X[i]]\n",
        "  X[i] = le.fit_transform(X[i])\n",
        "\n",
        "for i in range(X.shape[1]):\n",
        "  X[i] = X[i].astype('float')"
      ],
      "execution_count": 27,
      "outputs": []
    },
    {
      "cell_type": "code",
      "metadata": {
        "id": "m5s9vIVTBtaz",
        "colab_type": "code",
        "colab": {}
      },
      "source": [
        "Y = [i.decode('utf-8') for i in y_fetch_kddcup99]\n",
        "Y = pd.DataFrame(le.fit_transform(Y))"
      ],
      "execution_count": 28,
      "outputs": []
    },
    {
      "cell_type": "code",
      "metadata": {
        "colab_type": "code",
        "id": "NcY0zI2259BB",
        "colab": {}
      },
      "source": [
        "Y.columns=[\"Outcome\"]"
      ],
      "execution_count": 29,
      "outputs": []
    },
    {
      "cell_type": "code",
      "metadata": {
        "colab_type": "code",
        "id": "EBAE_ZQN59BG",
        "colab": {
          "base_uri": "https://localhost:8080/",
          "height": 204
        },
        "outputId": "0f1d407a-9337-421b-84ed-38869885e370"
      },
      "source": [
        "Y.head()"
      ],
      "execution_count": 30,
      "outputs": [
        {
          "output_type": "execute_result",
          "data": {
            "text/html": [
              "<div>\n",
              "<style scoped>\n",
              "    .dataframe tbody tr th:only-of-type {\n",
              "        vertical-align: middle;\n",
              "    }\n",
              "\n",
              "    .dataframe tbody tr th {\n",
              "        vertical-align: top;\n",
              "    }\n",
              "\n",
              "    .dataframe thead th {\n",
              "        text-align: right;\n",
              "    }\n",
              "</style>\n",
              "<table border=\"1\" class=\"dataframe\">\n",
              "  <thead>\n",
              "    <tr style=\"text-align: right;\">\n",
              "      <th></th>\n",
              "      <th>Outcome</th>\n",
              "    </tr>\n",
              "  </thead>\n",
              "  <tbody>\n",
              "    <tr>\n",
              "      <th>0</th>\n",
              "      <td>11</td>\n",
              "    </tr>\n",
              "    <tr>\n",
              "      <th>1</th>\n",
              "      <td>11</td>\n",
              "    </tr>\n",
              "    <tr>\n",
              "      <th>2</th>\n",
              "      <td>11</td>\n",
              "    </tr>\n",
              "    <tr>\n",
              "      <th>3</th>\n",
              "      <td>11</td>\n",
              "    </tr>\n",
              "    <tr>\n",
              "      <th>4</th>\n",
              "      <td>11</td>\n",
              "    </tr>\n",
              "  </tbody>\n",
              "</table>\n",
              "</div>"
            ],
            "text/plain": [
              "   Outcome\n",
              "0       11\n",
              "1       11\n",
              "2       11\n",
              "3       11\n",
              "4       11"
            ]
          },
          "metadata": {
            "tags": []
          },
          "execution_count": 30
        }
      ]
    },
    {
      "cell_type": "code",
      "metadata": {
        "id": "HOVcxVc5B8jT",
        "colab_type": "code",
        "colab": {
          "base_uri": "https://localhost:8080/",
          "height": 34
        },
        "outputId": "5c6c43ff-a091-4202-8938-9320963a5dff"
      },
      "source": [
        "Y['Outcome'].nunique()"
      ],
      "execution_count": 31,
      "outputs": [
        {
          "output_type": "execute_result",
          "data": {
            "text/plain": [
              "23"
            ]
          },
          "metadata": {
            "tags": []
          },
          "execution_count": 31
        }
      ]
    },
    {
      "cell_type": "code",
      "metadata": {
        "colab_type": "code",
        "id": "wdMJw4hICToj",
        "colab": {
          "base_uri": "https://localhost:8080/",
          "height": 731
        },
        "outputId": "5315752e-5525-4ee6-e860-b2535374301e"
      },
      "source": [
        "X.isnull().sum()"
      ],
      "execution_count": 32,
      "outputs": [
        {
          "output_type": "execute_result",
          "data": {
            "text/plain": [
              "0     0\n",
              "1     0\n",
              "2     0\n",
              "3     0\n",
              "4     0\n",
              "5     0\n",
              "6     0\n",
              "7     0\n",
              "8     0\n",
              "9     0\n",
              "10    0\n",
              "11    0\n",
              "12    0\n",
              "13    0\n",
              "14    0\n",
              "15    0\n",
              "16    0\n",
              "17    0\n",
              "18    0\n",
              "19    0\n",
              "20    0\n",
              "21    0\n",
              "22    0\n",
              "23    0\n",
              "24    0\n",
              "25    0\n",
              "26    0\n",
              "27    0\n",
              "28    0\n",
              "29    0\n",
              "30    0\n",
              "31    0\n",
              "32    0\n",
              "33    0\n",
              "34    0\n",
              "35    0\n",
              "36    0\n",
              "37    0\n",
              "38    0\n",
              "39    0\n",
              "40    0\n",
              "dtype: int64"
            ]
          },
          "metadata": {
            "tags": []
          },
          "execution_count": 32
        }
      ]
    },
    {
      "cell_type": "markdown",
      "metadata": {
        "colab_type": "text",
        "id": "fpejtErlCTor"
      },
      "source": [
        "Hence No Null Values in the Dataset"
      ]
    },
    {
      "cell_type": "code",
      "metadata": {
        "id": "C_zJoYEoCWjz",
        "colab_type": "code",
        "colab": {}
      },
      "source": [
        "Y1=pd.DataFrame(Y.copy())"
      ],
      "execution_count": 33,
      "outputs": []
    },
    {
      "cell_type": "code",
      "metadata": {
        "colab_type": "code",
        "id": "Hk0blGqxCTot",
        "colab": {
          "base_uri": "https://localhost:8080/",
          "height": 224
        },
        "outputId": "d7f7b7ff-7ab3-4d99-c868-edded1648566"
      },
      "source": [
        "Fulldata = pd.concat([X,Y1], axis=1)\n",
        "Fulldata.head()"
      ],
      "execution_count": 36,
      "outputs": [
        {
          "output_type": "execute_result",
          "data": {
            "text/html": [
              "<div>\n",
              "<style scoped>\n",
              "    .dataframe tbody tr th:only-of-type {\n",
              "        vertical-align: middle;\n",
              "    }\n",
              "\n",
              "    .dataframe tbody tr th {\n",
              "        vertical-align: top;\n",
              "    }\n",
              "\n",
              "    .dataframe thead th {\n",
              "        text-align: right;\n",
              "    }\n",
              "</style>\n",
              "<table border=\"1\" class=\"dataframe\">\n",
              "  <thead>\n",
              "    <tr style=\"text-align: right;\">\n",
              "      <th></th>\n",
              "      <th>0</th>\n",
              "      <th>1</th>\n",
              "      <th>2</th>\n",
              "      <th>3</th>\n",
              "      <th>4</th>\n",
              "      <th>5</th>\n",
              "      <th>6</th>\n",
              "      <th>7</th>\n",
              "      <th>8</th>\n",
              "      <th>9</th>\n",
              "      <th>10</th>\n",
              "      <th>11</th>\n",
              "      <th>12</th>\n",
              "      <th>13</th>\n",
              "      <th>14</th>\n",
              "      <th>15</th>\n",
              "      <th>16</th>\n",
              "      <th>17</th>\n",
              "      <th>18</th>\n",
              "      <th>19</th>\n",
              "      <th>20</th>\n",
              "      <th>21</th>\n",
              "      <th>22</th>\n",
              "      <th>23</th>\n",
              "      <th>24</th>\n",
              "      <th>25</th>\n",
              "      <th>26</th>\n",
              "      <th>27</th>\n",
              "      <th>28</th>\n",
              "      <th>29</th>\n",
              "      <th>30</th>\n",
              "      <th>31</th>\n",
              "      <th>32</th>\n",
              "      <th>33</th>\n",
              "      <th>34</th>\n",
              "      <th>35</th>\n",
              "      <th>36</th>\n",
              "      <th>37</th>\n",
              "      <th>38</th>\n",
              "      <th>39</th>\n",
              "      <th>40</th>\n",
              "      <th>Outcome</th>\n",
              "    </tr>\n",
              "  </thead>\n",
              "  <tbody>\n",
              "    <tr>\n",
              "      <th>0</th>\n",
              "      <td>0.0</td>\n",
              "      <td>1.0</td>\n",
              "      <td>22.0</td>\n",
              "      <td>9.0</td>\n",
              "      <td>181.0</td>\n",
              "      <td>5450.0</td>\n",
              "      <td>0.0</td>\n",
              "      <td>0.0</td>\n",
              "      <td>0.0</td>\n",
              "      <td>0.0</td>\n",
              "      <td>0.0</td>\n",
              "      <td>1.0</td>\n",
              "      <td>0.0</td>\n",
              "      <td>0.0</td>\n",
              "      <td>0.0</td>\n",
              "      <td>0.0</td>\n",
              "      <td>0.0</td>\n",
              "      <td>0.0</td>\n",
              "      <td>0.0</td>\n",
              "      <td>0.0</td>\n",
              "      <td>0.0</td>\n",
              "      <td>0.0</td>\n",
              "      <td>8.0</td>\n",
              "      <td>8.0</td>\n",
              "      <td>0.0</td>\n",
              "      <td>0.0</td>\n",
              "      <td>0.0</td>\n",
              "      <td>0.0</td>\n",
              "      <td>1.0</td>\n",
              "      <td>0.0</td>\n",
              "      <td>0.0</td>\n",
              "      <td>9.0</td>\n",
              "      <td>9.0</td>\n",
              "      <td>1.0</td>\n",
              "      <td>0.0</td>\n",
              "      <td>0.11</td>\n",
              "      <td>0.0</td>\n",
              "      <td>0.0</td>\n",
              "      <td>0.0</td>\n",
              "      <td>0.0</td>\n",
              "      <td>0.0</td>\n",
              "      <td>11</td>\n",
              "    </tr>\n",
              "    <tr>\n",
              "      <th>1</th>\n",
              "      <td>0.0</td>\n",
              "      <td>1.0</td>\n",
              "      <td>22.0</td>\n",
              "      <td>9.0</td>\n",
              "      <td>239.0</td>\n",
              "      <td>486.0</td>\n",
              "      <td>0.0</td>\n",
              "      <td>0.0</td>\n",
              "      <td>0.0</td>\n",
              "      <td>0.0</td>\n",
              "      <td>0.0</td>\n",
              "      <td>1.0</td>\n",
              "      <td>0.0</td>\n",
              "      <td>0.0</td>\n",
              "      <td>0.0</td>\n",
              "      <td>0.0</td>\n",
              "      <td>0.0</td>\n",
              "      <td>0.0</td>\n",
              "      <td>0.0</td>\n",
              "      <td>0.0</td>\n",
              "      <td>0.0</td>\n",
              "      <td>0.0</td>\n",
              "      <td>8.0</td>\n",
              "      <td>8.0</td>\n",
              "      <td>0.0</td>\n",
              "      <td>0.0</td>\n",
              "      <td>0.0</td>\n",
              "      <td>0.0</td>\n",
              "      <td>1.0</td>\n",
              "      <td>0.0</td>\n",
              "      <td>0.0</td>\n",
              "      <td>19.0</td>\n",
              "      <td>19.0</td>\n",
              "      <td>1.0</td>\n",
              "      <td>0.0</td>\n",
              "      <td>0.05</td>\n",
              "      <td>0.0</td>\n",
              "      <td>0.0</td>\n",
              "      <td>0.0</td>\n",
              "      <td>0.0</td>\n",
              "      <td>0.0</td>\n",
              "      <td>11</td>\n",
              "    </tr>\n",
              "    <tr>\n",
              "      <th>2</th>\n",
              "      <td>0.0</td>\n",
              "      <td>1.0</td>\n",
              "      <td>22.0</td>\n",
              "      <td>9.0</td>\n",
              "      <td>235.0</td>\n",
              "      <td>1337.0</td>\n",
              "      <td>0.0</td>\n",
              "      <td>0.0</td>\n",
              "      <td>0.0</td>\n",
              "      <td>0.0</td>\n",
              "      <td>0.0</td>\n",
              "      <td>1.0</td>\n",
              "      <td>0.0</td>\n",
              "      <td>0.0</td>\n",
              "      <td>0.0</td>\n",
              "      <td>0.0</td>\n",
              "      <td>0.0</td>\n",
              "      <td>0.0</td>\n",
              "      <td>0.0</td>\n",
              "      <td>0.0</td>\n",
              "      <td>0.0</td>\n",
              "      <td>0.0</td>\n",
              "      <td>8.0</td>\n",
              "      <td>8.0</td>\n",
              "      <td>0.0</td>\n",
              "      <td>0.0</td>\n",
              "      <td>0.0</td>\n",
              "      <td>0.0</td>\n",
              "      <td>1.0</td>\n",
              "      <td>0.0</td>\n",
              "      <td>0.0</td>\n",
              "      <td>29.0</td>\n",
              "      <td>29.0</td>\n",
              "      <td>1.0</td>\n",
              "      <td>0.0</td>\n",
              "      <td>0.03</td>\n",
              "      <td>0.0</td>\n",
              "      <td>0.0</td>\n",
              "      <td>0.0</td>\n",
              "      <td>0.0</td>\n",
              "      <td>0.0</td>\n",
              "      <td>11</td>\n",
              "    </tr>\n",
              "    <tr>\n",
              "      <th>3</th>\n",
              "      <td>0.0</td>\n",
              "      <td>1.0</td>\n",
              "      <td>22.0</td>\n",
              "      <td>9.0</td>\n",
              "      <td>219.0</td>\n",
              "      <td>1337.0</td>\n",
              "      <td>0.0</td>\n",
              "      <td>0.0</td>\n",
              "      <td>0.0</td>\n",
              "      <td>0.0</td>\n",
              "      <td>0.0</td>\n",
              "      <td>1.0</td>\n",
              "      <td>0.0</td>\n",
              "      <td>0.0</td>\n",
              "      <td>0.0</td>\n",
              "      <td>0.0</td>\n",
              "      <td>0.0</td>\n",
              "      <td>0.0</td>\n",
              "      <td>0.0</td>\n",
              "      <td>0.0</td>\n",
              "      <td>0.0</td>\n",
              "      <td>0.0</td>\n",
              "      <td>6.0</td>\n",
              "      <td>6.0</td>\n",
              "      <td>0.0</td>\n",
              "      <td>0.0</td>\n",
              "      <td>0.0</td>\n",
              "      <td>0.0</td>\n",
              "      <td>1.0</td>\n",
              "      <td>0.0</td>\n",
              "      <td>0.0</td>\n",
              "      <td>39.0</td>\n",
              "      <td>39.0</td>\n",
              "      <td>1.0</td>\n",
              "      <td>0.0</td>\n",
              "      <td>0.03</td>\n",
              "      <td>0.0</td>\n",
              "      <td>0.0</td>\n",
              "      <td>0.0</td>\n",
              "      <td>0.0</td>\n",
              "      <td>0.0</td>\n",
              "      <td>11</td>\n",
              "    </tr>\n",
              "    <tr>\n",
              "      <th>4</th>\n",
              "      <td>0.0</td>\n",
              "      <td>1.0</td>\n",
              "      <td>22.0</td>\n",
              "      <td>9.0</td>\n",
              "      <td>217.0</td>\n",
              "      <td>2032.0</td>\n",
              "      <td>0.0</td>\n",
              "      <td>0.0</td>\n",
              "      <td>0.0</td>\n",
              "      <td>0.0</td>\n",
              "      <td>0.0</td>\n",
              "      <td>1.0</td>\n",
              "      <td>0.0</td>\n",
              "      <td>0.0</td>\n",
              "      <td>0.0</td>\n",
              "      <td>0.0</td>\n",
              "      <td>0.0</td>\n",
              "      <td>0.0</td>\n",
              "      <td>0.0</td>\n",
              "      <td>0.0</td>\n",
              "      <td>0.0</td>\n",
              "      <td>0.0</td>\n",
              "      <td>6.0</td>\n",
              "      <td>6.0</td>\n",
              "      <td>0.0</td>\n",
              "      <td>0.0</td>\n",
              "      <td>0.0</td>\n",
              "      <td>0.0</td>\n",
              "      <td>1.0</td>\n",
              "      <td>0.0</td>\n",
              "      <td>0.0</td>\n",
              "      <td>49.0</td>\n",
              "      <td>49.0</td>\n",
              "      <td>1.0</td>\n",
              "      <td>0.0</td>\n",
              "      <td>0.02</td>\n",
              "      <td>0.0</td>\n",
              "      <td>0.0</td>\n",
              "      <td>0.0</td>\n",
              "      <td>0.0</td>\n",
              "      <td>0.0</td>\n",
              "      <td>11</td>\n",
              "    </tr>\n",
              "  </tbody>\n",
              "</table>\n",
              "</div>"
            ],
            "text/plain": [
              "     0    1     2    3      4       5  ...   36   37   38   39   40  Outcome\n",
              "0  0.0  1.0  22.0  9.0  181.0  5450.0  ...  0.0  0.0  0.0  0.0  0.0       11\n",
              "1  0.0  1.0  22.0  9.0  239.0   486.0  ...  0.0  0.0  0.0  0.0  0.0       11\n",
              "2  0.0  1.0  22.0  9.0  235.0  1337.0  ...  0.0  0.0  0.0  0.0  0.0       11\n",
              "3  0.0  1.0  22.0  9.0  219.0  1337.0  ...  0.0  0.0  0.0  0.0  0.0       11\n",
              "4  0.0  1.0  22.0  9.0  217.0  2032.0  ...  0.0  0.0  0.0  0.0  0.0       11\n",
              "\n",
              "[5 rows x 42 columns]"
            ]
          },
          "metadata": {
            "tags": []
          },
          "execution_count": 36
        }
      ]
    },
    {
      "cell_type": "code",
      "metadata": {
        "colab_type": "code",
        "id": "40LG3MIZCTo0",
        "colab": {
          "base_uri": "https://localhost:8080/",
          "height": 1000
        },
        "outputId": "a7fb1ad7-3112-4b25-b137-8ccd2b4c97ee"
      },
      "source": [
        "import seaborn as sns\n",
        "import matplotlib.pyplot as plt\n",
        "corr = Fulldata.corr()\n",
        "fig= plt.subplots(figsize = [50,50])\n",
        "ax = sns.heatmap(\n",
        "    corr, \n",
        "    vmin=-1, vmax=1, center=0,\n",
        "    cmap=sns.diverging_palette(20, 220, n=200),\n",
        "    square=True\n",
        ")\n",
        "ax.set_xticklabels(ax.get_xticklabels(),\n",
        "    rotation=90,\n",
        "    horizontalalignment='right'\n",
        ");\n",
        "plt.show()"
      ],
      "execution_count": 37,
      "outputs": [
        {
          "output_type": "display_data",
          "data": {
            "image/png": "[encoded data removed]",
            "text/plain": [
              "<Figure size 3600x3600 with 2 Axes>"
            ]
          },
          "metadata": {
            "tags": [],
            "needs_background": "light"
          }
        }
      ]
    },
    {
      "cell_type": "markdown",
      "metadata": {
        "colab_type": "text",
        "id": "ileVpXqHCsZB"
      },
      "source": [
        "From the figure we can see the highly correlated function with Outcome are: \n",
        "0-3 ,11, 22-40. "
      ]
    },
    {
      "cell_type": "code",
      "metadata": {
        "colab_type": "code",
        "id": "qPga2Kf2CsZE",
        "colab": {
          "base_uri": "https://localhost:8080/",
          "height": 204
        },
        "outputId": "42d92520-4df1-44b1-9988-cbdedddbc20b"
      },
      "source": [
        "FilterData=Fulldata.iloc[:,[0,1,2,3,11,22,23,24,25,26,27,28,29,30,31,32,33,34,35,36,37,38,39,40]]\n",
        "FilterData.head()"
      ],
      "execution_count": 38,
      "outputs": [
        {
          "output_type": "execute_result",
          "data": {
            "text/html": [
              "<div>\n",
              "<style scoped>\n",
              "    .dataframe tbody tr th:only-of-type {\n",
              "        vertical-align: middle;\n",
              "    }\n",
              "\n",
              "    .dataframe tbody tr th {\n",
              "        vertical-align: top;\n",
              "    }\n",
              "\n",
              "    .dataframe thead th {\n",
              "        text-align: right;\n",
              "    }\n",
              "</style>\n",
              "<table border=\"1\" class=\"dataframe\">\n",
              "  <thead>\n",
              "    <tr style=\"text-align: right;\">\n",
              "      <th></th>\n",
              "      <th>0</th>\n",
              "      <th>1</th>\n",
              "      <th>2</th>\n",
              "      <th>3</th>\n",
              "      <th>11</th>\n",
              "      <th>22</th>\n",
              "      <th>23</th>\n",
              "      <th>24</th>\n",
              "      <th>25</th>\n",
              "      <th>26</th>\n",
              "      <th>27</th>\n",
              "      <th>28</th>\n",
              "      <th>29</th>\n",
              "      <th>30</th>\n",
              "      <th>31</th>\n",
              "      <th>32</th>\n",
              "      <th>33</th>\n",
              "      <th>34</th>\n",
              "      <th>35</th>\n",
              "      <th>36</th>\n",
              "      <th>37</th>\n",
              "      <th>38</th>\n",
              "      <th>39</th>\n",
              "      <th>40</th>\n",
              "    </tr>\n",
              "  </thead>\n",
              "  <tbody>\n",
              "    <tr>\n",
              "      <th>0</th>\n",
              "      <td>0.0</td>\n",
              "      <td>1.0</td>\n",
              "      <td>22.0</td>\n",
              "      <td>9.0</td>\n",
              "      <td>1.0</td>\n",
              "      <td>8.0</td>\n",
              "      <td>8.0</td>\n",
              "      <td>0.0</td>\n",
              "      <td>0.0</td>\n",
              "      <td>0.0</td>\n",
              "      <td>0.0</td>\n",
              "      <td>1.0</td>\n",
              "      <td>0.0</td>\n",
              "      <td>0.0</td>\n",
              "      <td>9.0</td>\n",
              "      <td>9.0</td>\n",
              "      <td>1.0</td>\n",
              "      <td>0.0</td>\n",
              "      <td>0.11</td>\n",
              "      <td>0.0</td>\n",
              "      <td>0.0</td>\n",
              "      <td>0.0</td>\n",
              "      <td>0.0</td>\n",
              "      <td>0.0</td>\n",
              "    </tr>\n",
              "    <tr>\n",
              "      <th>1</th>\n",
              "      <td>0.0</td>\n",
              "      <td>1.0</td>\n",
              "      <td>22.0</td>\n",
              "      <td>9.0</td>\n",
              "      <td>1.0</td>\n",
              "      <td>8.0</td>\n",
              "      <td>8.0</td>\n",
              "      <td>0.0</td>\n",
              "      <td>0.0</td>\n",
              "      <td>0.0</td>\n",
              "      <td>0.0</td>\n",
              "      <td>1.0</td>\n",
              "      <td>0.0</td>\n",
              "      <td>0.0</td>\n",
              "      <td>19.0</td>\n",
              "      <td>19.0</td>\n",
              "      <td>1.0</td>\n",
              "      <td>0.0</td>\n",
              "      <td>0.05</td>\n",
              "      <td>0.0</td>\n",
              "      <td>0.0</td>\n",
              "      <td>0.0</td>\n",
              "      <td>0.0</td>\n",
              "      <td>0.0</td>\n",
              "    </tr>\n",
              "    <tr>\n",
              "      <th>2</th>\n",
              "      <td>0.0</td>\n",
              "      <td>1.0</td>\n",
              "      <td>22.0</td>\n",
              "      <td>9.0</td>\n",
              "      <td>1.0</td>\n",
              "      <td>8.0</td>\n",
              "      <td>8.0</td>\n",
              "      <td>0.0</td>\n",
              "      <td>0.0</td>\n",
              "      <td>0.0</td>\n",
              "      <td>0.0</td>\n",
              "      <td>1.0</td>\n",
              "      <td>0.0</td>\n",
              "      <td>0.0</td>\n",
              "      <td>29.0</td>\n",
              "      <td>29.0</td>\n",
              "      <td>1.0</td>\n",
              "      <td>0.0</td>\n",
              "      <td>0.03</td>\n",
              "      <td>0.0</td>\n",
              "      <td>0.0</td>\n",
              "      <td>0.0</td>\n",
              "      <td>0.0</td>\n",
              "      <td>0.0</td>\n",
              "    </tr>\n",
              "    <tr>\n",
              "      <th>3</th>\n",
              "      <td>0.0</td>\n",
              "      <td>1.0</td>\n",
              "      <td>22.0</td>\n",
              "      <td>9.0</td>\n",
              "      <td>1.0</td>\n",
              "      <td>6.0</td>\n",
              "      <td>6.0</td>\n",
              "      <td>0.0</td>\n",
              "      <td>0.0</td>\n",
              "      <td>0.0</td>\n",
              "      <td>0.0</td>\n",
              "      <td>1.0</td>\n",
              "      <td>0.0</td>\n",
              "      <td>0.0</td>\n",
              "      <td>39.0</td>\n",
              "      <td>39.0</td>\n",
              "      <td>1.0</td>\n",
              "      <td>0.0</td>\n",
              "      <td>0.03</td>\n",
              "      <td>0.0</td>\n",
              "      <td>0.0</td>\n",
              "      <td>0.0</td>\n",
              "      <td>0.0</td>\n",
              "      <td>0.0</td>\n",
              "    </tr>\n",
              "    <tr>\n",
              "      <th>4</th>\n",
              "      <td>0.0</td>\n",
              "      <td>1.0</td>\n",
              "      <td>22.0</td>\n",
              "      <td>9.0</td>\n",
              "      <td>1.0</td>\n",
              "      <td>6.0</td>\n",
              "      <td>6.0</td>\n",
              "      <td>0.0</td>\n",
              "      <td>0.0</td>\n",
              "      <td>0.0</td>\n",
              "      <td>0.0</td>\n",
              "      <td>1.0</td>\n",
              "      <td>0.0</td>\n",
              "      <td>0.0</td>\n",
              "      <td>49.0</td>\n",
              "      <td>49.0</td>\n",
              "      <td>1.0</td>\n",
              "      <td>0.0</td>\n",
              "      <td>0.02</td>\n",
              "      <td>0.0</td>\n",
              "      <td>0.0</td>\n",
              "      <td>0.0</td>\n",
              "      <td>0.0</td>\n",
              "      <td>0.0</td>\n",
              "    </tr>\n",
              "  </tbody>\n",
              "</table>\n",
              "</div>"
            ],
            "text/plain": [
              "    0    1     2    3    11   22   23  ...   34    35   36   37   38   39   40\n",
              "0  0.0  1.0  22.0  9.0  1.0  8.0  8.0  ...  0.0  0.11  0.0  0.0  0.0  0.0  0.0\n",
              "1  0.0  1.0  22.0  9.0  1.0  8.0  8.0  ...  0.0  0.05  0.0  0.0  0.0  0.0  0.0\n",
              "2  0.0  1.0  22.0  9.0  1.0  8.0  8.0  ...  0.0  0.03  0.0  0.0  0.0  0.0  0.0\n",
              "3  0.0  1.0  22.0  9.0  1.0  6.0  6.0  ...  0.0  0.03  0.0  0.0  0.0  0.0  0.0\n",
              "4  0.0  1.0  22.0  9.0  1.0  6.0  6.0  ...  0.0  0.02  0.0  0.0  0.0  0.0  0.0\n",
              "\n",
              "[5 rows x 24 columns]"
            ]
          },
          "metadata": {
            "tags": []
          },
          "execution_count": 38
        }
      ]
    },
    {
      "cell_type": "code",
      "metadata": {
        "colab_type": "code",
        "id": "YCsrAq4DCsZL",
        "colab": {
          "base_uri": "https://localhost:8080/",
          "height": 34
        },
        "outputId": "717ec79c-d401-4f75-abaf-47d178e116fa"
      },
      "source": [
        "FilterData.shape"
      ],
      "execution_count": 39,
      "outputs": [
        {
          "output_type": "execute_result",
          "data": {
            "text/plain": [
              "(494021, 24)"
            ]
          },
          "metadata": {
            "tags": []
          },
          "execution_count": 39
        }
      ]
    },
    {
      "cell_type": "markdown",
      "metadata": {
        "colab_type": "text",
        "id": "7NtmhYzGDvRz"
      },
      "source": [
        "Now variable selection is done ; Now we will do Standardisation of X Variables"
      ]
    },
    {
      "cell_type": "code",
      "metadata": {
        "colab_type": "code",
        "id": "YoDM_1GuDvR0",
        "colab": {}
      },
      "source": [
        "from sklearn.preprocessing import StandardScaler\n",
        "scaler=StandardScaler()\n",
        "X_stand=scaler.fit_transform(FilterData)"
      ],
      "execution_count": 40,
      "outputs": []
    },
    {
      "cell_type": "markdown",
      "metadata": {
        "colab_type": "text",
        "id": "pxaqgk9MDvR5"
      },
      "source": [
        "Label Enncoding Y Values "
      ]
    },
    {
      "cell_type": "code",
      "metadata": {
        "colab_type": "code",
        "id": "oWThhU7mDvR6",
        "colab": {
          "base_uri": "https://localhost:8080/",
          "height": 204
        },
        "outputId": "c8f5c1d1-67cd-4e5b-b00e-6441293e3df8"
      },
      "source": [
        "Y1.head()"
      ],
      "execution_count": 41,
      "outputs": [
        {
          "output_type": "execute_result",
          "data": {
            "text/html": [
              "<div>\n",
              "<style scoped>\n",
              "    .dataframe tbody tr th:only-of-type {\n",
              "        vertical-align: middle;\n",
              "    }\n",
              "\n",
              "    .dataframe tbody tr th {\n",
              "        vertical-align: top;\n",
              "    }\n",
              "\n",
              "    .dataframe thead th {\n",
              "        text-align: right;\n",
              "    }\n",
              "</style>\n",
              "<table border=\"1\" class=\"dataframe\">\n",
              "  <thead>\n",
              "    <tr style=\"text-align: right;\">\n",
              "      <th></th>\n",
              "      <th>Outcome</th>\n",
              "    </tr>\n",
              "  </thead>\n",
              "  <tbody>\n",
              "    <tr>\n",
              "      <th>0</th>\n",
              "      <td>11</td>\n",
              "    </tr>\n",
              "    <tr>\n",
              "      <th>1</th>\n",
              "      <td>11</td>\n",
              "    </tr>\n",
              "    <tr>\n",
              "      <th>2</th>\n",
              "      <td>11</td>\n",
              "    </tr>\n",
              "    <tr>\n",
              "      <th>3</th>\n",
              "      <td>11</td>\n",
              "    </tr>\n",
              "    <tr>\n",
              "      <th>4</th>\n",
              "      <td>11</td>\n",
              "    </tr>\n",
              "  </tbody>\n",
              "</table>\n",
              "</div>"
            ],
            "text/plain": [
              "   Outcome\n",
              "0       11\n",
              "1       11\n",
              "2       11\n",
              "3       11\n",
              "4       11"
            ]
          },
          "metadata": {
            "tags": []
          },
          "execution_count": 41
        }
      ]
    },
    {
      "cell_type": "code",
      "metadata": {
        "colab_type": "code",
        "id": "oxtKmxijDvSA",
        "colab": {
          "base_uri": "https://localhost:8080/",
          "height": 419
        },
        "outputId": "f65a0938-e61f-436e-aee2-39680543fe8c"
      },
      "source": [
        "Y = pd.get_dummies(Y1['Outcome'])\n",
        "Y"
      ],
      "execution_count": 42,
      "outputs": [
        {
          "output_type": "execute_result",
          "data": {
            "text/html": [
              "<div>\n",
              "<style scoped>\n",
              "    .dataframe tbody tr th:only-of-type {\n",
              "        vertical-align: middle;\n",
              "    }\n",
              "\n",
              "    .dataframe tbody tr th {\n",
              "        vertical-align: top;\n",
              "    }\n",
              "\n",
              "    .dataframe thead th {\n",
              "        text-align: right;\n",
              "    }\n",
              "</style>\n",
              "<table border=\"1\" class=\"dataframe\">\n",
              "  <thead>\n",
              "    <tr style=\"text-align: right;\">\n",
              "      <th></th>\n",
              "      <th>0</th>\n",
              "      <th>1</th>\n",
              "      <th>2</th>\n",
              "      <th>3</th>\n",
              "      <th>4</th>\n",
              "      <th>5</th>\n",
              "      <th>6</th>\n",
              "      <th>7</th>\n",
              "      <th>8</th>\n",
              "      <th>9</th>\n",
              "      <th>10</th>\n",
              "      <th>11</th>\n",
              "      <th>12</th>\n",
              "      <th>13</th>\n",
              "      <th>14</th>\n",
              "      <th>15</th>\n",
              "      <th>16</th>\n",
              "      <th>17</th>\n",
              "      <th>18</th>\n",
              "      <th>19</th>\n",
              "      <th>20</th>\n",
              "      <th>21</th>\n",
              "      <th>22</th>\n",
              "    </tr>\n",
              "  </thead>\n",
              "  <tbody>\n",
              "    <tr>\n",
              "      <th>0</th>\n",
              "      <td>0</td>\n",
              "      <td>0</td>\n",
              "      <td>0</td>\n",
              "      <td>0</td>\n",
              "      <td>0</td>\n",
              "      <td>0</td>\n",
              "      <td>0</td>\n",
              "      <td>0</td>\n",
              "      <td>0</td>\n",
              "      <td>0</td>\n",
              "      <td>0</td>\n",
              "      <td>1</td>\n",
              "      <td>0</td>\n",
              "      <td>0</td>\n",
              "      <td>0</td>\n",
              "      <td>0</td>\n",
              "      <td>0</td>\n",
              "      <td>0</td>\n",
              "      <td>0</td>\n",
              "      <td>0</td>\n",
              "      <td>0</td>\n",
              "      <td>0</td>\n",
              "      <td>0</td>\n",
              "    </tr>\n",
              "    <tr>\n",
              "      <th>1</th>\n",
              "      <td>0</td>\n",
              "      <td>0</td>\n",
              "      <td>0</td>\n",
              "      <td>0</td>\n",
              "      <td>0</td>\n",
              "      <td>0</td>\n",
              "      <td>0</td>\n",
              "      <td>0</td>\n",
              "      <td>0</td>\n",
              "      <td>0</td>\n",
              "      <td>0</td>\n",
              "      <td>1</td>\n",
              "      <td>0</td>\n",
              "      <td>0</td>\n",
              "      <td>0</td>\n",
              "      <td>0</td>\n",
              "      <td>0</td>\n",
              "      <td>0</td>\n",
              "      <td>0</td>\n",
              "      <td>0</td>\n",
              "      <td>0</td>\n",
              "      <td>0</td>\n",
              "      <td>0</td>\n",
              "    </tr>\n",
              "    <tr>\n",
              "      <th>2</th>\n",
              "      <td>0</td>\n",
              "      <td>0</td>\n",
              "      <td>0</td>\n",
              "      <td>0</td>\n",
              "      <td>0</td>\n",
              "      <td>0</td>\n",
              "      <td>0</td>\n",
              "      <td>0</td>\n",
              "      <td>0</td>\n",
              "      <td>0</td>\n",
              "      <td>0</td>\n",
              "      <td>1</td>\n",
              "      <td>0</td>\n",
              "      <td>0</td>\n",
              "      <td>0</td>\n",
              "      <td>0</td>\n",
              "      <td>0</td>\n",
              "      <td>0</td>\n",
              "      <td>0</td>\n",
              "      <td>0</td>\n",
              "      <td>0</td>\n",
              "      <td>0</td>\n",
              "      <td>0</td>\n",
              "    </tr>\n",
              "    <tr>\n",
              "      <th>3</th>\n",
              "      <td>0</td>\n",
              "      <td>0</td>\n",
              "      <td>0</td>\n",
              "      <td>0</td>\n",
              "      <td>0</td>\n",
              "      <td>0</td>\n",
              "      <td>0</td>\n",
              "      <td>0</td>\n",
              "      <td>0</td>\n",
              "      <td>0</td>\n",
              "      <td>0</td>\n",
              "      <td>1</td>\n",
              "      <td>0</td>\n",
              "      <td>0</td>\n",
              "      <td>0</td>\n",
              "      <td>0</td>\n",
              "      <td>0</td>\n",
              "      <td>0</td>\n",
              "      <td>0</td>\n",
              "      <td>0</td>\n",
              "      <td>0</td>\n",
              "      <td>0</td>\n",
              "      <td>0</td>\n",
              "    </tr>\n",
              "    <tr>\n",
              "      <th>4</th>\n",
              "      <td>0</td>\n",
              "      <td>0</td>\n",
              "      <td>0</td>\n",
              "      <td>0</td>\n",
              "      <td>0</td>\n",
              "      <td>0</td>\n",
              "      <td>0</td>\n",
              "      <td>0</td>\n",
              "      <td>0</td>\n",
              "      <td>0</td>\n",
              "      <td>0</td>\n",
              "      <td>1</td>\n",
              "      <td>0</td>\n",
              "      <td>0</td>\n",
              "      <td>0</td>\n",
              "      <td>0</td>\n",
              "      <td>0</td>\n",
              "      <td>0</td>\n",
              "      <td>0</td>\n",
              "      <td>0</td>\n",
              "      <td>0</td>\n",
              "      <td>0</td>\n",
              "      <td>0</td>\n",
              "    </tr>\n",
              "    <tr>\n",
              "      <th>...</th>\n",
              "      <td>...</td>\n",
              "      <td>...</td>\n",
              "      <td>...</td>\n",
              "      <td>...</td>\n",
              "      <td>...</td>\n",
              "      <td>...</td>\n",
              "      <td>...</td>\n",
              "      <td>...</td>\n",
              "      <td>...</td>\n",
              "      <td>...</td>\n",
              "      <td>...</td>\n",
              "      <td>...</td>\n",
              "      <td>...</td>\n",
              "      <td>...</td>\n",
              "      <td>...</td>\n",
              "      <td>...</td>\n",
              "      <td>...</td>\n",
              "      <td>...</td>\n",
              "      <td>...</td>\n",
              "      <td>...</td>\n",
              "      <td>...</td>\n",
              "      <td>...</td>\n",
              "      <td>...</td>\n",
              "    </tr>\n",
              "    <tr>\n",
              "      <th>494016</th>\n",
              "      <td>0</td>\n",
              "      <td>0</td>\n",
              "      <td>0</td>\n",
              "      <td>0</td>\n",
              "      <td>0</td>\n",
              "      <td>0</td>\n",
              "      <td>0</td>\n",
              "      <td>0</td>\n",
              "      <td>0</td>\n",
              "      <td>0</td>\n",
              "      <td>0</td>\n",
              "      <td>1</td>\n",
              "      <td>0</td>\n",
              "      <td>0</td>\n",
              "      <td>0</td>\n",
              "      <td>0</td>\n",
              "      <td>0</td>\n",
              "      <td>0</td>\n",
              "      <td>0</td>\n",
              "      <td>0</td>\n",
              "      <td>0</td>\n",
              "      <td>0</td>\n",
              "      <td>0</td>\n",
              "    </tr>\n",
              "    <tr>\n",
              "      <th>494017</th>\n",
              "      <td>0</td>\n",
              "      <td>0</td>\n",
              "      <td>0</td>\n",
              "      <td>0</td>\n",
              "      <td>0</td>\n",
              "      <td>0</td>\n",
              "      <td>0</td>\n",
              "      <td>0</td>\n",
              "      <td>0</td>\n",
              "      <td>0</td>\n",
              "      <td>0</td>\n",
              "      <td>1</td>\n",
              "      <td>0</td>\n",
              "      <td>0</td>\n",
              "      <td>0</td>\n",
              "      <td>0</td>\n",
              "      <td>0</td>\n",
              "      <td>0</td>\n",
              "      <td>0</td>\n",
              "      <td>0</td>\n",
              "      <td>0</td>\n",
              "      <td>0</td>\n",
              "      <td>0</td>\n",
              "    </tr>\n",
              "    <tr>\n",
              "      <th>494018</th>\n",
              "      <td>0</td>\n",
              "      <td>0</td>\n",
              "      <td>0</td>\n",
              "      <td>0</td>\n",
              "      <td>0</td>\n",
              "      <td>0</td>\n",
              "      <td>0</td>\n",
              "      <td>0</td>\n",
              "      <td>0</td>\n",
              "      <td>0</td>\n",
              "      <td>0</td>\n",
              "      <td>1</td>\n",
              "      <td>0</td>\n",
              "      <td>0</td>\n",
              "      <td>0</td>\n",
              "      <td>0</td>\n",
              "      <td>0</td>\n",
              "      <td>0</td>\n",
              "      <td>0</td>\n",
              "      <td>0</td>\n",
              "      <td>0</td>\n",
              "      <td>0</td>\n",
              "      <td>0</td>\n",
              "    </tr>\n",
              "    <tr>\n",
              "      <th>494019</th>\n",
              "      <td>0</td>\n",
              "      <td>0</td>\n",
              "      <td>0</td>\n",
              "      <td>0</td>\n",
              "      <td>0</td>\n",
              "      <td>0</td>\n",
              "      <td>0</td>\n",
              "      <td>0</td>\n",
              "      <td>0</td>\n",
              "      <td>0</td>\n",
              "      <td>0</td>\n",
              "      <td>1</td>\n",
              "      <td>0</td>\n",
              "      <td>0</td>\n",
              "      <td>0</td>\n",
              "      <td>0</td>\n",
              "      <td>0</td>\n",
              "      <td>0</td>\n",
              "      <td>0</td>\n",
              "      <td>0</td>\n",
              "      <td>0</td>\n",
              "      <td>0</td>\n",
              "      <td>0</td>\n",
              "    </tr>\n",
              "    <tr>\n",
              "      <th>494020</th>\n",
              "      <td>0</td>\n",
              "      <td>0</td>\n",
              "      <td>0</td>\n",
              "      <td>0</td>\n",
              "      <td>0</td>\n",
              "      <td>0</td>\n",
              "      <td>0</td>\n",
              "      <td>0</td>\n",
              "      <td>0</td>\n",
              "      <td>0</td>\n",
              "      <td>0</td>\n",
              "      <td>1</td>\n",
              "      <td>0</td>\n",
              "      <td>0</td>\n",
              "      <td>0</td>\n",
              "      <td>0</td>\n",
              "      <td>0</td>\n",
              "      <td>0</td>\n",
              "      <td>0</td>\n",
              "      <td>0</td>\n",
              "      <td>0</td>\n",
              "      <td>0</td>\n",
              "      <td>0</td>\n",
              "    </tr>\n",
              "  </tbody>\n",
              "</table>\n",
              "<p>494021 rows × 23 columns</p>\n",
              "</div>"
            ],
            "text/plain": [
              "        0   1   2   3   4   5   6   7   8   ...  14  15  16  17  18  19  20  21  22\n",
              "0        0   0   0   0   0   0   0   0   0  ...   0   0   0   0   0   0   0   0   0\n",
              "1        0   0   0   0   0   0   0   0   0  ...   0   0   0   0   0   0   0   0   0\n",
              "2        0   0   0   0   0   0   0   0   0  ...   0   0   0   0   0   0   0   0   0\n",
              "3        0   0   0   0   0   0   0   0   0  ...   0   0   0   0   0   0   0   0   0\n",
              "4        0   0   0   0   0   0   0   0   0  ...   0   0   0   0   0   0   0   0   0\n",
              "...     ..  ..  ..  ..  ..  ..  ..  ..  ..  ...  ..  ..  ..  ..  ..  ..  ..  ..  ..\n",
              "494016   0   0   0   0   0   0   0   0   0  ...   0   0   0   0   0   0   0   0   0\n",
              "494017   0   0   0   0   0   0   0   0   0  ...   0   0   0   0   0   0   0   0   0\n",
              "494018   0   0   0   0   0   0   0   0   0  ...   0   0   0   0   0   0   0   0   0\n",
              "494019   0   0   0   0   0   0   0   0   0  ...   0   0   0   0   0   0   0   0   0\n",
              "494020   0   0   0   0   0   0   0   0   0  ...   0   0   0   0   0   0   0   0   0\n",
              "\n",
              "[494021 rows x 23 columns]"
            ]
          },
          "metadata": {
            "tags": []
          },
          "execution_count": 42
        }
      ]
    },
    {
      "cell_type": "markdown",
      "metadata": {
        "colab_type": "text",
        "id": "NlBuC6_DDvSH"
      },
      "source": [
        "Splitting the Data"
      ]
    },
    {
      "cell_type": "code",
      "metadata": {
        "colab_type": "code",
        "id": "KnPhQzzYDvSI",
        "colab": {}
      },
      "source": [
        "from sklearn.model_selection import train_test_split\n",
        "seed = 8\n",
        "test_size = 0.2\n",
        "X_train, X_test, y_train, y_test = train_test_split(X_stand, Y, test_size=test_size, random_state=seed)"
      ],
      "execution_count": 43,
      "outputs": []
    },
    {
      "cell_type": "code",
      "metadata": {
        "colab_type": "code",
        "id": "ZIna6NrUDvSM",
        "colab": {
          "base_uri": "https://localhost:8080/",
          "height": 238
        },
        "outputId": "ed8072a5-43dc-4069-f719-168f3ca9c316"
      },
      "source": [
        "X_train"
      ],
      "execution_count": 44,
      "outputs": [
        {
          "output_type": "execute_result",
          "data": {
            "text/plain": [
              "array([[-0.06779172, -0.81154961, -0.69498244, ..., -0.46320239,\n",
              "        -0.25203952, -0.249464  ],\n",
              "       [-0.06779172,  0.92575306,  1.5948145 , ...,  2.16202721,\n",
              "        -0.25203952, -0.249464  ],\n",
              "       [-0.06779172,  0.92575306, -0.1040671 , ..., -0.46320239,\n",
              "        -0.25203952, -0.249464  ],\n",
              "       ...,\n",
              "       [-0.06779172,  2.66305573,  1.22549241, ..., -0.46320239,\n",
              "         1.65611515, -0.249464  ],\n",
              "       [-0.06779172,  0.92575306, -0.1040671 , ..., -0.46320239,\n",
              "        -0.25203952, -0.249464  ],\n",
              "       [-0.06779172,  0.92575306,  1.5948145 , ...,  2.16202721,\n",
              "        -0.25203952, -0.249464  ]])"
            ]
          },
          "metadata": {
            "tags": []
          },
          "execution_count": 44
        }
      ]
    },
    {
      "cell_type": "code",
      "metadata": {
        "colab_type": "code",
        "id": "MJGspzokDvSQ",
        "colab": {}
      },
      "source": [
        "y_train=y_train.to_numpy()\n",
        "y_test=y_test.to_numpy()"
      ],
      "execution_count": 45,
      "outputs": []
    },
    {
      "cell_type": "code",
      "metadata": {
        "colab_type": "code",
        "id": "VeGR7pFIDvSV",
        "colab": {
          "base_uri": "https://localhost:8080/",
          "height": 136
        },
        "outputId": "804dd679-7336-44e9-c57e-590d52c90ad7"
      },
      "source": [
        "y_train"
      ],
      "execution_count": 46,
      "outputs": [
        {
          "output_type": "execute_result",
          "data": {
            "text/plain": [
              "array([[0, 0, 0, ..., 0, 0, 0],\n",
              "       [0, 0, 0, ..., 0, 0, 0],\n",
              "       [0, 0, 0, ..., 0, 0, 0],\n",
              "       ...,\n",
              "       [0, 0, 0, ..., 0, 0, 0],\n",
              "       [0, 0, 0, ..., 0, 0, 0],\n",
              "       [0, 0, 0, ..., 0, 0, 0]], dtype=uint8)"
            ]
          },
          "metadata": {
            "tags": []
          },
          "execution_count": 46
        }
      ]
    },
    {
      "cell_type": "code",
      "metadata": {
        "id": "2crYoe12ESV8",
        "colab_type": "code",
        "colab": {
          "base_uri": "https://localhost:8080/",
          "height": 34
        },
        "outputId": "e89065f0-9d06-470f-daa1-804ccb026d05"
      },
      "source": [
        "X_stand.shape"
      ],
      "execution_count": 47,
      "outputs": [
        {
          "output_type": "execute_result",
          "data": {
            "text/plain": [
              "(494021, 24)"
            ]
          },
          "metadata": {
            "tags": []
          },
          "execution_count": 47
        }
      ]
    },
    {
      "cell_type": "code",
      "metadata": {
        "id": "0eq75BnCEWxj",
        "colab_type": "code",
        "colab": {
          "base_uri": "https://localhost:8080/",
          "height": 34
        },
        "outputId": "39e807d8-97b8-4dda-9f54-14b66b04414d"
      },
      "source": [
        "Y1['Outcome'].nunique()"
      ],
      "execution_count": 48,
      "outputs": [
        {
          "output_type": "execute_result",
          "data": {
            "text/plain": [
              "23"
            ]
          },
          "metadata": {
            "tags": []
          },
          "execution_count": 48
        }
      ]
    },
    {
      "cell_type": "code",
      "metadata": {
        "colab_type": "code",
        "id": "xn8vfch6EB5d",
        "colab": {}
      },
      "source": [
        "initializer = keras.initializers.glorot_normal()\n",
        "filepath = \"weights-improvement-kdcup99-{epoch:02d}-{val_accuracy:.2f}.hdf5\"\n",
        "checkpoint = ModelCheckpoint(filepath, monitor = 'val_accuracy', verbose=1, save_best_only=True, mode='max')\n",
        "es = EarlyStopping(monitor='val_loss', mode='min', verbose=1, patience=10, min_delta=0.01, baseline=0.5)\n",
        "\n",
        "callbacks_list = [checkpoint, es]\n",
        "\n",
        "model1=models.Sequential()\n",
        "model1.add(layers.Dense(60,activation=\"sigmoid\",input_shape=(24,), kernel_initializer=initializer, bias_initializer=initializer))\n",
        "model1.add(layers.Dense(23,activation='softmax', kernel_initializer=initializer, bias_initializer=initializer))"
      ],
      "execution_count": 57,
      "outputs": []
    },
    {
      "cell_type": "code",
      "metadata": {
        "colab_type": "code",
        "id": "_aLCjED1EB5i",
        "colab": {
          "base_uri": "https://localhost:8080/",
          "height": 221
        },
        "outputId": "4fa6b1cb-8bc8-4fe7-f218-eac464b09aad"
      },
      "source": [
        "model1.summary()"
      ],
      "execution_count": 58,
      "outputs": [
        {
          "output_type": "stream",
          "text": [
            "Model: \"sequential_8\"\n",
            "_________________________________________________________________\n",
            "Layer (type)                 Output Shape              Param #   \n",
            "=================================================================\n",
            "dense_16 (Dense)             (None, 60)                1500      \n",
            "_________________________________________________________________\n",
            "dense_17 (Dense)             (None, 23)                1403      \n",
            "=================================================================\n",
            "Total params: 2,903\n",
            "Trainable params: 2,903\n",
            "Non-trainable params: 0\n",
            "_________________________________________________________________\n"
          ],
          "name": "stdout"
        }
      ]
    },
    {
      "cell_type": "code",
      "metadata": {
        "colab_type": "code",
        "id": "lgloGGSbEB5m",
        "colab": {}
      },
      "source": [
        "model1.compile(optimizer=\"adam\",loss='categorical_crossentropy',metrics=['accuracy'])"
      ],
      "execution_count": 51,
      "outputs": []
    },
    {
      "cell_type": "code",
      "metadata": {
        "colab_type": "code",
        "id": "B8ML1d--EB5q",
        "colab": {
          "base_uri": "https://localhost:8080/",
          "height": 850
        },
        "outputId": "52779ae2-e345-4253-f4a2-40c9da9ce7ee"
      },
      "source": [
        "history=model1.fit(X_train, y_train, epochs=20,batch_size=50, verbose=1, validation_split=0.25,callbacks=callbacks_list)"
      ],
      "execution_count": 52,
      "outputs": [
        {
          "output_type": "stream",
          "text": [
            "Epoch 1/20\n",
            "5922/5929 [============================>.] - ETA: 0s - loss: 0.0736 - accuracy: 0.9853\n",
            "Epoch 00001: val_accuracy improved from -inf to 0.99153, saving model to weights-improvement-kdcup99-01-0.99.hdf5\n",
            "5929/5929 [==============================] - 17s 3ms/step - loss: 0.0735 - accuracy: 0.9853 - val_loss: 0.0281 - val_accuracy: 0.9915\n",
            "Epoch 2/20\n",
            "5918/5929 [============================>.] - ETA: 0s - loss: 0.0212 - accuracy: 0.9932\n",
            "Epoch 00002: val_accuracy improved from 0.99153 to 0.99425, saving model to weights-improvement-kdcup99-02-0.99.hdf5\n",
            "5929/5929 [==============================] - 17s 3ms/step - loss: 0.0211 - accuracy: 0.9932 - val_loss: 0.0166 - val_accuracy: 0.9943\n",
            "Epoch 3/20\n",
            "5922/5929 [============================>.] - ETA: 0s - loss: 0.0135 - accuracy: 0.9955\n",
            "Epoch 00003: val_accuracy improved from 0.99425 to 0.99645, saving model to weights-improvement-kdcup99-03-1.00.hdf5\n",
            "5929/5929 [==============================] - 17s 3ms/step - loss: 0.0135 - accuracy: 0.9955 - val_loss: 0.0125 - val_accuracy: 0.9964\n",
            "Epoch 4/20\n",
            "5918/5929 [============================>.] - ETA: 0s - loss: 0.0105 - accuracy: 0.9966\n",
            "Epoch 00004: val_accuracy improved from 0.99645 to 0.99673, saving model to weights-improvement-kdcup99-04-1.00.hdf5\n",
            "5929/5929 [==============================] - 16s 3ms/step - loss: 0.0105 - accuracy: 0.9966 - val_loss: 0.0112 - val_accuracy: 0.9967\n",
            "Epoch 5/20\n",
            "5921/5929 [============================>.] - ETA: 0s - loss: 0.0091 - accuracy: 0.9970\n",
            "Epoch 00005: val_accuracy improved from 0.99673 to 0.99717, saving model to weights-improvement-kdcup99-05-1.00.hdf5\n",
            "5929/5929 [==============================] - 17s 3ms/step - loss: 0.0091 - accuracy: 0.9970 - val_loss: 0.0103 - val_accuracy: 0.9972\n",
            "Epoch 6/20\n",
            "5915/5929 [============================>.] - ETA: 0s - loss: 0.0082 - accuracy: 0.9972\n",
            "Epoch 00006: val_accuracy improved from 0.99717 to 0.99732, saving model to weights-improvement-kdcup99-06-1.00.hdf5\n",
            "5929/5929 [==============================] - 17s 3ms/step - loss: 0.0082 - accuracy: 0.9972 - val_loss: 0.0092 - val_accuracy: 0.9973\n",
            "Epoch 7/20\n",
            "5908/5929 [============================>.] - ETA: 0s - loss: 0.0076 - accuracy: 0.9975\n",
            "Epoch 00007: val_accuracy improved from 0.99732 to 0.99753, saving model to weights-improvement-kdcup99-07-1.00.hdf5\n",
            "5929/5929 [==============================] - 17s 3ms/step - loss: 0.0076 - accuracy: 0.9975 - val_loss: 0.0087 - val_accuracy: 0.9975\n",
            "Epoch 8/20\n",
            "5925/5929 [============================>.] - ETA: 0s - loss: 0.0071 - accuracy: 0.9976\n",
            "Epoch 00008: val_accuracy did not improve from 0.99753\n",
            "5929/5929 [==============================] - 17s 3ms/step - loss: 0.0071 - accuracy: 0.9976 - val_loss: 0.0082 - val_accuracy: 0.9975\n",
            "Epoch 9/20\n",
            "5911/5929 [============================>.] - ETA: 0s - loss: 0.0067 - accuracy: 0.9978\n",
            "Epoch 00009: val_accuracy improved from 0.99753 to 0.99785, saving model to weights-improvement-kdcup99-09-1.00.hdf5\n",
            "5929/5929 [==============================] - 17s 3ms/step - loss: 0.0067 - accuracy: 0.9978 - val_loss: 0.0081 - val_accuracy: 0.9979\n",
            "Epoch 10/20\n",
            "5926/5929 [============================>.] - ETA: 0s - loss: 0.0064 - accuracy: 0.9979\n",
            "Epoch 00010: val_accuracy improved from 0.99785 to 0.99803, saving model to weights-improvement-kdcup99-10-1.00.hdf5\n",
            "5929/5929 [==============================] - 17s 3ms/step - loss: 0.0064 - accuracy: 0.9979 - val_loss: 0.0078 - val_accuracy: 0.9980\n",
            "Epoch 11/20\n",
            "5920/5929 [============================>.] - ETA: 0s - loss: 0.0062 - accuracy: 0.9980\n",
            "Epoch 00011: val_accuracy did not improve from 0.99803\n",
            "5929/5929 [==============================] - 16s 3ms/step - loss: 0.0062 - accuracy: 0.9980 - val_loss: 0.0078 - val_accuracy: 0.9977\n",
            "Epoch 12/20\n",
            "5916/5929 [============================>.] - ETA: 0s - loss: 0.0060 - accuracy: 0.9980\n",
            "Epoch 00012: val_accuracy did not improve from 0.99803\n",
            "5929/5929 [==============================] - 16s 3ms/step - loss: 0.0060 - accuracy: 0.9980 - val_loss: 0.0073 - val_accuracy: 0.9980\n",
            "Epoch 00012: early stopping\n"
          ],
          "name": "stdout"
        }
      ]
    },
    {
      "cell_type": "code",
      "metadata": {
        "colab_type": "code",
        "id": "_YwXjieJEB56",
        "colab": {
          "base_uri": "https://localhost:8080/",
          "height": 51
        },
        "outputId": "40fa9a51-b90b-4ad2-9786-7d84a8710ad8"
      },
      "source": [
        "models_new=models.Sequential()\n",
        "models_new.add(layers.Dense(60,activation=\"sigmoid\",input_shape=(24,), kernel_initializer=initializer, bias_initializer=initializer))\n",
        "models_new.add(layers.Dense(23,activation='softmax', kernel_initializer=initializer, bias_initializer=initializer))\n",
        "\n",
        "#Using callback to load weights of Train model in the test model \n",
        "models_new.load_weights(\"weights-improvement-kdcup99-10-1.00.hdf5\")\n",
        "#This depends on storage and jo saved hua hai...so sometimes u need to rename it and chose max accuracy wala only\n",
        "models_new.compile(loss='categorical_crossentropy', optimizer=\"adam\", metrics=['accuracy'])\n",
        "\n",
        "test_loss, test_acc = models_new.evaluate(X_test, y_test, verbose=0)\n",
        "print('Test Accuracy: %.8f' % ( test_acc))\n",
        "print('Test Loss: %.3f' % ( test_loss)) \n",
        "\n",
        "#Can use the below model also\n",
        "#from keras.models import load_model\n",
        "#saved_model = load_model('weights-improvement-covtype-10-0.81.hdf5')\n",
        "#test_loss, test_acc = saved_model.evaluate(X_test, y_test, verbose=0)\n",
        "#print('Test Accuracy: %.8f' % ( test_acc))\n",
        "#print('Test Loss: %.3f' % ( test_loss))"
      ],
      "execution_count": 59,
      "outputs": [
        {
          "output_type": "stream",
          "text": [
            "Test Accuracy: 0.99813777\n",
            "Test Loss: 0.007\n"
          ],
          "name": "stdout"
        }
      ]
    },
    {
      "cell_type": "markdown",
      "metadata": {
        "colab_type": "text",
        "id": "plsaqZfHEB5-"
      },
      "source": [
        "**Accuracy coming around ~ 99% in Training,Validation & Testing Dataset (i.e.above 75% Benchmark)**"
      ]
    },
    {
      "cell_type": "markdown",
      "metadata": {
        "colab_type": "text",
        "id": "GuypN8DjEB5_"
      },
      "source": [
        "Plot of accuracy of Train & Validation"
      ]
    },
    {
      "cell_type": "code",
      "metadata": {
        "colab_type": "code",
        "id": "bIsy93-UEB6A",
        "colab": {
          "base_uri": "https://localhost:8080/",
          "height": 295
        },
        "outputId": "4187a0fa-e849-4219-9901-d90a5c9d4a8c"
      },
      "source": [
        "import matplotlib.pyplot as plt\n",
        "\n",
        "plt.plot(history.history['accuracy'])\n",
        "plt.plot(history.history['val_accuracy'])\n",
        "plt.title(\"Model accuracy\")\n",
        "plt.ylabel(\"Accuracy\")\n",
        "plt.xlabel(\"Epochs/iterations\")\n",
        "plt.legend(['Train','Validation'], loc=\"upper left\")\n",
        "plt.show()"
      ],
      "execution_count": 60,
      "outputs": [
        {
          "output_type": "display_data",
          "data": {
            "image/png": "[encoded data removed]",
            "text/plain": [
              "<Figure size 432x288 with 1 Axes>"
            ]
          },
          "metadata": {
            "tags": [],
            "needs_background": "light"
          }
        }
      ]
    },
    {
      "cell_type": "markdown",
      "metadata": {
        "colab_type": "text",
        "id": "LdAfQAnTEB6F"
      },
      "source": [
        "Plot of Loss of Train & Validation"
      ]
    },
    {
      "cell_type": "code",
      "metadata": {
        "colab_type": "code",
        "id": "MzOEEqawEB6F",
        "colab": {
          "base_uri": "https://localhost:8080/",
          "height": 295
        },
        "outputId": "8aa9d630-8ef9-4042-c147-11d30aef07be"
      },
      "source": [
        "import matplotlib.pyplot as plt\n",
        "\n",
        "plt.plot(history.history['loss'])\n",
        "plt.plot(history.history['val_loss'])\n",
        "plt.title(\"Model LOSS\")\n",
        "plt.ylabel(\"Accuracy\")\n",
        "plt.xlabel(\"Epochs/iterations\")\n",
        "plt.legend(['Train','Validation'], loc=\"upper left\")\n",
        "plt.show()"
      ],
      "execution_count": 61,
      "outputs": [
        {
          "output_type": "display_data",
          "data": {
            "image/png": "[encoded data removed]",
            "text/plain": [
              "<Figure size 432x288 with 1 Axes>"
            ]
          },
          "metadata": {
            "tags": [],
            "needs_background": "light"
          }
        }
      ]
    },
    {
      "cell_type": "markdown",
      "metadata": {
        "colab_type": "text",
        "id": "WY4T9D0VGYTw"
      },
      "source": [
        "**Callback is used here to save the improved model.**\n",
        "\n",
        "**Hyper-Parameter used here are:**\n",
        "\n",
        "1)Made 1st Layer of Sigmoid Activation and the input dimension = 24 as 24 variables in dataset.\n",
        "\n",
        "2)Added 2nd Layer of Softmax that is also the output layer and 23 classes so choose 23 as next layer shape.\n",
        "\n",
        "3)Have added a keras initializer while defining both the Layers.\n",
        "\n",
        "4)Optimizer used:Adam for faster convergence.\n",
        "\n",
        "5)Metrics: Accuracy to find accuray atlast.\n",
        "\n",
        "6)loss='categorical_crossentropy' as it has 23 different classes\n",
        "\n",
        "7)Have splited in 60:20:20 model of Train:Validation:Test\n",
        "\n",
        "8)Callbackused are: earlystopping, modelcheckpoint.\n",
        "\n",
        "9)Epoch=20 & Batch_size=50 & Steps_per_epoch=5929"
      ]
    },
    {
      "cell_type": "markdown",
      "metadata": {
        "id": "t47sbuypoogy",
        "colab_type": "text"
      },
      "source": [
        "#**datasets.load_breast_cancer()**"
      ]
    },
    {
      "cell_type": "code",
      "metadata": {
        "colab_type": "code",
        "id": "_Gf2fLi9pSF3",
        "colab": {}
      },
      "source": [
        "from sklearn.datasets import load_breast_cancer\n",
        "#Dataset Link: https://scikit-learn.org/stable/modules/generated/sklearn.datasets.load_breast_cancer.html\n",
        "\n",
        "cancer = load_breast_cancer()\n",
        "x_bc = cancer.data\n",
        "y_bc = cancer.target"
      ],
      "execution_count": 62,
      "outputs": []
    },
    {
      "cell_type": "code",
      "metadata": {
        "colab_type": "code",
        "id": "OrqKI9l2pSGK",
        "colab": {
          "base_uri": "https://localhost:8080/",
          "height": 224
        },
        "outputId": "79b3ae03-ccbc-45af-bca5-257c75375674"
      },
      "source": [
        "X=pd.DataFrame(x_bc)\n",
        "Y=y_bc\n",
        "Y1=pd.DataFrame(Y.copy())\n",
        "X.head()"
      ],
      "execution_count": 63,
      "outputs": [
        {
          "output_type": "execute_result",
          "data": {
            "text/html": [
              "<div>\n",
              "<style scoped>\n",
              "    .dataframe tbody tr th:only-of-type {\n",
              "        vertical-align: middle;\n",
              "    }\n",
              "\n",
              "    .dataframe tbody tr th {\n",
              "        vertical-align: top;\n",
              "    }\n",
              "\n",
              "    .dataframe thead th {\n",
              "        text-align: right;\n",
              "    }\n",
              "</style>\n",
              "<table border=\"1\" class=\"dataframe\">\n",
              "  <thead>\n",
              "    <tr style=\"text-align: right;\">\n",
              "      <th></th>\n",
              "      <th>0</th>\n",
              "      <th>1</th>\n",
              "      <th>2</th>\n",
              "      <th>3</th>\n",
              "      <th>4</th>\n",
              "      <th>5</th>\n",
              "      <th>6</th>\n",
              "      <th>7</th>\n",
              "      <th>8</th>\n",
              "      <th>9</th>\n",
              "      <th>10</th>\n",
              "      <th>11</th>\n",
              "      <th>12</th>\n",
              "      <th>13</th>\n",
              "      <th>14</th>\n",
              "      <th>15</th>\n",
              "      <th>16</th>\n",
              "      <th>17</th>\n",
              "      <th>18</th>\n",
              "      <th>19</th>\n",
              "      <th>20</th>\n",
              "      <th>21</th>\n",
              "      <th>22</th>\n",
              "      <th>23</th>\n",
              "      <th>24</th>\n",
              "      <th>25</th>\n",
              "      <th>26</th>\n",
              "      <th>27</th>\n",
              "      <th>28</th>\n",
              "      <th>29</th>\n",
              "    </tr>\n",
              "  </thead>\n",
              "  <tbody>\n",
              "    <tr>\n",
              "      <th>0</th>\n",
              "      <td>17.99</td>\n",
              "      <td>10.38</td>\n",
              "      <td>122.80</td>\n",
              "      <td>1001.0</td>\n",
              "      <td>0.11840</td>\n",
              "      <td>0.27760</td>\n",
              "      <td>0.3001</td>\n",
              "      <td>0.14710</td>\n",
              "      <td>0.2419</td>\n",
              "      <td>0.07871</td>\n",
              "      <td>1.0950</td>\n",
              "      <td>0.9053</td>\n",
              "      <td>8.589</td>\n",
              "      <td>153.40</td>\n",
              "      <td>0.006399</td>\n",
              "      <td>0.04904</td>\n",
              "      <td>0.05373</td>\n",
              "      <td>0.01587</td>\n",
              "      <td>0.03003</td>\n",
              "      <td>0.006193</td>\n",
              "      <td>25.38</td>\n",
              "      <td>17.33</td>\n",
              "      <td>184.60</td>\n",
              "      <td>2019.0</td>\n",
              "      <td>0.1622</td>\n",
              "      <td>0.6656</td>\n",
              "      <td>0.7119</td>\n",
              "      <td>0.2654</td>\n",
              "      <td>0.4601</td>\n",
              "      <td>0.11890</td>\n",
              "    </tr>\n",
              "    <tr>\n",
              "      <th>1</th>\n",
              "      <td>20.57</td>\n",
              "      <td>17.77</td>\n",
              "      <td>132.90</td>\n",
              "      <td>1326.0</td>\n",
              "      <td>0.08474</td>\n",
              "      <td>0.07864</td>\n",
              "      <td>0.0869</td>\n",
              "      <td>0.07017</td>\n",
              "      <td>0.1812</td>\n",
              "      <td>0.05667</td>\n",
              "      <td>0.5435</td>\n",
              "      <td>0.7339</td>\n",
              "      <td>3.398</td>\n",
              "      <td>74.08</td>\n",
              "      <td>0.005225</td>\n",
              "      <td>0.01308</td>\n",
              "      <td>0.01860</td>\n",
              "      <td>0.01340</td>\n",
              "      <td>0.01389</td>\n",
              "      <td>0.003532</td>\n",
              "      <td>24.99</td>\n",
              "      <td>23.41</td>\n",
              "      <td>158.80</td>\n",
              "      <td>1956.0</td>\n",
              "      <td>0.1238</td>\n",
              "      <td>0.1866</td>\n",
              "      <td>0.2416</td>\n",
              "      <td>0.1860</td>\n",
              "      <td>0.2750</td>\n",
              "      <td>0.08902</td>\n",
              "    </tr>\n",
              "    <tr>\n",
              "      <th>2</th>\n",
              "      <td>19.69</td>\n",
              "      <td>21.25</td>\n",
              "      <td>130.00</td>\n",
              "      <td>1203.0</td>\n",
              "      <td>0.10960</td>\n",
              "      <td>0.15990</td>\n",
              "      <td>0.1974</td>\n",
              "      <td>0.12790</td>\n",
              "      <td>0.2069</td>\n",
              "      <td>0.05999</td>\n",
              "      <td>0.7456</td>\n",
              "      <td>0.7869</td>\n",
              "      <td>4.585</td>\n",
              "      <td>94.03</td>\n",
              "      <td>0.006150</td>\n",
              "      <td>0.04006</td>\n",
              "      <td>0.03832</td>\n",
              "      <td>0.02058</td>\n",
              "      <td>0.02250</td>\n",
              "      <td>0.004571</td>\n",
              "      <td>23.57</td>\n",
              "      <td>25.53</td>\n",
              "      <td>152.50</td>\n",
              "      <td>1709.0</td>\n",
              "      <td>0.1444</td>\n",
              "      <td>0.4245</td>\n",
              "      <td>0.4504</td>\n",
              "      <td>0.2430</td>\n",
              "      <td>0.3613</td>\n",
              "      <td>0.08758</td>\n",
              "    </tr>\n",
              "    <tr>\n",
              "      <th>3</th>\n",
              "      <td>11.42</td>\n",
              "      <td>20.38</td>\n",
              "      <td>77.58</td>\n",
              "      <td>386.1</td>\n",
              "      <td>0.14250</td>\n",
              "      <td>0.28390</td>\n",
              "      <td>0.2414</td>\n",
              "      <td>0.10520</td>\n",
              "      <td>0.2597</td>\n",
              "      <td>0.09744</td>\n",
              "      <td>0.4956</td>\n",
              "      <td>1.1560</td>\n",
              "      <td>3.445</td>\n",
              "      <td>27.23</td>\n",
              "      <td>0.009110</td>\n",
              "      <td>0.07458</td>\n",
              "      <td>0.05661</td>\n",
              "      <td>0.01867</td>\n",
              "      <td>0.05963</td>\n",
              "      <td>0.009208</td>\n",
              "      <td>14.91</td>\n",
              "      <td>26.50</td>\n",
              "      <td>98.87</td>\n",
              "      <td>567.7</td>\n",
              "      <td>0.2098</td>\n",
              "      <td>0.8663</td>\n",
              "      <td>0.6869</td>\n",
              "      <td>0.2575</td>\n",
              "      <td>0.6638</td>\n",
              "      <td>0.17300</td>\n",
              "    </tr>\n",
              "    <tr>\n",
              "      <th>4</th>\n",
              "      <td>20.29</td>\n",
              "      <td>14.34</td>\n",
              "      <td>135.10</td>\n",
              "      <td>1297.0</td>\n",
              "      <td>0.10030</td>\n",
              "      <td>0.13280</td>\n",
              "      <td>0.1980</td>\n",
              "      <td>0.10430</td>\n",
              "      <td>0.1809</td>\n",
              "      <td>0.05883</td>\n",
              "      <td>0.7572</td>\n",
              "      <td>0.7813</td>\n",
              "      <td>5.438</td>\n",
              "      <td>94.44</td>\n",
              "      <td>0.011490</td>\n",
              "      <td>0.02461</td>\n",
              "      <td>0.05688</td>\n",
              "      <td>0.01885</td>\n",
              "      <td>0.01756</td>\n",
              "      <td>0.005115</td>\n",
              "      <td>22.54</td>\n",
              "      <td>16.67</td>\n",
              "      <td>152.20</td>\n",
              "      <td>1575.0</td>\n",
              "      <td>0.1374</td>\n",
              "      <td>0.2050</td>\n",
              "      <td>0.4000</td>\n",
              "      <td>0.1625</td>\n",
              "      <td>0.2364</td>\n",
              "      <td>0.07678</td>\n",
              "    </tr>\n",
              "  </tbody>\n",
              "</table>\n",
              "</div>"
            ],
            "text/plain": [
              "      0      1       2       3   ...      26      27      28       29\n",
              "0  17.99  10.38  122.80  1001.0  ...  0.7119  0.2654  0.4601  0.11890\n",
              "1  20.57  17.77  132.90  1326.0  ...  0.2416  0.1860  0.2750  0.08902\n",
              "2  19.69  21.25  130.00  1203.0  ...  0.4504  0.2430  0.3613  0.08758\n",
              "3  11.42  20.38   77.58   386.1  ...  0.6869  0.2575  0.6638  0.17300\n",
              "4  20.29  14.34  135.10  1297.0  ...  0.4000  0.1625  0.2364  0.07678\n",
              "\n",
              "[5 rows x 30 columns]"
            ]
          },
          "metadata": {
            "tags": []
          },
          "execution_count": 63
        }
      ]
    },
    {
      "cell_type": "code",
      "metadata": {
        "colab_type": "code",
        "id": "XQCegE0dpSGU",
        "colab": {}
      },
      "source": [
        "Y1.columns=[\"Outcome\"]"
      ],
      "execution_count": 64,
      "outputs": []
    },
    {
      "cell_type": "code",
      "metadata": {
        "colab_type": "code",
        "id": "kAo0JJtPpSGc",
        "colab": {
          "base_uri": "https://localhost:8080/",
          "height": 204
        },
        "outputId": "db64f375-e5cd-4a15-f300-e962373d45c0"
      },
      "source": [
        "Y1.head()"
      ],
      "execution_count": 65,
      "outputs": [
        {
          "output_type": "execute_result",
          "data": {
            "text/html": [
              "<div>\n",
              "<style scoped>\n",
              "    .dataframe tbody tr th:only-of-type {\n",
              "        vertical-align: middle;\n",
              "    }\n",
              "\n",
              "    .dataframe tbody tr th {\n",
              "        vertical-align: top;\n",
              "    }\n",
              "\n",
              "    .dataframe thead th {\n",
              "        text-align: right;\n",
              "    }\n",
              "</style>\n",
              "<table border=\"1\" class=\"dataframe\">\n",
              "  <thead>\n",
              "    <tr style=\"text-align: right;\">\n",
              "      <th></th>\n",
              "      <th>Outcome</th>\n",
              "    </tr>\n",
              "  </thead>\n",
              "  <tbody>\n",
              "    <tr>\n",
              "      <th>0</th>\n",
              "      <td>0</td>\n",
              "    </tr>\n",
              "    <tr>\n",
              "      <th>1</th>\n",
              "      <td>0</td>\n",
              "    </tr>\n",
              "    <tr>\n",
              "      <th>2</th>\n",
              "      <td>0</td>\n",
              "    </tr>\n",
              "    <tr>\n",
              "      <th>3</th>\n",
              "      <td>0</td>\n",
              "    </tr>\n",
              "    <tr>\n",
              "      <th>4</th>\n",
              "      <td>0</td>\n",
              "    </tr>\n",
              "  </tbody>\n",
              "</table>\n",
              "</div>"
            ],
            "text/plain": [
              "   Outcome\n",
              "0        0\n",
              "1        0\n",
              "2        0\n",
              "3        0\n",
              "4        0"
            ]
          },
          "metadata": {
            "tags": []
          },
          "execution_count": 65
        }
      ]
    },
    {
      "cell_type": "code",
      "metadata": {
        "id": "7UUNHRZ9t-Fx",
        "colab_type": "code",
        "colab": {
          "base_uri": "https://localhost:8080/",
          "height": 34
        },
        "outputId": "3e116a47-3ce8-41d1-cf0f-587fae1c7e15"
      },
      "source": [
        "Y1['Outcome'].nunique()"
      ],
      "execution_count": 66,
      "outputs": [
        {
          "output_type": "execute_result",
          "data": {
            "text/plain": [
              "2"
            ]
          },
          "metadata": {
            "tags": []
          },
          "execution_count": 66
        }
      ]
    },
    {
      "cell_type": "code",
      "metadata": {
        "colab_type": "code",
        "id": "w4lBm1-HpSGh",
        "colab": {
          "base_uri": "https://localhost:8080/",
          "height": 544
        },
        "outputId": "33290e06-407b-4392-f2aa-e6631f6e7216"
      },
      "source": [
        "X.isnull().sum()"
      ],
      "execution_count": 67,
      "outputs": [
        {
          "output_type": "execute_result",
          "data": {
            "text/plain": [
              "0     0\n",
              "1     0\n",
              "2     0\n",
              "3     0\n",
              "4     0\n",
              "5     0\n",
              "6     0\n",
              "7     0\n",
              "8     0\n",
              "9     0\n",
              "10    0\n",
              "11    0\n",
              "12    0\n",
              "13    0\n",
              "14    0\n",
              "15    0\n",
              "16    0\n",
              "17    0\n",
              "18    0\n",
              "19    0\n",
              "20    0\n",
              "21    0\n",
              "22    0\n",
              "23    0\n",
              "24    0\n",
              "25    0\n",
              "26    0\n",
              "27    0\n",
              "28    0\n",
              "29    0\n",
              "dtype: int64"
            ]
          },
          "metadata": {
            "tags": []
          },
          "execution_count": 67
        }
      ]
    },
    {
      "cell_type": "markdown",
      "metadata": {
        "colab_type": "text",
        "id": "jFWgfsHEpSGo"
      },
      "source": [
        "Hence No Null Values in the Dataset"
      ]
    },
    {
      "cell_type": "code",
      "metadata": {
        "colab_type": "code",
        "id": "2dAh8QgopSGp",
        "colab": {
          "base_uri": "https://localhost:8080/",
          "height": 224
        },
        "outputId": "a5d5c4da-a0b5-484e-f1ed-197334592c38"
      },
      "source": [
        "Fulldata = pd.concat([X,Y1], axis=1)\n",
        "Fulldata.head()"
      ],
      "execution_count": 68,
      "outputs": [
        {
          "output_type": "execute_result",
          "data": {
            "text/html": [
              "<div>\n",
              "<style scoped>\n",
              "    .dataframe tbody tr th:only-of-type {\n",
              "        vertical-align: middle;\n",
              "    }\n",
              "\n",
              "    .dataframe tbody tr th {\n",
              "        vertical-align: top;\n",
              "    }\n",
              "\n",
              "    .dataframe thead th {\n",
              "        text-align: right;\n",
              "    }\n",
              "</style>\n",
              "<table border=\"1\" class=\"dataframe\">\n",
              "  <thead>\n",
              "    <tr style=\"text-align: right;\">\n",
              "      <th></th>\n",
              "      <th>0</th>\n",
              "      <th>1</th>\n",
              "      <th>2</th>\n",
              "      <th>3</th>\n",
              "      <th>4</th>\n",
              "      <th>5</th>\n",
              "      <th>6</th>\n",
              "      <th>7</th>\n",
              "      <th>8</th>\n",
              "      <th>9</th>\n",
              "      <th>10</th>\n",
              "      <th>11</th>\n",
              "      <th>12</th>\n",
              "      <th>13</th>\n",
              "      <th>14</th>\n",
              "      <th>15</th>\n",
              "      <th>16</th>\n",
              "      <th>17</th>\n",
              "      <th>18</th>\n",
              "      <th>19</th>\n",
              "      <th>20</th>\n",
              "      <th>21</th>\n",
              "      <th>22</th>\n",
              "      <th>23</th>\n",
              "      <th>24</th>\n",
              "      <th>25</th>\n",
              "      <th>26</th>\n",
              "      <th>27</th>\n",
              "      <th>28</th>\n",
              "      <th>29</th>\n",
              "      <th>Outcome</th>\n",
              "    </tr>\n",
              "  </thead>\n",
              "  <tbody>\n",
              "    <tr>\n",
              "      <th>0</th>\n",
              "      <td>17.99</td>\n",
              "      <td>10.38</td>\n",
              "      <td>122.80</td>\n",
              "      <td>1001.0</td>\n",
              "      <td>0.11840</td>\n",
              "      <td>0.27760</td>\n",
              "      <td>0.3001</td>\n",
              "      <td>0.14710</td>\n",
              "      <td>0.2419</td>\n",
              "      <td>0.07871</td>\n",
              "      <td>1.0950</td>\n",
              "      <td>0.9053</td>\n",
              "      <td>8.589</td>\n",
              "      <td>153.40</td>\n",
              "      <td>0.006399</td>\n",
              "      <td>0.04904</td>\n",
              "      <td>0.05373</td>\n",
              "      <td>0.01587</td>\n",
              "      <td>0.03003</td>\n",
              "      <td>0.006193</td>\n",
              "      <td>25.38</td>\n",
              "      <td>17.33</td>\n",
              "      <td>184.60</td>\n",
              "      <td>2019.0</td>\n",
              "      <td>0.1622</td>\n",
              "      <td>0.6656</td>\n",
              "      <td>0.7119</td>\n",
              "      <td>0.2654</td>\n",
              "      <td>0.4601</td>\n",
              "      <td>0.11890</td>\n",
              "      <td>0</td>\n",
              "    </tr>\n",
              "    <tr>\n",
              "      <th>1</th>\n",
              "      <td>20.57</td>\n",
              "      <td>17.77</td>\n",
              "      <td>132.90</td>\n",
              "      <td>1326.0</td>\n",
              "      <td>0.08474</td>\n",
              "      <td>0.07864</td>\n",
              "      <td>0.0869</td>\n",
              "      <td>0.07017</td>\n",
              "      <td>0.1812</td>\n",
              "      <td>0.05667</td>\n",
              "      <td>0.5435</td>\n",
              "      <td>0.7339</td>\n",
              "      <td>3.398</td>\n",
              "      <td>74.08</td>\n",
              "      <td>0.005225</td>\n",
              "      <td>0.01308</td>\n",
              "      <td>0.01860</td>\n",
              "      <td>0.01340</td>\n",
              "      <td>0.01389</td>\n",
              "      <td>0.003532</td>\n",
              "      <td>24.99</td>\n",
              "      <td>23.41</td>\n",
              "      <td>158.80</td>\n",
              "      <td>1956.0</td>\n",
              "      <td>0.1238</td>\n",
              "      <td>0.1866</td>\n",
              "      <td>0.2416</td>\n",
              "      <td>0.1860</td>\n",
              "      <td>0.2750</td>\n",
              "      <td>0.08902</td>\n",
              "      <td>0</td>\n",
              "    </tr>\n",
              "    <tr>\n",
              "      <th>2</th>\n",
              "      <td>19.69</td>\n",
              "      <td>21.25</td>\n",
              "      <td>130.00</td>\n",
              "      <td>1203.0</td>\n",
              "      <td>0.10960</td>\n",
              "      <td>0.15990</td>\n",
              "      <td>0.1974</td>\n",
              "      <td>0.12790</td>\n",
              "      <td>0.2069</td>\n",
              "      <td>0.05999</td>\n",
              "      <td>0.7456</td>\n",
              "      <td>0.7869</td>\n",
              "      <td>4.585</td>\n",
              "      <td>94.03</td>\n",
              "      <td>0.006150</td>\n",
              "      <td>0.04006</td>\n",
              "      <td>0.03832</td>\n",
              "      <td>0.02058</td>\n",
              "      <td>0.02250</td>\n",
              "      <td>0.004571</td>\n",
              "      <td>23.57</td>\n",
              "      <td>25.53</td>\n",
              "      <td>152.50</td>\n",
              "      <td>1709.0</td>\n",
              "      <td>0.1444</td>\n",
              "      <td>0.4245</td>\n",
              "      <td>0.4504</td>\n",
              "      <td>0.2430</td>\n",
              "      <td>0.3613</td>\n",
              "      <td>0.08758</td>\n",
              "      <td>0</td>\n",
              "    </tr>\n",
              "    <tr>\n",
              "      <th>3</th>\n",
              "      <td>11.42</td>\n",
              "      <td>20.38</td>\n",
              "      <td>77.58</td>\n",
              "      <td>386.1</td>\n",
              "      <td>0.14250</td>\n",
              "      <td>0.28390</td>\n",
              "      <td>0.2414</td>\n",
              "      <td>0.10520</td>\n",
              "      <td>0.2597</td>\n",
              "      <td>0.09744</td>\n",
              "      <td>0.4956</td>\n",
              "      <td>1.1560</td>\n",
              "      <td>3.445</td>\n",
              "      <td>27.23</td>\n",
              "      <td>0.009110</td>\n",
              "      <td>0.07458</td>\n",
              "      <td>0.05661</td>\n",
              "      <td>0.01867</td>\n",
              "      <td>0.05963</td>\n",
              "      <td>0.009208</td>\n",
              "      <td>14.91</td>\n",
              "      <td>26.50</td>\n",
              "      <td>98.87</td>\n",
              "      <td>567.7</td>\n",
              "      <td>0.2098</td>\n",
              "      <td>0.8663</td>\n",
              "      <td>0.6869</td>\n",
              "      <td>0.2575</td>\n",
              "      <td>0.6638</td>\n",
              "      <td>0.17300</td>\n",
              "      <td>0</td>\n",
              "    </tr>\n",
              "    <tr>\n",
              "      <th>4</th>\n",
              "      <td>20.29</td>\n",
              "      <td>14.34</td>\n",
              "      <td>135.10</td>\n",
              "      <td>1297.0</td>\n",
              "      <td>0.10030</td>\n",
              "      <td>0.13280</td>\n",
              "      <td>0.1980</td>\n",
              "      <td>0.10430</td>\n",
              "      <td>0.1809</td>\n",
              "      <td>0.05883</td>\n",
              "      <td>0.7572</td>\n",
              "      <td>0.7813</td>\n",
              "      <td>5.438</td>\n",
              "      <td>94.44</td>\n",
              "      <td>0.011490</td>\n",
              "      <td>0.02461</td>\n",
              "      <td>0.05688</td>\n",
              "      <td>0.01885</td>\n",
              "      <td>0.01756</td>\n",
              "      <td>0.005115</td>\n",
              "      <td>22.54</td>\n",
              "      <td>16.67</td>\n",
              "      <td>152.20</td>\n",
              "      <td>1575.0</td>\n",
              "      <td>0.1374</td>\n",
              "      <td>0.2050</td>\n",
              "      <td>0.4000</td>\n",
              "      <td>0.1625</td>\n",
              "      <td>0.2364</td>\n",
              "      <td>0.07678</td>\n",
              "      <td>0</td>\n",
              "    </tr>\n",
              "  </tbody>\n",
              "</table>\n",
              "</div>"
            ],
            "text/plain": [
              "       0      1       2       3  ...      27      28       29  Outcome\n",
              "0  17.99  10.38  122.80  1001.0  ...  0.2654  0.4601  0.11890        0\n",
              "1  20.57  17.77  132.90  1326.0  ...  0.1860  0.2750  0.08902        0\n",
              "2  19.69  21.25  130.00  1203.0  ...  0.2430  0.3613  0.08758        0\n",
              "3  11.42  20.38   77.58   386.1  ...  0.2575  0.6638  0.17300        0\n",
              "4  20.29  14.34  135.10  1297.0  ...  0.1625  0.2364  0.07678        0\n",
              "\n",
              "[5 rows x 31 columns]"
            ]
          },
          "metadata": {
            "tags": []
          },
          "execution_count": 68
        }
      ]
    },
    {
      "cell_type": "code",
      "metadata": {
        "colab_type": "code",
        "id": "DWBJRGARpSGu",
        "colab": {
          "base_uri": "https://localhost:8080/",
          "height": 1000
        },
        "outputId": "35dffe87-3058-462a-9a83-32972c92eacd"
      },
      "source": [
        "import seaborn as sns\n",
        "import matplotlib.pyplot as plt\n",
        "corr = Fulldata.corr()\n",
        "fig= plt.subplots(figsize = [50,50])\n",
        "ax = sns.heatmap(\n",
        "    corr, \n",
        "    vmin=-1, vmax=1, center=0,\n",
        "    cmap=sns.diverging_palette(20, 220, n=200),\n",
        "    square=True\n",
        ")\n",
        "ax.set_xticklabels(ax.get_xticklabels(),\n",
        "    rotation=90,\n",
        "    horizontalalignment='right'\n",
        ");\n",
        "plt.show()"
      ],
      "execution_count": 69,
      "outputs": [
        {
          "output_type": "display_data",
          "data": {
            "image/png": "[encoded data removed]",
            "text/plain": [
              "<Figure size 3600x3600 with 2 Axes>"
            ]
          },
          "metadata": {
            "tags": [],
            "needs_background": "light"
          }
        }
      ]
    },
    {
      "cell_type": "markdown",
      "metadata": {
        "colab_type": "text",
        "id": "LgsqSAd9pSGz"
      },
      "source": [
        "From the figure we can see that nearly all variables are  highly correlated with Outcome .So not removing any of them"
      ]
    },
    {
      "cell_type": "code",
      "metadata": {
        "colab_type": "code",
        "id": "dN49WygUpSG0",
        "colab": {
          "base_uri": "https://localhost:8080/",
          "height": 224
        },
        "outputId": "684e45f2-a15b-4c32-d171-063fdab109f4"
      },
      "source": [
        "FilterData=Fulldata.iloc[:,0:30]\n",
        "FilterData.head()"
      ],
      "execution_count": 70,
      "outputs": [
        {
          "output_type": "execute_result",
          "data": {
            "text/html": [
              "<div>\n",
              "<style scoped>\n",
              "    .dataframe tbody tr th:only-of-type {\n",
              "        vertical-align: middle;\n",
              "    }\n",
              "\n",
              "    .dataframe tbody tr th {\n",
              "        vertical-align: top;\n",
              "    }\n",
              "\n",
              "    .dataframe thead th {\n",
              "        text-align: right;\n",
              "    }\n",
              "</style>\n",
              "<table border=\"1\" class=\"dataframe\">\n",
              "  <thead>\n",
              "    <tr style=\"text-align: right;\">\n",
              "      <th></th>\n",
              "      <th>0</th>\n",
              "      <th>1</th>\n",
              "      <th>2</th>\n",
              "      <th>3</th>\n",
              "      <th>4</th>\n",
              "      <th>5</th>\n",
              "      <th>6</th>\n",
              "      <th>7</th>\n",
              "      <th>8</th>\n",
              "      <th>9</th>\n",
              "      <th>10</th>\n",
              "      <th>11</th>\n",
              "      <th>12</th>\n",
              "      <th>13</th>\n",
              "      <th>14</th>\n",
              "      <th>15</th>\n",
              "      <th>16</th>\n",
              "      <th>17</th>\n",
              "      <th>18</th>\n",
              "      <th>19</th>\n",
              "      <th>20</th>\n",
              "      <th>21</th>\n",
              "      <th>22</th>\n",
              "      <th>23</th>\n",
              "      <th>24</th>\n",
              "      <th>25</th>\n",
              "      <th>26</th>\n",
              "      <th>27</th>\n",
              "      <th>28</th>\n",
              "      <th>29</th>\n",
              "    </tr>\n",
              "  </thead>\n",
              "  <tbody>\n",
              "    <tr>\n",
              "      <th>0</th>\n",
              "      <td>17.99</td>\n",
              "      <td>10.38</td>\n",
              "      <td>122.80</td>\n",
              "      <td>1001.0</td>\n",
              "      <td>0.11840</td>\n",
              "      <td>0.27760</td>\n",
              "      <td>0.3001</td>\n",
              "      <td>0.14710</td>\n",
              "      <td>0.2419</td>\n",
              "      <td>0.07871</td>\n",
              "      <td>1.0950</td>\n",
              "      <td>0.9053</td>\n",
              "      <td>8.589</td>\n",
              "      <td>153.40</td>\n",
              "      <td>0.006399</td>\n",
              "      <td>0.04904</td>\n",
              "      <td>0.05373</td>\n",
              "      <td>0.01587</td>\n",
              "      <td>0.03003</td>\n",
              "      <td>0.006193</td>\n",
              "      <td>25.38</td>\n",
              "      <td>17.33</td>\n",
              "      <td>184.60</td>\n",
              "      <td>2019.0</td>\n",
              "      <td>0.1622</td>\n",
              "      <td>0.6656</td>\n",
              "      <td>0.7119</td>\n",
              "      <td>0.2654</td>\n",
              "      <td>0.4601</td>\n",
              "      <td>0.11890</td>\n",
              "    </tr>\n",
              "    <tr>\n",
              "      <th>1</th>\n",
              "      <td>20.57</td>\n",
              "      <td>17.77</td>\n",
              "      <td>132.90</td>\n",
              "      <td>1326.0</td>\n",
              "      <td>0.08474</td>\n",
              "      <td>0.07864</td>\n",
              "      <td>0.0869</td>\n",
              "      <td>0.07017</td>\n",
              "      <td>0.1812</td>\n",
              "      <td>0.05667</td>\n",
              "      <td>0.5435</td>\n",
              "      <td>0.7339</td>\n",
              "      <td>3.398</td>\n",
              "      <td>74.08</td>\n",
              "      <td>0.005225</td>\n",
              "      <td>0.01308</td>\n",
              "      <td>0.01860</td>\n",
              "      <td>0.01340</td>\n",
              "      <td>0.01389</td>\n",
              "      <td>0.003532</td>\n",
              "      <td>24.99</td>\n",
              "      <td>23.41</td>\n",
              "      <td>158.80</td>\n",
              "      <td>1956.0</td>\n",
              "      <td>0.1238</td>\n",
              "      <td>0.1866</td>\n",
              "      <td>0.2416</td>\n",
              "      <td>0.1860</td>\n",
              "      <td>0.2750</td>\n",
              "      <td>0.08902</td>\n",
              "    </tr>\n",
              "    <tr>\n",
              "      <th>2</th>\n",
              "      <td>19.69</td>\n",
              "      <td>21.25</td>\n",
              "      <td>130.00</td>\n",
              "      <td>1203.0</td>\n",
              "      <td>0.10960</td>\n",
              "      <td>0.15990</td>\n",
              "      <td>0.1974</td>\n",
              "      <td>0.12790</td>\n",
              "      <td>0.2069</td>\n",
              "      <td>0.05999</td>\n",
              "      <td>0.7456</td>\n",
              "      <td>0.7869</td>\n",
              "      <td>4.585</td>\n",
              "      <td>94.03</td>\n",
              "      <td>0.006150</td>\n",
              "      <td>0.04006</td>\n",
              "      <td>0.03832</td>\n",
              "      <td>0.02058</td>\n",
              "      <td>0.02250</td>\n",
              "      <td>0.004571</td>\n",
              "      <td>23.57</td>\n",
              "      <td>25.53</td>\n",
              "      <td>152.50</td>\n",
              "      <td>1709.0</td>\n",
              "      <td>0.1444</td>\n",
              "      <td>0.4245</td>\n",
              "      <td>0.4504</td>\n",
              "      <td>0.2430</td>\n",
              "      <td>0.3613</td>\n",
              "      <td>0.08758</td>\n",
              "    </tr>\n",
              "    <tr>\n",
              "      <th>3</th>\n",
              "      <td>11.42</td>\n",
              "      <td>20.38</td>\n",
              "      <td>77.58</td>\n",
              "      <td>386.1</td>\n",
              "      <td>0.14250</td>\n",
              "      <td>0.28390</td>\n",
              "      <td>0.2414</td>\n",
              "      <td>0.10520</td>\n",
              "      <td>0.2597</td>\n",
              "      <td>0.09744</td>\n",
              "      <td>0.4956</td>\n",
              "      <td>1.1560</td>\n",
              "      <td>3.445</td>\n",
              "      <td>27.23</td>\n",
              "      <td>0.009110</td>\n",
              "      <td>0.07458</td>\n",
              "      <td>0.05661</td>\n",
              "      <td>0.01867</td>\n",
              "      <td>0.05963</td>\n",
              "      <td>0.009208</td>\n",
              "      <td>14.91</td>\n",
              "      <td>26.50</td>\n",
              "      <td>98.87</td>\n",
              "      <td>567.7</td>\n",
              "      <td>0.2098</td>\n",
              "      <td>0.8663</td>\n",
              "      <td>0.6869</td>\n",
              "      <td>0.2575</td>\n",
              "      <td>0.6638</td>\n",
              "      <td>0.17300</td>\n",
              "    </tr>\n",
              "    <tr>\n",
              "      <th>4</th>\n",
              "      <td>20.29</td>\n",
              "      <td>14.34</td>\n",
              "      <td>135.10</td>\n",
              "      <td>1297.0</td>\n",
              "      <td>0.10030</td>\n",
              "      <td>0.13280</td>\n",
              "      <td>0.1980</td>\n",
              "      <td>0.10430</td>\n",
              "      <td>0.1809</td>\n",
              "      <td>0.05883</td>\n",
              "      <td>0.7572</td>\n",
              "      <td>0.7813</td>\n",
              "      <td>5.438</td>\n",
              "      <td>94.44</td>\n",
              "      <td>0.011490</td>\n",
              "      <td>0.02461</td>\n",
              "      <td>0.05688</td>\n",
              "      <td>0.01885</td>\n",
              "      <td>0.01756</td>\n",
              "      <td>0.005115</td>\n",
              "      <td>22.54</td>\n",
              "      <td>16.67</td>\n",
              "      <td>152.20</td>\n",
              "      <td>1575.0</td>\n",
              "      <td>0.1374</td>\n",
              "      <td>0.2050</td>\n",
              "      <td>0.4000</td>\n",
              "      <td>0.1625</td>\n",
              "      <td>0.2364</td>\n",
              "      <td>0.07678</td>\n",
              "    </tr>\n",
              "  </tbody>\n",
              "</table>\n",
              "</div>"
            ],
            "text/plain": [
              "      0      1       2       3   ...      26      27      28       29\n",
              "0  17.99  10.38  122.80  1001.0  ...  0.7119  0.2654  0.4601  0.11890\n",
              "1  20.57  17.77  132.90  1326.0  ...  0.2416  0.1860  0.2750  0.08902\n",
              "2  19.69  21.25  130.00  1203.0  ...  0.4504  0.2430  0.3613  0.08758\n",
              "3  11.42  20.38   77.58   386.1  ...  0.6869  0.2575  0.6638  0.17300\n",
              "4  20.29  14.34  135.10  1297.0  ...  0.4000  0.1625  0.2364  0.07678\n",
              "\n",
              "[5 rows x 30 columns]"
            ]
          },
          "metadata": {
            "tags": []
          },
          "execution_count": 70
        }
      ]
    },
    {
      "cell_type": "code",
      "metadata": {
        "colab_type": "code",
        "id": "XiKNh8J1pSG8",
        "colab": {
          "base_uri": "https://localhost:8080/",
          "height": 34
        },
        "outputId": "b56d2cd2-b178-47f3-f326-e0c5c5c1c6db"
      },
      "source": [
        "FilterData.shape"
      ],
      "execution_count": 71,
      "outputs": [
        {
          "output_type": "execute_result",
          "data": {
            "text/plain": [
              "(569, 30)"
            ]
          },
          "metadata": {
            "tags": []
          },
          "execution_count": 71
        }
      ]
    },
    {
      "cell_type": "markdown",
      "metadata": {
        "colab_type": "text",
        "id": "1Y_f8Mz4pSHD"
      },
      "source": [
        "Now variable selection is done ; Now we will do Standardisation of X Variables"
      ]
    },
    {
      "cell_type": "code",
      "metadata": {
        "colab_type": "code",
        "id": "uIt5wV5IpSHE",
        "colab": {}
      },
      "source": [
        "from sklearn.preprocessing import StandardScaler\n",
        "scaler=StandardScaler()\n",
        "X_stand=scaler.fit_transform(FilterData)"
      ],
      "execution_count": 72,
      "outputs": []
    },
    {
      "cell_type": "markdown",
      "metadata": {
        "colab_type": "text",
        "id": "fnzSeJhjpSHM"
      },
      "source": [
        "Label Encoding on Y Values not needed as already in 0 & 1 Encoded Format"
      ]
    },
    {
      "cell_type": "code",
      "metadata": {
        "colab_type": "code",
        "id": "ifB7awzvpSHM",
        "colab": {
          "base_uri": "https://localhost:8080/",
          "height": 204
        },
        "outputId": "c35eef3c-ba01-4cb5-d926-900723623b5c"
      },
      "source": [
        "Y1.head()"
      ],
      "execution_count": 73,
      "outputs": [
        {
          "output_type": "execute_result",
          "data": {
            "text/html": [
              "<div>\n",
              "<style scoped>\n",
              "    .dataframe tbody tr th:only-of-type {\n",
              "        vertical-align: middle;\n",
              "    }\n",
              "\n",
              "    .dataframe tbody tr th {\n",
              "        vertical-align: top;\n",
              "    }\n",
              "\n",
              "    .dataframe thead th {\n",
              "        text-align: right;\n",
              "    }\n",
              "</style>\n",
              "<table border=\"1\" class=\"dataframe\">\n",
              "  <thead>\n",
              "    <tr style=\"text-align: right;\">\n",
              "      <th></th>\n",
              "      <th>Outcome</th>\n",
              "    </tr>\n",
              "  </thead>\n",
              "  <tbody>\n",
              "    <tr>\n",
              "      <th>0</th>\n",
              "      <td>0</td>\n",
              "    </tr>\n",
              "    <tr>\n",
              "      <th>1</th>\n",
              "      <td>0</td>\n",
              "    </tr>\n",
              "    <tr>\n",
              "      <th>2</th>\n",
              "      <td>0</td>\n",
              "    </tr>\n",
              "    <tr>\n",
              "      <th>3</th>\n",
              "      <td>0</td>\n",
              "    </tr>\n",
              "    <tr>\n",
              "      <th>4</th>\n",
              "      <td>0</td>\n",
              "    </tr>\n",
              "  </tbody>\n",
              "</table>\n",
              "</div>"
            ],
            "text/plain": [
              "   Outcome\n",
              "0        0\n",
              "1        0\n",
              "2        0\n",
              "3        0\n",
              "4        0"
            ]
          },
          "metadata": {
            "tags": []
          },
          "execution_count": 73
        }
      ]
    },
    {
      "cell_type": "code",
      "metadata": {
        "id": "0FJ4EdIkviun",
        "colab_type": "code",
        "colab": {}
      },
      "source": [
        "Y=Y1"
      ],
      "execution_count": 74,
      "outputs": []
    },
    {
      "cell_type": "markdown",
      "metadata": {
        "colab_type": "text",
        "id": "4sVUfrqypSHU"
      },
      "source": [
        "Splitting the Data"
      ]
    },
    {
      "cell_type": "code",
      "metadata": {
        "colab_type": "code",
        "id": "teO-qp5IpSHU",
        "colab": {}
      },
      "source": [
        "from sklearn.model_selection import train_test_split\n",
        "seed = 8\n",
        "test_size = 0.2\n",
        "X_train, X_test, y_train, y_test = train_test_split(X_stand, Y, test_size=test_size, random_state=seed)"
      ],
      "execution_count": 75,
      "outputs": []
    },
    {
      "cell_type": "code",
      "metadata": {
        "colab_type": "code",
        "id": "3qZwJX41pSHY",
        "colab": {
          "base_uri": "https://localhost:8080/",
          "height": 238
        },
        "outputId": "dec0afd8-4016-4474-d006-a6b1520c66c3"
      },
      "source": [
        "X_train"
      ],
      "execution_count": 76,
      "outputs": [
        {
          "output_type": "execute_result",
          "data": {
            "text/plain": [
              "array([[ 0.93517589,  1.45915288,  0.92805503, ..., -0.07165977,\n",
              "        -2.09948403, -0.87367565],\n",
              "       [-0.71210645, -0.25822266, -0.64211541, ...,  0.41102337,\n",
              "        -0.38948992,  0.48512019],\n",
              "       [-0.70074588, -0.51652711, -0.75250514, ..., -1.09610524,\n",
              "        -0.2746275 , -0.86979654],\n",
              "       ...,\n",
              "       [-0.2349626 ,  0.5306531 , -0.27717023, ..., -0.89024164,\n",
              "        -0.42669888, -0.96234096],\n",
              "       [ 0.0831333 , -0.63986166,  0.08983445, ...,  0.40797805,\n",
              "         0.24629786,  0.20471616],\n",
              "       [ 1.5514867 ,  1.32883712,  1.47176567, ...,  0.48715636,\n",
              "        -0.98321541, -1.27654864]])"
            ]
          },
          "metadata": {
            "tags": []
          },
          "execution_count": 76
        }
      ]
    },
    {
      "cell_type": "code",
      "metadata": {
        "colab_type": "code",
        "id": "pLogrNZDpSHc",
        "colab": {}
      },
      "source": [
        "y_train=y_train.to_numpy()\n",
        "y_test=y_test.to_numpy()"
      ],
      "execution_count": 77,
      "outputs": []
    },
    {
      "cell_type": "code",
      "metadata": {
        "colab_type": "code",
        "id": "YeGWkl-WpSHg",
        "colab": {
          "base_uri": "https://localhost:8080/",
          "height": 1000
        },
        "outputId": "c3299e73-cc8b-4ae8-9ed4-a0b8d9940aba"
      },
      "source": [
        "y_train"
      ],
      "execution_count": 78,
      "outputs": [
        {
          "output_type": "execute_result",
          "data": {
            "text/plain": [
              "array([[0],\n",
              "       [1],\n",
              "       [1],\n",
              "       [1],\n",
              "       [0],\n",
              "       [0],\n",
              "       [0],\n",
              "       [1],\n",
              "       [1],\n",
              "       [1],\n",
              "       [1],\n",
              "       [1],\n",
              "       [0],\n",
              "       [1],\n",
              "       [1],\n",
              "       [1],\n",
              "       [1],\n",
              "       [0],\n",
              "       [1],\n",
              "       [0],\n",
              "       [1],\n",
              "       [0],\n",
              "       [1],\n",
              "       [1],\n",
              "       [1],\n",
              "       [0],\n",
              "       [0],\n",
              "       [0],\n",
              "       [0],\n",
              "       [1],\n",
              "       [1],\n",
              "       [1],\n",
              "       [1],\n",
              "       [1],\n",
              "       [1],\n",
              "       [1],\n",
              "       [0],\n",
              "       [1],\n",
              "       [1],\n",
              "       [1],\n",
              "       [1],\n",
              "       [1],\n",
              "       [0],\n",
              "       [0],\n",
              "       [0],\n",
              "       [1],\n",
              "       [0],\n",
              "       [1],\n",
              "       [1],\n",
              "       [1],\n",
              "       [0],\n",
              "       [1],\n",
              "       [1],\n",
              "       [1],\n",
              "       [1],\n",
              "       [0],\n",
              "       [0],\n",
              "       [1],\n",
              "       [1],\n",
              "       [1],\n",
              "       [0],\n",
              "       [1],\n",
              "       [1],\n",
              "       [1],\n",
              "       [1],\n",
              "       [0],\n",
              "       [0],\n",
              "       [1],\n",
              "       [0],\n",
              "       [1],\n",
              "       [1],\n",
              "       [0],\n",
              "       [1],\n",
              "       [1],\n",
              "       [0],\n",
              "       [1],\n",
              "       [0],\n",
              "       [0],\n",
              "       [0],\n",
              "       [1],\n",
              "       [0],\n",
              "       [1],\n",
              "       [1],\n",
              "       [1],\n",
              "       [1],\n",
              "       [1],\n",
              "       [1],\n",
              "       [1],\n",
              "       [1],\n",
              "       [0],\n",
              "       [1],\n",
              "       [0],\n",
              "       [0],\n",
              "       [1],\n",
              "       [0],\n",
              "       [1],\n",
              "       [0],\n",
              "       [1],\n",
              "       [0],\n",
              "       [1],\n",
              "       [1],\n",
              "       [1],\n",
              "       [1],\n",
              "       [0],\n",
              "       [1],\n",
              "       [0],\n",
              "       [1],\n",
              "       [0],\n",
              "       [1],\n",
              "       [1],\n",
              "       [0],\n",
              "       [1],\n",
              "       [0],\n",
              "       [0],\n",
              "       [1],\n",
              "       [1],\n",
              "       [1],\n",
              "       [0],\n",
              "       [0],\n",
              "       [1],\n",
              "       [0],\n",
              "       [0],\n",
              "       [1],\n",
              "       [0],\n",
              "       [0],\n",
              "       [1],\n",
              "       [1],\n",
              "       [1],\n",
              "       [1],\n",
              "       [1],\n",
              "       [1],\n",
              "       [0],\n",
              "       [0],\n",
              "       [1],\n",
              "       [0],\n",
              "       [1],\n",
              "       [0],\n",
              "       [1],\n",
              "       [0],\n",
              "       [1],\n",
              "       [1],\n",
              "       [1],\n",
              "       [0],\n",
              "       [1],\n",
              "       [1],\n",
              "       [1],\n",
              "       [1],\n",
              "       [1],\n",
              "       [0],\n",
              "       [1],\n",
              "       [0],\n",
              "       [0],\n",
              "       [0],\n",
              "       [0],\n",
              "       [0],\n",
              "       [1],\n",
              "       [1],\n",
              "       [1],\n",
              "       [0],\n",
              "       [1],\n",
              "       [1],\n",
              "       [1],\n",
              "       [1],\n",
              "       [0],\n",
              "       [1],\n",
              "       [0],\n",
              "       [0],\n",
              "       [1],\n",
              "       [1],\n",
              "       [1],\n",
              "       [0],\n",
              "       [1],\n",
              "       [1],\n",
              "       [0],\n",
              "       [1],\n",
              "       [0],\n",
              "       [1],\n",
              "       [0],\n",
              "       [1],\n",
              "       [1],\n",
              "       [1],\n",
              "       [0],\n",
              "       [1],\n",
              "       [1],\n",
              "       [0],\n",
              "       [1],\n",
              "       [1],\n",
              "       [0],\n",
              "       [1],\n",
              "       [1],\n",
              "       [1],\n",
              "       [1],\n",
              "       [1],\n",
              "       [0],\n",
              "       [0],\n",
              "       [1],\n",
              "       [1],\n",
              "       [1],\n",
              "       [0],\n",
              "       [0],\n",
              "       [1],\n",
              "       [0],\n",
              "       [0],\n",
              "       [0],\n",
              "       [1],\n",
              "       [0],\n",
              "       [1],\n",
              "       [1],\n",
              "       [1],\n",
              "       [1],\n",
              "       [1],\n",
              "       [0],\n",
              "       [0],\n",
              "       [1],\n",
              "       [1],\n",
              "       [1],\n",
              "       [0],\n",
              "       [0],\n",
              "       [0],\n",
              "       [0],\n",
              "       [1],\n",
              "       [0],\n",
              "       [1],\n",
              "       [1],\n",
              "       [0],\n",
              "       [1],\n",
              "       [0],\n",
              "       [0],\n",
              "       [0],\n",
              "       [0],\n",
              "       [1],\n",
              "       [0],\n",
              "       [1],\n",
              "       [0],\n",
              "       [1],\n",
              "       [0],\n",
              "       [1],\n",
              "       [1],\n",
              "       [1],\n",
              "       [1],\n",
              "       [1],\n",
              "       [0],\n",
              "       [1],\n",
              "       [0],\n",
              "       [1],\n",
              "       [1],\n",
              "       [1],\n",
              "       [0],\n",
              "       [0],\n",
              "       [1],\n",
              "       [0],\n",
              "       [1],\n",
              "       [1],\n",
              "       [0],\n",
              "       [1],\n",
              "       [0],\n",
              "       [0],\n",
              "       [1],\n",
              "       [0],\n",
              "       [0],\n",
              "       [1],\n",
              "       [0],\n",
              "       [0],\n",
              "       [1],\n",
              "       [1],\n",
              "       [0],\n",
              "       [1],\n",
              "       [0],\n",
              "       [1],\n",
              "       [1],\n",
              "       [1],\n",
              "       [1],\n",
              "       [0],\n",
              "       [1],\n",
              "       [1],\n",
              "       [0],\n",
              "       [1],\n",
              "       [0],\n",
              "       [1],\n",
              "       [1],\n",
              "       [1],\n",
              "       [1],\n",
              "       [1],\n",
              "       [1],\n",
              "       [1],\n",
              "       [0],\n",
              "       [0],\n",
              "       [0],\n",
              "       [0],\n",
              "       [1],\n",
              "       [0],\n",
              "       [1],\n",
              "       [0],\n",
              "       [0],\n",
              "       [1],\n",
              "       [1],\n",
              "       [1],\n",
              "       [0],\n",
              "       [1],\n",
              "       [1],\n",
              "       [1],\n",
              "       [1],\n",
              "       [0],\n",
              "       [1],\n",
              "       [1],\n",
              "       [1],\n",
              "       [0],\n",
              "       [0],\n",
              "       [0],\n",
              "       [0],\n",
              "       [1],\n",
              "       [1],\n",
              "       [1],\n",
              "       [1],\n",
              "       [1],\n",
              "       [1],\n",
              "       [0],\n",
              "       [1],\n",
              "       [0],\n",
              "       [1],\n",
              "       [0],\n",
              "       [0],\n",
              "       [1],\n",
              "       [1],\n",
              "       [1],\n",
              "       [0],\n",
              "       [0],\n",
              "       [0],\n",
              "       [0],\n",
              "       [1],\n",
              "       [0],\n",
              "       [1],\n",
              "       [0],\n",
              "       [1],\n",
              "       [1],\n",
              "       [1],\n",
              "       [1],\n",
              "       [1],\n",
              "       [1],\n",
              "       [1],\n",
              "       [1],\n",
              "       [0],\n",
              "       [1],\n",
              "       [0],\n",
              "       [0],\n",
              "       [0],\n",
              "       [0],\n",
              "       [1],\n",
              "       [1],\n",
              "       [0],\n",
              "       [1],\n",
              "       [1],\n",
              "       [1],\n",
              "       [1],\n",
              "       [0],\n",
              "       [1],\n",
              "       [0],\n",
              "       [0],\n",
              "       [1],\n",
              "       [1],\n",
              "       [1],\n",
              "       [0],\n",
              "       [0],\n",
              "       [1],\n",
              "       [1],\n",
              "       [1],\n",
              "       [0],\n",
              "       [1],\n",
              "       [1],\n",
              "       [1],\n",
              "       [1],\n",
              "       [1],\n",
              "       [1],\n",
              "       [1],\n",
              "       [0],\n",
              "       [1],\n",
              "       [1],\n",
              "       [1],\n",
              "       [0],\n",
              "       [1],\n",
              "       [0],\n",
              "       [0],\n",
              "       [1],\n",
              "       [1],\n",
              "       [0],\n",
              "       [1],\n",
              "       [1],\n",
              "       [1],\n",
              "       [0],\n",
              "       [1],\n",
              "       [0],\n",
              "       [1],\n",
              "       [1],\n",
              "       [0],\n",
              "       [1],\n",
              "       [1],\n",
              "       [0],\n",
              "       [1],\n",
              "       [1],\n",
              "       [1],\n",
              "       [1],\n",
              "       [0],\n",
              "       [1],\n",
              "       [0],\n",
              "       [1],\n",
              "       [0],\n",
              "       [1],\n",
              "       [1],\n",
              "       [1],\n",
              "       [1],\n",
              "       [1],\n",
              "       [1],\n",
              "       [1],\n",
              "       [1],\n",
              "       [1],\n",
              "       [1],\n",
              "       [0],\n",
              "       [1],\n",
              "       [0],\n",
              "       [1],\n",
              "       [0],\n",
              "       [0],\n",
              "       [1],\n",
              "       [0],\n",
              "       [1],\n",
              "       [1],\n",
              "       [1],\n",
              "       [1],\n",
              "       [1],\n",
              "       [1],\n",
              "       [0],\n",
              "       [1],\n",
              "       [1],\n",
              "       [1],\n",
              "       [1],\n",
              "       [1],\n",
              "       [1],\n",
              "       [1],\n",
              "       [1],\n",
              "       [1],\n",
              "       [1],\n",
              "       [1],\n",
              "       [1],\n",
              "       [1],\n",
              "       [1],\n",
              "       [1],\n",
              "       [1],\n",
              "       [0],\n",
              "       [1],\n",
              "       [1],\n",
              "       [1],\n",
              "       [1],\n",
              "       [1],\n",
              "       [1],\n",
              "       [0]])"
            ]
          },
          "metadata": {
            "tags": []
          },
          "execution_count": 78
        }
      ]
    },
    {
      "cell_type": "code",
      "metadata": {
        "colab_type": "code",
        "id": "UFTHP9u-pSHp",
        "colab": {}
      },
      "source": [
        "import keras\n",
        "from keras import optimizers\n",
        "from keras.callbacks import ModelCheckpoint, EarlyStopping\n",
        "\n",
        "initializer = keras.initializers.glorot_normal()\n",
        "filepath = \"weights-improvement-breast-cancer-{epoch:02d}-{val_accuracy:.2f}.hdf5\"\n",
        "checkpoint = ModelCheckpoint(filepath, monitor = 'val_accuracy', verbose=1, save_best_only=True, mode='max')\n",
        "es = EarlyStopping(monitor='val_loss', mode='min', verbose=1, patience=10, min_delta=0.01, baseline=0.5)\n",
        "\n",
        "callbacks_list = [checkpoint, es]\n",
        "\n",
        "model1=models.Sequential()\n",
        "model1.add(layers.Dense(75,activation=\"tanh\",input_shape=(30,), kernel_initializer=initializer, bias_initializer=initializer))\n",
        "model1.add(layers.Dense(1,activation='sigmoid', kernel_initializer=initializer, bias_initializer=initializer))"
      ],
      "execution_count": 79,
      "outputs": []
    },
    {
      "cell_type": "code",
      "metadata": {
        "colab_type": "code",
        "id": "ep1y1qlPpSHs",
        "colab": {
          "base_uri": "https://localhost:8080/",
          "height": 221
        },
        "outputId": "04a9f04c-fb2e-4add-8c6e-d1d2b8c42b37"
      },
      "source": [
        "model1.summary()"
      ],
      "execution_count": 80,
      "outputs": [
        {
          "output_type": "stream",
          "text": [
            "Model: \"sequential_10\"\n",
            "_________________________________________________________________\n",
            "Layer (type)                 Output Shape              Param #   \n",
            "=================================================================\n",
            "dense_20 (Dense)             (None, 75)                2325      \n",
            "_________________________________________________________________\n",
            "dense_21 (Dense)             (None, 1)                 76        \n",
            "=================================================================\n",
            "Total params: 2,401\n",
            "Trainable params: 2,401\n",
            "Non-trainable params: 0\n",
            "_________________________________________________________________\n"
          ],
          "name": "stdout"
        }
      ]
    },
    {
      "cell_type": "code",
      "metadata": {
        "colab_type": "code",
        "id": "wHvtcJampSHw",
        "colab": {}
      },
      "source": [
        "model1.compile(optimizer=\"adam\",loss='binary_crossentropy',metrics=['accuracy'])"
      ],
      "execution_count": 82,
      "outputs": []
    },
    {
      "cell_type": "code",
      "metadata": {
        "colab_type": "code",
        "id": "Tjz8iFJFpSHz",
        "colab": {
          "base_uri": "https://localhost:8080/",
          "height": 1000
        },
        "outputId": "75963f0c-7e02-4382-c5dc-26d8b89b3300"
      },
      "source": [
        "history=model1.fit(X_train, y_train, epochs=50,batch_size=50, verbose=1, validation_split=0.25,callbacks=callbacks_list)"
      ],
      "execution_count": 83,
      "outputs": [
        {
          "output_type": "stream",
          "text": [
            "Epoch 1/50\n",
            "1/7 [===>..........................] - ETA: 0s - loss: 0.4530 - accuracy: 0.7200\n",
            "Epoch 00001: val_accuracy improved from -inf to 0.87719, saving model to weights-improvement-breast-cancer-01-0.88.hdf5\n",
            "7/7 [==============================] - 0s 21ms/step - loss: 0.4371 - accuracy: 0.7683 - val_loss: 0.2846 - val_accuracy: 0.8772\n",
            "Epoch 2/50\n",
            "1/7 [===>..........................] - ETA: 0s - loss: 0.3231 - accuracy: 0.8600\n",
            "Epoch 00002: val_accuracy improved from 0.87719 to 0.92105, saving model to weights-improvement-breast-cancer-02-0.92.hdf5\n",
            "7/7 [==============================] - 0s 6ms/step - loss: 0.3014 - accuracy: 0.8827 - val_loss: 0.2190 - val_accuracy: 0.9211\n",
            "Epoch 3/50\n",
            "1/7 [===>..........................] - ETA: 0s - loss: 0.2647 - accuracy: 0.8600\n",
            "Epoch 00003: val_accuracy improved from 0.92105 to 0.92982, saving model to weights-improvement-breast-cancer-03-0.93.hdf5\n",
            "7/7 [==============================] - 0s 6ms/step - loss: 0.2341 - accuracy: 0.9091 - val_loss: 0.1855 - val_accuracy: 0.9298\n",
            "Epoch 4/50\n",
            "1/7 [===>..........................] - ETA: 0s - loss: 0.1378 - accuracy: 0.9600\n",
            "Epoch 00004: val_accuracy improved from 0.92982 to 0.94737, saving model to weights-improvement-breast-cancer-04-0.95.hdf5\n",
            "7/7 [==============================] - 0s 6ms/step - loss: 0.1946 - accuracy: 0.9179 - val_loss: 0.1656 - val_accuracy: 0.9474\n",
            "Epoch 5/50\n",
            "1/7 [===>..........................] - ETA: 0s - loss: 0.2560 - accuracy: 0.9000\n",
            "Epoch 00005: val_accuracy improved from 0.94737 to 0.96491, saving model to weights-improvement-breast-cancer-05-0.96.hdf5\n",
            "7/7 [==============================] - 0s 6ms/step - loss: 0.1705 - accuracy: 0.9238 - val_loss: 0.1531 - val_accuracy: 0.9649\n",
            "Epoch 6/50\n",
            "1/7 [===>..........................] - ETA: 0s - loss: 0.2094 - accuracy: 0.9000\n",
            "Epoch 00006: val_accuracy did not improve from 0.96491\n",
            "7/7 [==============================] - 0s 5ms/step - loss: 0.1504 - accuracy: 0.9355 - val_loss: 0.1448 - val_accuracy: 0.9649\n",
            "Epoch 7/50\n",
            "1/7 [===>..........................] - ETA: 0s - loss: 0.1956 - accuracy: 0.9400\n",
            "Epoch 00007: val_accuracy did not improve from 0.96491\n",
            "7/7 [==============================] - 0s 5ms/step - loss: 0.1361 - accuracy: 0.9443 - val_loss: 0.1389 - val_accuracy: 0.9649\n",
            "Epoch 8/50\n",
            "1/7 [===>..........................] - ETA: 0s - loss: 0.0766 - accuracy: 0.9600\n",
            "Epoch 00008: val_accuracy improved from 0.96491 to 0.97368, saving model to weights-improvement-breast-cancer-08-0.97.hdf5\n",
            "7/7 [==============================] - 0s 6ms/step - loss: 0.1237 - accuracy: 0.9531 - val_loss: 0.1337 - val_accuracy: 0.9737\n",
            "Epoch 9/50\n",
            "1/7 [===>..........................] - ETA: 0s - loss: 0.1056 - accuracy: 0.9800\n",
            "Epoch 00009: val_accuracy did not improve from 0.97368\n",
            "7/7 [==============================] - 0s 5ms/step - loss: 0.1145 - accuracy: 0.9589 - val_loss: 0.1304 - val_accuracy: 0.9737\n",
            "Epoch 10/50\n",
            "1/7 [===>..........................] - ETA: 0s - loss: 0.0351 - accuracy: 1.0000\n",
            "Epoch 00010: val_accuracy improved from 0.97368 to 0.98246, saving model to weights-improvement-breast-cancer-10-0.98.hdf5\n",
            "7/7 [==============================] - 0s 7ms/step - loss: 0.1059 - accuracy: 0.9707 - val_loss: 0.1264 - val_accuracy: 0.9825\n",
            "Epoch 11/50\n",
            "1/7 [===>..........................] - ETA: 0s - loss: 0.0961 - accuracy: 0.9600\n",
            "Epoch 00011: val_accuracy did not improve from 0.98246\n",
            "7/7 [==============================] - 0s 5ms/step - loss: 0.0996 - accuracy: 0.9707 - val_loss: 0.1235 - val_accuracy: 0.9825\n",
            "Epoch 12/50\n",
            "1/7 [===>..........................] - ETA: 0s - loss: 0.0731 - accuracy: 0.9800\n",
            "Epoch 00012: val_accuracy did not improve from 0.98246\n",
            "7/7 [==============================] - 0s 5ms/step - loss: 0.0945 - accuracy: 0.9707 - val_loss: 0.1213 - val_accuracy: 0.9825\n",
            "Epoch 13/50\n",
            "1/7 [===>..........................] - ETA: 0s - loss: 0.0703 - accuracy: 0.9800\n",
            "Epoch 00013: val_accuracy did not improve from 0.98246\n",
            "7/7 [==============================] - 0s 5ms/step - loss: 0.0893 - accuracy: 0.9765 - val_loss: 0.1187 - val_accuracy: 0.9737\n",
            "Epoch 14/50\n",
            "1/7 [===>..........................] - ETA: 0s - loss: 0.0388 - accuracy: 0.9800\n",
            "Epoch 00014: val_accuracy did not improve from 0.98246\n",
            "7/7 [==============================] - 0s 5ms/step - loss: 0.0851 - accuracy: 0.9795 - val_loss: 0.1160 - val_accuracy: 0.9737\n",
            "Epoch 15/50\n",
            "1/7 [===>..........................] - ETA: 0s - loss: 0.0596 - accuracy: 1.0000\n",
            "Epoch 00015: val_accuracy did not improve from 0.98246\n",
            "7/7 [==============================] - 0s 5ms/step - loss: 0.0813 - accuracy: 0.9824 - val_loss: 0.1135 - val_accuracy: 0.9825\n",
            "Epoch 16/50\n",
            "1/7 [===>..........................] - ETA: 0s - loss: 0.1173 - accuracy: 0.9600\n",
            "Epoch 00016: val_accuracy did not improve from 0.98246\n",
            "7/7 [==============================] - 0s 5ms/step - loss: 0.0782 - accuracy: 0.9824 - val_loss: 0.1123 - val_accuracy: 0.9825\n",
            "Epoch 17/50\n",
            "1/7 [===>..........................] - ETA: 0s - loss: 0.0382 - accuracy: 1.0000\n",
            "Epoch 00017: val_accuracy did not improve from 0.98246\n",
            "7/7 [==============================] - 0s 5ms/step - loss: 0.0754 - accuracy: 0.9824 - val_loss: 0.1106 - val_accuracy: 0.9825\n",
            "Epoch 18/50\n",
            "1/7 [===>..........................] - ETA: 0s - loss: 0.0378 - accuracy: 1.0000\n",
            "Epoch 00018: val_accuracy did not improve from 0.98246\n",
            "7/7 [==============================] - 0s 5ms/step - loss: 0.0729 - accuracy: 0.9824 - val_loss: 0.1100 - val_accuracy: 0.9825\n",
            "Epoch 19/50\n",
            "1/7 [===>..........................] - ETA: 0s - loss: 0.1289 - accuracy: 0.9600\n",
            "Epoch 00019: val_accuracy did not improve from 0.98246\n",
            "7/7 [==============================] - 0s 5ms/step - loss: 0.0707 - accuracy: 0.9824 - val_loss: 0.1099 - val_accuracy: 0.9825\n",
            "Epoch 20/50\n",
            "1/7 [===>..........................] - ETA: 0s - loss: 0.1038 - accuracy: 0.9600\n",
            "Epoch 00020: val_accuracy did not improve from 0.98246\n",
            "7/7 [==============================] - 0s 5ms/step - loss: 0.0685 - accuracy: 0.9824 - val_loss: 0.1089 - val_accuracy: 0.9825\n",
            "Epoch 21/50\n",
            "1/7 [===>..........................] - ETA: 0s - loss: 0.0664 - accuracy: 1.0000\n",
            "Epoch 00021: val_accuracy did not improve from 0.98246\n",
            "7/7 [==============================] - 0s 5ms/step - loss: 0.0669 - accuracy: 0.9824 - val_loss: 0.1075 - val_accuracy: 0.9825\n",
            "Epoch 22/50\n",
            "1/7 [===>..........................] - ETA: 0s - loss: 0.0251 - accuracy: 1.0000\n",
            "Epoch 00022: val_accuracy did not improve from 0.98246\n",
            "7/7 [==============================] - 0s 6ms/step - loss: 0.0650 - accuracy: 0.9824 - val_loss: 0.1074 - val_accuracy: 0.9825\n",
            "Epoch 23/50\n",
            "1/7 [===>..........................] - ETA: 0s - loss: 0.0915 - accuracy: 0.9800\n",
            "Epoch 00023: val_accuracy did not improve from 0.98246\n",
            "7/7 [==============================] - 0s 5ms/step - loss: 0.0634 - accuracy: 0.9824 - val_loss: 0.1070 - val_accuracy: 0.9825\n",
            "Epoch 24/50\n",
            "1/7 [===>..........................] - ETA: 0s - loss: 0.0442 - accuracy: 1.0000\n",
            "Epoch 00024: val_accuracy did not improve from 0.98246\n",
            "7/7 [==============================] - 0s 5ms/step - loss: 0.0619 - accuracy: 0.9853 - val_loss: 0.1061 - val_accuracy: 0.9825\n",
            "Epoch 00024: early stopping\n"
          ],
          "name": "stdout"
        }
      ]
    },
    {
      "cell_type": "code",
      "metadata": {
        "colab_type": "code",
        "id": "FHt6FOwRpSIA",
        "colab": {
          "base_uri": "https://localhost:8080/",
          "height": 51
        },
        "outputId": "d25892ac-8e62-4789-cae3-c63ba336dcff"
      },
      "source": [
        "models_new=models.Sequential()\n",
        "models_new.add(layers.Dense(75,activation=\"tanh\",input_shape=(30,), kernel_initializer=initializer, bias_initializer=initializer))\n",
        "models_new.add(layers.Dense(1,activation='sigmoid', kernel_initializer=initializer, bias_initializer=initializer))\n",
        "\n",
        "#Using callback to load weights of Train model in the test model \n",
        "models_new.load_weights(\"weights-improvement-breast-cancer-10-0.98.hdf5\")\n",
        "#This depends on storage and jo saved hua hai...so sometimes u need to rename it and chose max accuracy wala only\n",
        "models_new.compile(loss='categorical_crossentropy', optimizer=\"adam\", metrics=['accuracy'])\n",
        "\n",
        "test_loss, test_acc = models_new.evaluate(X_test, y_test, verbose=0)\n",
        "print('Test Accuracy: %.8f' % ( test_acc))\n",
        "print('Test Loss: %.3f' % ( test_loss)) \n",
        "\n",
        "#Can use the below model also\n",
        "#from keras.models import load_model\n",
        "#saved_model = load_model('weights-improvement-covtype-10-0.81.hdf5')\n",
        "#test_loss, test_acc = saved_model.evaluate(X_test, y_test, verbose=0)\n",
        "#print('Test Accuracy: %.8f' % ( test_acc))\n",
        "#print('Test Loss: %.3f' % ( test_loss))"
      ],
      "execution_count": 85,
      "outputs": [
        {
          "output_type": "stream",
          "text": [
            "Test Accuracy: 0.94736844\n",
            "Test Loss: 0.000\n"
          ],
          "name": "stdout"
        }
      ]
    },
    {
      "cell_type": "markdown",
      "metadata": {
        "colab_type": "text",
        "id": "juwDqzKapSIE"
      },
      "source": [
        "**Accuracy coming around ~ 94% in Training,Validation & Testing Dataset (i.e.above 75% Benchmark)**"
      ]
    },
    {
      "cell_type": "markdown",
      "metadata": {
        "colab_type": "text",
        "id": "LZ-fasCHpSIE"
      },
      "source": [
        "Plot of accuracy of Train & Validation"
      ]
    },
    {
      "cell_type": "code",
      "metadata": {
        "colab_type": "code",
        "id": "ZIT6_CprpSIF",
        "colab": {
          "base_uri": "https://localhost:8080/",
          "height": 295
        },
        "outputId": "a8e31733-9f24-4dc2-b213-d557fb254fc6"
      },
      "source": [
        "import matplotlib.pyplot as plt\n",
        "\n",
        "plt.plot(history.history['accuracy'])\n",
        "plt.plot(history.history['val_accuracy'])\n",
        "plt.title(\"Model accuracy\")\n",
        "plt.ylabel(\"Accuracy\")\n",
        "plt.xlabel(\"Epochs/iterations\")\n",
        "plt.legend(['Train','Validation'], loc=\"upper left\")\n",
        "plt.show()"
      ],
      "execution_count": 86,
      "outputs": [
        {
          "output_type": "display_data",
          "data": {
            "image/png": "[encoded data removed]",
            "text/plain": [
              "<Figure size 432x288 with 1 Axes>"
            ]
          },
          "metadata": {
            "tags": [],
            "needs_background": "light"
          }
        }
      ]
    },
    {
      "cell_type": "markdown",
      "metadata": {
        "colab_type": "text",
        "id": "4Gs7sA4YpSIJ"
      },
      "source": [
        "Plot of Loss of Train & Validation"
      ]
    },
    {
      "cell_type": "code",
      "metadata": {
        "colab_type": "code",
        "id": "5fqTgNS3pSIK",
        "colab": {
          "base_uri": "https://localhost:8080/",
          "height": 295
        },
        "outputId": "ae8e563e-ae16-4c7e-d8fe-b53941f883a9"
      },
      "source": [
        "import matplotlib.pyplot as plt\n",
        "\n",
        "plt.plot(history.history['loss'])\n",
        "plt.plot(history.history['val_loss'])\n",
        "plt.title(\"Model LOSS\")\n",
        "plt.ylabel(\"Accuracy\")\n",
        "plt.xlabel(\"Epochs/iterations\")\n",
        "plt.legend(['Train','Validation'], loc=\"upper left\")\n",
        "plt.show()"
      ],
      "execution_count": 87,
      "outputs": [
        {
          "output_type": "display_data",
          "data": {
            "image/png": "[encoded data removed]",
            "text/plain": [
              "<Figure size 432x288 with 1 Axes>"
            ]
          },
          "metadata": {
            "tags": [],
            "needs_background": "light"
          }
        }
      ]
    },
    {
      "cell_type": "markdown",
      "metadata": {
        "colab_type": "text",
        "id": "GF9fwHgYpSIN"
      },
      "source": [
        "**Callback is used here to save the improved model.**\n",
        "\n",
        "**Hyper-Parameter used here are:**\n",
        "\n",
        "1)Made 1st Layer of Tanh Activation and the input dimension = 30 as 30 variables in dataset.\n",
        "\n",
        "2)Added 2nd Layer of Sigmoid that is also the output layer and 1 classes so choose 1 as next layer shape.\n",
        "\n",
        "3)Have added a keras initializer while defining both the Layers.\n",
        "\n",
        "4)Optimizer used:Adam for faster convergence.\n",
        "\n",
        "5)Metrics: Accuracy to find accuray atlast.\n",
        "\n",
        "6)loss='binary_crossentropy' as it has 1 different classes\n",
        "\n",
        "7)Have splited in 60:20:20 model of Train:Validation:Test\n",
        "\n",
        "8)Callbackused are: earlystopping, modelcheckpoint.\n",
        "\n",
        "9)Epoch=50 & Batch_size=50 & Steps_per_epoch=7"
      ]
    },
    {
      "cell_type": "markdown",
      "metadata": {
        "id": "fPv5rCDzxfur",
        "colab_type": "text"
      },
      "source": [
        "#**datasets.load_wine()**"
      ]
    },
    {
      "cell_type": "code",
      "metadata": {
        "colab_type": "code",
        "id": "WPofoxs8x_fM",
        "colab": {
          "base_uri": "https://localhost:8080/",
          "height": 51
        },
        "outputId": "c8bfc140-d14f-4898-8f21-f393e53ea11a"
      },
      "source": [
        "import pandas as pd\n",
        "from sklearn.datasets import load_wine\n",
        "#Dataset Link: https://scikit-learn.org/stable/modules/generated/sklearn.datasets.load_wine.html#sklearn.datasets.load_wine\n",
        "\n",
        "wine = load_wine()\n",
        "x_wine = wine.data\n",
        "y_wine = wine.target\n",
        "X = pd.DataFrame(x_wine)\n",
        "Y = pd.DataFrame(y_wine)\n",
        "print(X.shape)\n",
        "print(Y.shape)"
      ],
      "execution_count": 88,
      "outputs": [
        {
          "output_type": "stream",
          "text": [
            "(178, 13)\n",
            "(178, 1)\n"
          ],
          "name": "stdout"
        }
      ]
    },
    {
      "cell_type": "code",
      "metadata": {
        "colab_type": "code",
        "id": "kMuqMQFnx_fw",
        "colab": {}
      },
      "source": [
        "Y.columns=[\"Outcome\"]"
      ],
      "execution_count": 89,
      "outputs": []
    },
    {
      "cell_type": "code",
      "metadata": {
        "colab_type": "code",
        "id": "yI9T6tHlx_f7",
        "colab": {
          "base_uri": "https://localhost:8080/",
          "height": 204
        },
        "outputId": "07e7e03e-9b41-41c5-ddac-b19f6ba20c1c"
      },
      "source": [
        "Y.head()"
      ],
      "execution_count": 90,
      "outputs": [
        {
          "output_type": "execute_result",
          "data": {
            "text/html": [
              "<div>\n",
              "<style scoped>\n",
              "    .dataframe tbody tr th:only-of-type {\n",
              "        vertical-align: middle;\n",
              "    }\n",
              "\n",
              "    .dataframe tbody tr th {\n",
              "        vertical-align: top;\n",
              "    }\n",
              "\n",
              "    .dataframe thead th {\n",
              "        text-align: right;\n",
              "    }\n",
              "</style>\n",
              "<table border=\"1\" class=\"dataframe\">\n",
              "  <thead>\n",
              "    <tr style=\"text-align: right;\">\n",
              "      <th></th>\n",
              "      <th>Outcome</th>\n",
              "    </tr>\n",
              "  </thead>\n",
              "  <tbody>\n",
              "    <tr>\n",
              "      <th>0</th>\n",
              "      <td>0</td>\n",
              "    </tr>\n",
              "    <tr>\n",
              "      <th>1</th>\n",
              "      <td>0</td>\n",
              "    </tr>\n",
              "    <tr>\n",
              "      <th>2</th>\n",
              "      <td>0</td>\n",
              "    </tr>\n",
              "    <tr>\n",
              "      <th>3</th>\n",
              "      <td>0</td>\n",
              "    </tr>\n",
              "    <tr>\n",
              "      <th>4</th>\n",
              "      <td>0</td>\n",
              "    </tr>\n",
              "  </tbody>\n",
              "</table>\n",
              "</div>"
            ],
            "text/plain": [
              "   Outcome\n",
              "0        0\n",
              "1        0\n",
              "2        0\n",
              "3        0\n",
              "4        0"
            ]
          },
          "metadata": {
            "tags": []
          },
          "execution_count": 90
        }
      ]
    },
    {
      "cell_type": "code",
      "metadata": {
        "colab_type": "code",
        "id": "6Bwi69iqx_gI",
        "colab": {
          "base_uri": "https://localhost:8080/",
          "height": 34
        },
        "outputId": "a28cbb43-80d5-4d26-aa6b-3a9ae3e13cb7"
      },
      "source": [
        "Y['Outcome'].nunique()"
      ],
      "execution_count": 91,
      "outputs": [
        {
          "output_type": "execute_result",
          "data": {
            "text/plain": [
              "3"
            ]
          },
          "metadata": {
            "tags": []
          },
          "execution_count": 91
        }
      ]
    },
    {
      "cell_type": "code",
      "metadata": {
        "colab_type": "code",
        "id": "irUDqIRnx_gQ",
        "colab": {
          "base_uri": "https://localhost:8080/",
          "height": 255
        },
        "outputId": "74b23ade-1041-4bcc-8d2d-990d42487493"
      },
      "source": [
        "X.isnull().sum()"
      ],
      "execution_count": 92,
      "outputs": [
        {
          "output_type": "execute_result",
          "data": {
            "text/plain": [
              "0     0\n",
              "1     0\n",
              "2     0\n",
              "3     0\n",
              "4     0\n",
              "5     0\n",
              "6     0\n",
              "7     0\n",
              "8     0\n",
              "9     0\n",
              "10    0\n",
              "11    0\n",
              "12    0\n",
              "dtype: int64"
            ]
          },
          "metadata": {
            "tags": []
          },
          "execution_count": 92
        }
      ]
    },
    {
      "cell_type": "markdown",
      "metadata": {
        "colab_type": "text",
        "id": "soSc1J90x_gd"
      },
      "source": [
        "Hence No Null Values in the Dataset"
      ]
    },
    {
      "cell_type": "code",
      "metadata": {
        "colab_type": "code",
        "id": "sTYDSGBNx_gg",
        "colab": {}
      },
      "source": [
        "Y1=pd.DataFrame(Y.copy())"
      ],
      "execution_count": 93,
      "outputs": []
    },
    {
      "cell_type": "code",
      "metadata": {
        "colab_type": "code",
        "id": "yKgipoF8x_gs",
        "colab": {
          "base_uri": "https://localhost:8080/",
          "height": 204
        },
        "outputId": "1e3c7530-3ad1-42dd-d931-50ecaccd97e4"
      },
      "source": [
        "Fulldata = pd.concat([X,Y1], axis=1)\n",
        "Fulldata.head()"
      ],
      "execution_count": 94,
      "outputs": [
        {
          "output_type": "execute_result",
          "data": {
            "text/html": [
              "<div>\n",
              "<style scoped>\n",
              "    .dataframe tbody tr th:only-of-type {\n",
              "        vertical-align: middle;\n",
              "    }\n",
              "\n",
              "    .dataframe tbody tr th {\n",
              "        vertical-align: top;\n",
              "    }\n",
              "\n",
              "    .dataframe thead th {\n",
              "        text-align: right;\n",
              "    }\n",
              "</style>\n",
              "<table border=\"1\" class=\"dataframe\">\n",
              "  <thead>\n",
              "    <tr style=\"text-align: right;\">\n",
              "      <th></th>\n",
              "      <th>0</th>\n",
              "      <th>1</th>\n",
              "      <th>2</th>\n",
              "      <th>3</th>\n",
              "      <th>4</th>\n",
              "      <th>5</th>\n",
              "      <th>6</th>\n",
              "      <th>7</th>\n",
              "      <th>8</th>\n",
              "      <th>9</th>\n",
              "      <th>10</th>\n",
              "      <th>11</th>\n",
              "      <th>12</th>\n",
              "      <th>Outcome</th>\n",
              "    </tr>\n",
              "  </thead>\n",
              "  <tbody>\n",
              "    <tr>\n",
              "      <th>0</th>\n",
              "      <td>14.23</td>\n",
              "      <td>1.71</td>\n",
              "      <td>2.43</td>\n",
              "      <td>15.6</td>\n",
              "      <td>127.0</td>\n",
              "      <td>2.80</td>\n",
              "      <td>3.06</td>\n",
              "      <td>0.28</td>\n",
              "      <td>2.29</td>\n",
              "      <td>5.64</td>\n",
              "      <td>1.04</td>\n",
              "      <td>3.92</td>\n",
              "      <td>1065.0</td>\n",
              "      <td>0</td>\n",
              "    </tr>\n",
              "    <tr>\n",
              "      <th>1</th>\n",
              "      <td>13.20</td>\n",
              "      <td>1.78</td>\n",
              "      <td>2.14</td>\n",
              "      <td>11.2</td>\n",
              "      <td>100.0</td>\n",
              "      <td>2.65</td>\n",
              "      <td>2.76</td>\n",
              "      <td>0.26</td>\n",
              "      <td>1.28</td>\n",
              "      <td>4.38</td>\n",
              "      <td>1.05</td>\n",
              "      <td>3.40</td>\n",
              "      <td>1050.0</td>\n",
              "      <td>0</td>\n",
              "    </tr>\n",
              "    <tr>\n",
              "      <th>2</th>\n",
              "      <td>13.16</td>\n",
              "      <td>2.36</td>\n",
              "      <td>2.67</td>\n",
              "      <td>18.6</td>\n",
              "      <td>101.0</td>\n",
              "      <td>2.80</td>\n",
              "      <td>3.24</td>\n",
              "      <td>0.30</td>\n",
              "      <td>2.81</td>\n",
              "      <td>5.68</td>\n",
              "      <td>1.03</td>\n",
              "      <td>3.17</td>\n",
              "      <td>1185.0</td>\n",
              "      <td>0</td>\n",
              "    </tr>\n",
              "    <tr>\n",
              "      <th>3</th>\n",
              "      <td>14.37</td>\n",
              "      <td>1.95</td>\n",
              "      <td>2.50</td>\n",
              "      <td>16.8</td>\n",
              "      <td>113.0</td>\n",
              "      <td>3.85</td>\n",
              "      <td>3.49</td>\n",
              "      <td>0.24</td>\n",
              "      <td>2.18</td>\n",
              "      <td>7.80</td>\n",
              "      <td>0.86</td>\n",
              "      <td>3.45</td>\n",
              "      <td>1480.0</td>\n",
              "      <td>0</td>\n",
              "    </tr>\n",
              "    <tr>\n",
              "      <th>4</th>\n",
              "      <td>13.24</td>\n",
              "      <td>2.59</td>\n",
              "      <td>2.87</td>\n",
              "      <td>21.0</td>\n",
              "      <td>118.0</td>\n",
              "      <td>2.80</td>\n",
              "      <td>2.69</td>\n",
              "      <td>0.39</td>\n",
              "      <td>1.82</td>\n",
              "      <td>4.32</td>\n",
              "      <td>1.04</td>\n",
              "      <td>2.93</td>\n",
              "      <td>735.0</td>\n",
              "      <td>0</td>\n",
              "    </tr>\n",
              "  </tbody>\n",
              "</table>\n",
              "</div>"
            ],
            "text/plain": [
              "       0     1     2     3      4  ...     9    10    11      12  Outcome\n",
              "0  14.23  1.71  2.43  15.6  127.0  ...  5.64  1.04  3.92  1065.0        0\n",
              "1  13.20  1.78  2.14  11.2  100.0  ...  4.38  1.05  3.40  1050.0        0\n",
              "2  13.16  2.36  2.67  18.6  101.0  ...  5.68  1.03  3.17  1185.0        0\n",
              "3  14.37  1.95  2.50  16.8  113.0  ...  7.80  0.86  3.45  1480.0        0\n",
              "4  13.24  2.59  2.87  21.0  118.0  ...  4.32  1.04  2.93   735.0        0\n",
              "\n",
              "[5 rows x 14 columns]"
            ]
          },
          "metadata": {
            "tags": []
          },
          "execution_count": 94
        }
      ]
    },
    {
      "cell_type": "code",
      "metadata": {
        "colab_type": "code",
        "id": "Ev_aYvmFx_g0",
        "colab": {
          "base_uri": "https://localhost:8080/",
          "height": 584
        },
        "outputId": "29f52be3-9e77-4d94-8399-53d7207ac0a5"
      },
      "source": [
        "import seaborn as sns\n",
        "import matplotlib.pyplot as plt\n",
        "corr = Fulldata.corr()\n",
        "fig= plt.subplots(figsize = [10,10])\n",
        "ax = sns.heatmap(\n",
        "    corr, \n",
        "    vmin=-1, vmax=1, center=0,\n",
        "    cmap=sns.diverging_palette(20, 220, n=200),\n",
        "    square=True\n",
        ")\n",
        "ax.set_xticklabels(ax.get_xticklabels(),\n",
        "    rotation=90,\n",
        "    horizontalalignment='right'\n",
        ");\n",
        "plt.show()"
      ],
      "execution_count": 95,
      "outputs": [
        {
          "output_type": "display_data",
          "data": {
            "image/png": "[encoded data removed]",
            "text/plain": [
              "<Figure size 720x720 with 2 Axes>"
            ]
          },
          "metadata": {
            "tags": [],
            "needs_background": "light"
          }
        }
      ]
    },
    {
      "cell_type": "markdown",
      "metadata": {
        "colab_type": "text",
        "id": "0vBHeQCvx_g8"
      },
      "source": [
        "From the figure we can see that nearly all the variables are highly correlated with Outcome  "
      ]
    },
    {
      "cell_type": "code",
      "metadata": {
        "colab_type": "code",
        "id": "a2JVZwCPx_g8",
        "colab": {
          "base_uri": "https://localhost:8080/",
          "height": 204
        },
        "outputId": "7e7b51fd-5e76-4143-fa93-ed48ac0a1144"
      },
      "source": [
        "FilterData=Fulldata.iloc[:,0:13]\n",
        "FilterData.head()"
      ],
      "execution_count": 96,
      "outputs": [
        {
          "output_type": "execute_result",
          "data": {
            "text/html": [
              "<div>\n",
              "<style scoped>\n",
              "    .dataframe tbody tr th:only-of-type {\n",
              "        vertical-align: middle;\n",
              "    }\n",
              "\n",
              "    .dataframe tbody tr th {\n",
              "        vertical-align: top;\n",
              "    }\n",
              "\n",
              "    .dataframe thead th {\n",
              "        text-align: right;\n",
              "    }\n",
              "</style>\n",
              "<table border=\"1\" class=\"dataframe\">\n",
              "  <thead>\n",
              "    <tr style=\"text-align: right;\">\n",
              "      <th></th>\n",
              "      <th>0</th>\n",
              "      <th>1</th>\n",
              "      <th>2</th>\n",
              "      <th>3</th>\n",
              "      <th>4</th>\n",
              "      <th>5</th>\n",
              "      <th>6</th>\n",
              "      <th>7</th>\n",
              "      <th>8</th>\n",
              "      <th>9</th>\n",
              "      <th>10</th>\n",
              "      <th>11</th>\n",
              "      <th>12</th>\n",
              "    </tr>\n",
              "  </thead>\n",
              "  <tbody>\n",
              "    <tr>\n",
              "      <th>0</th>\n",
              "      <td>14.23</td>\n",
              "      <td>1.71</td>\n",
              "      <td>2.43</td>\n",
              "      <td>15.6</td>\n",
              "      <td>127.0</td>\n",
              "      <td>2.80</td>\n",
              "      <td>3.06</td>\n",
              "      <td>0.28</td>\n",
              "      <td>2.29</td>\n",
              "      <td>5.64</td>\n",
              "      <td>1.04</td>\n",
              "      <td>3.92</td>\n",
              "      <td>1065.0</td>\n",
              "    </tr>\n",
              "    <tr>\n",
              "      <th>1</th>\n",
              "      <td>13.20</td>\n",
              "      <td>1.78</td>\n",
              "      <td>2.14</td>\n",
              "      <td>11.2</td>\n",
              "      <td>100.0</td>\n",
              "      <td>2.65</td>\n",
              "      <td>2.76</td>\n",
              "      <td>0.26</td>\n",
              "      <td>1.28</td>\n",
              "      <td>4.38</td>\n",
              "      <td>1.05</td>\n",
              "      <td>3.40</td>\n",
              "      <td>1050.0</td>\n",
              "    </tr>\n",
              "    <tr>\n",
              "      <th>2</th>\n",
              "      <td>13.16</td>\n",
              "      <td>2.36</td>\n",
              "      <td>2.67</td>\n",
              "      <td>18.6</td>\n",
              "      <td>101.0</td>\n",
              "      <td>2.80</td>\n",
              "      <td>3.24</td>\n",
              "      <td>0.30</td>\n",
              "      <td>2.81</td>\n",
              "      <td>5.68</td>\n",
              "      <td>1.03</td>\n",
              "      <td>3.17</td>\n",
              "      <td>1185.0</td>\n",
              "    </tr>\n",
              "    <tr>\n",
              "      <th>3</th>\n",
              "      <td>14.37</td>\n",
              "      <td>1.95</td>\n",
              "      <td>2.50</td>\n",
              "      <td>16.8</td>\n",
              "      <td>113.0</td>\n",
              "      <td>3.85</td>\n",
              "      <td>3.49</td>\n",
              "      <td>0.24</td>\n",
              "      <td>2.18</td>\n",
              "      <td>7.80</td>\n",
              "      <td>0.86</td>\n",
              "      <td>3.45</td>\n",
              "      <td>1480.0</td>\n",
              "    </tr>\n",
              "    <tr>\n",
              "      <th>4</th>\n",
              "      <td>13.24</td>\n",
              "      <td>2.59</td>\n",
              "      <td>2.87</td>\n",
              "      <td>21.0</td>\n",
              "      <td>118.0</td>\n",
              "      <td>2.80</td>\n",
              "      <td>2.69</td>\n",
              "      <td>0.39</td>\n",
              "      <td>1.82</td>\n",
              "      <td>4.32</td>\n",
              "      <td>1.04</td>\n",
              "      <td>2.93</td>\n",
              "      <td>735.0</td>\n",
              "    </tr>\n",
              "  </tbody>\n",
              "</table>\n",
              "</div>"
            ],
            "text/plain": [
              "      0     1     2     3      4     5   ...    7     8     9     10    11      12\n",
              "0  14.23  1.71  2.43  15.6  127.0  2.80  ...  0.28  2.29  5.64  1.04  3.92  1065.0\n",
              "1  13.20  1.78  2.14  11.2  100.0  2.65  ...  0.26  1.28  4.38  1.05  3.40  1050.0\n",
              "2  13.16  2.36  2.67  18.6  101.0  2.80  ...  0.30  2.81  5.68  1.03  3.17  1185.0\n",
              "3  14.37  1.95  2.50  16.8  113.0  3.85  ...  0.24  2.18  7.80  0.86  3.45  1480.0\n",
              "4  13.24  2.59  2.87  21.0  118.0  2.80  ...  0.39  1.82  4.32  1.04  2.93   735.0\n",
              "\n",
              "[5 rows x 13 columns]"
            ]
          },
          "metadata": {
            "tags": []
          },
          "execution_count": 96
        }
      ]
    },
    {
      "cell_type": "code",
      "metadata": {
        "colab_type": "code",
        "id": "BX82A2wyx_hB",
        "colab": {
          "base_uri": "https://localhost:8080/",
          "height": 34
        },
        "outputId": "cb1512fd-d6c8-403e-94ba-bb6a47b624f3"
      },
      "source": [
        "FilterData.shape"
      ],
      "execution_count": 97,
      "outputs": [
        {
          "output_type": "execute_result",
          "data": {
            "text/plain": [
              "(178, 13)"
            ]
          },
          "metadata": {
            "tags": []
          },
          "execution_count": 97
        }
      ]
    },
    {
      "cell_type": "markdown",
      "metadata": {
        "colab_type": "text",
        "id": "_lmTOq1Vx_hG"
      },
      "source": [
        "Now variable selection is done ; Now we will do Standardisation of X Variables"
      ]
    },
    {
      "cell_type": "code",
      "metadata": {
        "colab_type": "code",
        "id": "MrHIfBw1x_hH",
        "colab": {}
      },
      "source": [
        "from sklearn.preprocessing import StandardScaler\n",
        "scaler=StandardScaler()\n",
        "X_stand=scaler.fit_transform(FilterData)"
      ],
      "execution_count": 98,
      "outputs": []
    },
    {
      "cell_type": "markdown",
      "metadata": {
        "colab_type": "text",
        "id": "EtSfQXShx_hX"
      },
      "source": [
        "Label Enncoding Y Values "
      ]
    },
    {
      "cell_type": "code",
      "metadata": {
        "colab_type": "code",
        "id": "Suvk8LPPx_hY",
        "colab": {
          "base_uri": "https://localhost:8080/",
          "height": 204
        },
        "outputId": "833b6f58-d06d-4aad-e8e2-ac81e7216d7b"
      },
      "source": [
        "Y1.head()"
      ],
      "execution_count": 99,
      "outputs": [
        {
          "output_type": "execute_result",
          "data": {
            "text/html": [
              "<div>\n",
              "<style scoped>\n",
              "    .dataframe tbody tr th:only-of-type {\n",
              "        vertical-align: middle;\n",
              "    }\n",
              "\n",
              "    .dataframe tbody tr th {\n",
              "        vertical-align: top;\n",
              "    }\n",
              "\n",
              "    .dataframe thead th {\n",
              "        text-align: right;\n",
              "    }\n",
              "</style>\n",
              "<table border=\"1\" class=\"dataframe\">\n",
              "  <thead>\n",
              "    <tr style=\"text-align: right;\">\n",
              "      <th></th>\n",
              "      <th>Outcome</th>\n",
              "    </tr>\n",
              "  </thead>\n",
              "  <tbody>\n",
              "    <tr>\n",
              "      <th>0</th>\n",
              "      <td>0</td>\n",
              "    </tr>\n",
              "    <tr>\n",
              "      <th>1</th>\n",
              "      <td>0</td>\n",
              "    </tr>\n",
              "    <tr>\n",
              "      <th>2</th>\n",
              "      <td>0</td>\n",
              "    </tr>\n",
              "    <tr>\n",
              "      <th>3</th>\n",
              "      <td>0</td>\n",
              "    </tr>\n",
              "    <tr>\n",
              "      <th>4</th>\n",
              "      <td>0</td>\n",
              "    </tr>\n",
              "  </tbody>\n",
              "</table>\n",
              "</div>"
            ],
            "text/plain": [
              "   Outcome\n",
              "0        0\n",
              "1        0\n",
              "2        0\n",
              "3        0\n",
              "4        0"
            ]
          },
          "metadata": {
            "tags": []
          },
          "execution_count": 99
        }
      ]
    },
    {
      "cell_type": "code",
      "metadata": {
        "colab_type": "code",
        "id": "0tBr2K13x_hc",
        "colab": {
          "base_uri": "https://localhost:8080/",
          "height": 419
        },
        "outputId": "1a2e418b-0779-4138-91f1-ae3b26471ac7"
      },
      "source": [
        "Y = pd.get_dummies(Y1['Outcome'])\n",
        "Y"
      ],
      "execution_count": 100,
      "outputs": [
        {
          "output_type": "execute_result",
          "data": {
            "text/html": [
              "<div>\n",
              "<style scoped>\n",
              "    .dataframe tbody tr th:only-of-type {\n",
              "        vertical-align: middle;\n",
              "    }\n",
              "\n",
              "    .dataframe tbody tr th {\n",
              "        vertical-align: top;\n",
              "    }\n",
              "\n",
              "    .dataframe thead th {\n",
              "        text-align: right;\n",
              "    }\n",
              "</style>\n",
              "<table border=\"1\" class=\"dataframe\">\n",
              "  <thead>\n",
              "    <tr style=\"text-align: right;\">\n",
              "      <th></th>\n",
              "      <th>0</th>\n",
              "      <th>1</th>\n",
              "      <th>2</th>\n",
              "    </tr>\n",
              "  </thead>\n",
              "  <tbody>\n",
              "    <tr>\n",
              "      <th>0</th>\n",
              "      <td>1</td>\n",
              "      <td>0</td>\n",
              "      <td>0</td>\n",
              "    </tr>\n",
              "    <tr>\n",
              "      <th>1</th>\n",
              "      <td>1</td>\n",
              "      <td>0</td>\n",
              "      <td>0</td>\n",
              "    </tr>\n",
              "    <tr>\n",
              "      <th>2</th>\n",
              "      <td>1</td>\n",
              "      <td>0</td>\n",
              "      <td>0</td>\n",
              "    </tr>\n",
              "    <tr>\n",
              "      <th>3</th>\n",
              "      <td>1</td>\n",
              "      <td>0</td>\n",
              "      <td>0</td>\n",
              "    </tr>\n",
              "    <tr>\n",
              "      <th>4</th>\n",
              "      <td>1</td>\n",
              "      <td>0</td>\n",
              "      <td>0</td>\n",
              "    </tr>\n",
              "    <tr>\n",
              "      <th>...</th>\n",
              "      <td>...</td>\n",
              "      <td>...</td>\n",
              "      <td>...</td>\n",
              "    </tr>\n",
              "    <tr>\n",
              "      <th>173</th>\n",
              "      <td>0</td>\n",
              "      <td>0</td>\n",
              "      <td>1</td>\n",
              "    </tr>\n",
              "    <tr>\n",
              "      <th>174</th>\n",
              "      <td>0</td>\n",
              "      <td>0</td>\n",
              "      <td>1</td>\n",
              "    </tr>\n",
              "    <tr>\n",
              "      <th>175</th>\n",
              "      <td>0</td>\n",
              "      <td>0</td>\n",
              "      <td>1</td>\n",
              "    </tr>\n",
              "    <tr>\n",
              "      <th>176</th>\n",
              "      <td>0</td>\n",
              "      <td>0</td>\n",
              "      <td>1</td>\n",
              "    </tr>\n",
              "    <tr>\n",
              "      <th>177</th>\n",
              "      <td>0</td>\n",
              "      <td>0</td>\n",
              "      <td>1</td>\n",
              "    </tr>\n",
              "  </tbody>\n",
              "</table>\n",
              "<p>178 rows × 3 columns</p>\n",
              "</div>"
            ],
            "text/plain": [
              "     0  1  2\n",
              "0    1  0  0\n",
              "1    1  0  0\n",
              "2    1  0  0\n",
              "3    1  0  0\n",
              "4    1  0  0\n",
              "..  .. .. ..\n",
              "173  0  0  1\n",
              "174  0  0  1\n",
              "175  0  0  1\n",
              "176  0  0  1\n",
              "177  0  0  1\n",
              "\n",
              "[178 rows x 3 columns]"
            ]
          },
          "metadata": {
            "tags": []
          },
          "execution_count": 100
        }
      ]
    },
    {
      "cell_type": "markdown",
      "metadata": {
        "colab_type": "text",
        "id": "dmFn3MCsx_hh"
      },
      "source": [
        "Splitting the Data"
      ]
    },
    {
      "cell_type": "code",
      "metadata": {
        "colab_type": "code",
        "id": "2Nwyo89yx_hi",
        "colab": {}
      },
      "source": [
        "from sklearn.model_selection import train_test_split\n",
        "seed = 8\n",
        "test_size = 0.2\n",
        "X_train, X_test, y_train, y_test = train_test_split(X_stand, Y, test_size=test_size, random_state=seed)"
      ],
      "execution_count": 101,
      "outputs": []
    },
    {
      "cell_type": "code",
      "metadata": {
        "colab_type": "code",
        "id": "anc1IwLSx_hm",
        "colab": {
          "base_uri": "https://localhost:8080/",
          "height": 238
        },
        "outputId": "e531eae7-c3a2-4e13-89e7-90e8578f0160"
      },
      "source": [
        "X_train"
      ],
      "execution_count": 102,
      "outputs": [
        {
          "output_type": "execute_result",
          "data": {
            "text/plain": [
              "array([[ 0.06099988, -0.54429654, -1.19353041, ...,  0.71316437,\n",
              "         0.42135232,  1.28369089],\n",
              "       [ 0.90098006, -0.75075906,  1.21899459, ...,  1.02027808,\n",
              "         0.13886376,  1.71359755],\n",
              "       [-1.23602833,  0.98173081, -1.33974405, ..., -0.12042998,\n",
              "         0.61909432, -0.58242244],\n",
              "       ...,\n",
              "       [-0.37134286,  1.08945039, -0.02382132, ..., -0.77853079,\n",
              "        -1.86680504, -0.46778066],\n",
              "       [-0.71721705,  0.19178724, -0.352802  , ..., -0.42754369,\n",
              "         0.97220502, -1.37536138],\n",
              "       [-1.43367073, -1.29833358,  0.78035368, ..., -0.7346574 ,\n",
              "         0.6614676 , -0.72254016]])"
            ]
          },
          "metadata": {
            "tags": []
          },
          "execution_count": 102
        }
      ]
    },
    {
      "cell_type": "code",
      "metadata": {
        "colab_type": "code",
        "id": "tDWuz0sux_hr",
        "colab": {}
      },
      "source": [
        "y_train=y_train.to_numpy()\n",
        "y_test=y_test.to_numpy()"
      ],
      "execution_count": 103,
      "outputs": []
    },
    {
      "cell_type": "code",
      "metadata": {
        "colab_type": "code",
        "id": "spbHH6UGx_hu",
        "colab": {
          "base_uri": "https://localhost:8080/",
          "height": 1000
        },
        "outputId": "6b285767-88c0-49b0-faac-eca930eed4b8"
      },
      "source": [
        "y_train"
      ],
      "execution_count": 104,
      "outputs": [
        {
          "output_type": "execute_result",
          "data": {
            "text/plain": [
              "array([[1, 0, 0],\n",
              "       [1, 0, 0],\n",
              "       [0, 1, 0],\n",
              "       [0, 0, 1],\n",
              "       [1, 0, 0],\n",
              "       [0, 1, 0],\n",
              "       [0, 0, 1],\n",
              "       [0, 0, 1],\n",
              "       [0, 0, 1],\n",
              "       [0, 1, 0],\n",
              "       [0, 1, 0],\n",
              "       [0, 0, 1],\n",
              "       [0, 1, 0],\n",
              "       [0, 1, 0],\n",
              "       [0, 1, 0],\n",
              "       [0, 1, 0],\n",
              "       [0, 1, 0],\n",
              "       [1, 0, 0],\n",
              "       [1, 0, 0],\n",
              "       [1, 0, 0],\n",
              "       [1, 0, 0],\n",
              "       [1, 0, 0],\n",
              "       [1, 0, 0],\n",
              "       [0, 0, 1],\n",
              "       [0, 1, 0],\n",
              "       [1, 0, 0],\n",
              "       [1, 0, 0],\n",
              "       [1, 0, 0],\n",
              "       [0, 0, 1],\n",
              "       [1, 0, 0],\n",
              "       [1, 0, 0],\n",
              "       [0, 1, 0],\n",
              "       [0, 1, 0],\n",
              "       [0, 1, 0],\n",
              "       [1, 0, 0],\n",
              "       [0, 1, 0],\n",
              "       [1, 0, 0],\n",
              "       [0, 1, 0],\n",
              "       [0, 1, 0],\n",
              "       [0, 1, 0],\n",
              "       [1, 0, 0],\n",
              "       [1, 0, 0],\n",
              "       [0, 0, 1],\n",
              "       [0, 0, 1],\n",
              "       [0, 0, 1],\n",
              "       [0, 0, 1],\n",
              "       [0, 1, 0],\n",
              "       [0, 1, 0],\n",
              "       [0, 1, 0],\n",
              "       [1, 0, 0],\n",
              "       [0, 1, 0],\n",
              "       [0, 0, 1],\n",
              "       [0, 1, 0],\n",
              "       [1, 0, 0],\n",
              "       [0, 0, 1],\n",
              "       [0, 1, 0],\n",
              "       [1, 0, 0],\n",
              "       [0, 1, 0],\n",
              "       [0, 0, 1],\n",
              "       [0, 1, 0],\n",
              "       [1, 0, 0],\n",
              "       [0, 1, 0],\n",
              "       [1, 0, 0],\n",
              "       [0, 1, 0],\n",
              "       [0, 0, 1],\n",
              "       [0, 0, 1],\n",
              "       [1, 0, 0],\n",
              "       [1, 0, 0],\n",
              "       [0, 0, 1],\n",
              "       [0, 0, 1],\n",
              "       [0, 0, 1],\n",
              "       [1, 0, 0],\n",
              "       [0, 0, 1],\n",
              "       [0, 1, 0],\n",
              "       [1, 0, 0],\n",
              "       [0, 1, 0],\n",
              "       [1, 0, 0],\n",
              "       [0, 0, 1],\n",
              "       [1, 0, 0],\n",
              "       [1, 0, 0],\n",
              "       [0, 0, 1],\n",
              "       [1, 0, 0],\n",
              "       [1, 0, 0],\n",
              "       [0, 1, 0],\n",
              "       [0, 0, 1],\n",
              "       [0, 0, 1],\n",
              "       [1, 0, 0],\n",
              "       [0, 1, 0],\n",
              "       [0, 0, 1],\n",
              "       [0, 0, 1],\n",
              "       [0, 0, 1],\n",
              "       [0, 1, 0],\n",
              "       [0, 1, 0],\n",
              "       [0, 1, 0],\n",
              "       [1, 0, 0],\n",
              "       [1, 0, 0],\n",
              "       [0, 1, 0],\n",
              "       [1, 0, 0],\n",
              "       [1, 0, 0],\n",
              "       [1, 0, 0],\n",
              "       [1, 0, 0],\n",
              "       [1, 0, 0],\n",
              "       [0, 1, 0],\n",
              "       [0, 1, 0],\n",
              "       [0, 1, 0],\n",
              "       [1, 0, 0],\n",
              "       [0, 1, 0],\n",
              "       [0, 1, 0],\n",
              "       [0, 1, 0],\n",
              "       [0, 0, 1],\n",
              "       [0, 0, 1],\n",
              "       [0, 1, 0],\n",
              "       [0, 0, 1],\n",
              "       [0, 0, 1],\n",
              "       [0, 1, 0],\n",
              "       [1, 0, 0],\n",
              "       [1, 0, 0],\n",
              "       [1, 0, 0],\n",
              "       [0, 0, 1],\n",
              "       [0, 1, 0],\n",
              "       [1, 0, 0],\n",
              "       [1, 0, 0],\n",
              "       [0, 1, 0],\n",
              "       [0, 1, 0],\n",
              "       [0, 1, 0],\n",
              "       [0, 0, 1],\n",
              "       [0, 1, 0],\n",
              "       [0, 0, 1],\n",
              "       [1, 0, 0],\n",
              "       [0, 1, 0],\n",
              "       [0, 0, 1],\n",
              "       [0, 1, 0],\n",
              "       [0, 1, 0],\n",
              "       [0, 1, 0],\n",
              "       [0, 1, 0],\n",
              "       [1, 0, 0],\n",
              "       [0, 1, 0],\n",
              "       [0, 1, 0],\n",
              "       [0, 0, 1],\n",
              "       [0, 0, 1],\n",
              "       [0, 1, 0],\n",
              "       [0, 1, 0]], dtype=uint8)"
            ]
          },
          "metadata": {
            "tags": []
          },
          "execution_count": 104
        }
      ]
    },
    {
      "cell_type": "code",
      "metadata": {
        "colab_type": "code",
        "id": "eLDk-VGgx_hz",
        "colab": {
          "base_uri": "https://localhost:8080/",
          "height": 34
        },
        "outputId": "f5a22337-7925-4889-b6b0-f4496738fa29"
      },
      "source": [
        "X_stand.shape"
      ],
      "execution_count": 105,
      "outputs": [
        {
          "output_type": "execute_result",
          "data": {
            "text/plain": [
              "(178, 13)"
            ]
          },
          "metadata": {
            "tags": []
          },
          "execution_count": 105
        }
      ]
    },
    {
      "cell_type": "code",
      "metadata": {
        "colab_type": "code",
        "id": "CN90QWtKx_h6",
        "colab": {
          "base_uri": "https://localhost:8080/",
          "height": 34
        },
        "outputId": "97a86cbb-9ac8-462d-8548-7f017a7577a9"
      },
      "source": [
        "Y1['Outcome'].nunique()"
      ],
      "execution_count": 106,
      "outputs": [
        {
          "output_type": "execute_result",
          "data": {
            "text/plain": [
              "3"
            ]
          },
          "metadata": {
            "tags": []
          },
          "execution_count": 106
        }
      ]
    },
    {
      "cell_type": "code",
      "metadata": {
        "colab_type": "code",
        "id": "FTJL7mEMx_h9",
        "colab": {}
      },
      "source": [
        "initializer = keras.initializers.glorot_normal()\n",
        "filepath = \"weights-improvement-wine-{epoch:02d}-{val_accuracy:.2f}.hdf5\"\n",
        "checkpoint = ModelCheckpoint(filepath, monitor = 'val_accuracy', verbose=1, save_best_only=True, mode='max')\n",
        "es = EarlyStopping(monitor='val_loss', mode='min', verbose=1, patience=10, min_delta=0.01, baseline=0.75)\n",
        "\n",
        "callbacks_list = [checkpoint, es]\n",
        "\n",
        "model1=models.Sequential()\n",
        "model1.add(layers.Dense(50,activation=\"sigmoid\",input_shape=(13,), kernel_initializer=initializer, bias_initializer=initializer))\n",
        "model1.add(layers.Dense(3,activation='softmax', kernel_initializer=initializer, bias_initializer=initializer))"
      ],
      "execution_count": 115,
      "outputs": []
    },
    {
      "cell_type": "code",
      "metadata": {
        "colab_type": "code",
        "id": "4m8OqLY8x_iB",
        "colab": {
          "base_uri": "https://localhost:8080/",
          "height": 221
        },
        "outputId": "640d078d-1777-49fb-fa6b-ea28a1d6f39a"
      },
      "source": [
        "model1.summary()"
      ],
      "execution_count": 116,
      "outputs": [
        {
          "output_type": "stream",
          "text": [
            "Model: \"sequential_15\"\n",
            "_________________________________________________________________\n",
            "Layer (type)                 Output Shape              Param #   \n",
            "=================================================================\n",
            "dense_31 (Dense)             (None, 50)                700       \n",
            "_________________________________________________________________\n",
            "dense_32 (Dense)             (None, 3)                 153       \n",
            "=================================================================\n",
            "Total params: 853\n",
            "Trainable params: 853\n",
            "Non-trainable params: 0\n",
            "_________________________________________________________________\n"
          ],
          "name": "stdout"
        }
      ]
    },
    {
      "cell_type": "code",
      "metadata": {
        "colab_type": "code",
        "id": "dM4oeCR-x_iF",
        "colab": {}
      },
      "source": [
        "model1.compile(optimizer=\"adam\",loss='categorical_crossentropy',metrics=['accuracy'])"
      ],
      "execution_count": 117,
      "outputs": []
    },
    {
      "cell_type": "code",
      "metadata": {
        "colab_type": "code",
        "id": "IcX2HsYQx_iI",
        "colab": {
          "base_uri": "https://localhost:8080/",
          "height": 1000
        },
        "outputId": "764ee222-570a-472c-8ccf-bf0278fc892c"
      },
      "source": [
        "history=model1.fit(X_train, y_train, epochs=100,verbose=1, validation_split=0.25,callbacks=callbacks_list)"
      ],
      "execution_count": 119,
      "outputs": [
        {
          "output_type": "stream",
          "text": [
            "Epoch 1/100\n",
            "1/4 [======>.......................] - ETA: 0s - loss: 0.9368 - accuracy: 0.5000\n",
            "Epoch 00001: val_accuracy improved from 0.66667 to 0.69444, saving model to weights-improvement-wine-01-0.69.hdf5\n",
            "4/4 [==============================] - 0s 19ms/step - loss: 0.8798 - accuracy: 0.6038 - val_loss: 0.8565 - val_accuracy: 0.6944\n",
            "Epoch 2/100\n",
            "1/4 [======>.......................] - ETA: 0s - loss: 0.8920 - accuracy: 0.5938\n",
            "Epoch 00002: val_accuracy improved from 0.69444 to 0.72222, saving model to weights-improvement-wine-02-0.72.hdf5\n",
            "4/4 [==============================] - 0s 11ms/step - loss: 0.8505 - accuracy: 0.6321 - val_loss: 0.8238 - val_accuracy: 0.7222\n",
            "Epoch 3/100\n",
            "1/4 [======>.......................] - ETA: 0s - loss: 0.8834 - accuracy: 0.5625\n",
            "Epoch 00003: val_accuracy improved from 0.72222 to 0.77778, saving model to weights-improvement-wine-03-0.78.hdf5\n",
            "4/4 [==============================] - 0s 9ms/step - loss: 0.8208 - accuracy: 0.6887 - val_loss: 0.7965 - val_accuracy: 0.7778\n",
            "Epoch 4/100\n",
            "1/4 [======>.......................] - ETA: 0s - loss: 0.8007 - accuracy: 0.6875\n",
            "Epoch 00004: val_accuracy improved from 0.77778 to 0.80556, saving model to weights-improvement-wine-04-0.81.hdf5\n",
            "4/4 [==============================] - 0s 9ms/step - loss: 0.7927 - accuracy: 0.7642 - val_loss: 0.7736 - val_accuracy: 0.8056\n",
            "Epoch 5/100\n",
            "1/4 [======>.......................] - ETA: 0s - loss: 0.7810 - accuracy: 0.8125\n",
            "Epoch 00005: val_accuracy improved from 0.80556 to 0.83333, saving model to weights-improvement-wine-05-0.83.hdf5\n",
            "4/4 [==============================] - 0s 9ms/step - loss: 0.7658 - accuracy: 0.8208 - val_loss: 0.7506 - val_accuracy: 0.8333\n",
            "Epoch 6/100\n",
            "1/4 [======>.......................] - ETA: 0s - loss: 0.7756 - accuracy: 0.7812\n",
            "Epoch 00006: val_accuracy improved from 0.83333 to 0.88889, saving model to weights-improvement-wine-06-0.89.hdf5\n",
            "4/4 [==============================] - 0s 9ms/step - loss: 0.7407 - accuracy: 0.8396 - val_loss: 0.7265 - val_accuracy: 0.8889\n",
            "Epoch 7/100\n",
            "1/4 [======>.......................] - ETA: 0s - loss: 0.7265 - accuracy: 0.7812\n",
            "Epoch 00007: val_accuracy improved from 0.88889 to 0.91667, saving model to weights-improvement-wine-07-0.92.hdf5\n",
            "4/4 [==============================] - 0s 9ms/step - loss: 0.7169 - accuracy: 0.8396 - val_loss: 0.7054 - val_accuracy: 0.9167\n",
            "Epoch 8/100\n",
            "1/4 [======>.......................] - ETA: 0s - loss: 0.6867 - accuracy: 0.8438\n",
            "Epoch 00008: val_accuracy did not improve from 0.91667\n",
            "4/4 [==============================] - 0s 6ms/step - loss: 0.6938 - accuracy: 0.8774 - val_loss: 0.6870 - val_accuracy: 0.9167\n",
            "Epoch 9/100\n",
            "1/4 [======>.......................] - ETA: 0s - loss: 0.6648 - accuracy: 0.8438\n",
            "Epoch 00009: val_accuracy did not improve from 0.91667\n",
            "4/4 [==============================] - 0s 6ms/step - loss: 0.6719 - accuracy: 0.9151 - val_loss: 0.6692 - val_accuracy: 0.9167\n",
            "Epoch 10/100\n",
            "1/4 [======>.......................] - ETA: 0s - loss: 0.6207 - accuracy: 0.9688\n",
            "Epoch 00010: val_accuracy did not improve from 0.91667\n",
            "4/4 [==============================] - 0s 6ms/step - loss: 0.6508 - accuracy: 0.9245 - val_loss: 0.6513 - val_accuracy: 0.9167\n",
            "Epoch 11/100\n",
            "1/4 [======>.......................] - ETA: 0s - loss: 0.6355 - accuracy: 0.9375\n",
            "Epoch 00011: val_accuracy did not improve from 0.91667\n",
            "4/4 [==============================] - 0s 6ms/step - loss: 0.6303 - accuracy: 0.9245 - val_loss: 0.6341 - val_accuracy: 0.9167\n",
            "Epoch 12/100\n",
            "1/4 [======>.......................] - ETA: 0s - loss: 0.5934 - accuracy: 0.9062\n",
            "Epoch 00012: val_accuracy did not improve from 0.91667\n",
            "4/4 [==============================] - 0s 6ms/step - loss: 0.6109 - accuracy: 0.9245 - val_loss: 0.6186 - val_accuracy: 0.9167\n",
            "Epoch 13/100\n",
            "1/4 [======>.......................] - ETA: 0s - loss: 0.6149 - accuracy: 0.9688\n",
            "Epoch 00013: val_accuracy did not improve from 0.91667\n",
            "4/4 [==============================] - 0s 6ms/step - loss: 0.5923 - accuracy: 0.9245 - val_loss: 0.6007 - val_accuracy: 0.9167\n",
            "Epoch 14/100\n",
            "1/4 [======>.......................] - ETA: 0s - loss: 0.5570 - accuracy: 0.9062\n",
            "Epoch 00014: val_accuracy did not improve from 0.91667\n",
            "4/4 [==============================] - 0s 6ms/step - loss: 0.5743 - accuracy: 0.9245 - val_loss: 0.5801 - val_accuracy: 0.9167\n",
            "Epoch 15/100\n",
            "1/4 [======>.......................] - ETA: 0s - loss: 0.5906 - accuracy: 0.9062\n",
            "Epoch 00015: val_accuracy did not improve from 0.91667\n",
            "4/4 [==============================] - 0s 6ms/step - loss: 0.5569 - accuracy: 0.9434 - val_loss: 0.5618 - val_accuracy: 0.9167\n",
            "Epoch 16/100\n",
            "1/4 [======>.......................] - ETA: 0s - loss: 0.5617 - accuracy: 0.9062\n",
            "Epoch 00016: val_accuracy did not improve from 0.91667\n",
            "4/4 [==============================] - 0s 6ms/step - loss: 0.5406 - accuracy: 0.9623 - val_loss: 0.5428 - val_accuracy: 0.9167\n",
            "Epoch 17/100\n",
            "1/4 [======>.......................] - ETA: 0s - loss: 0.5395 - accuracy: 0.9375\n",
            "Epoch 00017: val_accuracy did not improve from 0.91667\n",
            "4/4 [==============================] - 0s 6ms/step - loss: 0.5244 - accuracy: 0.9717 - val_loss: 0.5264 - val_accuracy: 0.9167\n",
            "Epoch 18/100\n",
            "1/4 [======>.......................] - ETA: 0s - loss: 0.4775 - accuracy: 1.0000\n",
            "Epoch 00018: val_accuracy did not improve from 0.91667\n",
            "4/4 [==============================] - 0s 6ms/step - loss: 0.5089 - accuracy: 0.9717 - val_loss: 0.5101 - val_accuracy: 0.9167\n",
            "Epoch 19/100\n",
            "1/4 [======>.......................] - ETA: 0s - loss: 0.5195 - accuracy: 0.9688\n",
            "Epoch 00019: val_accuracy did not improve from 0.91667\n",
            "4/4 [==============================] - 0s 6ms/step - loss: 0.4947 - accuracy: 0.9717 - val_loss: 0.4940 - val_accuracy: 0.9167\n",
            "Epoch 20/100\n",
            "1/4 [======>.......................] - ETA: 0s - loss: 0.4713 - accuracy: 0.9688\n",
            "Epoch 00020: val_accuracy did not improve from 0.91667\n",
            "4/4 [==============================] - 0s 7ms/step - loss: 0.4801 - accuracy: 0.9811 - val_loss: 0.4815 - val_accuracy: 0.9167\n",
            "Epoch 21/100\n",
            "1/4 [======>.......................] - ETA: 0s - loss: 0.5122 - accuracy: 1.0000\n",
            "Epoch 00021: val_accuracy did not improve from 0.91667\n",
            "4/4 [==============================] - 0s 6ms/step - loss: 0.4666 - accuracy: 0.9811 - val_loss: 0.4698 - val_accuracy: 0.9167\n",
            "Epoch 22/100\n",
            "1/4 [======>.......................] - ETA: 0s - loss: 0.4758 - accuracy: 1.0000\n",
            "Epoch 00022: val_accuracy did not improve from 0.91667\n",
            "4/4 [==============================] - 0s 6ms/step - loss: 0.4534 - accuracy: 0.9811 - val_loss: 0.4591 - val_accuracy: 0.9167\n",
            "Epoch 23/100\n",
            "1/4 [======>.......................] - ETA: 0s - loss: 0.4604 - accuracy: 0.9688\n",
            "Epoch 00023: val_accuracy did not improve from 0.91667\n",
            "4/4 [==============================] - 0s 6ms/step - loss: 0.4406 - accuracy: 0.9811 - val_loss: 0.4484 - val_accuracy: 0.9167\n",
            "Epoch 24/100\n",
            "1/4 [======>.......................] - ETA: 0s - loss: 0.4190 - accuracy: 0.9688\n",
            "Epoch 00024: val_accuracy did not improve from 0.91667\n",
            "4/4 [==============================] - 0s 6ms/step - loss: 0.4285 - accuracy: 0.9811 - val_loss: 0.4405 - val_accuracy: 0.9167\n",
            "Epoch 25/100\n",
            "1/4 [======>.......................] - ETA: 0s - loss: 0.4109 - accuracy: 0.9688\n",
            "Epoch 00025: val_accuracy did not improve from 0.91667\n",
            "4/4 [==============================] - 0s 6ms/step - loss: 0.4171 - accuracy: 0.9811 - val_loss: 0.4346 - val_accuracy: 0.9167\n",
            "Epoch 26/100\n",
            "1/4 [======>.......................] - ETA: 0s - loss: 0.3981 - accuracy: 1.0000\n",
            "Epoch 00026: val_accuracy did not improve from 0.91667\n",
            "4/4 [==============================] - 0s 6ms/step - loss: 0.4058 - accuracy: 0.9811 - val_loss: 0.4252 - val_accuracy: 0.9167\n",
            "Epoch 27/100\n",
            "1/4 [======>.......................] - ETA: 0s - loss: 0.3688 - accuracy: 1.0000\n",
            "Epoch 00027: val_accuracy did not improve from 0.91667\n",
            "4/4 [==============================] - 0s 6ms/step - loss: 0.3950 - accuracy: 0.9811 - val_loss: 0.4143 - val_accuracy: 0.9167\n",
            "Epoch 28/100\n",
            "1/4 [======>.......................] - ETA: 0s - loss: 0.3447 - accuracy: 1.0000\n",
            "Epoch 00028: val_accuracy did not improve from 0.91667\n",
            "4/4 [==============================] - 0s 6ms/step - loss: 0.3844 - accuracy: 0.9811 - val_loss: 0.4052 - val_accuracy: 0.9167\n",
            "Epoch 29/100\n",
            "1/4 [======>.......................] - ETA: 0s - loss: 0.3649 - accuracy: 0.9688\n",
            "Epoch 00029: val_accuracy did not improve from 0.91667\n",
            "4/4 [==============================] - 0s 6ms/step - loss: 0.3746 - accuracy: 0.9811 - val_loss: 0.3951 - val_accuracy: 0.9167\n",
            "Epoch 30/100\n",
            "1/4 [======>.......................] - ETA: 0s - loss: 0.3667 - accuracy: 0.9688\n",
            "Epoch 00030: val_accuracy did not improve from 0.91667\n",
            "4/4 [==============================] - 0s 6ms/step - loss: 0.3645 - accuracy: 0.9811 - val_loss: 0.3869 - val_accuracy: 0.9167\n",
            "Epoch 31/100\n",
            "1/4 [======>.......................] - ETA: 0s - loss: 0.3695 - accuracy: 0.9688\n",
            "Epoch 00031: val_accuracy did not improve from 0.91667\n",
            "4/4 [==============================] - 0s 7ms/step - loss: 0.3553 - accuracy: 0.9811 - val_loss: 0.3779 - val_accuracy: 0.9167\n",
            "Epoch 32/100\n",
            "1/4 [======>.......................] - ETA: 0s - loss: 0.3615 - accuracy: 0.9688\n",
            "Epoch 00032: val_accuracy improved from 0.91667 to 0.94444, saving model to weights-improvement-wine-32-0.94.hdf5\n",
            "4/4 [==============================] - 0s 12ms/step - loss: 0.3461 - accuracy: 0.9811 - val_loss: 0.3667 - val_accuracy: 0.9444\n",
            "Epoch 33/100\n",
            "1/4 [======>.......................] - ETA: 0s - loss: 0.3559 - accuracy: 0.9688\n",
            "Epoch 00033: val_accuracy did not improve from 0.94444\n",
            "4/4 [==============================] - 0s 7ms/step - loss: 0.3370 - accuracy: 0.9906 - val_loss: 0.3563 - val_accuracy: 0.9444\n",
            "Epoch 34/100\n",
            "1/4 [======>.......................] - ETA: 0s - loss: 0.2862 - accuracy: 1.0000\n",
            "Epoch 00034: val_accuracy improved from 0.94444 to 0.97222, saving model to weights-improvement-wine-34-0.97.hdf5\n",
            "4/4 [==============================] - 0s 9ms/step - loss: 0.3285 - accuracy: 0.9906 - val_loss: 0.3450 - val_accuracy: 0.9722\n",
            "Epoch 35/100\n",
            "1/4 [======>.......................] - ETA: 0s - loss: 0.3494 - accuracy: 0.9688\n",
            "Epoch 00035: val_accuracy did not improve from 0.97222\n",
            "4/4 [==============================] - 0s 6ms/step - loss: 0.3203 - accuracy: 0.9906 - val_loss: 0.3365 - val_accuracy: 0.9722\n",
            "Epoch 36/100\n",
            "1/4 [======>.......................] - ETA: 0s - loss: 0.3043 - accuracy: 1.0000\n",
            "Epoch 00036: val_accuracy did not improve from 0.97222\n",
            "4/4 [==============================] - 0s 6ms/step - loss: 0.3124 - accuracy: 0.9906 - val_loss: 0.3292 - val_accuracy: 0.9722\n",
            "Epoch 37/100\n",
            "1/4 [======>.......................] - ETA: 0s - loss: 0.3108 - accuracy: 1.0000\n",
            "Epoch 00037: val_accuracy did not improve from 0.97222\n",
            "4/4 [==============================] - 0s 6ms/step - loss: 0.3048 - accuracy: 0.9906 - val_loss: 0.3217 - val_accuracy: 0.9722\n",
            "Epoch 38/100\n",
            "1/4 [======>.......................] - ETA: 0s - loss: 0.2748 - accuracy: 1.0000\n",
            "Epoch 00038: val_accuracy did not improve from 0.97222\n",
            "4/4 [==============================] - 0s 6ms/step - loss: 0.2973 - accuracy: 0.9906 - val_loss: 0.3134 - val_accuracy: 0.9722\n",
            "Epoch 39/100\n",
            "1/4 [======>.......................] - ETA: 0s - loss: 0.2856 - accuracy: 1.0000\n",
            "Epoch 00039: val_accuracy did not improve from 0.97222\n",
            "4/4 [==============================] - 0s 6ms/step - loss: 0.2903 - accuracy: 0.9906 - val_loss: 0.3068 - val_accuracy: 0.9722\n",
            "Epoch 40/100\n",
            "1/4 [======>.......................] - ETA: 0s - loss: 0.2680 - accuracy: 1.0000\n",
            "Epoch 00040: val_accuracy did not improve from 0.97222\n",
            "4/4 [==============================] - 0s 6ms/step - loss: 0.2834 - accuracy: 1.0000 - val_loss: 0.3015 - val_accuracy: 0.9722\n",
            "Epoch 41/100\n",
            "1/4 [======>.......................] - ETA: 0s - loss: 0.2548 - accuracy: 1.0000\n",
            "Epoch 00041: val_accuracy did not improve from 0.97222\n",
            "4/4 [==============================] - 0s 6ms/step - loss: 0.2768 - accuracy: 1.0000 - val_loss: 0.2970 - val_accuracy: 0.9722\n",
            "Epoch 42/100\n",
            "1/4 [======>.......................] - ETA: 0s - loss: 0.3002 - accuracy: 1.0000\n",
            "Epoch 00042: val_accuracy did not improve from 0.97222\n",
            "4/4 [==============================] - 0s 6ms/step - loss: 0.2704 - accuracy: 1.0000 - val_loss: 0.2929 - val_accuracy: 0.9722\n",
            "Epoch 43/100\n",
            "1/4 [======>.......................] - ETA: 0s - loss: 0.2876 - accuracy: 1.0000\n",
            "Epoch 00043: val_accuracy did not improve from 0.97222\n",
            "4/4 [==============================] - 0s 6ms/step - loss: 0.2642 - accuracy: 1.0000 - val_loss: 0.2889 - val_accuracy: 0.9722\n",
            "Epoch 44/100\n",
            "1/4 [======>.......................] - ETA: 0s - loss: 0.2348 - accuracy: 1.0000\n",
            "Epoch 00044: val_accuracy did not improve from 0.97222\n",
            "4/4 [==============================] - 0s 6ms/step - loss: 0.2582 - accuracy: 1.0000 - val_loss: 0.2852 - val_accuracy: 0.9722\n",
            "Epoch 45/100\n",
            "1/4 [======>.......................] - ETA: 0s - loss: 0.2604 - accuracy: 1.0000\n",
            "Epoch 00045: val_accuracy did not improve from 0.97222\n",
            "4/4 [==============================] - 0s 7ms/step - loss: 0.2524 - accuracy: 1.0000 - val_loss: 0.2808 - val_accuracy: 0.9722\n",
            "Epoch 46/100\n",
            "1/4 [======>.......................] - ETA: 0s - loss: 0.2309 - accuracy: 1.0000\n",
            "Epoch 00046: val_accuracy did not improve from 0.97222\n",
            "4/4 [==============================] - 0s 7ms/step - loss: 0.2468 - accuracy: 1.0000 - val_loss: 0.2765 - val_accuracy: 0.9722\n",
            "Epoch 47/100\n",
            "1/4 [======>.......................] - ETA: 0s - loss: 0.2206 - accuracy: 1.0000\n",
            "Epoch 00047: val_accuracy did not improve from 0.97222\n",
            "4/4 [==============================] - 0s 6ms/step - loss: 0.2413 - accuracy: 1.0000 - val_loss: 0.2712 - val_accuracy: 0.9722\n",
            "Epoch 48/100\n",
            "1/4 [======>.......................] - ETA: 0s - loss: 0.2322 - accuracy: 1.0000\n",
            "Epoch 00048: val_accuracy did not improve from 0.97222\n",
            "4/4 [==============================] - 0s 6ms/step - loss: 0.2360 - accuracy: 1.0000 - val_loss: 0.2654 - val_accuracy: 0.9722\n",
            "Epoch 49/100\n",
            "1/4 [======>.......................] - ETA: 0s - loss: 0.2385 - accuracy: 1.0000\n",
            "Epoch 00049: val_accuracy did not improve from 0.97222\n",
            "4/4 [==============================] - 0s 6ms/step - loss: 0.2308 - accuracy: 1.0000 - val_loss: 0.2600 - val_accuracy: 0.9722\n",
            "Epoch 50/100\n",
            "1/4 [======>.......................] - ETA: 0s - loss: 0.2184 - accuracy: 1.0000\n",
            "Epoch 00050: val_accuracy did not improve from 0.97222\n",
            "4/4 [==============================] - 0s 6ms/step - loss: 0.2259 - accuracy: 1.0000 - val_loss: 0.2559 - val_accuracy: 0.9722\n",
            "Epoch 51/100\n",
            "1/4 [======>.......................] - ETA: 0s - loss: 0.2111 - accuracy: 1.0000\n",
            "Epoch 00051: val_accuracy did not improve from 0.97222\n",
            "4/4 [==============================] - 0s 8ms/step - loss: 0.2211 - accuracy: 1.0000 - val_loss: 0.2515 - val_accuracy: 0.9722\n",
            "Epoch 52/100\n",
            "1/4 [======>.......................] - ETA: 0s - loss: 0.2274 - accuracy: 1.0000\n",
            "Epoch 00052: val_accuracy did not improve from 0.97222\n",
            "4/4 [==============================] - 0s 6ms/step - loss: 0.2164 - accuracy: 1.0000 - val_loss: 0.2467 - val_accuracy: 0.9722\n",
            "Epoch 53/100\n",
            "1/4 [======>.......................] - ETA: 0s - loss: 0.2221 - accuracy: 1.0000\n",
            "Epoch 00053: val_accuracy did not improve from 0.97222\n",
            "4/4 [==============================] - 0s 6ms/step - loss: 0.2119 - accuracy: 1.0000 - val_loss: 0.2425 - val_accuracy: 0.9722\n",
            "Epoch 54/100\n",
            "1/4 [======>.......................] - ETA: 0s - loss: 0.2044 - accuracy: 1.0000\n",
            "Epoch 00054: val_accuracy did not improve from 0.97222\n",
            "4/4 [==============================] - 0s 6ms/step - loss: 0.2075 - accuracy: 1.0000 - val_loss: 0.2372 - val_accuracy: 0.9722\n",
            "Epoch 55/100\n",
            "1/4 [======>.......................] - ETA: 0s - loss: 0.2452 - accuracy: 1.0000\n",
            "Epoch 00055: val_accuracy did not improve from 0.97222\n",
            "4/4 [==============================] - 0s 6ms/step - loss: 0.2033 - accuracy: 1.0000 - val_loss: 0.2326 - val_accuracy: 0.9722\n",
            "Epoch 56/100\n",
            "1/4 [======>.......................] - ETA: 0s - loss: 0.2157 - accuracy: 1.0000\n",
            "Epoch 00056: val_accuracy did not improve from 0.97222\n",
            "4/4 [==============================] - 0s 6ms/step - loss: 0.1991 - accuracy: 1.0000 - val_loss: 0.2282 - val_accuracy: 0.9722\n",
            "Epoch 57/100\n",
            "1/4 [======>.......................] - ETA: 0s - loss: 0.1791 - accuracy: 1.0000\n",
            "Epoch 00057: val_accuracy did not improve from 0.97222\n",
            "4/4 [==============================] - 0s 6ms/step - loss: 0.1950 - accuracy: 1.0000 - val_loss: 0.2254 - val_accuracy: 0.9722\n",
            "Epoch 58/100\n",
            "1/4 [======>.......................] - ETA: 0s - loss: 0.1875 - accuracy: 1.0000\n",
            "Epoch 00058: val_accuracy did not improve from 0.97222\n",
            "4/4 [==============================] - 0s 6ms/step - loss: 0.1912 - accuracy: 1.0000 - val_loss: 0.2231 - val_accuracy: 0.9722\n",
            "Epoch 59/100\n",
            "1/4 [======>.......................] - ETA: 0s - loss: 0.1582 - accuracy: 1.0000\n",
            "Epoch 00059: val_accuracy did not improve from 0.97222\n",
            "4/4 [==============================] - 0s 6ms/step - loss: 0.1874 - accuracy: 1.0000 - val_loss: 0.2207 - val_accuracy: 0.9722\n",
            "Epoch 60/100\n",
            "1/4 [======>.......................] - ETA: 0s - loss: 0.1965 - accuracy: 1.0000\n",
            "Epoch 00060: val_accuracy did not improve from 0.97222\n",
            "4/4 [==============================] - 0s 6ms/step - loss: 0.1837 - accuracy: 1.0000 - val_loss: 0.2185 - val_accuracy: 0.9722\n",
            "Epoch 61/100\n",
            "1/4 [======>.......................] - ETA: 0s - loss: 0.1683 - accuracy: 1.0000\n",
            "Epoch 00061: val_accuracy did not improve from 0.97222\n",
            "4/4 [==============================] - 0s 6ms/step - loss: 0.1801 - accuracy: 1.0000 - val_loss: 0.2159 - val_accuracy: 0.9722\n",
            "Epoch 62/100\n",
            "1/4 [======>.......................] - ETA: 0s - loss: 0.1589 - accuracy: 1.0000\n",
            "Epoch 00062: val_accuracy did not improve from 0.97222\n",
            "4/4 [==============================] - 0s 6ms/step - loss: 0.1767 - accuracy: 1.0000 - val_loss: 0.2134 - val_accuracy: 0.9722\n",
            "Epoch 63/100\n",
            "1/4 [======>.......................] - ETA: 0s - loss: 0.2047 - accuracy: 1.0000\n",
            "Epoch 00063: val_accuracy did not improve from 0.97222\n",
            "4/4 [==============================] - 0s 7ms/step - loss: 0.1732 - accuracy: 1.0000 - val_loss: 0.2094 - val_accuracy: 0.9722\n",
            "Epoch 64/100\n",
            "1/4 [======>.......................] - ETA: 0s - loss: 0.1856 - accuracy: 1.0000\n",
            "Epoch 00064: val_accuracy did not improve from 0.97222\n",
            "4/4 [==============================] - 0s 6ms/step - loss: 0.1699 - accuracy: 1.0000 - val_loss: 0.2046 - val_accuracy: 0.9722\n",
            "Epoch 65/100\n",
            "1/4 [======>.......................] - ETA: 0s - loss: 0.1580 - accuracy: 1.0000\n",
            "Epoch 00065: val_accuracy did not improve from 0.97222\n",
            "4/4 [==============================] - 0s 6ms/step - loss: 0.1667 - accuracy: 1.0000 - val_loss: 0.2003 - val_accuracy: 0.9722\n",
            "Epoch 66/100\n",
            "1/4 [======>.......................] - ETA: 0s - loss: 0.1485 - accuracy: 1.0000\n",
            "Epoch 00066: val_accuracy did not improve from 0.97222\n",
            "4/4 [==============================] - 0s 6ms/step - loss: 0.1637 - accuracy: 1.0000 - val_loss: 0.1976 - val_accuracy: 0.9722\n",
            "Epoch 67/100\n",
            "1/4 [======>.......................] - ETA: 0s - loss: 0.1525 - accuracy: 1.0000\n",
            "Epoch 00067: val_accuracy did not improve from 0.97222\n",
            "4/4 [==============================] - 0s 6ms/step - loss: 0.1607 - accuracy: 1.0000 - val_loss: 0.1958 - val_accuracy: 0.9722\n",
            "Epoch 68/100\n",
            "1/4 [======>.......................] - ETA: 0s - loss: 0.1736 - accuracy: 1.0000\n",
            "Epoch 00068: val_accuracy did not improve from 0.97222\n",
            "4/4 [==============================] - 0s 6ms/step - loss: 0.1578 - accuracy: 1.0000 - val_loss: 0.1941 - val_accuracy: 0.9722\n",
            "Epoch 69/100\n",
            "1/4 [======>.......................] - ETA: 0s - loss: 0.1508 - accuracy: 1.0000\n",
            "Epoch 00069: val_accuracy did not improve from 0.97222\n",
            "4/4 [==============================] - 0s 6ms/step - loss: 0.1549 - accuracy: 1.0000 - val_loss: 0.1927 - val_accuracy: 0.9722\n",
            "Epoch 70/100\n",
            "1/4 [======>.......................] - ETA: 0s - loss: 0.1357 - accuracy: 1.0000\n",
            "Epoch 00070: val_accuracy did not improve from 0.97222\n",
            "4/4 [==============================] - 0s 6ms/step - loss: 0.1522 - accuracy: 1.0000 - val_loss: 0.1925 - val_accuracy: 0.9722\n",
            "Epoch 71/100\n",
            "1/4 [======>.......................] - ETA: 0s - loss: 0.1418 - accuracy: 1.0000\n",
            "Epoch 00071: val_accuracy did not improve from 0.97222\n",
            "4/4 [==============================] - 0s 6ms/step - loss: 0.1494 - accuracy: 1.0000 - val_loss: 0.1917 - val_accuracy: 0.9722\n",
            "Epoch 72/100\n",
            "1/4 [======>.......................] - ETA: 0s - loss: 0.1457 - accuracy: 1.0000\n",
            "Epoch 00072: val_accuracy did not improve from 0.97222\n",
            "4/4 [==============================] - 0s 6ms/step - loss: 0.1467 - accuracy: 1.0000 - val_loss: 0.1915 - val_accuracy: 0.9722\n",
            "Epoch 73/100\n",
            "1/4 [======>.......................] - ETA: 0s - loss: 0.1420 - accuracy: 1.0000\n",
            "Epoch 00073: val_accuracy did not improve from 0.97222\n",
            "4/4 [==============================] - 0s 6ms/step - loss: 0.1443 - accuracy: 1.0000 - val_loss: 0.1918 - val_accuracy: 0.9722\n",
            "Epoch 74/100\n",
            "1/4 [======>.......................] - ETA: 0s - loss: 0.1378 - accuracy: 1.0000\n",
            "Epoch 00074: val_accuracy did not improve from 0.97222\n",
            "4/4 [==============================] - 0s 6ms/step - loss: 0.1419 - accuracy: 1.0000 - val_loss: 0.1900 - val_accuracy: 0.9722\n",
            "Epoch 75/100\n",
            "1/4 [======>.......................] - ETA: 0s - loss: 0.1427 - accuracy: 1.0000\n",
            "Epoch 00075: val_accuracy did not improve from 0.97222\n",
            "4/4 [==============================] - 0s 6ms/step - loss: 0.1395 - accuracy: 1.0000 - val_loss: 0.1881 - val_accuracy: 0.9722\n",
            "Epoch 76/100\n",
            "1/4 [======>.......................] - ETA: 0s - loss: 0.1754 - accuracy: 1.0000\n",
            "Epoch 00076: val_accuracy did not improve from 0.97222\n",
            "4/4 [==============================] - 0s 6ms/step - loss: 0.1371 - accuracy: 1.0000 - val_loss: 0.1848 - val_accuracy: 0.9722\n",
            "Epoch 77/100\n",
            "1/4 [======>.......................] - ETA: 0s - loss: 0.1265 - accuracy: 1.0000\n",
            "Epoch 00077: val_accuracy did not improve from 0.97222\n",
            "4/4 [==============================] - 0s 6ms/step - loss: 0.1346 - accuracy: 1.0000 - val_loss: 0.1811 - val_accuracy: 0.9722\n",
            "Epoch 78/100\n",
            "1/4 [======>.......................] - ETA: 0s - loss: 0.1351 - accuracy: 1.0000\n",
            "Epoch 00078: val_accuracy did not improve from 0.97222\n",
            "4/4 [==============================] - 0s 7ms/step - loss: 0.1325 - accuracy: 1.0000 - val_loss: 0.1781 - val_accuracy: 0.9722\n",
            "Epoch 79/100\n",
            "1/4 [======>.......................] - ETA: 0s - loss: 0.1401 - accuracy: 1.0000\n",
            "Epoch 00079: val_accuracy did not improve from 0.97222\n",
            "4/4 [==============================] - 0s 6ms/step - loss: 0.1302 - accuracy: 1.0000 - val_loss: 0.1754 - val_accuracy: 0.9722\n",
            "Epoch 80/100\n",
            "1/4 [======>.......................] - ETA: 0s - loss: 0.1038 - accuracy: 1.0000\n",
            "Epoch 00080: val_accuracy did not improve from 0.97222\n",
            "4/4 [==============================] - 0s 6ms/step - loss: 0.1281 - accuracy: 1.0000 - val_loss: 0.1733 - val_accuracy: 0.9722\n",
            "Epoch 81/100\n",
            "1/4 [======>.......................] - ETA: 0s - loss: 0.1297 - accuracy: 1.0000\n",
            "Epoch 00081: val_accuracy did not improve from 0.97222\n",
            "4/4 [==============================] - 0s 6ms/step - loss: 0.1260 - accuracy: 1.0000 - val_loss: 0.1713 - val_accuracy: 0.9722\n",
            "Epoch 82/100\n",
            "1/4 [======>.......................] - ETA: 0s - loss: 0.1420 - accuracy: 1.0000\n",
            "Epoch 00082: val_accuracy did not improve from 0.97222\n",
            "4/4 [==============================] - 0s 7ms/step - loss: 0.1239 - accuracy: 1.0000 - val_loss: 0.1699 - val_accuracy: 0.9722\n",
            "Epoch 83/100\n",
            "1/4 [======>.......................] - ETA: 0s - loss: 0.1151 - accuracy: 1.0000\n",
            "Epoch 00083: val_accuracy did not improve from 0.97222\n",
            "4/4 [==============================] - 0s 6ms/step - loss: 0.1220 - accuracy: 1.0000 - val_loss: 0.1692 - val_accuracy: 0.9722\n",
            "Epoch 84/100\n",
            "1/4 [======>.......................] - ETA: 0s - loss: 0.0873 - accuracy: 1.0000\n",
            "Epoch 00084: val_accuracy did not improve from 0.97222\n",
            "4/4 [==============================] - 0s 7ms/step - loss: 0.1200 - accuracy: 1.0000 - val_loss: 0.1688 - val_accuracy: 0.9722\n",
            "Epoch 85/100\n",
            "1/4 [======>.......................] - ETA: 0s - loss: 0.1301 - accuracy: 1.0000\n",
            "Epoch 00085: val_accuracy did not improve from 0.97222\n",
            "4/4 [==============================] - 0s 6ms/step - loss: 0.1182 - accuracy: 1.0000 - val_loss: 0.1692 - val_accuracy: 0.9722\n",
            "Epoch 86/100\n",
            "1/4 [======>.......................] - ETA: 0s - loss: 0.0988 - accuracy: 1.0000\n",
            "Epoch 00086: val_accuracy did not improve from 0.97222\n",
            "4/4 [==============================] - 0s 6ms/step - loss: 0.1164 - accuracy: 1.0000 - val_loss: 0.1687 - val_accuracy: 0.9722\n",
            "Epoch 87/100\n",
            "1/4 [======>.......................] - ETA: 0s - loss: 0.0948 - accuracy: 1.0000\n",
            "Epoch 00087: val_accuracy did not improve from 0.97222\n",
            "4/4 [==============================] - 0s 6ms/step - loss: 0.1146 - accuracy: 1.0000 - val_loss: 0.1674 - val_accuracy: 0.9722\n",
            "Epoch 88/100\n",
            "1/4 [======>.......................] - ETA: 0s - loss: 0.0884 - accuracy: 1.0000\n",
            "Epoch 00088: val_accuracy did not improve from 0.97222\n",
            "4/4 [==============================] - 0s 6ms/step - loss: 0.1128 - accuracy: 1.0000 - val_loss: 0.1659 - val_accuracy: 0.9722\n",
            "Epoch 89/100\n",
            "1/4 [======>.......................] - ETA: 0s - loss: 0.1112 - accuracy: 1.0000\n",
            "Epoch 00089: val_accuracy did not improve from 0.97222\n",
            "4/4 [==============================] - 0s 6ms/step - loss: 0.1112 - accuracy: 1.0000 - val_loss: 0.1649 - val_accuracy: 0.9722\n",
            "Epoch 90/100\n",
            "1/4 [======>.......................] - ETA: 0s - loss: 0.0919 - accuracy: 1.0000\n",
            "Epoch 00090: val_accuracy did not improve from 0.97222\n",
            "4/4 [==============================] - 0s 6ms/step - loss: 0.1094 - accuracy: 1.0000 - val_loss: 0.1633 - val_accuracy: 0.9722\n",
            "Epoch 91/100\n",
            "1/4 [======>.......................] - ETA: 0s - loss: 0.1063 - accuracy: 1.0000\n",
            "Epoch 00091: val_accuracy did not improve from 0.97222\n",
            "4/4 [==============================] - 0s 6ms/step - loss: 0.1078 - accuracy: 1.0000 - val_loss: 0.1623 - val_accuracy: 0.9722\n",
            "Epoch 92/100\n",
            "1/4 [======>.......................] - ETA: 0s - loss: 0.0971 - accuracy: 1.0000\n",
            "Epoch 00092: val_accuracy did not improve from 0.97222\n",
            "4/4 [==============================] - 0s 6ms/step - loss: 0.1061 - accuracy: 1.0000 - val_loss: 0.1612 - val_accuracy: 0.9722\n",
            "Epoch 93/100\n",
            "1/4 [======>.......................] - ETA: 0s - loss: 0.0724 - accuracy: 1.0000\n",
            "Epoch 00093: val_accuracy did not improve from 0.97222\n",
            "4/4 [==============================] - 0s 7ms/step - loss: 0.1045 - accuracy: 1.0000 - val_loss: 0.1586 - val_accuracy: 0.9722\n",
            "Epoch 94/100\n",
            "1/4 [======>.......................] - ETA: 0s - loss: 0.1092 - accuracy: 1.0000\n",
            "Epoch 00094: val_accuracy did not improve from 0.97222\n",
            "4/4 [==============================] - 0s 6ms/step - loss: 0.1029 - accuracy: 1.0000 - val_loss: 0.1559 - val_accuracy: 0.9722\n",
            "Epoch 95/100\n",
            "1/4 [======>.......................] - ETA: 0s - loss: 0.1101 - accuracy: 1.0000\n",
            "Epoch 00095: val_accuracy did not improve from 0.97222\n",
            "4/4 [==============================] - 0s 8ms/step - loss: 0.1013 - accuracy: 1.0000 - val_loss: 0.1532 - val_accuracy: 0.9722\n",
            "Epoch 96/100\n",
            "1/4 [======>.......................] - ETA: 0s - loss: 0.1237 - accuracy: 1.0000\n",
            "Epoch 00096: val_accuracy did not improve from 0.97222\n",
            "4/4 [==============================] - 0s 6ms/step - loss: 0.0997 - accuracy: 1.0000 - val_loss: 0.1509 - val_accuracy: 0.9722\n",
            "Epoch 97/100\n",
            "1/4 [======>.......................] - ETA: 0s - loss: 0.1035 - accuracy: 1.0000\n",
            "Epoch 00097: val_accuracy did not improve from 0.97222\n",
            "4/4 [==============================] - 0s 6ms/step - loss: 0.0983 - accuracy: 1.0000 - val_loss: 0.1489 - val_accuracy: 0.9722\n",
            "Epoch 98/100\n",
            "1/4 [======>.......................] - ETA: 0s - loss: 0.0977 - accuracy: 1.0000\n",
            "Epoch 00098: val_accuracy did not improve from 0.97222\n",
            "4/4 [==============================] - 0s 6ms/step - loss: 0.0968 - accuracy: 1.0000 - val_loss: 0.1476 - val_accuracy: 0.9722\n",
            "Epoch 99/100\n",
            "1/4 [======>.......................] - ETA: 0s - loss: 0.1049 - accuracy: 1.0000\n",
            "Epoch 00099: val_accuracy did not improve from 0.97222\n",
            "4/4 [==============================] - 0s 6ms/step - loss: 0.0954 - accuracy: 1.0000 - val_loss: 0.1469 - val_accuracy: 0.9722\n",
            "Epoch 100/100\n",
            "1/4 [======>.......................] - ETA: 0s - loss: 0.0777 - accuracy: 1.0000\n",
            "Epoch 00100: val_accuracy did not improve from 0.97222\n",
            "4/4 [==============================] - 0s 6ms/step - loss: 0.0941 - accuracy: 1.0000 - val_loss: 0.1461 - val_accuracy: 0.9722\n"
          ],
          "name": "stdout"
        }
      ]
    },
    {
      "cell_type": "code",
      "metadata": {
        "id": "RVaWcDDtI6cN",
        "colab_type": "code",
        "colab": {
          "base_uri": "https://localhost:8080/",
          "height": 51
        },
        "outputId": "9f5a9db3-db7a-4e81-a79a-140cea808390"
      },
      "source": [
        "models_new=models.Sequential()\n",
        "models_new.add(layers.Dense(50,activation=\"sigmoid\",input_shape=(13,), kernel_initializer=initializer, bias_initializer=initializer))\n",
        "models_new.add(layers.Dense(3,activation='softmax', kernel_initializer=initializer, bias_initializer=initializer))\n",
        "\n",
        "#Using callback to load weights of Train model in the test model \n",
        "models_new.load_weights(\"weights-improvement-wine-34-0.97.hdf5\")\n",
        "#This depends on storage and jo saved hua hai...so sometimes u need to rename it and chose max accuracy wala only\n",
        "models_new.compile(loss='categorical_crossentropy', optimizer=\"adam\", metrics=['accuracy'])\n",
        "\n",
        "test_loss, test_acc = models_new.evaluate(X_test, y_test, verbose=0)\n",
        "print('Test Accuracy: %.8f' % ( test_acc))\n",
        "print('Test Loss: %.3f' % ( test_loss)) \n",
        "\n",
        "#Can use the below model also\n",
        "#from keras.models import load_model\n",
        "#saved_model = load_model('weights-improvement-covtype-10-0.81.hdf5')\n",
        "#test_loss, test_acc = saved_model.evaluate(X_test, y_test, verbose=0)\n",
        "#print('Test Accuracy: %.8f' % ( test_acc))\n",
        "#print('Test Loss: %.3f' % ( test_loss))"
      ],
      "execution_count": 120,
      "outputs": [
        {
          "output_type": "stream",
          "text": [
            "Test Accuracy: 0.91666669\n",
            "Test Loss: 0.403\n"
          ],
          "name": "stdout"
        }
      ]
    },
    {
      "cell_type": "markdown",
      "metadata": {
        "colab_type": "text",
        "id": "QoeG-Jhzx_ib"
      },
      "source": [
        "**Accuracy coming around ~ 91% in Training,Validation & Testing Dataset (i.e.above 75% Benchmark)**"
      ]
    },
    {
      "cell_type": "markdown",
      "metadata": {
        "colab_type": "text",
        "id": "9hfjhVpAx_ib"
      },
      "source": [
        "Plot of accuracy of Train & Validation"
      ]
    },
    {
      "cell_type": "code",
      "metadata": {
        "colab_type": "code",
        "id": "go8g8Vrbx_ic",
        "colab": {
          "base_uri": "https://localhost:8080/",
          "height": 295
        },
        "outputId": "52e0d6c4-948c-4c0a-98db-861c0735c4d7"
      },
      "source": [
        "import matplotlib.pyplot as plt\n",
        "\n",
        "plt.plot(history.history['accuracy'])\n",
        "plt.plot(history.history['val_accuracy'])\n",
        "plt.title(\"Model accuracy\")\n",
        "plt.ylabel(\"Accuracy\")\n",
        "plt.xlabel(\"Epochs/iterations\")\n",
        "plt.legend(['Train','Validation'], loc=\"upper left\")\n",
        "plt.show()"
      ],
      "execution_count": 122,
      "outputs": [
        {
          "output_type": "display_data",
          "data": {
            "image/png": "[encoded data removed]",
            "text/plain": [
              "<Figure size 432x288 with 1 Axes>"
            ]
          },
          "metadata": {
            "tags": [],
            "needs_background": "light"
          }
        }
      ]
    },
    {
      "cell_type": "markdown",
      "metadata": {
        "colab_type": "text",
        "id": "pKLYFgK9x_if"
      },
      "source": [
        "Plot of Loss of Train & Validation"
      ]
    },
    {
      "cell_type": "code",
      "metadata": {
        "colab_type": "code",
        "id": "A_PBmaoYx_ii",
        "colab": {
          "base_uri": "https://localhost:8080/",
          "height": 295
        },
        "outputId": "065421dd-1a4e-4f86-c7d5-1d1f0d27d7c3"
      },
      "source": [
        "import matplotlib.pyplot as plt\n",
        "\n",
        "plt.plot(history.history['loss'])\n",
        "plt.plot(history.history['val_loss'])\n",
        "plt.title(\"Model LOSS\")\n",
        "plt.ylabel(\"Accuracy\")\n",
        "plt.xlabel(\"Epochs/iterations\")\n",
        "plt.legend(['Train','Validation'], loc=\"upper left\")\n",
        "plt.show()"
      ],
      "execution_count": 121,
      "outputs": [
        {
          "output_type": "display_data",
          "data": {
            "image/png": "[encoded data removed]",
            "text/plain": [
              "<Figure size 432x288 with 1 Axes>"
            ]
          },
          "metadata": {
            "tags": [],
            "needs_background": "light"
          }
        }
      ]
    },
    {
      "cell_type": "markdown",
      "metadata": {
        "colab_type": "text",
        "id": "5U9zPiQNx_in"
      },
      "source": [
        "**Callback is used here to save the improved model.**\n",
        "\n",
        "**Hyper-Parameter used here are:**\n",
        "\n",
        "1)Made 1st Layer of Sigmoid Activation and the input dimension = 50 as 50 variables in dataset.\n",
        "\n",
        "2)Added 2nd Layer of Softmax that is also the output layer and 3 classes so choose 3 as next layer shape.\n",
        "\n",
        "3)Have added a keras initializer while defining both the Layers.\n",
        "\n",
        "4)Optimizer used:Adam for faster convergence.\n",
        "\n",
        "5)Metrics: Accuracy to find accuray atlast.\n",
        "\n",
        "6)loss='categorical_crossentropy' as it has 3 different classes\n",
        "\n",
        "7)Have splited in 60:20:20 model of Train:Validation:Test\n",
        "\n",
        "8)Callbackused are: earlystopping, modelcheckpoint.\n",
        "\n",
        "9)Epoch=100 & Steps_per_epoch=4"
      ]
    },
    {
      "cell_type": "markdown",
      "metadata": {
        "id": "Vo0iusHyqPHr",
        "colab_type": "text"
      },
      "source": [
        "\n",
        "\n",
        "---\n",
        "\n"
      ]
    }
  ]
}