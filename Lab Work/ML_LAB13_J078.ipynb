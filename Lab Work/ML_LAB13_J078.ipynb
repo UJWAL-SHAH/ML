{
  "nbformat": 4,
  "nbformat_minor": 0,
  "metadata": {
    "colab": {
      "name": "ML_LAB13_J078.ipynb",
      "provenance": [],
      "authorship_tag": "ABX9TyN9K9dg5sZXG9utB/VdWAcL"
    },
    "kernelspec": {
      "name": "python3",
      "display_name": "Python 3"
    },
    "accelerator": "GPU"
  },
  "cells": [
    {
      "cell_type": "markdown",
      "metadata": {
        "id": "vTOnpvXWrwfv"
      },
      "source": [
        "#**LAB 13**\n",
        "#**ROLL NO : J078**"
      ]
    },
    {
      "cell_type": "markdown",
      "metadata": {
        "id": "-EIu-e3gsZUA"
      },
      "source": [
        "**EXPERIMENT 13**\n",
        "\n",
        "Aim: Unsupervised learning using machine learning models\n",
        "\n",
        "Objectives:\n",
        "1. Perform clustering on Airqualityindex. Identify best clustering technique on the dataset.\n",
        "2. Use Auto encoder on CIFAR10\n"
      ]
    },
    {
      "cell_type": "markdown",
      "metadata": {
        "id": "yVfM4rqbuMQj"
      },
      "source": [
        "This Colaboratory is divied in two parts:\n",
        "\n",
        "1) Clustering \n",
        "\n",
        "2) Auto Encoding "
      ]
    },
    {
      "cell_type": "markdown",
      "metadata": {
        "id": "9CRaTVJUujah"
      },
      "source": [
        "##**1) Clustering**"
      ]
    },
    {
      "cell_type": "code",
      "metadata": {
        "id": "OwYIP6cutmlm"
      },
      "source": [
        "import pandas as pd \n",
        "data = pd.read_csv('/content/AirQualityUCI.csv')"
      ],
      "execution_count": 12,
      "outputs": []
    },
    {
      "cell_type": "code",
      "metadata": {
        "id": "m0m4geZduFef",
        "outputId": "a8a727fb-bcd8-4520-bed9-8a8ad9071fd7",
        "colab": {
          "base_uri": "https://localhost:8080/"
        }
      },
      "source": [
        "data.info()"
      ],
      "execution_count": 13,
      "outputs": [
        {
          "output_type": "stream",
          "text": [
            "<class 'pandas.core.frame.DataFrame'>\n",
            "RangeIndex: 9357 entries, 0 to 9356\n",
            "Data columns (total 15 columns):\n",
            " #   Column         Non-Null Count  Dtype  \n",
            "---  ------         --------------  -----  \n",
            " 0   Date           9357 non-null   object \n",
            " 1   Time           9357 non-null   object \n",
            " 2   CO(GT)         9357 non-null   float64\n",
            " 3   PT08.S1(CO)    9357 non-null   int64  \n",
            " 4   NMHC(GT)       9357 non-null   int64  \n",
            " 5   C6H6(GT)       9357 non-null   float64\n",
            " 6   PT08.S2(NMHC)  9357 non-null   int64  \n",
            " 7   NOx(GT)        9357 non-null   int64  \n",
            " 8   PT08.S3(NOx)   9357 non-null   int64  \n",
            " 9   NO2(GT)        9357 non-null   int64  \n",
            " 10  PT08.S4(NO2)   9357 non-null   int64  \n",
            " 11  PT08.S5(O3)    9357 non-null   int64  \n",
            " 12  T              9357 non-null   float64\n",
            " 13  RH             9357 non-null   float64\n",
            " 14  AH             9357 non-null   float64\n",
            "dtypes: float64(5), int64(8), object(2)\n",
            "memory usage: 1.1+ MB\n"
          ],
          "name": "stdout"
        }
      ]
    },
    {
      "cell_type": "code",
      "metadata": {
        "id": "HNpdT4rEuJn3",
        "outputId": "44933d51-68a5-4cde-ecaa-5a190a64aedc",
        "colab": {
          "base_uri": "https://localhost:8080/",
          "height": 317
        }
      },
      "source": [
        "data.describe()"
      ],
      "execution_count": 14,
      "outputs": [
        {
          "output_type": "execute_result",
          "data": {
            "text/html": [
              "<div>\n",
              "<style scoped>\n",
              "    .dataframe tbody tr th:only-of-type {\n",
              "        vertical-align: middle;\n",
              "    }\n",
              "\n",
              "    .dataframe tbody tr th {\n",
              "        vertical-align: top;\n",
              "    }\n",
              "\n",
              "    .dataframe thead th {\n",
              "        text-align: right;\n",
              "    }\n",
              "</style>\n",
              "<table border=\"1\" class=\"dataframe\">\n",
              "  <thead>\n",
              "    <tr style=\"text-align: right;\">\n",
              "      <th></th>\n",
              "      <th>CO(GT)</th>\n",
              "      <th>PT08.S1(CO)</th>\n",
              "      <th>NMHC(GT)</th>\n",
              "      <th>C6H6(GT)</th>\n",
              "      <th>PT08.S2(NMHC)</th>\n",
              "      <th>NOx(GT)</th>\n",
              "      <th>PT08.S3(NOx)</th>\n",
              "      <th>NO2(GT)</th>\n",
              "      <th>PT08.S4(NO2)</th>\n",
              "      <th>PT08.S5(O3)</th>\n",
              "      <th>T</th>\n",
              "      <th>RH</th>\n",
              "      <th>AH</th>\n",
              "    </tr>\n",
              "  </thead>\n",
              "  <tbody>\n",
              "    <tr>\n",
              "      <th>count</th>\n",
              "      <td>9357.000000</td>\n",
              "      <td>9357.000000</td>\n",
              "      <td>9357.000000</td>\n",
              "      <td>9357.000000</td>\n",
              "      <td>9357.000000</td>\n",
              "      <td>9357.000000</td>\n",
              "      <td>9357.000000</td>\n",
              "      <td>9357.000000</td>\n",
              "      <td>9357.000000</td>\n",
              "      <td>9357.000000</td>\n",
              "      <td>9357.000000</td>\n",
              "      <td>9357.000000</td>\n",
              "      <td>9357.000000</td>\n",
              "    </tr>\n",
              "    <tr>\n",
              "      <th>mean</th>\n",
              "      <td>-34.207524</td>\n",
              "      <td>1048.990061</td>\n",
              "      <td>-159.090093</td>\n",
              "      <td>1.865683</td>\n",
              "      <td>894.595276</td>\n",
              "      <td>168.616971</td>\n",
              "      <td>794.990168</td>\n",
              "      <td>58.148873</td>\n",
              "      <td>1391.479641</td>\n",
              "      <td>975.072032</td>\n",
              "      <td>9.778305</td>\n",
              "      <td>39.485380</td>\n",
              "      <td>-6.837604</td>\n",
              "    </tr>\n",
              "    <tr>\n",
              "      <th>std</th>\n",
              "      <td>77.657170</td>\n",
              "      <td>329.832710</td>\n",
              "      <td>139.789093</td>\n",
              "      <td>41.380206</td>\n",
              "      <td>342.333252</td>\n",
              "      <td>257.433866</td>\n",
              "      <td>321.993552</td>\n",
              "      <td>126.940455</td>\n",
              "      <td>467.210125</td>\n",
              "      <td>456.938184</td>\n",
              "      <td>43.203623</td>\n",
              "      <td>51.216145</td>\n",
              "      <td>38.976670</td>\n",
              "    </tr>\n",
              "    <tr>\n",
              "      <th>min</th>\n",
              "      <td>-200.000000</td>\n",
              "      <td>-200.000000</td>\n",
              "      <td>-200.000000</td>\n",
              "      <td>-200.000000</td>\n",
              "      <td>-200.000000</td>\n",
              "      <td>-200.000000</td>\n",
              "      <td>-200.000000</td>\n",
              "      <td>-200.000000</td>\n",
              "      <td>-200.000000</td>\n",
              "      <td>-200.000000</td>\n",
              "      <td>-200.000000</td>\n",
              "      <td>-200.000000</td>\n",
              "      <td>-200.000000</td>\n",
              "    </tr>\n",
              "    <tr>\n",
              "      <th>25%</th>\n",
              "      <td>0.600000</td>\n",
              "      <td>921.000000</td>\n",
              "      <td>-200.000000</td>\n",
              "      <td>4.000000</td>\n",
              "      <td>711.000000</td>\n",
              "      <td>50.000000</td>\n",
              "      <td>637.000000</td>\n",
              "      <td>53.000000</td>\n",
              "      <td>1185.000000</td>\n",
              "      <td>700.000000</td>\n",
              "      <td>10.900000</td>\n",
              "      <td>34.100000</td>\n",
              "      <td>0.692300</td>\n",
              "    </tr>\n",
              "    <tr>\n",
              "      <th>50%</th>\n",
              "      <td>1.500000</td>\n",
              "      <td>1053.000000</td>\n",
              "      <td>-200.000000</td>\n",
              "      <td>7.900000</td>\n",
              "      <td>895.000000</td>\n",
              "      <td>141.000000</td>\n",
              "      <td>794.000000</td>\n",
              "      <td>96.000000</td>\n",
              "      <td>1446.000000</td>\n",
              "      <td>942.000000</td>\n",
              "      <td>17.200000</td>\n",
              "      <td>48.600000</td>\n",
              "      <td>0.976800</td>\n",
              "    </tr>\n",
              "    <tr>\n",
              "      <th>75%</th>\n",
              "      <td>2.600000</td>\n",
              "      <td>1221.000000</td>\n",
              "      <td>-200.000000</td>\n",
              "      <td>13.600000</td>\n",
              "      <td>1105.000000</td>\n",
              "      <td>284.000000</td>\n",
              "      <td>960.000000</td>\n",
              "      <td>133.000000</td>\n",
              "      <td>1662.000000</td>\n",
              "      <td>1255.000000</td>\n",
              "      <td>24.100000</td>\n",
              "      <td>61.900000</td>\n",
              "      <td>1.296200</td>\n",
              "    </tr>\n",
              "    <tr>\n",
              "      <th>max</th>\n",
              "      <td>11.900000</td>\n",
              "      <td>2040.000000</td>\n",
              "      <td>1189.000000</td>\n",
              "      <td>63.700000</td>\n",
              "      <td>2214.000000</td>\n",
              "      <td>1479.000000</td>\n",
              "      <td>2683.000000</td>\n",
              "      <td>340.000000</td>\n",
              "      <td>2775.000000</td>\n",
              "      <td>2523.000000</td>\n",
              "      <td>44.600000</td>\n",
              "      <td>88.700000</td>\n",
              "      <td>2.231000</td>\n",
              "    </tr>\n",
              "  </tbody>\n",
              "</table>\n",
              "</div>"
            ],
            "text/plain": [
              "            CO(GT)  PT08.S1(CO)  ...           RH           AH\n",
              "count  9357.000000  9357.000000  ...  9357.000000  9357.000000\n",
              "mean    -34.207524  1048.990061  ...    39.485380    -6.837604\n",
              "std      77.657170   329.832710  ...    51.216145    38.976670\n",
              "min    -200.000000  -200.000000  ...  -200.000000  -200.000000\n",
              "25%       0.600000   921.000000  ...    34.100000     0.692300\n",
              "50%       1.500000  1053.000000  ...    48.600000     0.976800\n",
              "75%       2.600000  1221.000000  ...    61.900000     1.296200\n",
              "max      11.900000  2040.000000  ...    88.700000     2.231000\n",
              "\n",
              "[8 rows x 13 columns]"
            ]
          },
          "metadata": {
            "tags": []
          },
          "execution_count": 14
        }
      ]
    },
    {
      "cell_type": "code",
      "metadata": {
        "id": "ZY7f9p5muOya",
        "outputId": "074d5b5d-a89b-4126-9a64-6ec02997aa6a",
        "colab": {
          "base_uri": "https://localhost:8080/"
        }
      },
      "source": [
        "data.shape"
      ],
      "execution_count": 15,
      "outputs": [
        {
          "output_type": "execute_result",
          "data": {
            "text/plain": [
              "(9357, 15)"
            ]
          },
          "metadata": {
            "tags": []
          },
          "execution_count": 15
        }
      ]
    },
    {
      "cell_type": "code",
      "metadata": {
        "id": "-kE3DMbFuR_3"
      },
      "source": [
        "import numpy as np\n",
        "data.replace(to_replace = -200,value = np.NaN , inplace = True )"
      ],
      "execution_count": 16,
      "outputs": []
    },
    {
      "cell_type": "code",
      "metadata": {
        "id": "Hljs2NVOuVGb",
        "outputId": "630895a5-9407-40cb-e361-b1bc3be7860f",
        "colab": {
          "base_uri": "https://localhost:8080/"
        }
      },
      "source": [
        "num = data.isnull().sum()\n",
        "percent = num/data.shape[0]*100\n",
        "percent"
      ],
      "execution_count": 17,
      "outputs": [
        {
          "output_type": "execute_result",
          "data": {
            "text/plain": [
              "Date              0.000000\n",
              "Time              0.000000\n",
              "CO(GT)           17.986534\n",
              "PT08.S1(CO)       3.911510\n",
              "NMHC(GT)         90.231912\n",
              "C6H6(GT)          3.911510\n",
              "PT08.S2(NMHC)     3.911510\n",
              "NOx(GT)          17.516298\n",
              "PT08.S3(NOx)      3.911510\n",
              "NO2(GT)          17.548360\n",
              "PT08.S4(NO2)      3.911510\n",
              "PT08.S5(O3)       3.911510\n",
              "T                 3.911510\n",
              "RH                3.911510\n",
              "AH                3.911510\n",
              "dtype: float64"
            ]
          },
          "metadata": {
            "tags": []
          },
          "execution_count": 17
        }
      ]
    },
    {
      "cell_type": "code",
      "metadata": {
        "id": "NTKxLKtquauH",
        "outputId": "6cf81d79-649d-41e5-fb2c-e375545730cf",
        "colab": {
          "base_uri": "https://localhost:8080/"
        }
      },
      "source": [
        "data.drop(['NMHC(GT)'], axis= 1, inplace= True)\n",
        "num = data.isnull().sum()\n",
        "percent = num/data.shape[0]*100\n",
        "percent"
      ],
      "execution_count": 18,
      "outputs": [
        {
          "output_type": "execute_result",
          "data": {
            "text/plain": [
              "Date              0.000000\n",
              "Time              0.000000\n",
              "CO(GT)           17.986534\n",
              "PT08.S1(CO)       3.911510\n",
              "C6H6(GT)          3.911510\n",
              "PT08.S2(NMHC)     3.911510\n",
              "NOx(GT)          17.516298\n",
              "PT08.S3(NOx)      3.911510\n",
              "NO2(GT)          17.548360\n",
              "PT08.S4(NO2)      3.911510\n",
              "PT08.S5(O3)       3.911510\n",
              "T                 3.911510\n",
              "RH                3.911510\n",
              "AH                3.911510\n",
              "dtype: float64"
            ]
          },
          "metadata": {
            "tags": []
          },
          "execution_count": 18
        }
      ]
    },
    {
      "cell_type": "code",
      "metadata": {
        "id": "XCU7QQ_ZugHX"
      },
      "source": [
        "data[\"T\"] = data.groupby(\"Date\")[\"T\"].transform(lambda x: x.fillna(x.mean()))\n",
        "data[\"CO(GT)\"] = data.groupby(\"Date\")[\"CO(GT)\"].transform(lambda x: x.fillna(x.mean()))\n",
        "data[\"NOx(GT)\"] = data.groupby(\"Date\")[\"NOx(GT)\"].transform(lambda x: x.fillna(x.mean()))\n",
        "data[\"NO2(GT)\"] = data.groupby(\"Date\")[\"NO2(GT)\"].transform(lambda x: x.fillna(x.mean()))"
      ],
      "execution_count": 19,
      "outputs": []
    },
    {
      "cell_type": "code",
      "metadata": {
        "id": "G7sYHInCu7Fv",
        "outputId": "5bce4ee7-916b-47f2-ee6e-e5ad10ddff85",
        "colab": {
          "base_uri": "https://localhost:8080/"
        }
      },
      "source": [
        "num = data.isnull().sum()\n",
        "percent = num/data.shape[0]*100\n",
        "percent"
      ],
      "execution_count": 20,
      "outputs": [
        {
          "output_type": "execute_result",
          "data": {
            "text/plain": [
              "Date             0.000000\n",
              "Time             0.000000\n",
              "CO(GT)           9.233729\n",
              "PT08.S1(CO)      3.911510\n",
              "C6H6(GT)         3.911510\n",
              "PT08.S2(NMHC)    3.911510\n",
              "NOx(GT)          8.720744\n",
              "PT08.S3(NOx)     3.911510\n",
              "NO2(GT)          8.720744\n",
              "PT08.S4(NO2)     3.911510\n",
              "PT08.S5(O3)      3.911510\n",
              "T                2.051940\n",
              "RH               3.911510\n",
              "AH               3.911510\n",
              "dtype: float64"
            ]
          },
          "metadata": {
            "tags": []
          },
          "execution_count": 20
        }
      ]
    },
    {
      "cell_type": "code",
      "metadata": {
        "id": "M_X1Xh-ou-rC",
        "outputId": "254f0596-e268-427c-a964-e687a0b8bc8f",
        "colab": {
          "base_uri": "https://localhost:8080/",
          "height": 351
        }
      },
      "source": [
        "import seaborn as sns\n",
        "sns.heatmap(data.isnull(),yticklabels=False,cbar=False,cmap='viridis')"
      ],
      "execution_count": 21,
      "outputs": [
        {
          "output_type": "execute_result",
          "data": {
            "text/plain": [
              "<matplotlib.axes._subplots.AxesSubplot at 0x7f27c2d039b0>"
            ]
          },
          "metadata": {
            "tags": []
          },
          "execution_count": 21
        },
        {
          "output_type": "display_data",
          "data": {
            "image/png": "[encoded data removed]",
            "text/plain": [
              "<Figure size 432x288 with 1 Axes>"
            ]
          },
          "metadata": {
            "tags": [],
            "needs_background": "light"
          }
        }
      ]
    },
    {
      "cell_type": "code",
      "metadata": {
        "id": "gqrOkbVdvDFQ"
      },
      "source": [
        "data.fillna(method='ffill', inplace= True)"
      ],
      "execution_count": 22,
      "outputs": []
    },
    {
      "cell_type": "code",
      "metadata": {
        "id": "wvUr8Du8vK1t",
        "outputId": "4e4d8690-b196-4774-969c-4e49fd05dcee",
        "colab": {
          "base_uri": "https://localhost:8080/"
        }
      },
      "source": [
        "num = data.isnull().sum()\n",
        "percent = num/data.shape[0]*100\n",
        "percent"
      ],
      "execution_count": 23,
      "outputs": [
        {
          "output_type": "execute_result",
          "data": {
            "text/plain": [
              "Date             0.0\n",
              "Time             0.0\n",
              "CO(GT)           0.0\n",
              "PT08.S1(CO)      0.0\n",
              "C6H6(GT)         0.0\n",
              "PT08.S2(NMHC)    0.0\n",
              "NOx(GT)          0.0\n",
              "PT08.S3(NOx)     0.0\n",
              "NO2(GT)          0.0\n",
              "PT08.S4(NO2)     0.0\n",
              "PT08.S5(O3)      0.0\n",
              "T                0.0\n",
              "RH               0.0\n",
              "AH               0.0\n",
              "dtype: float64"
            ]
          },
          "metadata": {
            "tags": []
          },
          "execution_count": 23
        }
      ]
    },
    {
      "cell_type": "markdown",
      "metadata": {
        "id": "odDNF8mevWg4"
      },
      "source": [
        "Birch"
      ]
    },
    {
      "cell_type": "code",
      "metadata": {
        "id": "I5mZ3ZK4vPeM",
        "outputId": "5fcb7410-bc8d-474d-c32e-f964b2f74095",
        "colab": {
          "base_uri": "https://localhost:8080/",
          "height": 204
        }
      },
      "source": [
        "X1 = data.drop(['Time'], axis=1, inplace=False)\n",
        "X = X1.drop(['Date'], axis=1, inplace=False)\n",
        "X.head()"
      ],
      "execution_count": 24,
      "outputs": [
        {
          "output_type": "execute_result",
          "data": {
            "text/html": [
              "<div>\n",
              "<style scoped>\n",
              "    .dataframe tbody tr th:only-of-type {\n",
              "        vertical-align: middle;\n",
              "    }\n",
              "\n",
              "    .dataframe tbody tr th {\n",
              "        vertical-align: top;\n",
              "    }\n",
              "\n",
              "    .dataframe thead th {\n",
              "        text-align: right;\n",
              "    }\n",
              "</style>\n",
              "<table border=\"1\" class=\"dataframe\">\n",
              "  <thead>\n",
              "    <tr style=\"text-align: right;\">\n",
              "      <th></th>\n",
              "      <th>CO(GT)</th>\n",
              "      <th>PT08.S1(CO)</th>\n",
              "      <th>C6H6(GT)</th>\n",
              "      <th>PT08.S2(NMHC)</th>\n",
              "      <th>NOx(GT)</th>\n",
              "      <th>PT08.S3(NOx)</th>\n",
              "      <th>NO2(GT)</th>\n",
              "      <th>PT08.S4(NO2)</th>\n",
              "      <th>PT08.S5(O3)</th>\n",
              "      <th>T</th>\n",
              "      <th>RH</th>\n",
              "      <th>AH</th>\n",
              "    </tr>\n",
              "  </thead>\n",
              "  <tbody>\n",
              "    <tr>\n",
              "      <th>0</th>\n",
              "      <td>2.6</td>\n",
              "      <td>1360.0</td>\n",
              "      <td>11.9</td>\n",
              "      <td>1046.0</td>\n",
              "      <td>166.0</td>\n",
              "      <td>1056.0</td>\n",
              "      <td>113.0</td>\n",
              "      <td>1692.0</td>\n",
              "      <td>1268.0</td>\n",
              "      <td>13.6</td>\n",
              "      <td>48.9</td>\n",
              "      <td>0.7578</td>\n",
              "    </tr>\n",
              "    <tr>\n",
              "      <th>1</th>\n",
              "      <td>2.0</td>\n",
              "      <td>1292.0</td>\n",
              "      <td>9.4</td>\n",
              "      <td>955.0</td>\n",
              "      <td>103.0</td>\n",
              "      <td>1174.0</td>\n",
              "      <td>92.0</td>\n",
              "      <td>1559.0</td>\n",
              "      <td>972.0</td>\n",
              "      <td>13.3</td>\n",
              "      <td>47.7</td>\n",
              "      <td>0.7255</td>\n",
              "    </tr>\n",
              "    <tr>\n",
              "      <th>2</th>\n",
              "      <td>2.2</td>\n",
              "      <td>1402.0</td>\n",
              "      <td>9.0</td>\n",
              "      <td>939.0</td>\n",
              "      <td>131.0</td>\n",
              "      <td>1140.0</td>\n",
              "      <td>114.0</td>\n",
              "      <td>1555.0</td>\n",
              "      <td>1074.0</td>\n",
              "      <td>11.9</td>\n",
              "      <td>54.0</td>\n",
              "      <td>0.7502</td>\n",
              "    </tr>\n",
              "    <tr>\n",
              "      <th>3</th>\n",
              "      <td>2.2</td>\n",
              "      <td>1376.0</td>\n",
              "      <td>9.2</td>\n",
              "      <td>948.0</td>\n",
              "      <td>172.0</td>\n",
              "      <td>1092.0</td>\n",
              "      <td>122.0</td>\n",
              "      <td>1584.0</td>\n",
              "      <td>1203.0</td>\n",
              "      <td>11.0</td>\n",
              "      <td>60.0</td>\n",
              "      <td>0.7867</td>\n",
              "    </tr>\n",
              "    <tr>\n",
              "      <th>4</th>\n",
              "      <td>1.6</td>\n",
              "      <td>1272.0</td>\n",
              "      <td>6.5</td>\n",
              "      <td>836.0</td>\n",
              "      <td>131.0</td>\n",
              "      <td>1205.0</td>\n",
              "      <td>116.0</td>\n",
              "      <td>1490.0</td>\n",
              "      <td>1110.0</td>\n",
              "      <td>11.2</td>\n",
              "      <td>59.6</td>\n",
              "      <td>0.7888</td>\n",
              "    </tr>\n",
              "  </tbody>\n",
              "</table>\n",
              "</div>"
            ],
            "text/plain": [
              "   CO(GT)  PT08.S1(CO)  C6H6(GT)  ...     T    RH      AH\n",
              "0     2.6       1360.0      11.9  ...  13.6  48.9  0.7578\n",
              "1     2.0       1292.0       9.4  ...  13.3  47.7  0.7255\n",
              "2     2.2       1402.0       9.0  ...  11.9  54.0  0.7502\n",
              "3     2.2       1376.0       9.2  ...  11.0  60.0  0.7867\n",
              "4     1.6       1272.0       6.5  ...  11.2  59.6  0.7888\n",
              "\n",
              "[5 rows x 12 columns]"
            ]
          },
          "metadata": {
            "tags": []
          },
          "execution_count": 24
        }
      ]
    },
    {
      "cell_type": "code",
      "metadata": {
        "id": "KGsaJhQBveC0",
        "outputId": "ad781bca-1899-495c-a8f6-1ddb89ad0b8d",
        "colab": {
          "base_uri": "https://localhost:8080/"
        }
      },
      "source": [
        "from sklearn.cluster import Birch\n",
        "birch = Birch()\n",
        "birch.fit_predict(X)"
      ],
      "execution_count": 25,
      "outputs": [
        {
          "output_type": "execute_result",
          "data": {
            "text/plain": [
              "array([0, 0, 0, ..., 0, 0, 0])"
            ]
          },
          "metadata": {
            "tags": []
          },
          "execution_count": 25
        }
      ]
    },
    {
      "cell_type": "markdown",
      "metadata": {
        "id": "APPQd75QwV90"
      },
      "source": [
        "Agglomerative"
      ]
    },
    {
      "cell_type": "code",
      "metadata": {
        "id": "ByAdiFafwZX3"
      },
      "source": [
        "import numpy as np\n",
        "from sklearn.cluster import AgglomerativeClustering"
      ],
      "execution_count": 26,
      "outputs": []
    },
    {
      "cell_type": "code",
      "metadata": {
        "id": "aG--0mAqwbcK",
        "outputId": "d3286c42-b29e-4cf1-972d-aa4a10ebe990",
        "colab": {
          "base_uri": "https://localhost:8080/"
        }
      },
      "source": [
        "agg = AgglomerativeClustering(affinity='euclidean', compute_full_tree='auto',\n",
        "                        connectivity=None, distance_threshold=None,\n",
        "                        linkage='ward', memory=None, n_clusters=2)\n",
        "agg.fit(X)"
      ],
      "execution_count": 27,
      "outputs": [
        {
          "output_type": "execute_result",
          "data": {
            "text/plain": [
              "AgglomerativeClustering(affinity='euclidean', compute_full_tree='auto',\n",
              "                        connectivity=None, distance_threshold=None,\n",
              "                        linkage='ward', memory=None, n_clusters=2)"
            ]
          },
          "metadata": {
            "tags": []
          },
          "execution_count": 27
        }
      ]
    },
    {
      "cell_type": "markdown",
      "metadata": {
        "id": "zaa--p9swpAn"
      },
      "source": [
        "Spectral"
      ]
    },
    {
      "cell_type": "code",
      "metadata": {
        "id": "XWHQc7dqwm4c"
      },
      "source": [
        "from sklearn.cluster import SpectralClustering"
      ],
      "execution_count": 28,
      "outputs": []
    },
    {
      "cell_type": "code",
      "metadata": {
        "id": "LbIUw8pmVHwZ",
        "outputId": "e250a3b7-4a61-4b15-ea48-ebd3877282e0",
        "colab": {
          "base_uri": "https://localhost:8080/"
        }
      },
      "source": [
        "spclus = SpectralClustering()\n",
        "spclus.fit(X)"
      ],
      "execution_count": 29,
      "outputs": [
        {
          "output_type": "stream",
          "text": [
            "/usr/local/lib/python3.6/dist-packages/sklearn/manifold/_spectral_embedding.py:236: UserWarning: Graph is not fully connected, spectral embedding may not work as expected.\n",
            "  warnings.warn(\"Graph is not fully connected, spectral embedding\"\n",
            "/usr/local/lib/python3.6/dist-packages/numpy/core/_methods.py:195: RuntimeWarning: overflow encountered in multiply\n",
            "  x = um.multiply(x, x, out=x)\n",
            "/usr/local/lib/python3.6/dist-packages/numpy/core/_methods.py:199: RuntimeWarning: overflow encountered in reduce\n",
            "  ret = umr_sum(x, axis, dtype, out, keepdims)\n",
            "/usr/local/lib/python3.6/dist-packages/sklearn/utils/extmath.py:151: RuntimeWarning: overflow encountered in matmul\n",
            "  ret = a @ b\n",
            "/usr/local/lib/python3.6/dist-packages/sklearn/utils/extmath.py:151: RuntimeWarning: invalid value encountered in matmul\n",
            "  ret = a @ b\n",
            "/usr/local/lib/python3.6/dist-packages/sklearn/metrics/pairwise.py:304: RuntimeWarning: invalid value encountered in add\n",
            "  distances += XX\n",
            "/usr/local/lib/python3.6/dist-packages/sklearn/utils/extmath.py:151: RuntimeWarning: overflow encountered in matmul\n",
            "  ret = a @ b\n",
            "/usr/local/lib/python3.6/dist-packages/sklearn/metrics/pairwise.py:304: RuntimeWarning: invalid value encountered in add\n",
            "  distances += XX\n",
            "/usr/local/lib/python3.6/dist-packages/sklearn/utils/extmath.py:151: RuntimeWarning: overflow encountered in matmul\n",
            "  ret = a @ b\n",
            "/usr/local/lib/python3.6/dist-packages/sklearn/metrics/pairwise.py:304: RuntimeWarning: invalid value encountered in add\n",
            "  distances += XX\n",
            "/usr/local/lib/python3.6/dist-packages/sklearn/utils/extmath.py:151: RuntimeWarning: overflow encountered in matmul\n",
            "  ret = a @ b\n",
            "/usr/local/lib/python3.6/dist-packages/sklearn/metrics/pairwise.py:304: RuntimeWarning: invalid value encountered in add\n",
            "  distances += XX\n",
            "/usr/local/lib/python3.6/dist-packages/sklearn/utils/extmath.py:151: RuntimeWarning: overflow encountered in matmul\n",
            "  ret = a @ b\n",
            "/usr/local/lib/python3.6/dist-packages/sklearn/metrics/pairwise.py:304: RuntimeWarning: invalid value encountered in add\n",
            "  distances += XX\n",
            "/usr/local/lib/python3.6/dist-packages/sklearn/utils/extmath.py:151: RuntimeWarning: overflow encountered in matmul\n",
            "  ret = a @ b\n",
            "/usr/local/lib/python3.6/dist-packages/sklearn/metrics/pairwise.py:304: RuntimeWarning: invalid value encountered in add\n",
            "  distances += XX\n",
            "/usr/local/lib/python3.6/dist-packages/sklearn/utils/extmath.py:151: RuntimeWarning: overflow encountered in matmul\n",
            "  ret = a @ b\n",
            "/usr/local/lib/python3.6/dist-packages/sklearn/metrics/pairwise.py:304: RuntimeWarning: invalid value encountered in add\n",
            "  distances += XX\n",
            "/usr/local/lib/python3.6/dist-packages/sklearn/utils/extmath.py:151: RuntimeWarning: overflow encountered in matmul\n",
            "  ret = a @ b\n",
            "/usr/local/lib/python3.6/dist-packages/sklearn/metrics/pairwise.py:304: RuntimeWarning: invalid value encountered in add\n",
            "  distances += XX\n",
            "/usr/local/lib/python3.6/dist-packages/sklearn/utils/extmath.py:151: RuntimeWarning: overflow encountered in matmul\n",
            "  ret = a @ b\n",
            "/usr/local/lib/python3.6/dist-packages/sklearn/metrics/pairwise.py:304: RuntimeWarning: invalid value encountered in add\n",
            "  distances += XX\n",
            "/usr/local/lib/python3.6/dist-packages/sklearn/cluster/_kmeans.py:322: RuntimeWarning: overflow encountered in square\n",
            "  max_iter=max_iter, verbose=verbose)\n",
            "/usr/local/lib/python3.6/dist-packages/sklearn/cluster/_kmeans.py:322: RuntimeWarning: invalid value encountered in subtract\n",
            "  max_iter=max_iter, verbose=verbose)\n",
            "/usr/local/lib/python3.6/dist-packages/sklearn/utils/extmath.py:151: RuntimeWarning: overflow encountered in matmul\n",
            "  ret = a @ b\n",
            "/usr/local/lib/python3.6/dist-packages/sklearn/metrics/pairwise.py:304: RuntimeWarning: invalid value encountered in add\n",
            "  distances += XX\n",
            "/usr/local/lib/python3.6/dist-packages/sklearn/utils/extmath.py:151: RuntimeWarning: overflow encountered in matmul\n",
            "  ret = a @ b\n",
            "/usr/local/lib/python3.6/dist-packages/sklearn/metrics/pairwise.py:304: RuntimeWarning: invalid value encountered in add\n",
            "  distances += XX\n",
            "/usr/local/lib/python3.6/dist-packages/sklearn/cluster/_kmeans.py:324: RuntimeWarning: overflow encountered in square\n",
            "  inertia = np.sum((X - centers[labels]) ** 2, dtype=np.float64)\n",
            "/usr/local/lib/python3.6/dist-packages/sklearn/utils/extmath.py:151: RuntimeWarning: overflow encountered in matmul\n",
            "  ret = a @ b\n",
            "/usr/local/lib/python3.6/dist-packages/sklearn/utils/extmath.py:151: RuntimeWarning: invalid value encountered in matmul\n",
            "  ret = a @ b\n",
            "/usr/local/lib/python3.6/dist-packages/sklearn/metrics/pairwise.py:304: RuntimeWarning: invalid value encountered in add\n",
            "  distances += XX\n",
            "/usr/local/lib/python3.6/dist-packages/sklearn/utils/extmath.py:151: RuntimeWarning: overflow encountered in matmul\n",
            "  ret = a @ b\n",
            "/usr/local/lib/python3.6/dist-packages/sklearn/metrics/pairwise.py:304: RuntimeWarning: invalid value encountered in add\n",
            "  distances += XX\n",
            "/usr/local/lib/python3.6/dist-packages/sklearn/utils/extmath.py:151: RuntimeWarning: overflow encountered in matmul\n",
            "  ret = a @ b\n",
            "/usr/local/lib/python3.6/dist-packages/sklearn/metrics/pairwise.py:304: RuntimeWarning: invalid value encountered in add\n",
            "  distances += XX\n",
            "/usr/local/lib/python3.6/dist-packages/sklearn/utils/extmath.py:151: RuntimeWarning: overflow encountered in matmul\n",
            "  ret = a @ b\n",
            "/usr/local/lib/python3.6/dist-packages/sklearn/metrics/pairwise.py:304: RuntimeWarning: invalid value encountered in add\n",
            "  distances += XX\n",
            "/usr/local/lib/python3.6/dist-packages/sklearn/utils/extmath.py:151: RuntimeWarning: overflow encountered in matmul\n",
            "  ret = a @ b\n",
            "/usr/local/lib/python3.6/dist-packages/sklearn/metrics/pairwise.py:304: RuntimeWarning: invalid value encountered in add\n",
            "  distances += XX\n",
            "/usr/local/lib/python3.6/dist-packages/sklearn/utils/extmath.py:151: RuntimeWarning: overflow encountered in matmul\n",
            "  ret = a @ b\n",
            "/usr/local/lib/python3.6/dist-packages/sklearn/metrics/pairwise.py:304: RuntimeWarning: invalid value encountered in add\n",
            "  distances += XX\n",
            "/usr/local/lib/python3.6/dist-packages/sklearn/utils/extmath.py:151: RuntimeWarning: overflow encountered in matmul\n",
            "  ret = a @ b\n",
            "/usr/local/lib/python3.6/dist-packages/sklearn/metrics/pairwise.py:304: RuntimeWarning: invalid value encountered in add\n",
            "  distances += XX\n",
            "/usr/local/lib/python3.6/dist-packages/sklearn/utils/extmath.py:151: RuntimeWarning: overflow encountered in matmul\n",
            "  ret = a @ b\n",
            "/usr/local/lib/python3.6/dist-packages/sklearn/metrics/pairwise.py:304: RuntimeWarning: invalid value encountered in add\n",
            "  distances += XX\n",
            "/usr/local/lib/python3.6/dist-packages/sklearn/utils/extmath.py:151: RuntimeWarning: overflow encountered in matmul\n",
            "  ret = a @ b\n",
            "/usr/local/lib/python3.6/dist-packages/sklearn/metrics/pairwise.py:304: RuntimeWarning: invalid value encountered in add\n",
            "  distances += XX\n",
            "/usr/local/lib/python3.6/dist-packages/sklearn/cluster/_kmeans.py:322: RuntimeWarning: overflow encountered in square\n",
            "  max_iter=max_iter, verbose=verbose)\n",
            "/usr/local/lib/python3.6/dist-packages/sklearn/cluster/_kmeans.py:322: RuntimeWarning: invalid value encountered in subtract\n",
            "  max_iter=max_iter, verbose=verbose)\n",
            "/usr/local/lib/python3.6/dist-packages/sklearn/utils/extmath.py:151: RuntimeWarning: overflow encountered in matmul\n",
            "  ret = a @ b\n",
            "/usr/local/lib/python3.6/dist-packages/sklearn/metrics/pairwise.py:304: RuntimeWarning: invalid value encountered in add\n",
            "  distances += XX\n",
            "/usr/local/lib/python3.6/dist-packages/sklearn/utils/extmath.py:151: RuntimeWarning: overflow encountered in matmul\n",
            "  ret = a @ b\n",
            "/usr/local/lib/python3.6/dist-packages/sklearn/metrics/pairwise.py:304: RuntimeWarning: invalid value encountered in add\n",
            "  distances += XX\n",
            "/usr/local/lib/python3.6/dist-packages/sklearn/cluster/_kmeans.py:324: RuntimeWarning: overflow encountered in square\n",
            "  inertia = np.sum((X - centers[labels]) ** 2, dtype=np.float64)\n",
            "/usr/local/lib/python3.6/dist-packages/sklearn/utils/extmath.py:151: RuntimeWarning: overflow encountered in matmul\n",
            "  ret = a @ b\n",
            "/usr/local/lib/python3.6/dist-packages/sklearn/utils/extmath.py:151: RuntimeWarning: invalid value encountered in matmul\n",
            "  ret = a @ b\n",
            "/usr/local/lib/python3.6/dist-packages/sklearn/metrics/pairwise.py:304: RuntimeWarning: invalid value encountered in add\n",
            "  distances += XX\n",
            "/usr/local/lib/python3.6/dist-packages/sklearn/utils/extmath.py:151: RuntimeWarning: overflow encountered in matmul\n",
            "  ret = a @ b\n",
            "/usr/local/lib/python3.6/dist-packages/sklearn/metrics/pairwise.py:304: RuntimeWarning: invalid value encountered in add\n",
            "  distances += XX\n",
            "/usr/local/lib/python3.6/dist-packages/sklearn/utils/extmath.py:151: RuntimeWarning: overflow encountered in matmul\n",
            "  ret = a @ b\n",
            "/usr/local/lib/python3.6/dist-packages/sklearn/metrics/pairwise.py:304: RuntimeWarning: invalid value encountered in add\n",
            "  distances += XX\n",
            "/usr/local/lib/python3.6/dist-packages/sklearn/utils/extmath.py:151: RuntimeWarning: overflow encountered in matmul\n",
            "  ret = a @ b\n",
            "/usr/local/lib/python3.6/dist-packages/sklearn/metrics/pairwise.py:304: RuntimeWarning: invalid value encountered in add\n",
            "  distances += XX\n",
            "/usr/local/lib/python3.6/dist-packages/sklearn/utils/extmath.py:151: RuntimeWarning: overflow encountered in matmul\n",
            "  ret = a @ b\n",
            "/usr/local/lib/python3.6/dist-packages/sklearn/metrics/pairwise.py:304: RuntimeWarning: invalid value encountered in add\n",
            "  distances += XX\n",
            "/usr/local/lib/python3.6/dist-packages/sklearn/utils/extmath.py:151: RuntimeWarning: overflow encountered in matmul\n",
            "  ret = a @ b\n",
            "/usr/local/lib/python3.6/dist-packages/sklearn/metrics/pairwise.py:304: RuntimeWarning: invalid value encountered in add\n",
            "  distances += XX\n",
            "/usr/local/lib/python3.6/dist-packages/sklearn/utils/extmath.py:151: RuntimeWarning: overflow encountered in matmul\n",
            "  ret = a @ b\n",
            "/usr/local/lib/python3.6/dist-packages/sklearn/metrics/pairwise.py:304: RuntimeWarning: invalid value encountered in add\n",
            "  distances += XX\n",
            "/usr/local/lib/python3.6/dist-packages/sklearn/utils/extmath.py:151: RuntimeWarning: overflow encountered in matmul\n",
            "  ret = a @ b\n",
            "/usr/local/lib/python3.6/dist-packages/sklearn/metrics/pairwise.py:304: RuntimeWarning: invalid value encountered in add\n",
            "  distances += XX\n",
            "/usr/local/lib/python3.6/dist-packages/sklearn/utils/extmath.py:151: RuntimeWarning: overflow encountered in matmul\n",
            "  ret = a @ b\n",
            "/usr/local/lib/python3.6/dist-packages/sklearn/metrics/pairwise.py:304: RuntimeWarning: invalid value encountered in add\n",
            "  distances += XX\n",
            "/usr/local/lib/python3.6/dist-packages/sklearn/cluster/_kmeans.py:322: RuntimeWarning: overflow encountered in square\n",
            "  max_iter=max_iter, verbose=verbose)\n",
            "/usr/local/lib/python3.6/dist-packages/sklearn/cluster/_kmeans.py:322: RuntimeWarning: invalid value encountered in subtract\n",
            "  max_iter=max_iter, verbose=verbose)\n",
            "/usr/local/lib/python3.6/dist-packages/sklearn/utils/extmath.py:151: RuntimeWarning: overflow encountered in matmul\n",
            "  ret = a @ b\n",
            "/usr/local/lib/python3.6/dist-packages/sklearn/metrics/pairwise.py:304: RuntimeWarning: invalid value encountered in add\n",
            "  distances += XX\n",
            "/usr/local/lib/python3.6/dist-packages/sklearn/utils/extmath.py:151: RuntimeWarning: overflow encountered in matmul\n",
            "  ret = a @ b\n",
            "/usr/local/lib/python3.6/dist-packages/sklearn/metrics/pairwise.py:304: RuntimeWarning: invalid value encountered in add\n",
            "  distances += XX\n",
            "/usr/local/lib/python3.6/dist-packages/sklearn/cluster/_kmeans.py:324: RuntimeWarning: overflow encountered in square\n",
            "  inertia = np.sum((X - centers[labels]) ** 2, dtype=np.float64)\n",
            "/usr/local/lib/python3.6/dist-packages/sklearn/utils/extmath.py:151: RuntimeWarning: overflow encountered in matmul\n",
            "  ret = a @ b\n",
            "/usr/local/lib/python3.6/dist-packages/sklearn/utils/extmath.py:151: RuntimeWarning: invalid value encountered in matmul\n",
            "  ret = a @ b\n",
            "/usr/local/lib/python3.6/dist-packages/sklearn/metrics/pairwise.py:304: RuntimeWarning: invalid value encountered in add\n",
            "  distances += XX\n",
            "/usr/local/lib/python3.6/dist-packages/sklearn/utils/extmath.py:151: RuntimeWarning: overflow encountered in matmul\n",
            "  ret = a @ b\n",
            "/usr/local/lib/python3.6/dist-packages/sklearn/metrics/pairwise.py:304: RuntimeWarning: invalid value encountered in add\n",
            "  distances += XX\n",
            "/usr/local/lib/python3.6/dist-packages/sklearn/utils/extmath.py:151: RuntimeWarning: overflow encountered in matmul\n",
            "  ret = a @ b\n",
            "/usr/local/lib/python3.6/dist-packages/sklearn/metrics/pairwise.py:304: RuntimeWarning: invalid value encountered in add\n",
            "  distances += XX\n",
            "/usr/local/lib/python3.6/dist-packages/sklearn/utils/extmath.py:151: RuntimeWarning: overflow encountered in matmul\n",
            "  ret = a @ b\n",
            "/usr/local/lib/python3.6/dist-packages/sklearn/metrics/pairwise.py:304: RuntimeWarning: invalid value encountered in add\n",
            "  distances += XX\n",
            "/usr/local/lib/python3.6/dist-packages/sklearn/utils/extmath.py:151: RuntimeWarning: overflow encountered in matmul\n",
            "  ret = a @ b\n",
            "/usr/local/lib/python3.6/dist-packages/sklearn/metrics/pairwise.py:304: RuntimeWarning: invalid value encountered in add\n",
            "  distances += XX\n",
            "/usr/local/lib/python3.6/dist-packages/sklearn/utils/extmath.py:151: RuntimeWarning: overflow encountered in matmul\n",
            "  ret = a @ b\n",
            "/usr/local/lib/python3.6/dist-packages/sklearn/metrics/pairwise.py:304: RuntimeWarning: invalid value encountered in add\n",
            "  distances += XX\n",
            "/usr/local/lib/python3.6/dist-packages/sklearn/utils/extmath.py:151: RuntimeWarning: overflow encountered in matmul\n",
            "  ret = a @ b\n",
            "/usr/local/lib/python3.6/dist-packages/sklearn/metrics/pairwise.py:304: RuntimeWarning: invalid value encountered in add\n",
            "  distances += XX\n",
            "/usr/local/lib/python3.6/dist-packages/sklearn/utils/extmath.py:151: RuntimeWarning: overflow encountered in matmul\n",
            "  ret = a @ b\n",
            "/usr/local/lib/python3.6/dist-packages/sklearn/metrics/pairwise.py:304: RuntimeWarning: invalid value encountered in add\n",
            "  distances += XX\n",
            "/usr/local/lib/python3.6/dist-packages/sklearn/utils/extmath.py:151: RuntimeWarning: overflow encountered in matmul\n",
            "  ret = a @ b\n",
            "/usr/local/lib/python3.6/dist-packages/sklearn/metrics/pairwise.py:304: RuntimeWarning: invalid value encountered in add\n",
            "  distances += XX\n",
            "/usr/local/lib/python3.6/dist-packages/sklearn/cluster/_kmeans.py:322: RuntimeWarning: overflow encountered in square\n",
            "  max_iter=max_iter, verbose=verbose)\n",
            "/usr/local/lib/python3.6/dist-packages/sklearn/cluster/_kmeans.py:322: RuntimeWarning: invalid value encountered in subtract\n",
            "  max_iter=max_iter, verbose=verbose)\n",
            "/usr/local/lib/python3.6/dist-packages/sklearn/utils/extmath.py:151: RuntimeWarning: overflow encountered in matmul\n",
            "  ret = a @ b\n",
            "/usr/local/lib/python3.6/dist-packages/sklearn/metrics/pairwise.py:304: RuntimeWarning: invalid value encountered in add\n",
            "  distances += XX\n",
            "/usr/local/lib/python3.6/dist-packages/sklearn/utils/extmath.py:151: RuntimeWarning: overflow encountered in matmul\n",
            "  ret = a @ b\n",
            "/usr/local/lib/python3.6/dist-packages/sklearn/metrics/pairwise.py:304: RuntimeWarning: invalid value encountered in add\n",
            "  distances += XX\n",
            "/usr/local/lib/python3.6/dist-packages/sklearn/cluster/_kmeans.py:324: RuntimeWarning: overflow encountered in square\n",
            "  inertia = np.sum((X - centers[labels]) ** 2, dtype=np.float64)\n",
            "/usr/local/lib/python3.6/dist-packages/sklearn/utils/extmath.py:151: RuntimeWarning: overflow encountered in matmul\n",
            "  ret = a @ b\n",
            "/usr/local/lib/python3.6/dist-packages/sklearn/utils/extmath.py:151: RuntimeWarning: invalid value encountered in matmul\n",
            "  ret = a @ b\n",
            "/usr/local/lib/python3.6/dist-packages/sklearn/metrics/pairwise.py:304: RuntimeWarning: invalid value encountered in add\n",
            "  distances += XX\n",
            "/usr/local/lib/python3.6/dist-packages/sklearn/utils/extmath.py:151: RuntimeWarning: overflow encountered in matmul\n",
            "  ret = a @ b\n",
            "/usr/local/lib/python3.6/dist-packages/sklearn/metrics/pairwise.py:304: RuntimeWarning: invalid value encountered in add\n",
            "  distances += XX\n",
            "/usr/local/lib/python3.6/dist-packages/sklearn/utils/extmath.py:151: RuntimeWarning: overflow encountered in matmul\n",
            "  ret = a @ b\n",
            "/usr/local/lib/python3.6/dist-packages/sklearn/metrics/pairwise.py:304: RuntimeWarning: invalid value encountered in add\n",
            "  distances += XX\n",
            "/usr/local/lib/python3.6/dist-packages/sklearn/utils/extmath.py:151: RuntimeWarning: overflow encountered in matmul\n",
            "  ret = a @ b\n",
            "/usr/local/lib/python3.6/dist-packages/sklearn/metrics/pairwise.py:304: RuntimeWarning: invalid value encountered in add\n",
            "  distances += XX\n",
            "/usr/local/lib/python3.6/dist-packages/sklearn/utils/extmath.py:151: RuntimeWarning: overflow encountered in matmul\n",
            "  ret = a @ b\n",
            "/usr/local/lib/python3.6/dist-packages/sklearn/metrics/pairwise.py:304: RuntimeWarning: invalid value encountered in add\n",
            "  distances += XX\n",
            "/usr/local/lib/python3.6/dist-packages/sklearn/utils/extmath.py:151: RuntimeWarning: overflow encountered in matmul\n",
            "  ret = a @ b\n",
            "/usr/local/lib/python3.6/dist-packages/sklearn/metrics/pairwise.py:304: RuntimeWarning: invalid value encountered in add\n",
            "  distances += XX\n",
            "/usr/local/lib/python3.6/dist-packages/sklearn/utils/extmath.py:151: RuntimeWarning: overflow encountered in matmul\n",
            "  ret = a @ b\n",
            "/usr/local/lib/python3.6/dist-packages/sklearn/metrics/pairwise.py:304: RuntimeWarning: invalid value encountered in add\n",
            "  distances += XX\n",
            "/usr/local/lib/python3.6/dist-packages/sklearn/utils/extmath.py:151: RuntimeWarning: overflow encountered in matmul\n",
            "  ret = a @ b\n",
            "/usr/local/lib/python3.6/dist-packages/sklearn/metrics/pairwise.py:304: RuntimeWarning: invalid value encountered in add\n",
            "  distances += XX\n",
            "/usr/local/lib/python3.6/dist-packages/sklearn/utils/extmath.py:151: RuntimeWarning: overflow encountered in matmul\n",
            "  ret = a @ b\n",
            "/usr/local/lib/python3.6/dist-packages/sklearn/metrics/pairwise.py:304: RuntimeWarning: invalid value encountered in add\n",
            "  distances += XX\n",
            "/usr/local/lib/python3.6/dist-packages/sklearn/cluster/_kmeans.py:322: RuntimeWarning: overflow encountered in square\n",
            "  max_iter=max_iter, verbose=verbose)\n",
            "/usr/local/lib/python3.6/dist-packages/sklearn/cluster/_kmeans.py:322: RuntimeWarning: invalid value encountered in subtract\n",
            "  max_iter=max_iter, verbose=verbose)\n",
            "/usr/local/lib/python3.6/dist-packages/sklearn/utils/extmath.py:151: RuntimeWarning: overflow encountered in matmul\n",
            "  ret = a @ b\n",
            "/usr/local/lib/python3.6/dist-packages/sklearn/metrics/pairwise.py:304: RuntimeWarning: invalid value encountered in add\n",
            "  distances += XX\n",
            "/usr/local/lib/python3.6/dist-packages/sklearn/utils/extmath.py:151: RuntimeWarning: overflow encountered in matmul\n",
            "  ret = a @ b\n",
            "/usr/local/lib/python3.6/dist-packages/sklearn/metrics/pairwise.py:304: RuntimeWarning: invalid value encountered in add\n",
            "  distances += XX\n",
            "/usr/local/lib/python3.6/dist-packages/sklearn/cluster/_kmeans.py:324: RuntimeWarning: overflow encountered in square\n",
            "  inertia = np.sum((X - centers[labels]) ** 2, dtype=np.float64)\n",
            "/usr/local/lib/python3.6/dist-packages/sklearn/utils/extmath.py:151: RuntimeWarning: overflow encountered in matmul\n",
            "  ret = a @ b\n",
            "/usr/local/lib/python3.6/dist-packages/sklearn/utils/extmath.py:151: RuntimeWarning: invalid value encountered in matmul\n",
            "  ret = a @ b\n",
            "/usr/local/lib/python3.6/dist-packages/sklearn/metrics/pairwise.py:304: RuntimeWarning: invalid value encountered in add\n",
            "  distances += XX\n",
            "/usr/local/lib/python3.6/dist-packages/sklearn/utils/extmath.py:151: RuntimeWarning: overflow encountered in matmul\n",
            "  ret = a @ b\n",
            "/usr/local/lib/python3.6/dist-packages/sklearn/metrics/pairwise.py:304: RuntimeWarning: invalid value encountered in add\n",
            "  distances += XX\n",
            "/usr/local/lib/python3.6/dist-packages/sklearn/utils/extmath.py:151: RuntimeWarning: overflow encountered in matmul\n",
            "  ret = a @ b\n",
            "/usr/local/lib/python3.6/dist-packages/sklearn/metrics/pairwise.py:304: RuntimeWarning: invalid value encountered in add\n",
            "  distances += XX\n",
            "/usr/local/lib/python3.6/dist-packages/sklearn/utils/extmath.py:151: RuntimeWarning: overflow encountered in matmul\n",
            "  ret = a @ b\n",
            "/usr/local/lib/python3.6/dist-packages/sklearn/metrics/pairwise.py:304: RuntimeWarning: invalid value encountered in add\n",
            "  distances += XX\n",
            "/usr/local/lib/python3.6/dist-packages/sklearn/utils/extmath.py:151: RuntimeWarning: overflow encountered in matmul\n",
            "  ret = a @ b\n",
            "/usr/local/lib/python3.6/dist-packages/sklearn/metrics/pairwise.py:304: RuntimeWarning: invalid value encountered in add\n",
            "  distances += XX\n",
            "/usr/local/lib/python3.6/dist-packages/sklearn/utils/extmath.py:151: RuntimeWarning: overflow encountered in matmul\n",
            "  ret = a @ b\n",
            "/usr/local/lib/python3.6/dist-packages/sklearn/metrics/pairwise.py:304: RuntimeWarning: invalid value encountered in add\n",
            "  distances += XX\n",
            "/usr/local/lib/python3.6/dist-packages/sklearn/utils/extmath.py:151: RuntimeWarning: overflow encountered in matmul\n",
            "  ret = a @ b\n",
            "/usr/local/lib/python3.6/dist-packages/sklearn/metrics/pairwise.py:304: RuntimeWarning: invalid value encountered in add\n",
            "  distances += XX\n",
            "/usr/local/lib/python3.6/dist-packages/sklearn/utils/extmath.py:151: RuntimeWarning: overflow encountered in matmul\n",
            "  ret = a @ b\n",
            "/usr/local/lib/python3.6/dist-packages/sklearn/metrics/pairwise.py:304: RuntimeWarning: invalid value encountered in add\n",
            "  distances += XX\n",
            "/usr/local/lib/python3.6/dist-packages/sklearn/utils/extmath.py:151: RuntimeWarning: overflow encountered in matmul\n",
            "  ret = a @ b\n",
            "/usr/local/lib/python3.6/dist-packages/sklearn/metrics/pairwise.py:304: RuntimeWarning: invalid value encountered in add\n",
            "  distances += XX\n",
            "/usr/local/lib/python3.6/dist-packages/sklearn/cluster/_kmeans.py:322: RuntimeWarning: overflow encountered in square\n",
            "  max_iter=max_iter, verbose=verbose)\n",
            "/usr/local/lib/python3.6/dist-packages/sklearn/cluster/_kmeans.py:322: RuntimeWarning: invalid value encountered in subtract\n",
            "  max_iter=max_iter, verbose=verbose)\n",
            "/usr/local/lib/python3.6/dist-packages/sklearn/utils/extmath.py:151: RuntimeWarning: overflow encountered in matmul\n",
            "  ret = a @ b\n",
            "/usr/local/lib/python3.6/dist-packages/sklearn/metrics/pairwise.py:304: RuntimeWarning: invalid value encountered in add\n",
            "  distances += XX\n",
            "/usr/local/lib/python3.6/dist-packages/sklearn/utils/extmath.py:151: RuntimeWarning: overflow encountered in matmul\n",
            "  ret = a @ b\n",
            "/usr/local/lib/python3.6/dist-packages/sklearn/metrics/pairwise.py:304: RuntimeWarning: invalid value encountered in add\n",
            "  distances += XX\n",
            "/usr/local/lib/python3.6/dist-packages/sklearn/cluster/_kmeans.py:324: RuntimeWarning: overflow encountered in square\n",
            "  inertia = np.sum((X - centers[labels]) ** 2, dtype=np.float64)\n",
            "/usr/local/lib/python3.6/dist-packages/sklearn/utils/extmath.py:151: RuntimeWarning: overflow encountered in matmul\n",
            "  ret = a @ b\n",
            "/usr/local/lib/python3.6/dist-packages/sklearn/utils/extmath.py:151: RuntimeWarning: invalid value encountered in matmul\n",
            "  ret = a @ b\n",
            "/usr/local/lib/python3.6/dist-packages/sklearn/metrics/pairwise.py:304: RuntimeWarning: invalid value encountered in add\n",
            "  distances += XX\n",
            "/usr/local/lib/python3.6/dist-packages/sklearn/utils/extmath.py:151: RuntimeWarning: overflow encountered in matmul\n",
            "  ret = a @ b\n",
            "/usr/local/lib/python3.6/dist-packages/sklearn/metrics/pairwise.py:304: RuntimeWarning: invalid value encountered in add\n",
            "  distances += XX\n",
            "/usr/local/lib/python3.6/dist-packages/sklearn/utils/extmath.py:151: RuntimeWarning: overflow encountered in matmul\n",
            "  ret = a @ b\n",
            "/usr/local/lib/python3.6/dist-packages/sklearn/metrics/pairwise.py:304: RuntimeWarning: invalid value encountered in add\n",
            "  distances += XX\n",
            "/usr/local/lib/python3.6/dist-packages/sklearn/utils/extmath.py:151: RuntimeWarning: overflow encountered in matmul\n",
            "  ret = a @ b\n",
            "/usr/local/lib/python3.6/dist-packages/sklearn/metrics/pairwise.py:304: RuntimeWarning: invalid value encountered in add\n",
            "  distances += XX\n",
            "/usr/local/lib/python3.6/dist-packages/sklearn/utils/extmath.py:151: RuntimeWarning: overflow encountered in matmul\n",
            "  ret = a @ b\n",
            "/usr/local/lib/python3.6/dist-packages/sklearn/metrics/pairwise.py:304: RuntimeWarning: invalid value encountered in add\n",
            "  distances += XX\n",
            "/usr/local/lib/python3.6/dist-packages/sklearn/utils/extmath.py:151: RuntimeWarning: overflow encountered in matmul\n",
            "  ret = a @ b\n",
            "/usr/local/lib/python3.6/dist-packages/sklearn/metrics/pairwise.py:304: RuntimeWarning: invalid value encountered in add\n",
            "  distances += XX\n",
            "/usr/local/lib/python3.6/dist-packages/sklearn/utils/extmath.py:151: RuntimeWarning: overflow encountered in matmul\n",
            "  ret = a @ b\n",
            "/usr/local/lib/python3.6/dist-packages/sklearn/metrics/pairwise.py:304: RuntimeWarning: invalid value encountered in add\n",
            "  distances += XX\n",
            "/usr/local/lib/python3.6/dist-packages/sklearn/utils/extmath.py:151: RuntimeWarning: overflow encountered in matmul\n",
            "  ret = a @ b\n",
            "/usr/local/lib/python3.6/dist-packages/sklearn/metrics/pairwise.py:304: RuntimeWarning: invalid value encountered in add\n",
            "  distances += XX\n",
            "/usr/local/lib/python3.6/dist-packages/sklearn/utils/extmath.py:151: RuntimeWarning: overflow encountered in matmul\n",
            "  ret = a @ b\n",
            "/usr/local/lib/python3.6/dist-packages/sklearn/metrics/pairwise.py:304: RuntimeWarning: invalid value encountered in add\n",
            "  distances += XX\n",
            "/usr/local/lib/python3.6/dist-packages/sklearn/cluster/_kmeans.py:322: RuntimeWarning: overflow encountered in square\n",
            "  max_iter=max_iter, verbose=verbose)\n",
            "/usr/local/lib/python3.6/dist-packages/sklearn/cluster/_kmeans.py:322: RuntimeWarning: invalid value encountered in subtract\n",
            "  max_iter=max_iter, verbose=verbose)\n",
            "/usr/local/lib/python3.6/dist-packages/sklearn/utils/extmath.py:151: RuntimeWarning: overflow encountered in matmul\n",
            "  ret = a @ b\n",
            "/usr/local/lib/python3.6/dist-packages/sklearn/metrics/pairwise.py:304: RuntimeWarning: invalid value encountered in add\n",
            "  distances += XX\n",
            "/usr/local/lib/python3.6/dist-packages/sklearn/utils/extmath.py:151: RuntimeWarning: overflow encountered in matmul\n",
            "  ret = a @ b\n",
            "/usr/local/lib/python3.6/dist-packages/sklearn/metrics/pairwise.py:304: RuntimeWarning: invalid value encountered in add\n",
            "  distances += XX\n",
            "/usr/local/lib/python3.6/dist-packages/sklearn/cluster/_kmeans.py:324: RuntimeWarning: overflow encountered in square\n",
            "  inertia = np.sum((X - centers[labels]) ** 2, dtype=np.float64)\n",
            "/usr/local/lib/python3.6/dist-packages/sklearn/utils/extmath.py:151: RuntimeWarning: overflow encountered in matmul\n",
            "  ret = a @ b\n",
            "/usr/local/lib/python3.6/dist-packages/sklearn/utils/extmath.py:151: RuntimeWarning: invalid value encountered in matmul\n",
            "  ret = a @ b\n",
            "/usr/local/lib/python3.6/dist-packages/sklearn/metrics/pairwise.py:304: RuntimeWarning: invalid value encountered in add\n",
            "  distances += XX\n",
            "/usr/local/lib/python3.6/dist-packages/sklearn/utils/extmath.py:151: RuntimeWarning: overflow encountered in matmul\n",
            "  ret = a @ b\n",
            "/usr/local/lib/python3.6/dist-packages/sklearn/metrics/pairwise.py:304: RuntimeWarning: invalid value encountered in add\n",
            "  distances += XX\n",
            "/usr/local/lib/python3.6/dist-packages/sklearn/utils/extmath.py:151: RuntimeWarning: overflow encountered in matmul\n",
            "  ret = a @ b\n",
            "/usr/local/lib/python3.6/dist-packages/sklearn/metrics/pairwise.py:304: RuntimeWarning: invalid value encountered in add\n",
            "  distances += XX\n",
            "/usr/local/lib/python3.6/dist-packages/sklearn/utils/extmath.py:151: RuntimeWarning: overflow encountered in matmul\n",
            "  ret = a @ b\n",
            "/usr/local/lib/python3.6/dist-packages/sklearn/metrics/pairwise.py:304: RuntimeWarning: invalid value encountered in add\n",
            "  distances += XX\n",
            "/usr/local/lib/python3.6/dist-packages/sklearn/utils/extmath.py:151: RuntimeWarning: overflow encountered in matmul\n",
            "  ret = a @ b\n",
            "/usr/local/lib/python3.6/dist-packages/sklearn/metrics/pairwise.py:304: RuntimeWarning: invalid value encountered in add\n",
            "  distances += XX\n",
            "/usr/local/lib/python3.6/dist-packages/sklearn/utils/extmath.py:151: RuntimeWarning: overflow encountered in matmul\n",
            "  ret = a @ b\n",
            "/usr/local/lib/python3.6/dist-packages/sklearn/metrics/pairwise.py:304: RuntimeWarning: invalid value encountered in add\n",
            "  distances += XX\n",
            "/usr/local/lib/python3.6/dist-packages/sklearn/utils/extmath.py:151: RuntimeWarning: overflow encountered in matmul\n",
            "  ret = a @ b\n",
            "/usr/local/lib/python3.6/dist-packages/sklearn/metrics/pairwise.py:304: RuntimeWarning: invalid value encountered in add\n",
            "  distances += XX\n",
            "/usr/local/lib/python3.6/dist-packages/sklearn/utils/extmath.py:151: RuntimeWarning: overflow encountered in matmul\n",
            "  ret = a @ b\n",
            "/usr/local/lib/python3.6/dist-packages/sklearn/metrics/pairwise.py:304: RuntimeWarning: invalid value encountered in add\n",
            "  distances += XX\n",
            "/usr/local/lib/python3.6/dist-packages/sklearn/utils/extmath.py:151: RuntimeWarning: overflow encountered in matmul\n",
            "  ret = a @ b\n",
            "/usr/local/lib/python3.6/dist-packages/sklearn/metrics/pairwise.py:304: RuntimeWarning: invalid value encountered in add\n",
            "  distances += XX\n",
            "/usr/local/lib/python3.6/dist-packages/sklearn/cluster/_kmeans.py:322: RuntimeWarning: overflow encountered in square\n",
            "  max_iter=max_iter, verbose=verbose)\n",
            "/usr/local/lib/python3.6/dist-packages/sklearn/cluster/_kmeans.py:322: RuntimeWarning: invalid value encountered in subtract\n",
            "  max_iter=max_iter, verbose=verbose)\n",
            "/usr/local/lib/python3.6/dist-packages/sklearn/utils/extmath.py:151: RuntimeWarning: overflow encountered in matmul\n",
            "  ret = a @ b\n",
            "/usr/local/lib/python3.6/dist-packages/sklearn/metrics/pairwise.py:304: RuntimeWarning: invalid value encountered in add\n",
            "  distances += XX\n",
            "/usr/local/lib/python3.6/dist-packages/sklearn/utils/extmath.py:151: RuntimeWarning: overflow encountered in matmul\n",
            "  ret = a @ b\n",
            "/usr/local/lib/python3.6/dist-packages/sklearn/metrics/pairwise.py:304: RuntimeWarning: invalid value encountered in add\n",
            "  distances += XX\n",
            "/usr/local/lib/python3.6/dist-packages/sklearn/cluster/_kmeans.py:324: RuntimeWarning: overflow encountered in square\n",
            "  inertia = np.sum((X - centers[labels]) ** 2, dtype=np.float64)\n",
            "/usr/local/lib/python3.6/dist-packages/sklearn/utils/extmath.py:151: RuntimeWarning: overflow encountered in matmul\n",
            "  ret = a @ b\n",
            "/usr/local/lib/python3.6/dist-packages/sklearn/utils/extmath.py:151: RuntimeWarning: invalid value encountered in matmul\n",
            "  ret = a @ b\n",
            "/usr/local/lib/python3.6/dist-packages/sklearn/metrics/pairwise.py:304: RuntimeWarning: invalid value encountered in add\n",
            "  distances += XX\n",
            "/usr/local/lib/python3.6/dist-packages/sklearn/utils/extmath.py:151: RuntimeWarning: overflow encountered in matmul\n",
            "  ret = a @ b\n",
            "/usr/local/lib/python3.6/dist-packages/sklearn/metrics/pairwise.py:304: RuntimeWarning: invalid value encountered in add\n",
            "  distances += XX\n",
            "/usr/local/lib/python3.6/dist-packages/sklearn/utils/extmath.py:151: RuntimeWarning: overflow encountered in matmul\n",
            "  ret = a @ b\n",
            "/usr/local/lib/python3.6/dist-packages/sklearn/metrics/pairwise.py:304: RuntimeWarning: invalid value encountered in add\n",
            "  distances += XX\n",
            "/usr/local/lib/python3.6/dist-packages/sklearn/utils/extmath.py:151: RuntimeWarning: overflow encountered in matmul\n",
            "  ret = a @ b\n",
            "/usr/local/lib/python3.6/dist-packages/sklearn/metrics/pairwise.py:304: RuntimeWarning: invalid value encountered in add\n",
            "  distances += XX\n",
            "/usr/local/lib/python3.6/dist-packages/sklearn/utils/extmath.py:151: RuntimeWarning: overflow encountered in matmul\n",
            "  ret = a @ b\n",
            "/usr/local/lib/python3.6/dist-packages/sklearn/metrics/pairwise.py:304: RuntimeWarning: invalid value encountered in add\n",
            "  distances += XX\n",
            "/usr/local/lib/python3.6/dist-packages/sklearn/utils/extmath.py:151: RuntimeWarning: overflow encountered in matmul\n",
            "  ret = a @ b\n",
            "/usr/local/lib/python3.6/dist-packages/sklearn/metrics/pairwise.py:304: RuntimeWarning: invalid value encountered in add\n",
            "  distances += XX\n",
            "/usr/local/lib/python3.6/dist-packages/sklearn/utils/extmath.py:151: RuntimeWarning: overflow encountered in matmul\n",
            "  ret = a @ b\n",
            "/usr/local/lib/python3.6/dist-packages/sklearn/metrics/pairwise.py:304: RuntimeWarning: invalid value encountered in add\n",
            "  distances += XX\n",
            "/usr/local/lib/python3.6/dist-packages/sklearn/utils/extmath.py:151: RuntimeWarning: overflow encountered in matmul\n",
            "  ret = a @ b\n",
            "/usr/local/lib/python3.6/dist-packages/sklearn/metrics/pairwise.py:304: RuntimeWarning: invalid value encountered in add\n",
            "  distances += XX\n",
            "/usr/local/lib/python3.6/dist-packages/sklearn/utils/extmath.py:151: RuntimeWarning: overflow encountered in matmul\n",
            "  ret = a @ b\n",
            "/usr/local/lib/python3.6/dist-packages/sklearn/metrics/pairwise.py:304: RuntimeWarning: invalid value encountered in add\n",
            "  distances += XX\n",
            "/usr/local/lib/python3.6/dist-packages/sklearn/cluster/_kmeans.py:322: RuntimeWarning: overflow encountered in square\n",
            "  max_iter=max_iter, verbose=verbose)\n",
            "/usr/local/lib/python3.6/dist-packages/sklearn/cluster/_kmeans.py:322: RuntimeWarning: invalid value encountered in subtract\n",
            "  max_iter=max_iter, verbose=verbose)\n",
            "/usr/local/lib/python3.6/dist-packages/sklearn/utils/extmath.py:151: RuntimeWarning: overflow encountered in matmul\n",
            "  ret = a @ b\n",
            "/usr/local/lib/python3.6/dist-packages/sklearn/metrics/pairwise.py:304: RuntimeWarning: invalid value encountered in add\n",
            "  distances += XX\n",
            "/usr/local/lib/python3.6/dist-packages/sklearn/utils/extmath.py:151: RuntimeWarning: overflow encountered in matmul\n",
            "  ret = a @ b\n",
            "/usr/local/lib/python3.6/dist-packages/sklearn/metrics/pairwise.py:304: RuntimeWarning: invalid value encountered in add\n",
            "  distances += XX\n",
            "/usr/local/lib/python3.6/dist-packages/sklearn/cluster/_kmeans.py:324: RuntimeWarning: overflow encountered in square\n",
            "  inertia = np.sum((X - centers[labels]) ** 2, dtype=np.float64)\n",
            "/usr/local/lib/python3.6/dist-packages/sklearn/utils/extmath.py:151: RuntimeWarning: overflow encountered in matmul\n",
            "  ret = a @ b\n",
            "/usr/local/lib/python3.6/dist-packages/sklearn/utils/extmath.py:151: RuntimeWarning: invalid value encountered in matmul\n",
            "  ret = a @ b\n",
            "/usr/local/lib/python3.6/dist-packages/sklearn/metrics/pairwise.py:304: RuntimeWarning: invalid value encountered in add\n",
            "  distances += XX\n",
            "/usr/local/lib/python3.6/dist-packages/sklearn/utils/extmath.py:151: RuntimeWarning: overflow encountered in matmul\n",
            "  ret = a @ b\n",
            "/usr/local/lib/python3.6/dist-packages/sklearn/metrics/pairwise.py:304: RuntimeWarning: invalid value encountered in add\n",
            "  distances += XX\n",
            "/usr/local/lib/python3.6/dist-packages/sklearn/utils/extmath.py:151: RuntimeWarning: overflow encountered in matmul\n",
            "  ret = a @ b\n",
            "/usr/local/lib/python3.6/dist-packages/sklearn/metrics/pairwise.py:304: RuntimeWarning: invalid value encountered in add\n",
            "  distances += XX\n",
            "/usr/local/lib/python3.6/dist-packages/sklearn/utils/extmath.py:151: RuntimeWarning: overflow encountered in matmul\n",
            "  ret = a @ b\n",
            "/usr/local/lib/python3.6/dist-packages/sklearn/metrics/pairwise.py:304: RuntimeWarning: invalid value encountered in add\n",
            "  distances += XX\n",
            "/usr/local/lib/python3.6/dist-packages/sklearn/utils/extmath.py:151: RuntimeWarning: overflow encountered in matmul\n",
            "  ret = a @ b\n",
            "/usr/local/lib/python3.6/dist-packages/sklearn/metrics/pairwise.py:304: RuntimeWarning: invalid value encountered in add\n",
            "  distances += XX\n",
            "/usr/local/lib/python3.6/dist-packages/sklearn/utils/extmath.py:151: RuntimeWarning: overflow encountered in matmul\n",
            "  ret = a @ b\n",
            "/usr/local/lib/python3.6/dist-packages/sklearn/metrics/pairwise.py:304: RuntimeWarning: invalid value encountered in add\n",
            "  distances += XX\n",
            "/usr/local/lib/python3.6/dist-packages/sklearn/utils/extmath.py:151: RuntimeWarning: overflow encountered in matmul\n",
            "  ret = a @ b\n",
            "/usr/local/lib/python3.6/dist-packages/sklearn/metrics/pairwise.py:304: RuntimeWarning: invalid value encountered in add\n",
            "  distances += XX\n",
            "/usr/local/lib/python3.6/dist-packages/sklearn/utils/extmath.py:151: RuntimeWarning: overflow encountered in matmul\n",
            "  ret = a @ b\n",
            "/usr/local/lib/python3.6/dist-packages/sklearn/metrics/pairwise.py:304: RuntimeWarning: invalid value encountered in add\n",
            "  distances += XX\n",
            "/usr/local/lib/python3.6/dist-packages/sklearn/utils/extmath.py:151: RuntimeWarning: overflow encountered in matmul\n",
            "  ret = a @ b\n",
            "/usr/local/lib/python3.6/dist-packages/sklearn/metrics/pairwise.py:304: RuntimeWarning: invalid value encountered in add\n",
            "  distances += XX\n",
            "/usr/local/lib/python3.6/dist-packages/sklearn/cluster/_kmeans.py:322: RuntimeWarning: overflow encountered in square\n",
            "  max_iter=max_iter, verbose=verbose)\n",
            "/usr/local/lib/python3.6/dist-packages/sklearn/cluster/_kmeans.py:322: RuntimeWarning: invalid value encountered in subtract\n",
            "  max_iter=max_iter, verbose=verbose)\n",
            "/usr/local/lib/python3.6/dist-packages/sklearn/utils/extmath.py:151: RuntimeWarning: overflow encountered in matmul\n",
            "  ret = a @ b\n",
            "/usr/local/lib/python3.6/dist-packages/sklearn/metrics/pairwise.py:304: RuntimeWarning: invalid value encountered in add\n",
            "  distances += XX\n",
            "/usr/local/lib/python3.6/dist-packages/sklearn/utils/extmath.py:151: RuntimeWarning: overflow encountered in matmul\n",
            "  ret = a @ b\n",
            "/usr/local/lib/python3.6/dist-packages/sklearn/metrics/pairwise.py:304: RuntimeWarning: invalid value encountered in add\n",
            "  distances += XX\n",
            "/usr/local/lib/python3.6/dist-packages/sklearn/cluster/_kmeans.py:324: RuntimeWarning: overflow encountered in square\n",
            "  inertia = np.sum((X - centers[labels]) ** 2, dtype=np.float64)\n",
            "/usr/local/lib/python3.6/dist-packages/sklearn/cluster/_kmeans.py:296: ConvergenceWarning: Number of distinct clusters (1) found smaller than n_clusters (8). Possibly due to duplicate points in X.\n",
            "  ).fit(X, sample_weight=sample_weight)\n"
          ],
          "name": "stderr"
        },
        {
          "output_type": "execute_result",
          "data": {
            "text/plain": [
              "SpectralClustering(affinity='rbf', assign_labels='kmeans', coef0=1, degree=3,\n",
              "                   eigen_solver=None, eigen_tol=0.0, gamma=1.0,\n",
              "                   kernel_params=None, n_clusters=8, n_components=None,\n",
              "                   n_init=10, n_jobs=None, n_neighbors=10, random_state=None)"
            ]
          },
          "metadata": {
            "tags": []
          },
          "execution_count": 29
        }
      ]
    },
    {
      "cell_type": "markdown",
      "metadata": {
        "id": "VoG55lPArwzr"
      },
      "source": [
        "\n",
        "\n",
        "---\n",
        "\n",
        "\n",
        "\n",
        "---\n",
        "\n"
      ]
    },
    {
      "cell_type": "markdown",
      "metadata": {
        "id": "H6lWJa3lubSi"
      },
      "source": [
        "##**2) Auto Encoding**"
      ]
    },
    {
      "cell_type": "code",
      "metadata": {
        "id": "IbY_tj0JyZNG",
        "outputId": "8dbef19b-6804-41ef-a45e-ff62abab00be",
        "colab": {
          "base_uri": "https://localhost:8080/"
        }
      },
      "source": [
        "import os\n",
        "import pickle\n",
        "import pandas as pd\n",
        "import numpy as np\n",
        "import matplotlib.pyplot as plt\n",
        "\n",
        "import keras\n",
        "from keras.models import load_model\n",
        "from keras.datasets import cifar10\n",
        "from keras.layers import Input, Dense, Conv2D, MaxPooling2D, UpSampling2D, BatchNormalization, Activation\n",
        "from keras.models import Model\n",
        "from keras.callbacks import EarlyStopping, ModelCheckpoint\n",
        "from keras.optimizers import Adam\n",
        "\n",
        "!pip install livelossplot\n",
        "from livelossplot import PlotLossesKeras\n",
        "(x_train, y_train), (x_test, y_test) = cifar10.load_data()\n",
        "print(x_train.shape, x_test.shape)\n",
        "print(y_train.shape, y_test.shape)"
      ],
      "execution_count": 30,
      "outputs": [
        {
          "output_type": "stream",
          "text": [
            "Collecting livelossplot\n",
            "  Downloading https://files.pythonhosted.org/packages/0f/08/1884157a3de72d41fa97cacacafaa49abf00eba53cb7e08615b2b65b4a9d/livelossplot-0.5.3-py3-none-any.whl\n",
            "Requirement already satisfied: matplotlib; python_version >= \"3.6\" in /usr/local/lib/python3.6/dist-packages (from livelossplot) (3.2.2)\n",
            "Requirement already satisfied: ipython in /usr/local/lib/python3.6/dist-packages (from livelossplot) (5.5.0)\n",
            "Requirement already satisfied: bokeh; python_version >= \"3.6\" in /usr/local/lib/python3.6/dist-packages (from livelossplot) (2.1.1)\n",
            "Requirement already satisfied: cycler>=0.10 in /usr/local/lib/python3.6/dist-packages (from matplotlib; python_version >= \"3.6\"->livelossplot) (0.10.0)\n",
            "Requirement already satisfied: kiwisolver>=1.0.1 in /usr/local/lib/python3.6/dist-packages (from matplotlib; python_version >= \"3.6\"->livelossplot) (1.2.0)\n",
            "Requirement already satisfied: numpy>=1.11 in /usr/local/lib/python3.6/dist-packages (from matplotlib; python_version >= \"3.6\"->livelossplot) (1.18.5)\n",
            "Requirement already satisfied: pyparsing!=2.0.4,!=2.1.2,!=2.1.6,>=2.0.1 in /usr/local/lib/python3.6/dist-packages (from matplotlib; python_version >= \"3.6\"->livelossplot) (2.4.7)\n",
            "Requirement already satisfied: python-dateutil>=2.1 in /usr/local/lib/python3.6/dist-packages (from matplotlib; python_version >= \"3.6\"->livelossplot) (2.8.1)\n",
            "Requirement already satisfied: prompt-toolkit<2.0.0,>=1.0.4 in /usr/local/lib/python3.6/dist-packages (from ipython->livelossplot) (1.0.18)\n",
            "Requirement already satisfied: pygments in /usr/local/lib/python3.6/dist-packages (from ipython->livelossplot) (2.6.1)\n",
            "Requirement already satisfied: pexpect; sys_platform != \"win32\" in /usr/local/lib/python3.6/dist-packages (from ipython->livelossplot) (4.8.0)\n",
            "Requirement already satisfied: setuptools>=18.5 in /usr/local/lib/python3.6/dist-packages (from ipython->livelossplot) (50.3.2)\n",
            "Requirement already satisfied: pickleshare in /usr/local/lib/python3.6/dist-packages (from ipython->livelossplot) (0.7.5)\n",
            "Requirement already satisfied: decorator in /usr/local/lib/python3.6/dist-packages (from ipython->livelossplot) (4.4.2)\n",
            "Requirement already satisfied: traitlets>=4.2 in /usr/local/lib/python3.6/dist-packages (from ipython->livelossplot) (4.3.3)\n",
            "Requirement already satisfied: simplegeneric>0.8 in /usr/local/lib/python3.6/dist-packages (from ipython->livelossplot) (0.8.1)\n",
            "Requirement already satisfied: Jinja2>=2.7 in /usr/local/lib/python3.6/dist-packages (from bokeh; python_version >= \"3.6\"->livelossplot) (2.11.2)\n",
            "Requirement already satisfied: PyYAML>=3.10 in /usr/local/lib/python3.6/dist-packages (from bokeh; python_version >= \"3.6\"->livelossplot) (3.13)\n",
            "Requirement already satisfied: tornado>=5.1 in /usr/local/lib/python3.6/dist-packages (from bokeh; python_version >= \"3.6\"->livelossplot) (5.1.1)\n",
            "Requirement already satisfied: pillow>=4.0 in /usr/local/lib/python3.6/dist-packages (from bokeh; python_version >= \"3.6\"->livelossplot) (7.0.0)\n",
            "Requirement already satisfied: packaging>=16.8 in /usr/local/lib/python3.6/dist-packages (from bokeh; python_version >= \"3.6\"->livelossplot) (20.4)\n",
            "Requirement already satisfied: typing-extensions>=3.7.4 in /usr/local/lib/python3.6/dist-packages (from bokeh; python_version >= \"3.6\"->livelossplot) (3.7.4.3)\n",
            "Requirement already satisfied: six in /usr/local/lib/python3.6/dist-packages (from cycler>=0.10->matplotlib; python_version >= \"3.6\"->livelossplot) (1.15.0)\n",
            "Requirement already satisfied: wcwidth in /usr/local/lib/python3.6/dist-packages (from prompt-toolkit<2.0.0,>=1.0.4->ipython->livelossplot) (0.2.5)\n",
            "Requirement already satisfied: ptyprocess>=0.5 in /usr/local/lib/python3.6/dist-packages (from pexpect; sys_platform != \"win32\"->ipython->livelossplot) (0.6.0)\n",
            "Requirement already satisfied: ipython-genutils in /usr/local/lib/python3.6/dist-packages (from traitlets>=4.2->ipython->livelossplot) (0.2.0)\n",
            "Requirement already satisfied: MarkupSafe>=0.23 in /usr/local/lib/python3.6/dist-packages (from Jinja2>=2.7->bokeh; python_version >= \"3.6\"->livelossplot) (1.1.1)\n",
            "Installing collected packages: livelossplot\n",
            "Successfully installed livelossplot-0.5.3\n",
            "Downloading data from https://www.cs.toronto.edu/~kriz/cifar-10-python.tar.gz\n",
            "170500096/170498071 [==============================] - 2s 0us/step\n",
            "(50000, 32, 32, 3) (10000, 32, 32, 3)\n",
            "(50000, 1) (10000, 1)\n"
          ],
          "name": "stdout"
        }
      ]
    },
    {
      "cell_type": "code",
      "metadata": {
        "id": "_1z_vje80xg2"
      },
      "source": [
        "x_train = x_train.astype('float32')\n",
        "x_test = x_test.astype('float32')\n",
        "x_train /= 255.\n",
        "x_test /= 255.\n",
        "x_train_gray = x_train[:,:,:,0]\n",
        "x_test_gray = x_test[:,:,:,0]"
      ],
      "execution_count": 31,
      "outputs": []
    },
    {
      "cell_type": "code",
      "metadata": {
        "id": "UY6OwoIG1cF6",
        "outputId": "90b3b284-fce5-416a-b355-cc973ff677a2",
        "colab": {
          "base_uri": "https://localhost:8080/"
        }
      },
      "source": [
        "print('Training Shape:', x_train_gray.shape)\n",
        "print('Number of train samples:', x_train_gray.shape[0])\n",
        "print('Number of test samples:', x_test_gray.shape[0])\n",
        "x_val = x_test_gray[:7000]\n",
        "x_test = x_test_gray[7000:]\n",
        "print(\"Validation Data Shape: {0} \\nTest Data Shape: {1}\".format(x_val.shape, x_test.shape))\n"
      ],
      "execution_count": 32,
      "outputs": [
        {
          "output_type": "stream",
          "text": [
            "Training Shape: (50000, 32, 32)\n",
            "Number of train samples: 50000\n",
            "Number of test samples: 10000\n",
            "Validation Data Shape: (7000, 32, 32) \n",
            "Test Data Shape: (3000, 32, 32)\n"
          ],
          "name": "stdout"
        }
      ]
    },
    {
      "cell_type": "code",
      "metadata": {
        "id": "932ZswI9zEKj"
      },
      "source": [
        "input_img = Input(shape=(32, 32))\n",
        "\n",
        "#Encoding\n",
        "x = Dense(64, activation = 'relu')(input_img)\n",
        "x = Dense(32, activation = 'relu')(x)\n",
        "x = Dense(16, activation = 'relu')(x)\n",
        "encoded = Dense(8, activation = 'relu')(x)\n",
        "\n",
        "# Decoding\n",
        "x = Dense(8, activation = 'relu')(encoded)\n",
        "x = Dense(16, activation = 'relu')(x)\n",
        "x = Dense(32, activation = 'relu')(x)\n",
        "x = Dense(64, activation = 'relu')(x)\n",
        "decoded = Dense(32, activation = 'sigmoid')(x)"
      ],
      "execution_count": 33,
      "outputs": []
    },
    {
      "cell_type": "code",
      "metadata": {
        "id": "8_QTnqnAymFy"
      },
      "source": [
        "model = Model(input_img, decoded)\n",
        "model.compile(optimizer='adam', loss='binary_crossentropy')"
      ],
      "execution_count": 34,
      "outputs": []
    },
    {
      "cell_type": "code",
      "metadata": {
        "id": "i09B8WVsRdW5",
        "outputId": "b0917127-baf5-4565-dd53-c27fffe18ed6",
        "colab": {
          "base_uri": "https://localhost:8080/"
        }
      },
      "source": [
        "print('Training Shape:', x_train_gray.shape)\n",
        "print(\"Validation Shape: \",(x_val.shape, x_test.shape))\n",
        "print('Testing Shape:', x_test.shape)"
      ],
      "execution_count": 35,
      "outputs": [
        {
          "output_type": "stream",
          "text": [
            "Training Shape: (50000, 32, 32)\n",
            "Validation Shape:  ((7000, 32, 32), (3000, 32, 32))\n",
            "Testing Shape: (3000, 32, 32)\n"
          ],
          "name": "stdout"
        }
      ]
    },
    {
      "cell_type": "code",
      "metadata": {
        "id": "IMOjudTnysis",
        "outputId": "7b38a821-2282-4e86-e1a4-95d396b1c1cb",
        "colab": {
          "base_uri": "https://localhost:8080/"
        }
      },
      "source": [
        "batch_size = 32\n",
        "num_classes = 10\n",
        "epochs = 10\n",
        "chkpt = 'AutoEncoder_Cifar10_Deep_weights.hdf5'\n",
        "mc = ModelCheckpoint(filepath = chkpt, monitor = 'val_loss', verbose = 1, save_best_only = True, mode = 'auto')\n",
        "\n",
        "history = model.fit(x_train_gray, x_train_gray, batch_size = batch_size, epochs = epochs, verbose = 1, validation_data = (x_val, x_val), \n",
        "                    callbacks = [mc])"
      ],
      "execution_count": 36,
      "outputs": [
        {
          "output_type": "stream",
          "text": [
            "Epoch 1/10\n",
            "1562/1563 [============================>.] - ETA: 0s - loss: 0.5915\n",
            "Epoch 00001: val_loss improved from inf to 0.58079, saving model to AutoEncoder_Cifar10_Deep_weights.hdf5\n",
            "1563/1563 [==============================] - 9s 6ms/step - loss: 0.5915 - val_loss: 0.5808\n",
            "Epoch 2/10\n",
            "1562/1563 [============================>.] - ETA: 0s - loss: 0.5753\n",
            "Epoch 00002: val_loss improved from 0.58079 to 0.57445, saving model to AutoEncoder_Cifar10_Deep_weights.hdf5\n",
            "1563/1563 [==============================] - 9s 6ms/step - loss: 0.5753 - val_loss: 0.5744\n",
            "Epoch 3/10\n",
            "1562/1563 [============================>.] - ETA: 0s - loss: 0.5731\n",
            "Epoch 00003: val_loss improved from 0.57445 to 0.57359, saving model to AutoEncoder_Cifar10_Deep_weights.hdf5\n",
            "1563/1563 [==============================] - 9s 6ms/step - loss: 0.5731 - val_loss: 0.5736\n",
            "Epoch 4/10\n",
            "1555/1563 [============================>.] - ETA: 0s - loss: 0.5728\n",
            "Epoch 00004: val_loss improved from 0.57359 to 0.57351, saving model to AutoEncoder_Cifar10_Deep_weights.hdf5\n",
            "1563/1563 [==============================] - 9s 6ms/step - loss: 0.5727 - val_loss: 0.5735\n",
            "Epoch 5/10\n",
            "1554/1563 [============================>.] - ETA: 0s - loss: 0.5725\n",
            "Epoch 00005: val_loss improved from 0.57351 to 0.57323, saving model to AutoEncoder_Cifar10_Deep_weights.hdf5\n",
            "1563/1563 [==============================] - 9s 6ms/step - loss: 0.5725 - val_loss: 0.5732\n",
            "Epoch 6/10\n",
            "1561/1563 [============================>.] - ETA: 0s - loss: 0.5724\n",
            "Epoch 00006: val_loss improved from 0.57323 to 0.57311, saving model to AutoEncoder_Cifar10_Deep_weights.hdf5\n",
            "1563/1563 [==============================] - 9s 6ms/step - loss: 0.5724 - val_loss: 0.5731\n",
            "Epoch 7/10\n",
            "1562/1563 [============================>.] - ETA: 0s - loss: 0.5723\n",
            "Epoch 00007: val_loss improved from 0.57311 to 0.57300, saving model to AutoEncoder_Cifar10_Deep_weights.hdf5\n",
            "1563/1563 [==============================] - 9s 6ms/step - loss: 0.5723 - val_loss: 0.5730\n",
            "Epoch 8/10\n",
            "1560/1563 [============================>.] - ETA: 0s - loss: 0.5722\n",
            "Epoch 00008: val_loss improved from 0.57300 to 0.57293, saving model to AutoEncoder_Cifar10_Deep_weights.hdf5\n",
            "1563/1563 [==============================] - 9s 6ms/step - loss: 0.5722 - val_loss: 0.5729\n",
            "Epoch 9/10\n",
            "1563/1563 [==============================] - ETA: 0s - loss: 0.5722\n",
            "Epoch 00009: val_loss did not improve from 0.57293\n",
            "1563/1563 [==============================] - 9s 5ms/step - loss: 0.5722 - val_loss: 0.5730\n",
            "Epoch 10/10\n",
            "1561/1563 [============================>.] - ETA: 0s - loss: 0.5721\n",
            "Epoch 00010: val_loss did not improve from 0.57293\n",
            "1563/1563 [==============================] - 9s 5ms/step - loss: 0.5721 - val_loss: 0.5731\n"
          ],
          "name": "stdout"
        }
      ]
    },
    {
      "cell_type": "code",
      "metadata": {
        "id": "d1p9ToAOy2Q6",
        "outputId": "6cec454b-0ed7-4a94-fd5a-73c1f59521a6",
        "colab": {
          "base_uri": "https://localhost:8080/"
        }
      },
      "source": [
        "score = model.evaluate(x_test, x_test, verbose=1)\n",
        "print(score)"
      ],
      "execution_count": 37,
      "outputs": [
        {
          "output_type": "stream",
          "text": [
            "94/94 [==============================] - 0s 4ms/step - loss: 0.5727\n",
            "0.5726961493492126\n"
          ],
          "name": "stdout"
        }
      ]
    },
    {
      "cell_type": "code",
      "metadata": {
        "id": "q_9BRxSU37Pa",
        "outputId": "638bf1f1-43ce-428d-8e56-710a5ac10f74",
        "colab": {
          "base_uri": "https://localhost:8080/"
        }
      },
      "source": [
        "c10test = model.predict(x_test)\n",
        "c10val = model.predict(x_val)\n",
        "print(\"Validation Dataset Score: {0}\\nTest Dataset Score: {1}\".format(np.average(c10val), np.average(c10test)))"
      ],
      "execution_count": 38,
      "outputs": [
        {
          "output_type": "stream",
          "text": [
            "Validation Dataset Score: 0.48889753222465515\n",
            "Test Dataset Score: 0.4838826358318329\n"
          ],
          "name": "stdout"
        }
      ]
    },
    {
      "cell_type": "code",
      "metadata": {
        "id": "3B8heA184ufs"
      },
      "source": [
        "def showImage(orig, dec, num=10):\n",
        "  n = num \n",
        "  plt.figure(figsize=(20, 4))\n",
        "  for i in range(n):\n",
        "      # display original\n",
        "      ax = plt.subplot(2, n, i + 1)\n",
        "      plt.imshow(orig[i].reshape(32,32))\n",
        "      plt.gray()\n",
        "      ax.get_xaxis().set_visible(False)\n",
        "      ax.get_yaxis().set_visible(False)\n",
        "\n",
        "      # display reconstruction\n",
        "      ax = plt.subplot(2, n, i + 1 + n)\n",
        "      plt.imshow(dec[i].reshape(32,32))\n",
        "      plt.gray()\n",
        "      ax.get_xaxis().set_visible(False)\n",
        "      ax.get_yaxis().set_visible(False)\n",
        "  plt.show()"
      ],
      "execution_count": 39,
      "outputs": []
    },
    {
      "cell_type": "code",
      "metadata": {
        "id": "Tx7uzUm3MMVD",
        "outputId": "7a310aa7-1f6b-4565-8f20-ade433087795",
        "colab": {
          "base_uri": "https://localhost:8080/",
          "height": 248
        }
      },
      "source": [
        "showImage(x_test, c10test)"
      ],
      "execution_count": 40,
      "outputs": [
        {
          "output_type": "display_data",
          "data": {
            "image/png": "[encoded data removed]",
            "text/plain": [
              "<Figure size 1440x288 with 20 Axes>"
            ]
          },
          "metadata": {
            "tags": [],
            "needs_background": "light"
          }
        }
      ]
    },
    {
      "cell_type": "markdown",
      "metadata": {
        "id": "Af2kQKLdu0wX"
      },
      "source": [
        "\n",
        "\n",
        "---\n",
        "\n",
        "\n",
        "\n",
        "---\n",
        "\n"
      ]
    }
  ]
}