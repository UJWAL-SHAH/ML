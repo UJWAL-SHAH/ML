{
  "nbformat": 4,
  "nbformat_minor": 0,
  "metadata": {
    "colab": {
      "name": "ML_Lab6_J078.ipynb",
      "provenance": [],
      "collapsed_sections": [],
      "authorship_tag": "ABX9TyM9UnRpDiqMoCUORGvCdTXL",
      "include_colab_link": true
    },
    "kernelspec": {
      "name": "python3",
      "display_name": "Python 3"
    }
  },
  "cells": [
    {
      "cell_type": "markdown",
      "metadata": {
        "id": "view-in-github",
        "colab_type": "text"
      },
      "source": [
        "<a href=\"https://colab.research.google.com/github/UJWAL-SHAH/ML/blob/master/Lab%20Work/ML_Lab6_J078.ipynb\" target=\"_parent\"><img src=\"https://colab.research.google.com/assets/colab-badge.svg\" alt=\"Open In Colab\"/></a>"
      ]
    },
    {
      "cell_type": "markdown",
      "metadata": {
        "id": "WzhlZbyh4KYd",
        "colab_type": "text"
      },
      "source": [
        "##**Lab 6 (Simple Neural Network)**\n",
        "\n",
        "##**Roll no : J078**"
      ]
    },
    {
      "cell_type": "code",
      "metadata": {
        "id": "0nuz3GPq4ppw",
        "colab_type": "code",
        "colab": {}
      },
      "source": [
        "import pandas as pd"
      ],
      "execution_count": 105,
      "outputs": []
    },
    {
      "cell_type": "markdown",
      "metadata": {
        "id": "Iu_ocj_x_31k",
        "colab_type": "text"
      },
      "source": [
        "##Bitcoin 2011 Dataset"
      ]
    },
    {
      "cell_type": "code",
      "metadata": {
        "id": "mc2qrl7e3hzL",
        "colab_type": "code",
        "colab": {
          "base_uri": "https://localhost:8080/",
          "height": 578
        },
        "outputId": "64d5b40f-2fbf-4066-d76a-4b2fd4fc290a"
      },
      "source": [
        "!wget -O 2011gcn.csv https://raw.githubusercontent.com/pranavn91/blockchain/master/2011gcn.csv\n",
        "!wget -O tx2011partvertices_new.csv https://raw.githubusercontent.com/pranavn91/blockchain/master/tx2011partvertices_new.csv\n",
        "!wget -O tx2011partvertices.csv https://raw.githubusercontent.com/pranavn91/blockchain/master/tx2011partvertices.csv\n",
        " \n",
        "train1 = pd.read_csv('2011gcn.csv')\n",
        "train2 = pd.read_csv('tx2011partvertices_new.csv')\n",
        "train3 = pd.read_csv('tx2011partvertices.csv')"
      ],
      "execution_count": 106,
      "outputs": [
        {
          "output_type": "stream",
          "text": [
            "--2020-09-04 08:05:20--  https://raw.githubusercontent.com/pranavn91/blockchain/master/2011gcn.csv\n",
            "Resolving raw.githubusercontent.com (raw.githubusercontent.com)... 151.101.0.133, 151.101.64.133, 151.101.128.133, ...\n",
            "Connecting to raw.githubusercontent.com (raw.githubusercontent.com)|151.101.0.133|:443... connected.\n",
            "HTTP request sent, awaiting response... 200 OK\n",
            "Length: 12563086 (12M) [text/plain]\n",
            "Saving to: ‘2011gcn.csv’\n",
            "\n",
            "2011gcn.csv         100%[===================>]  11.98M  42.4MB/s    in 0.3s    \n",
            "\n",
            "2020-09-04 08:05:20 (42.4 MB/s) - ‘2011gcn.csv’ saved [12563086/12563086]\n",
            "\n",
            "--2020-09-04 08:05:21--  https://raw.githubusercontent.com/pranavn91/blockchain/master/tx2011partvertices_new.csv\n",
            "Resolving raw.githubusercontent.com (raw.githubusercontent.com)... 151.101.0.133, 151.101.64.133, 151.101.128.133, ...\n",
            "Connecting to raw.githubusercontent.com (raw.githubusercontent.com)|151.101.0.133|:443... connected.\n",
            "HTTP request sent, awaiting response... 200 OK\n",
            "Length: 12501458 (12M) [text/plain]\n",
            "Saving to: ‘tx2011partvertices_new.csv’\n",
            "\n",
            "tx2011partvertices_ 100%[===================>]  11.92M  31.9MB/s    in 0.4s    \n",
            "\n",
            "2020-09-04 08:05:21 (31.9 MB/s) - ‘tx2011partvertices_new.csv’ saved [12501458/12501458]\n",
            "\n",
            "--2020-09-04 08:05:21--  https://raw.githubusercontent.com/pranavn91/blockchain/master/tx2011partvertices.csv\n",
            "Resolving raw.githubusercontent.com (raw.githubusercontent.com)... 151.101.0.133, 151.101.64.133, 151.101.128.133, ...\n",
            "Connecting to raw.githubusercontent.com (raw.githubusercontent.com)|151.101.0.133|:443... connected.\n",
            "HTTP request sent, awaiting response... 200 OK\n",
            "Length: 1934257 (1.8M) [text/plain]\n",
            "Saving to: ‘tx2011partvertices.csv’\n",
            "\n",
            "tx2011partvertices. 100%[===================>]   1.84M  --.-KB/s    in 0.1s    \n",
            "\n",
            "2020-09-04 08:05:21 (19.0 MB/s) - ‘tx2011partvertices.csv’ saved [1934257/1934257]\n",
            "\n"
          ],
          "name": "stdout"
        }
      ]
    },
    {
      "cell_type": "markdown",
      "metadata": {
        "id": "1Dsc0uJ68RkQ",
        "colab_type": "text"
      },
      "source": [
        "##Checking Dataset Shape & Structure"
      ]
    },
    {
      "cell_type": "code",
      "metadata": {
        "id": "BnlA63Yf5EzL",
        "colab_type": "code",
        "colab": {
          "base_uri": "https://localhost:8080/",
          "height": 68
        },
        "outputId": "49550917-ed77-4f0b-ba52-1d2ff393d730"
      },
      "source": [
        "print('Train 1 Shape: ', train1.shape)\n",
        "print('Train 2 Shape: ', train2.shape)\n",
        "print('Train 3 Shape: ', train3.shape)"
      ],
      "execution_count": 107,
      "outputs": [
        {
          "output_type": "stream",
          "text": [
            "Train 1 Shape:  (96498, 17)\n",
            "Train 2 Shape:  (96498, 20)\n",
            "Train 3 Shape:  (96498, 2)\n"
          ],
          "name": "stdout"
        }
      ]
    },
    {
      "cell_type": "code",
      "metadata": {
        "id": "nBJ9Q-474l6i",
        "colab_type": "code",
        "colab": {
          "base_uri": "https://localhost:8080/",
          "height": 204
        },
        "outputId": "62e630d1-9d54-49b9-ffea-6f5a95f8d822"
      },
      "source": [
        "train1.head()"
      ],
      "execution_count": 108,
      "outputs": [
        {
          "output_type": "execute_result",
          "data": {
            "text/html": [
              "<div>\n",
              "<style scoped>\n",
              "    .dataframe tbody tr th:only-of-type {\n",
              "        vertical-align: middle;\n",
              "    }\n",
              "\n",
              "    .dataframe tbody tr th {\n",
              "        vertical-align: top;\n",
              "    }\n",
              "\n",
              "    .dataframe thead th {\n",
              "        text-align: right;\n",
              "    }\n",
              "</style>\n",
              "<table border=\"1\" class=\"dataframe\">\n",
              "  <thead>\n",
              "    <tr style=\"text-align: right;\">\n",
              "      <th></th>\n",
              "      <th>Unnamed: 0</th>\n",
              "      <th>0</th>\n",
              "      <th>1</th>\n",
              "      <th>2</th>\n",
              "      <th>3</th>\n",
              "      <th>4</th>\n",
              "      <th>5</th>\n",
              "      <th>6</th>\n",
              "      <th>7</th>\n",
              "      <th>8</th>\n",
              "      <th>9</th>\n",
              "      <th>10</th>\n",
              "      <th>11</th>\n",
              "      <th>12</th>\n",
              "      <th>13</th>\n",
              "      <th>14</th>\n",
              "      <th>15</th>\n",
              "    </tr>\n",
              "  </thead>\n",
              "  <tbody>\n",
              "    <tr>\n",
              "      <th>0</th>\n",
              "      <td>0</td>\n",
              "      <td>0.0</td>\n",
              "      <td>4.811244e+07</td>\n",
              "      <td>0.0</td>\n",
              "      <td>0.0</td>\n",
              "      <td>5.298934e+07</td>\n",
              "      <td>0.0</td>\n",
              "      <td>5.215435e+07</td>\n",
              "      <td>0.0</td>\n",
              "      <td>0.0</td>\n",
              "      <td>4.293262e+05</td>\n",
              "      <td>3.994267e+07</td>\n",
              "      <td>6.251989e+07</td>\n",
              "      <td>0.0</td>\n",
              "      <td>0.0</td>\n",
              "      <td>2.670458e+07</td>\n",
              "      <td>8.313858e+07</td>\n",
              "    </tr>\n",
              "    <tr>\n",
              "      <th>1</th>\n",
              "      <td>1</td>\n",
              "      <td>0.0</td>\n",
              "      <td>3.477977e+05</td>\n",
              "      <td>0.0</td>\n",
              "      <td>0.0</td>\n",
              "      <td>3.777575e+05</td>\n",
              "      <td>0.0</td>\n",
              "      <td>3.757520e+05</td>\n",
              "      <td>0.0</td>\n",
              "      <td>0.0</td>\n",
              "      <td>6.889133e+03</td>\n",
              "      <td>3.001618e+05</td>\n",
              "      <td>4.527358e+05</td>\n",
              "      <td>0.0</td>\n",
              "      <td>0.0</td>\n",
              "      <td>1.915057e+05</td>\n",
              "      <td>6.009039e+05</td>\n",
              "    </tr>\n",
              "    <tr>\n",
              "      <th>2</th>\n",
              "      <td>2</td>\n",
              "      <td>0.0</td>\n",
              "      <td>6.455196e+07</td>\n",
              "      <td>0.0</td>\n",
              "      <td>0.0</td>\n",
              "      <td>7.110790e+07</td>\n",
              "      <td>0.0</td>\n",
              "      <td>6.997804e+07</td>\n",
              "      <td>0.0</td>\n",
              "      <td>0.0</td>\n",
              "      <td>5.670157e+05</td>\n",
              "      <td>5.356332e+07</td>\n",
              "      <td>8.388026e+07</td>\n",
              "      <td>0.0</td>\n",
              "      <td>0.0</td>\n",
              "      <td>3.583296e+07</td>\n",
              "      <td>1.115463e+08</td>\n",
              "    </tr>\n",
              "    <tr>\n",
              "      <th>3</th>\n",
              "      <td>3</td>\n",
              "      <td>0.0</td>\n",
              "      <td>2.009876e+08</td>\n",
              "      <td>0.0</td>\n",
              "      <td>0.0</td>\n",
              "      <td>2.214679e+08</td>\n",
              "      <td>0.0</td>\n",
              "      <td>2.174101e+08</td>\n",
              "      <td>0.0</td>\n",
              "      <td>0.0</td>\n",
              "      <td>1.342720e+06</td>\n",
              "      <td>1.665389e+08</td>\n",
              "      <td>2.614420e+08</td>\n",
              "      <td>0.0</td>\n",
              "      <td>0.0</td>\n",
              "      <td>1.116514e+08</td>\n",
              "      <td>3.472892e+08</td>\n",
              "    </tr>\n",
              "    <tr>\n",
              "      <th>4</th>\n",
              "      <td>4</td>\n",
              "      <td>0.0</td>\n",
              "      <td>2.384675e+05</td>\n",
              "      <td>0.0</td>\n",
              "      <td>0.0</td>\n",
              "      <td>2.597246e+05</td>\n",
              "      <td>0.0</td>\n",
              "      <td>2.577884e+05</td>\n",
              "      <td>0.0</td>\n",
              "      <td>0.0</td>\n",
              "      <td>4.202993e+03</td>\n",
              "      <td>2.042845e+05</td>\n",
              "      <td>3.103489e+05</td>\n",
              "      <td>0.0</td>\n",
              "      <td>0.0</td>\n",
              "      <td>1.315073e+05</td>\n",
              "      <td>4.120424e+05</td>\n",
              "    </tr>\n",
              "  </tbody>\n",
              "</table>\n",
              "</div>"
            ],
            "text/plain": [
              "   Unnamed: 0    0             1    2  ...   12   13            14            15\n",
              "0           0  0.0  4.811244e+07  0.0  ...  0.0  0.0  2.670458e+07  8.313858e+07\n",
              "1           1  0.0  3.477977e+05  0.0  ...  0.0  0.0  1.915057e+05  6.009039e+05\n",
              "2           2  0.0  6.455196e+07  0.0  ...  0.0  0.0  3.583296e+07  1.115463e+08\n",
              "3           3  0.0  2.009876e+08  0.0  ...  0.0  0.0  1.116514e+08  3.472892e+08\n",
              "4           4  0.0  2.384675e+05  0.0  ...  0.0  0.0  1.315073e+05  4.120424e+05\n",
              "\n",
              "[5 rows x 17 columns]"
            ]
          },
          "metadata": {
            "tags": []
          },
          "execution_count": 108
        }
      ]
    },
    {
      "cell_type": "code",
      "metadata": {
        "id": "S_nkRe3T4zcc",
        "colab_type": "code",
        "colab": {
          "base_uri": "https://localhost:8080/",
          "height": 241
        },
        "outputId": "8b449509-0796-43e7-cdcc-56524e589e5b"
      },
      "source": [
        "train2.head()"
      ],
      "execution_count": 109,
      "outputs": [
        {
          "output_type": "execute_result",
          "data": {
            "text/html": [
              "<div>\n",
              "<style scoped>\n",
              "    .dataframe tbody tr th:only-of-type {\n",
              "        vertical-align: middle;\n",
              "    }\n",
              "\n",
              "    .dataframe tbody tr th {\n",
              "        vertical-align: top;\n",
              "    }\n",
              "\n",
              "    .dataframe thead th {\n",
              "        text-align: right;\n",
              "    }\n",
              "</style>\n",
              "<table border=\"1\" class=\"dataframe\">\n",
              "  <thead>\n",
              "    <tr style=\"text-align: right;\">\n",
              "      <th></th>\n",
              "      <th>Unnamed: 0</th>\n",
              "      <th>txsize</th>\n",
              "      <th>txvirtualsize</th>\n",
              "      <th>txinputs_count</th>\n",
              "      <th>txoutputs_count</th>\n",
              "      <th>txinput_val</th>\n",
              "      <th>txoutput_val</th>\n",
              "      <th>txfee</th>\n",
              "      <th>Min_received</th>\n",
              "      <th>Max_received</th>\n",
              "      <th>Avg_received</th>\n",
              "      <th>Total_received</th>\n",
              "      <th>Stdev_received</th>\n",
              "      <th>Var_received</th>\n",
              "      <th>Min_sent</th>\n",
              "      <th>Max_sent</th>\n",
              "      <th>Avg_sent</th>\n",
              "      <th>Total_sent</th>\n",
              "      <th>Stdev_sent</th>\n",
              "      <th>Var_sent</th>\n",
              "    </tr>\n",
              "  </thead>\n",
              "  <tbody>\n",
              "    <tr>\n",
              "      <th>0</th>\n",
              "      <td>1</td>\n",
              "      <td>7369</td>\n",
              "      <td>7369</td>\n",
              "      <td>5</td>\n",
              "      <td>190</td>\n",
              "      <td>215000000.0</td>\n",
              "      <td>214600000.0</td>\n",
              "      <td>400000</td>\n",
              "      <td>0.0005</td>\n",
              "      <td>1.0000</td>\n",
              "      <td>0.011295</td>\n",
              "      <td>2.1460</td>\n",
              "      <td>0.081163</td>\n",
              "      <td>0.006587</td>\n",
              "      <td>0.0005</td>\n",
              "      <td>1.6700</td>\n",
              "      <td>0.4300</td>\n",
              "      <td>2.1500</td>\n",
              "      <td>0.703445</td>\n",
              "      <td>0.494835</td>\n",
              "    </tr>\n",
              "    <tr>\n",
              "      <th>1</th>\n",
              "      <td>2</td>\n",
              "      <td>293</td>\n",
              "      <td>293</td>\n",
              "      <td>1</td>\n",
              "      <td>3</td>\n",
              "      <td>4400000.0</td>\n",
              "      <td>4350000.0</td>\n",
              "      <td>50000</td>\n",
              "      <td>0.0010</td>\n",
              "      <td>0.0415</td>\n",
              "      <td>0.014500</td>\n",
              "      <td>0.0435</td>\n",
              "      <td>0.023383</td>\n",
              "      <td>0.000547</td>\n",
              "      <td>0.0440</td>\n",
              "      <td>0.0440</td>\n",
              "      <td>0.0440</td>\n",
              "      <td>0.0440</td>\n",
              "      <td>0.000000</td>\n",
              "      <td>0.000000</td>\n",
              "    </tr>\n",
              "    <tr>\n",
              "      <th>2</th>\n",
              "      <td>3</td>\n",
              "      <td>11139</td>\n",
              "      <td>11139</td>\n",
              "      <td>1</td>\n",
              "      <td>322</td>\n",
              "      <td>125000000.0</td>\n",
              "      <td>124400000.0</td>\n",
              "      <td>600000</td>\n",
              "      <td>0.0010</td>\n",
              "      <td>0.4460</td>\n",
              "      <td>0.003863</td>\n",
              "      <td>1.2440</td>\n",
              "      <td>0.024941</td>\n",
              "      <td>0.000622</td>\n",
              "      <td>1.2500</td>\n",
              "      <td>1.2500</td>\n",
              "      <td>1.2500</td>\n",
              "      <td>1.2500</td>\n",
              "      <td>0.000000</td>\n",
              "      <td>0.000000</td>\n",
              "    </tr>\n",
              "    <tr>\n",
              "      <th>3</th>\n",
              "      <td>4</td>\n",
              "      <td>495</td>\n",
              "      <td>495</td>\n",
              "      <td>1</td>\n",
              "      <td>9</td>\n",
              "      <td>27450000.0</td>\n",
              "      <td>27400000.0</td>\n",
              "      <td>50000</td>\n",
              "      <td>0.0010</td>\n",
              "      <td>0.2660</td>\n",
              "      <td>0.030444</td>\n",
              "      <td>0.2740</td>\n",
              "      <td>0.088333</td>\n",
              "      <td>0.007803</td>\n",
              "      <td>0.2745</td>\n",
              "      <td>0.2745</td>\n",
              "      <td>0.2745</td>\n",
              "      <td>0.2745</td>\n",
              "      <td>0.000000</td>\n",
              "      <td>0.000000</td>\n",
              "    </tr>\n",
              "    <tr>\n",
              "      <th>4</th>\n",
              "      <td>5</td>\n",
              "      <td>462</td>\n",
              "      <td>462</td>\n",
              "      <td>1</td>\n",
              "      <td>8</td>\n",
              "      <td>3000000.0</td>\n",
              "      <td>2950000.0</td>\n",
              "      <td>50000</td>\n",
              "      <td>0.0010</td>\n",
              "      <td>0.0225</td>\n",
              "      <td>0.003687</td>\n",
              "      <td>0.0295</td>\n",
              "      <td>0.007601</td>\n",
              "      <td>0.000058</td>\n",
              "      <td>0.0300</td>\n",
              "      <td>0.0300</td>\n",
              "      <td>0.0300</td>\n",
              "      <td>0.0300</td>\n",
              "      <td>0.000000</td>\n",
              "      <td>0.000000</td>\n",
              "    </tr>\n",
              "  </tbody>\n",
              "</table>\n",
              "</div>"
            ],
            "text/plain": [
              "   Unnamed: 0  txsize  txvirtualsize  ...  Total_sent  Stdev_sent  Var_sent\n",
              "0           1    7369           7369  ...      2.1500    0.703445  0.494835\n",
              "1           2     293            293  ...      0.0440    0.000000  0.000000\n",
              "2           3   11139          11139  ...      1.2500    0.000000  0.000000\n",
              "3           4     495            495  ...      0.2745    0.000000  0.000000\n",
              "4           5     462            462  ...      0.0300    0.000000  0.000000\n",
              "\n",
              "[5 rows x 20 columns]"
            ]
          },
          "metadata": {
            "tags": []
          },
          "execution_count": 109
        }
      ]
    },
    {
      "cell_type": "code",
      "metadata": {
        "id": "uBBsKD9441xL",
        "colab_type": "code",
        "colab": {
          "base_uri": "https://localhost:8080/",
          "height": 204
        },
        "outputId": "eb2f6cba-e187-4309-c389-14759290c0d6"
      },
      "source": [
        "train3.head()"
      ],
      "execution_count": 110,
      "outputs": [
        {
          "output_type": "execute_result",
          "data": {
            "text/html": [
              "<div>\n",
              "<style scoped>\n",
              "    .dataframe tbody tr th:only-of-type {\n",
              "        vertical-align: middle;\n",
              "    }\n",
              "\n",
              "    .dataframe tbody tr th {\n",
              "        vertical-align: top;\n",
              "    }\n",
              "\n",
              "    .dataframe thead th {\n",
              "        text-align: right;\n",
              "    }\n",
              "</style>\n",
              "<table border=\"1\" class=\"dataframe\">\n",
              "  <thead>\n",
              "    <tr style=\"text-align: right;\">\n",
              "      <th></th>\n",
              "      <th>Unnamed: 0</th>\n",
              "      <th>label</th>\n",
              "    </tr>\n",
              "  </thead>\n",
              "  <tbody>\n",
              "    <tr>\n",
              "      <th>0</th>\n",
              "      <td>1</td>\n",
              "      <td>unclassified</td>\n",
              "    </tr>\n",
              "    <tr>\n",
              "      <th>1</th>\n",
              "      <td>2</td>\n",
              "      <td>donations</td>\n",
              "    </tr>\n",
              "    <tr>\n",
              "      <th>2</th>\n",
              "      <td>3</td>\n",
              "      <td>unclassified</td>\n",
              "    </tr>\n",
              "    <tr>\n",
              "      <th>3</th>\n",
              "      <td>4</td>\n",
              "      <td>donations</td>\n",
              "    </tr>\n",
              "    <tr>\n",
              "      <th>4</th>\n",
              "      <td>5</td>\n",
              "      <td>donations</td>\n",
              "    </tr>\n",
              "  </tbody>\n",
              "</table>\n",
              "</div>"
            ],
            "text/plain": [
              "   Unnamed: 0         label\n",
              "0           1  unclassified\n",
              "1           2     donations\n",
              "2           3  unclassified\n",
              "3           4     donations\n",
              "4           5     donations"
            ]
          },
          "metadata": {
            "tags": []
          },
          "execution_count": 110
        }
      ]
    },
    {
      "cell_type": "markdown",
      "metadata": {
        "id": "rsn7mN7YLVkS",
        "colab_type": "text"
      },
      "source": [
        "##Pre-Processing the Dataset"
      ]
    },
    {
      "cell_type": "code",
      "metadata": {
        "id": "c8SiGgYhIZ5s",
        "colab_type": "code",
        "colab": {
          "base_uri": "https://localhost:8080/",
          "height": 204
        },
        "outputId": "145ac0e1-9910-4e6e-f45a-cd009d9d8361"
      },
      "source": [
        "train1.rename(columns={'Unnamed: 0':'index'}, inplace=True)\n",
        "train1['index'] = train1['index'] + 1\n",
        "train1.head()"
      ],
      "execution_count": 111,
      "outputs": [
        {
          "output_type": "execute_result",
          "data": {
            "text/html": [
              "<div>\n",
              "<style scoped>\n",
              "    .dataframe tbody tr th:only-of-type {\n",
              "        vertical-align: middle;\n",
              "    }\n",
              "\n",
              "    .dataframe tbody tr th {\n",
              "        vertical-align: top;\n",
              "    }\n",
              "\n",
              "    .dataframe thead th {\n",
              "        text-align: right;\n",
              "    }\n",
              "</style>\n",
              "<table border=\"1\" class=\"dataframe\">\n",
              "  <thead>\n",
              "    <tr style=\"text-align: right;\">\n",
              "      <th></th>\n",
              "      <th>index</th>\n",
              "      <th>0</th>\n",
              "      <th>1</th>\n",
              "      <th>2</th>\n",
              "      <th>3</th>\n",
              "      <th>4</th>\n",
              "      <th>5</th>\n",
              "      <th>6</th>\n",
              "      <th>7</th>\n",
              "      <th>8</th>\n",
              "      <th>9</th>\n",
              "      <th>10</th>\n",
              "      <th>11</th>\n",
              "      <th>12</th>\n",
              "      <th>13</th>\n",
              "      <th>14</th>\n",
              "      <th>15</th>\n",
              "    </tr>\n",
              "  </thead>\n",
              "  <tbody>\n",
              "    <tr>\n",
              "      <th>0</th>\n",
              "      <td>1</td>\n",
              "      <td>0.0</td>\n",
              "      <td>4.811244e+07</td>\n",
              "      <td>0.0</td>\n",
              "      <td>0.0</td>\n",
              "      <td>5.298934e+07</td>\n",
              "      <td>0.0</td>\n",
              "      <td>5.215435e+07</td>\n",
              "      <td>0.0</td>\n",
              "      <td>0.0</td>\n",
              "      <td>4.293262e+05</td>\n",
              "      <td>3.994267e+07</td>\n",
              "      <td>6.251989e+07</td>\n",
              "      <td>0.0</td>\n",
              "      <td>0.0</td>\n",
              "      <td>2.670458e+07</td>\n",
              "      <td>8.313858e+07</td>\n",
              "    </tr>\n",
              "    <tr>\n",
              "      <th>1</th>\n",
              "      <td>2</td>\n",
              "      <td>0.0</td>\n",
              "      <td>3.477977e+05</td>\n",
              "      <td>0.0</td>\n",
              "      <td>0.0</td>\n",
              "      <td>3.777575e+05</td>\n",
              "      <td>0.0</td>\n",
              "      <td>3.757520e+05</td>\n",
              "      <td>0.0</td>\n",
              "      <td>0.0</td>\n",
              "      <td>6.889133e+03</td>\n",
              "      <td>3.001618e+05</td>\n",
              "      <td>4.527358e+05</td>\n",
              "      <td>0.0</td>\n",
              "      <td>0.0</td>\n",
              "      <td>1.915057e+05</td>\n",
              "      <td>6.009039e+05</td>\n",
              "    </tr>\n",
              "    <tr>\n",
              "      <th>2</th>\n",
              "      <td>3</td>\n",
              "      <td>0.0</td>\n",
              "      <td>6.455196e+07</td>\n",
              "      <td>0.0</td>\n",
              "      <td>0.0</td>\n",
              "      <td>7.110790e+07</td>\n",
              "      <td>0.0</td>\n",
              "      <td>6.997804e+07</td>\n",
              "      <td>0.0</td>\n",
              "      <td>0.0</td>\n",
              "      <td>5.670157e+05</td>\n",
              "      <td>5.356332e+07</td>\n",
              "      <td>8.388026e+07</td>\n",
              "      <td>0.0</td>\n",
              "      <td>0.0</td>\n",
              "      <td>3.583296e+07</td>\n",
              "      <td>1.115463e+08</td>\n",
              "    </tr>\n",
              "    <tr>\n",
              "      <th>3</th>\n",
              "      <td>4</td>\n",
              "      <td>0.0</td>\n",
              "      <td>2.009876e+08</td>\n",
              "      <td>0.0</td>\n",
              "      <td>0.0</td>\n",
              "      <td>2.214679e+08</td>\n",
              "      <td>0.0</td>\n",
              "      <td>2.174101e+08</td>\n",
              "      <td>0.0</td>\n",
              "      <td>0.0</td>\n",
              "      <td>1.342720e+06</td>\n",
              "      <td>1.665389e+08</td>\n",
              "      <td>2.614420e+08</td>\n",
              "      <td>0.0</td>\n",
              "      <td>0.0</td>\n",
              "      <td>1.116514e+08</td>\n",
              "      <td>3.472892e+08</td>\n",
              "    </tr>\n",
              "    <tr>\n",
              "      <th>4</th>\n",
              "      <td>5</td>\n",
              "      <td>0.0</td>\n",
              "      <td>2.384675e+05</td>\n",
              "      <td>0.0</td>\n",
              "      <td>0.0</td>\n",
              "      <td>2.597246e+05</td>\n",
              "      <td>0.0</td>\n",
              "      <td>2.577884e+05</td>\n",
              "      <td>0.0</td>\n",
              "      <td>0.0</td>\n",
              "      <td>4.202993e+03</td>\n",
              "      <td>2.042845e+05</td>\n",
              "      <td>3.103489e+05</td>\n",
              "      <td>0.0</td>\n",
              "      <td>0.0</td>\n",
              "      <td>1.315073e+05</td>\n",
              "      <td>4.120424e+05</td>\n",
              "    </tr>\n",
              "  </tbody>\n",
              "</table>\n",
              "</div>"
            ],
            "text/plain": [
              "   index    0             1    2  ...   12   13            14            15\n",
              "0      1  0.0  4.811244e+07  0.0  ...  0.0  0.0  2.670458e+07  8.313858e+07\n",
              "1      2  0.0  3.477977e+05  0.0  ...  0.0  0.0  1.915057e+05  6.009039e+05\n",
              "2      3  0.0  6.455196e+07  0.0  ...  0.0  0.0  3.583296e+07  1.115463e+08\n",
              "3      4  0.0  2.009876e+08  0.0  ...  0.0  0.0  1.116514e+08  3.472892e+08\n",
              "4      5  0.0  2.384675e+05  0.0  ...  0.0  0.0  1.315073e+05  4.120424e+05\n",
              "\n",
              "[5 rows x 17 columns]"
            ]
          },
          "metadata": {
            "tags": []
          },
          "execution_count": 111
        }
      ]
    },
    {
      "cell_type": "code",
      "metadata": {
        "id": "DBcQ1GbJIa2m",
        "colab_type": "code",
        "colab": {
          "base_uri": "https://localhost:8080/",
          "height": 224
        },
        "outputId": "1d4cc7a4-549f-4411-e8f1-313fe9a32466"
      },
      "source": [
        "train2.rename(columns={'Unnamed: 0':'index'}, inplace=True)\n",
        "train2.head()"
      ],
      "execution_count": 112,
      "outputs": [
        {
          "output_type": "execute_result",
          "data": {
            "text/html": [
              "<div>\n",
              "<style scoped>\n",
              "    .dataframe tbody tr th:only-of-type {\n",
              "        vertical-align: middle;\n",
              "    }\n",
              "\n",
              "    .dataframe tbody tr th {\n",
              "        vertical-align: top;\n",
              "    }\n",
              "\n",
              "    .dataframe thead th {\n",
              "        text-align: right;\n",
              "    }\n",
              "</style>\n",
              "<table border=\"1\" class=\"dataframe\">\n",
              "  <thead>\n",
              "    <tr style=\"text-align: right;\">\n",
              "      <th></th>\n",
              "      <th>index</th>\n",
              "      <th>txsize</th>\n",
              "      <th>txvirtualsize</th>\n",
              "      <th>txinputs_count</th>\n",
              "      <th>txoutputs_count</th>\n",
              "      <th>txinput_val</th>\n",
              "      <th>txoutput_val</th>\n",
              "      <th>txfee</th>\n",
              "      <th>Min_received</th>\n",
              "      <th>Max_received</th>\n",
              "      <th>Avg_received</th>\n",
              "      <th>Total_received</th>\n",
              "      <th>Stdev_received</th>\n",
              "      <th>Var_received</th>\n",
              "      <th>Min_sent</th>\n",
              "      <th>Max_sent</th>\n",
              "      <th>Avg_sent</th>\n",
              "      <th>Total_sent</th>\n",
              "      <th>Stdev_sent</th>\n",
              "      <th>Var_sent</th>\n",
              "    </tr>\n",
              "  </thead>\n",
              "  <tbody>\n",
              "    <tr>\n",
              "      <th>0</th>\n",
              "      <td>1</td>\n",
              "      <td>7369</td>\n",
              "      <td>7369</td>\n",
              "      <td>5</td>\n",
              "      <td>190</td>\n",
              "      <td>215000000.0</td>\n",
              "      <td>214600000.0</td>\n",
              "      <td>400000</td>\n",
              "      <td>0.0005</td>\n",
              "      <td>1.0000</td>\n",
              "      <td>0.011295</td>\n",
              "      <td>2.1460</td>\n",
              "      <td>0.081163</td>\n",
              "      <td>0.006587</td>\n",
              "      <td>0.0005</td>\n",
              "      <td>1.6700</td>\n",
              "      <td>0.4300</td>\n",
              "      <td>2.1500</td>\n",
              "      <td>0.703445</td>\n",
              "      <td>0.494835</td>\n",
              "    </tr>\n",
              "    <tr>\n",
              "      <th>1</th>\n",
              "      <td>2</td>\n",
              "      <td>293</td>\n",
              "      <td>293</td>\n",
              "      <td>1</td>\n",
              "      <td>3</td>\n",
              "      <td>4400000.0</td>\n",
              "      <td>4350000.0</td>\n",
              "      <td>50000</td>\n",
              "      <td>0.0010</td>\n",
              "      <td>0.0415</td>\n",
              "      <td>0.014500</td>\n",
              "      <td>0.0435</td>\n",
              "      <td>0.023383</td>\n",
              "      <td>0.000547</td>\n",
              "      <td>0.0440</td>\n",
              "      <td>0.0440</td>\n",
              "      <td>0.0440</td>\n",
              "      <td>0.0440</td>\n",
              "      <td>0.000000</td>\n",
              "      <td>0.000000</td>\n",
              "    </tr>\n",
              "    <tr>\n",
              "      <th>2</th>\n",
              "      <td>3</td>\n",
              "      <td>11139</td>\n",
              "      <td>11139</td>\n",
              "      <td>1</td>\n",
              "      <td>322</td>\n",
              "      <td>125000000.0</td>\n",
              "      <td>124400000.0</td>\n",
              "      <td>600000</td>\n",
              "      <td>0.0010</td>\n",
              "      <td>0.4460</td>\n",
              "      <td>0.003863</td>\n",
              "      <td>1.2440</td>\n",
              "      <td>0.024941</td>\n",
              "      <td>0.000622</td>\n",
              "      <td>1.2500</td>\n",
              "      <td>1.2500</td>\n",
              "      <td>1.2500</td>\n",
              "      <td>1.2500</td>\n",
              "      <td>0.000000</td>\n",
              "      <td>0.000000</td>\n",
              "    </tr>\n",
              "    <tr>\n",
              "      <th>3</th>\n",
              "      <td>4</td>\n",
              "      <td>495</td>\n",
              "      <td>495</td>\n",
              "      <td>1</td>\n",
              "      <td>9</td>\n",
              "      <td>27450000.0</td>\n",
              "      <td>27400000.0</td>\n",
              "      <td>50000</td>\n",
              "      <td>0.0010</td>\n",
              "      <td>0.2660</td>\n",
              "      <td>0.030444</td>\n",
              "      <td>0.2740</td>\n",
              "      <td>0.088333</td>\n",
              "      <td>0.007803</td>\n",
              "      <td>0.2745</td>\n",
              "      <td>0.2745</td>\n",
              "      <td>0.2745</td>\n",
              "      <td>0.2745</td>\n",
              "      <td>0.000000</td>\n",
              "      <td>0.000000</td>\n",
              "    </tr>\n",
              "    <tr>\n",
              "      <th>4</th>\n",
              "      <td>5</td>\n",
              "      <td>462</td>\n",
              "      <td>462</td>\n",
              "      <td>1</td>\n",
              "      <td>8</td>\n",
              "      <td>3000000.0</td>\n",
              "      <td>2950000.0</td>\n",
              "      <td>50000</td>\n",
              "      <td>0.0010</td>\n",
              "      <td>0.0225</td>\n",
              "      <td>0.003687</td>\n",
              "      <td>0.0295</td>\n",
              "      <td>0.007601</td>\n",
              "      <td>0.000058</td>\n",
              "      <td>0.0300</td>\n",
              "      <td>0.0300</td>\n",
              "      <td>0.0300</td>\n",
              "      <td>0.0300</td>\n",
              "      <td>0.000000</td>\n",
              "      <td>0.000000</td>\n",
              "    </tr>\n",
              "  </tbody>\n",
              "</table>\n",
              "</div>"
            ],
            "text/plain": [
              "   index  txsize  txvirtualsize  ...  Total_sent  Stdev_sent  Var_sent\n",
              "0      1    7369           7369  ...      2.1500    0.703445  0.494835\n",
              "1      2     293            293  ...      0.0440    0.000000  0.000000\n",
              "2      3   11139          11139  ...      1.2500    0.000000  0.000000\n",
              "3      4     495            495  ...      0.2745    0.000000  0.000000\n",
              "4      5     462            462  ...      0.0300    0.000000  0.000000\n",
              "\n",
              "[5 rows x 20 columns]"
            ]
          },
          "metadata": {
            "tags": []
          },
          "execution_count": 112
        }
      ]
    },
    {
      "cell_type": "code",
      "metadata": {
        "id": "kwoYx1QFIbU2",
        "colab_type": "code",
        "colab": {
          "base_uri": "https://localhost:8080/",
          "height": 204
        },
        "outputId": "80c4b6f7-8559-4b11-b1ff-8c3c875746be"
      },
      "source": [
        "train3.rename(columns={'Unnamed: 0':'index'}, inplace=True)\n",
        "train3.head()"
      ],
      "execution_count": 113,
      "outputs": [
        {
          "output_type": "execute_result",
          "data": {
            "text/html": [
              "<div>\n",
              "<style scoped>\n",
              "    .dataframe tbody tr th:only-of-type {\n",
              "        vertical-align: middle;\n",
              "    }\n",
              "\n",
              "    .dataframe tbody tr th {\n",
              "        vertical-align: top;\n",
              "    }\n",
              "\n",
              "    .dataframe thead th {\n",
              "        text-align: right;\n",
              "    }\n",
              "</style>\n",
              "<table border=\"1\" class=\"dataframe\">\n",
              "  <thead>\n",
              "    <tr style=\"text-align: right;\">\n",
              "      <th></th>\n",
              "      <th>index</th>\n",
              "      <th>label</th>\n",
              "    </tr>\n",
              "  </thead>\n",
              "  <tbody>\n",
              "    <tr>\n",
              "      <th>0</th>\n",
              "      <td>1</td>\n",
              "      <td>unclassified</td>\n",
              "    </tr>\n",
              "    <tr>\n",
              "      <th>1</th>\n",
              "      <td>2</td>\n",
              "      <td>donations</td>\n",
              "    </tr>\n",
              "    <tr>\n",
              "      <th>2</th>\n",
              "      <td>3</td>\n",
              "      <td>unclassified</td>\n",
              "    </tr>\n",
              "    <tr>\n",
              "      <th>3</th>\n",
              "      <td>4</td>\n",
              "      <td>donations</td>\n",
              "    </tr>\n",
              "    <tr>\n",
              "      <th>4</th>\n",
              "      <td>5</td>\n",
              "      <td>donations</td>\n",
              "    </tr>\n",
              "  </tbody>\n",
              "</table>\n",
              "</div>"
            ],
            "text/plain": [
              "   index         label\n",
              "0      1  unclassified\n",
              "1      2     donations\n",
              "2      3  unclassified\n",
              "3      4     donations\n",
              "4      5     donations"
            ]
          },
          "metadata": {
            "tags": []
          },
          "execution_count": 113
        }
      ]
    },
    {
      "cell_type": "markdown",
      "metadata": {
        "id": "ztgRyML_AGQD",
        "colab_type": "text"
      },
      "source": [
        "##Preparation of the dataset"
      ]
    },
    {
      "cell_type": "code",
      "metadata": {
        "id": "RkCzgtlNAJI7",
        "colab_type": "code",
        "colab": {}
      },
      "source": [
        "results = pd.merge(train3, train1, on='index', how='inner')#On =on which column to merge them and how =\"Inner,left,right\"\n",
        "# split data into X and y\n",
        "X = results.iloc[:,2:18]  #results.shape\n",
        "Y1 = results['label']"
      ],
      "execution_count": 114,
      "outputs": []
    },
    {
      "cell_type": "code",
      "metadata": {
        "id": "sY29BS-47dMk",
        "colab_type": "code",
        "colab": {
          "base_uri": "https://localhost:8080/",
          "height": 439
        },
        "outputId": "77bb3f89-7474-4f33-95e3-532fc03ece44"
      },
      "source": [
        "results"
      ],
      "execution_count": 115,
      "outputs": [
        {
          "output_type": "execute_result",
          "data": {
            "text/html": [
              "<div>\n",
              "<style scoped>\n",
              "    .dataframe tbody tr th:only-of-type {\n",
              "        vertical-align: middle;\n",
              "    }\n",
              "\n",
              "    .dataframe tbody tr th {\n",
              "        vertical-align: top;\n",
              "    }\n",
              "\n",
              "    .dataframe thead th {\n",
              "        text-align: right;\n",
              "    }\n",
              "</style>\n",
              "<table border=\"1\" class=\"dataframe\">\n",
              "  <thead>\n",
              "    <tr style=\"text-align: right;\">\n",
              "      <th></th>\n",
              "      <th>index</th>\n",
              "      <th>label</th>\n",
              "      <th>0</th>\n",
              "      <th>1</th>\n",
              "      <th>2</th>\n",
              "      <th>3</th>\n",
              "      <th>4</th>\n",
              "      <th>5</th>\n",
              "      <th>6</th>\n",
              "      <th>7</th>\n",
              "      <th>8</th>\n",
              "      <th>9</th>\n",
              "      <th>10</th>\n",
              "      <th>11</th>\n",
              "      <th>12</th>\n",
              "      <th>13</th>\n",
              "      <th>14</th>\n",
              "      <th>15</th>\n",
              "    </tr>\n",
              "  </thead>\n",
              "  <tbody>\n",
              "    <tr>\n",
              "      <th>0</th>\n",
              "      <td>1</td>\n",
              "      <td>unclassified</td>\n",
              "      <td>0.0</td>\n",
              "      <td>4.811244e+07</td>\n",
              "      <td>0.0</td>\n",
              "      <td>0.0</td>\n",
              "      <td>5.298934e+07</td>\n",
              "      <td>0.0</td>\n",
              "      <td>5.215435e+07</td>\n",
              "      <td>0.0</td>\n",
              "      <td>0.0</td>\n",
              "      <td>4.293262e+05</td>\n",
              "      <td>3.994267e+07</td>\n",
              "      <td>6.251989e+07</td>\n",
              "      <td>0.0</td>\n",
              "      <td>0.0</td>\n",
              "      <td>2.670458e+07</td>\n",
              "      <td>8.313858e+07</td>\n",
              "    </tr>\n",
              "    <tr>\n",
              "      <th>1</th>\n",
              "      <td>2</td>\n",
              "      <td>donations</td>\n",
              "      <td>0.0</td>\n",
              "      <td>3.477977e+05</td>\n",
              "      <td>0.0</td>\n",
              "      <td>0.0</td>\n",
              "      <td>3.777575e+05</td>\n",
              "      <td>0.0</td>\n",
              "      <td>3.757520e+05</td>\n",
              "      <td>0.0</td>\n",
              "      <td>0.0</td>\n",
              "      <td>6.889133e+03</td>\n",
              "      <td>3.001618e+05</td>\n",
              "      <td>4.527358e+05</td>\n",
              "      <td>0.0</td>\n",
              "      <td>0.0</td>\n",
              "      <td>1.915057e+05</td>\n",
              "      <td>6.009039e+05</td>\n",
              "    </tr>\n",
              "    <tr>\n",
              "      <th>2</th>\n",
              "      <td>3</td>\n",
              "      <td>unclassified</td>\n",
              "      <td>0.0</td>\n",
              "      <td>6.455196e+07</td>\n",
              "      <td>0.0</td>\n",
              "      <td>0.0</td>\n",
              "      <td>7.110790e+07</td>\n",
              "      <td>0.0</td>\n",
              "      <td>6.997804e+07</td>\n",
              "      <td>0.0</td>\n",
              "      <td>0.0</td>\n",
              "      <td>5.670157e+05</td>\n",
              "      <td>5.356332e+07</td>\n",
              "      <td>8.388026e+07</td>\n",
              "      <td>0.0</td>\n",
              "      <td>0.0</td>\n",
              "      <td>3.583296e+07</td>\n",
              "      <td>1.115463e+08</td>\n",
              "    </tr>\n",
              "    <tr>\n",
              "      <th>3</th>\n",
              "      <td>4</td>\n",
              "      <td>donations</td>\n",
              "      <td>0.0</td>\n",
              "      <td>2.009876e+08</td>\n",
              "      <td>0.0</td>\n",
              "      <td>0.0</td>\n",
              "      <td>2.214679e+08</td>\n",
              "      <td>0.0</td>\n",
              "      <td>2.174101e+08</td>\n",
              "      <td>0.0</td>\n",
              "      <td>0.0</td>\n",
              "      <td>1.342720e+06</td>\n",
              "      <td>1.665389e+08</td>\n",
              "      <td>2.614420e+08</td>\n",
              "      <td>0.0</td>\n",
              "      <td>0.0</td>\n",
              "      <td>1.116514e+08</td>\n",
              "      <td>3.472892e+08</td>\n",
              "    </tr>\n",
              "    <tr>\n",
              "      <th>4</th>\n",
              "      <td>5</td>\n",
              "      <td>donations</td>\n",
              "      <td>0.0</td>\n",
              "      <td>2.384675e+05</td>\n",
              "      <td>0.0</td>\n",
              "      <td>0.0</td>\n",
              "      <td>2.597246e+05</td>\n",
              "      <td>0.0</td>\n",
              "      <td>2.577884e+05</td>\n",
              "      <td>0.0</td>\n",
              "      <td>0.0</td>\n",
              "      <td>4.202993e+03</td>\n",
              "      <td>2.042845e+05</td>\n",
              "      <td>3.103489e+05</td>\n",
              "      <td>0.0</td>\n",
              "      <td>0.0</td>\n",
              "      <td>1.315073e+05</td>\n",
              "      <td>4.120424e+05</td>\n",
              "    </tr>\n",
              "    <tr>\n",
              "      <th>...</th>\n",
              "      <td>...</td>\n",
              "      <td>...</td>\n",
              "      <td>...</td>\n",
              "      <td>...</td>\n",
              "      <td>...</td>\n",
              "      <td>...</td>\n",
              "      <td>...</td>\n",
              "      <td>...</td>\n",
              "      <td>...</td>\n",
              "      <td>...</td>\n",
              "      <td>...</td>\n",
              "      <td>...</td>\n",
              "      <td>...</td>\n",
              "      <td>...</td>\n",
              "      <td>...</td>\n",
              "      <td>...</td>\n",
              "      <td>...</td>\n",
              "      <td>...</td>\n",
              "    </tr>\n",
              "    <tr>\n",
              "      <th>96493</th>\n",
              "      <td>96494</td>\n",
              "      <td>donations</td>\n",
              "      <td>0.0</td>\n",
              "      <td>1.076483e+09</td>\n",
              "      <td>0.0</td>\n",
              "      <td>0.0</td>\n",
              "      <td>1.186269e+09</td>\n",
              "      <td>0.0</td>\n",
              "      <td>1.167082e+09</td>\n",
              "      <td>0.0</td>\n",
              "      <td>0.0</td>\n",
              "      <td>9.130316e+06</td>\n",
              "      <td>8.922416e+08</td>\n",
              "      <td>1.398730e+09</td>\n",
              "      <td>0.0</td>\n",
              "      <td>0.0</td>\n",
              "      <td>5.976924e+08</td>\n",
              "      <td>1.860175e+09</td>\n",
              "    </tr>\n",
              "    <tr>\n",
              "      <th>96494</th>\n",
              "      <td>96495</td>\n",
              "      <td>donations</td>\n",
              "      <td>0.0</td>\n",
              "      <td>3.046724e+09</td>\n",
              "      <td>0.0</td>\n",
              "      <td>0.0</td>\n",
              "      <td>3.357382e+09</td>\n",
              "      <td>0.0</td>\n",
              "      <td>3.303128e+09</td>\n",
              "      <td>0.0</td>\n",
              "      <td>0.0</td>\n",
              "      <td>2.588797e+07</td>\n",
              "      <td>2.525414e+09</td>\n",
              "      <td>3.958776e+09</td>\n",
              "      <td>0.0</td>\n",
              "      <td>0.0</td>\n",
              "      <td>1.691605e+09</td>\n",
              "      <td>5.264773e+09</td>\n",
              "    </tr>\n",
              "    <tr>\n",
              "      <th>96495</th>\n",
              "      <td>96496</td>\n",
              "      <td>donations</td>\n",
              "      <td>0.0</td>\n",
              "      <td>7.927045e+08</td>\n",
              "      <td>0.0</td>\n",
              "      <td>0.0</td>\n",
              "      <td>8.734944e+08</td>\n",
              "      <td>0.0</td>\n",
              "      <td>8.594076e+08</td>\n",
              "      <td>0.0</td>\n",
              "      <td>0.0</td>\n",
              "      <td>6.762438e+06</td>\n",
              "      <td>6.571497e+08</td>\n",
              "      <td>1.030010e+09</td>\n",
              "      <td>0.0</td>\n",
              "      <td>0.0</td>\n",
              "      <td>4.401156e+08</td>\n",
              "      <td>1.369801e+09</td>\n",
              "    </tr>\n",
              "    <tr>\n",
              "      <th>96496</th>\n",
              "      <td>96497</td>\n",
              "      <td>exchange</td>\n",
              "      <td>0.0</td>\n",
              "      <td>1.702268e+09</td>\n",
              "      <td>0.0</td>\n",
              "      <td>0.0</td>\n",
              "      <td>1.875876e+09</td>\n",
              "      <td>0.0</td>\n",
              "      <td>1.845536e+09</td>\n",
              "      <td>0.0</td>\n",
              "      <td>0.0</td>\n",
              "      <td>1.443773e+07</td>\n",
              "      <td>1.410918e+09</td>\n",
              "      <td>2.211843e+09</td>\n",
              "      <td>0.0</td>\n",
              "      <td>0.0</td>\n",
              "      <td>9.451462e+08</td>\n",
              "      <td>2.941539e+09</td>\n",
              "    </tr>\n",
              "    <tr>\n",
              "      <th>96497</th>\n",
              "      <td>96498</td>\n",
              "      <td>exchange</td>\n",
              "      <td>0.0</td>\n",
              "      <td>7.130671e+08</td>\n",
              "      <td>0.0</td>\n",
              "      <td>0.0</td>\n",
              "      <td>7.857890e+08</td>\n",
              "      <td>0.0</td>\n",
              "      <td>7.730804e+08</td>\n",
              "      <td>0.0</td>\n",
              "      <td>0.0</td>\n",
              "      <td>6.048914e+06</td>\n",
              "      <td>5.910271e+08</td>\n",
              "      <td>9.265253e+08</td>\n",
              "      <td>0.0</td>\n",
              "      <td>0.0</td>\n",
              "      <td>3.959137e+08</td>\n",
              "      <td>1.232188e+09</td>\n",
              "    </tr>\n",
              "  </tbody>\n",
              "</table>\n",
              "<p>96498 rows × 18 columns</p>\n",
              "</div>"
            ],
            "text/plain": [
              "       index         label    0  ...   13            14            15\n",
              "0          1  unclassified  0.0  ...  0.0  2.670458e+07  8.313858e+07\n",
              "1          2     donations  0.0  ...  0.0  1.915057e+05  6.009039e+05\n",
              "2          3  unclassified  0.0  ...  0.0  3.583296e+07  1.115463e+08\n",
              "3          4     donations  0.0  ...  0.0  1.116514e+08  3.472892e+08\n",
              "4          5     donations  0.0  ...  0.0  1.315073e+05  4.120424e+05\n",
              "...      ...           ...  ...  ...  ...           ...           ...\n",
              "96493  96494     donations  0.0  ...  0.0  5.976924e+08  1.860175e+09\n",
              "96494  96495     donations  0.0  ...  0.0  1.691605e+09  5.264773e+09\n",
              "96495  96496     donations  0.0  ...  0.0  4.401156e+08  1.369801e+09\n",
              "96496  96497      exchange  0.0  ...  0.0  9.451462e+08  2.941539e+09\n",
              "96497  96498      exchange  0.0  ...  0.0  3.959137e+08  1.232188e+09\n",
              "\n",
              "[96498 rows x 18 columns]"
            ]
          },
          "metadata": {
            "tags": []
          },
          "execution_count": 115
        }
      ]
    },
    {
      "cell_type": "code",
      "metadata": {
        "id": "99G2uu3ZHe-4",
        "colab_type": "code",
        "colab": {}
      },
      "source": [
        "from sklearn import preprocessing\n",
        "le = preprocessing.LabelEncoder()\n",
        "le.fit(results['label'].unique())\n",
        "Y = le.transform(Y1)"
      ],
      "execution_count": 116,
      "outputs": []
    },
    {
      "cell_type": "code",
      "metadata": {
        "id": "3qe_i_H96isg",
        "colab_type": "code",
        "colab": {
          "base_uri": "https://localhost:8080/",
          "height": 51
        },
        "outputId": "deba4acb-aeab-430d-e697-a62ef0812644"
      },
      "source": [
        "results['label'].unique()"
      ],
      "execution_count": 117,
      "outputs": [
        {
          "output_type": "execute_result",
          "data": {
            "text/plain": [
              "array(['unclassified', 'donations', 'exchange', 'mixer', 'paymentgateway',\n",
              "       'wallets'], dtype=object)"
            ]
          },
          "metadata": {
            "tags": []
          },
          "execution_count": 117
        }
      ]
    },
    {
      "cell_type": "markdown",
      "metadata": {
        "id": "zSGpbTo-8lyM",
        "colab_type": "text"
      },
      "source": [
        "##Standardise the Data"
      ]
    },
    {
      "cell_type": "code",
      "metadata": {
        "id": "FfcOUPsD8v5k",
        "colab_type": "code",
        "colab": {}
      },
      "source": [
        "from sklearn.preprocessing import StandardScaler\n",
        "scaler=StandardScaler()\n",
        "X_stand=scaler.fit_transform(X)"
      ],
      "execution_count": 118,
      "outputs": []
    },
    {
      "cell_type": "markdown",
      "metadata": {
        "id": "jyKY_G6KAXZF",
        "colab_type": "text"
      },
      "source": [
        "##Split data into train and test sets"
      ]
    },
    {
      "cell_type": "code",
      "metadata": {
        "id": "YeRBKIntAYI4",
        "colab_type": "code",
        "colab": {}
      },
      "source": [
        "from sklearn.model_selection import train_test_split\n",
        "seed = 7\n",
        "test_size = 0.2\n",
        "X_train, X_test, y_train, y_test = train_test_split(X_stand, Y, test_size=test_size, random_state=seed)"
      ],
      "execution_count": 119,
      "outputs": []
    },
    {
      "cell_type": "code",
      "metadata": {
        "id": "M56sM2KK-8Nv",
        "colab_type": "code",
        "colab": {}
      },
      "source": [
        "#Can use this also but we already did in X_stand or else we cando it here after dividing in training & testing\n",
        "#scaler=StandardScaler()\n",
        "#X_train=scaler.fit_transform(X_train) #Remember the transformation done  for normalisation in training  \n",
        "#X_test=scaler.transform(X_test)  #Fit the same transformation of normalisation in Testing"
      ],
      "execution_count": 120,
      "outputs": []
    },
    {
      "cell_type": "code",
      "metadata": {
        "id": "mU9YiWPAIAYQ",
        "colab_type": "code",
        "colab": {
          "base_uri": "https://localhost:8080/",
          "height": 238
        },
        "outputId": "59964996-7948-40ea-a62b-cfed922dfc8e"
      },
      "source": [
        "X_train"
      ],
      "execution_count": 121,
      "outputs": [
        {
          "output_type": "execute_result",
          "data": {
            "text/plain": [
              "array([[-0.02480628, -0.04059748,  0.        , ...,  0.        ,\n",
              "        -0.03714467, -0.04072057],\n",
              "       [-0.02480628, -0.03446475,  0.        , ...,  0.        ,\n",
              "        -0.031027  , -0.03458512],\n",
              "       [-0.02480628, -0.03029807,  0.        , ...,  0.        ,\n",
              "        -0.0268701 , -0.03041658],\n",
              "       ...,\n",
              "       [ 0.5887014 , -0.06028343,  0.        , ...,  0.        ,\n",
              "        -0.05682258, -0.06057504],\n",
              "       [-0.02480628, -0.03735024,  0.        , ...,  0.        ,\n",
              "        -0.03390422, -0.03747184],\n",
              "       [-0.02480628, -0.05028123,  0.        , ...,  0.        ,\n",
              "        -0.0468013 , -0.05040851]])"
            ]
          },
          "metadata": {
            "tags": []
          },
          "execution_count": 121
        }
      ]
    },
    {
      "cell_type": "code",
      "metadata": {
        "id": "NNfPpLF27qX9",
        "colab_type": "code",
        "colab": {}
      },
      "source": [
        "#To divide Y-train & y_test in categorical\n",
        "from keras.utils import to_categorical\n",
        "y_train = to_categorical(y_train, 6)\n",
        "y_test = to_categorical(y_test, 6)"
      ],
      "execution_count": 122,
      "outputs": []
    },
    {
      "cell_type": "code",
      "metadata": {
        "id": "wzwUwgAGFSZH",
        "colab_type": "code",
        "colab": {
          "base_uri": "https://localhost:8080/",
          "height": 136
        },
        "outputId": "5c231efa-da45-422b-d643-e49e011849da"
      },
      "source": [
        "y_train"
      ],
      "execution_count": 123,
      "outputs": [
        {
          "output_type": "execute_result",
          "data": {
            "text/plain": [
              "array([[1., 0., 0., 0., 0., 0.],\n",
              "       [1., 0., 0., 0., 0., 0.],\n",
              "       [1., 0., 0., 0., 0., 0.],\n",
              "       ...,\n",
              "       [1., 0., 0., 0., 0., 0.],\n",
              "       [1., 0., 0., 0., 0., 0.],\n",
              "       [1., 0., 0., 0., 0., 0.]], dtype=float32)"
            ]
          },
          "metadata": {
            "tags": []
          },
          "execution_count": 123
        }
      ]
    },
    {
      "cell_type": "code",
      "metadata": {
        "id": "P-epGvaQFTmo",
        "colab_type": "code",
        "colab": {
          "base_uri": "https://localhost:8080/",
          "height": 136
        },
        "outputId": "dc935b34-35ae-455f-b501-9da5bba3f122"
      },
      "source": [
        "y_test"
      ],
      "execution_count": 124,
      "outputs": [
        {
          "output_type": "execute_result",
          "data": {
            "text/plain": [
              "array([[1., 0., 0., 0., 0., 0.],\n",
              "       [1., 0., 0., 0., 0., 0.],\n",
              "       [1., 0., 0., 0., 0., 0.],\n",
              "       ...,\n",
              "       [1., 0., 0., 0., 0., 0.],\n",
              "       [1., 0., 0., 0., 0., 0.],\n",
              "       [1., 0., 0., 0., 0., 0.]], dtype=float32)"
            ]
          },
          "metadata": {
            "tags": []
          },
          "execution_count": 124
        }
      ]
    },
    {
      "cell_type": "code",
      "metadata": {
        "id": "OTu67TFS8a4N",
        "colab_type": "code",
        "colab": {}
      },
      "source": [
        "from keras import models\n",
        "from keras import layers"
      ],
      "execution_count": 125,
      "outputs": []
    },
    {
      "cell_type": "code",
      "metadata": {
        "id": "cxSY83jCBb0r",
        "colab_type": "code",
        "colab": {}
      },
      "source": [
        "model1=models.Sequential()\n",
        "model1.add(layers.Dense(100,activation=\"sigmoid\",input_shape=(16,)))\n",
        "model1.add(layers.Dense(6,activation=\"softmax\"))"
      ],
      "execution_count": 126,
      "outputs": []
    },
    {
      "cell_type": "code",
      "metadata": {
        "id": "qsEyDHEeBzkV",
        "colab_type": "code",
        "colab": {
          "base_uri": "https://localhost:8080/",
          "height": 221
        },
        "outputId": "fbc227ee-5b71-436f-a3b4-96a0b8cd4f12"
      },
      "source": [
        "model1.summary()"
      ],
      "execution_count": 127,
      "outputs": [
        {
          "output_type": "stream",
          "text": [
            "Model: \"sequential_6\"\n",
            "_________________________________________________________________\n",
            "Layer (type)                 Output Shape              Param #   \n",
            "=================================================================\n",
            "dense_13 (Dense)             (None, 100)               1700      \n",
            "_________________________________________________________________\n",
            "dense_14 (Dense)             (None, 6)                 606       \n",
            "=================================================================\n",
            "Total params: 2,306\n",
            "Trainable params: 2,306\n",
            "Non-trainable params: 0\n",
            "_________________________________________________________________\n"
          ],
          "name": "stdout"
        }
      ]
    },
    {
      "cell_type": "code",
      "metadata": {
        "id": "ZAgjLR4JCML0",
        "colab_type": "code",
        "colab": {}
      },
      "source": [
        "model1.compile(optimizer=\"adam\",loss='categorical_crossentropy',metrics=['accuracy'])"
      ],
      "execution_count": 129,
      "outputs": []
    },
    {
      "cell_type": "code",
      "metadata": {
        "id": "fDNKXpxeCYTE",
        "colab_type": "code",
        "colab": {
          "base_uri": "https://localhost:8080/",
          "height": 867
        },
        "outputId": "3f2a4119-caf6-47ee-f099-e14828b95bc4"
      },
      "source": [
        "history=model1.fit(X_train, y_train, epochs=25,batch_size=5, verbose=1, validation_split=0.25)"
      ],
      "execution_count": 130,
      "outputs": [
        {
          "output_type": "stream",
          "text": [
            "Epoch 1/25\n",
            "11580/11580 [==============================] - 15s 1ms/step - loss: 0.5811 - accuracy: 0.8514 - val_loss: 0.5583 - val_accuracy: 0.8678\n",
            "Epoch 2/25\n",
            "11580/11580 [==============================] - 15s 1ms/step - loss: 0.5425 - accuracy: 0.8707 - val_loss: 0.5530 - val_accuracy: 0.8680\n",
            "Epoch 3/25\n",
            "11580/11580 [==============================] - 20s 2ms/step - loss: 0.5390 - accuracy: 0.8710 - val_loss: 0.5486 - val_accuracy: 0.8682\n",
            "Epoch 4/25\n",
            "11580/11580 [==============================] - 17s 2ms/step - loss: 0.5369 - accuracy: 0.8709 - val_loss: 0.5629 - val_accuracy: 0.8681\n",
            "Epoch 5/25\n",
            "11580/11580 [==============================] - 16s 1ms/step - loss: 0.5360 - accuracy: 0.8711 - val_loss: 0.5561 - val_accuracy: 0.8682\n",
            "Epoch 6/25\n",
            "11580/11580 [==============================] - 16s 1ms/step - loss: 0.5352 - accuracy: 0.8712 - val_loss: 0.5432 - val_accuracy: 0.8679\n",
            "Epoch 7/25\n",
            "11580/11580 [==============================] - 15s 1ms/step - loss: 0.5333 - accuracy: 0.8713 - val_loss: 0.5649 - val_accuracy: 0.8675\n",
            "Epoch 8/25\n",
            "11580/11580 [==============================] - 16s 1ms/step - loss: 0.5324 - accuracy: 0.8712 - val_loss: 0.5668 - val_accuracy: 0.8671\n",
            "Epoch 9/25\n",
            "11580/11580 [==============================] - 16s 1ms/step - loss: 0.5299 - accuracy: 0.8712 - val_loss: 0.5405 - val_accuracy: 0.8680\n",
            "Epoch 10/25\n",
            "11580/11580 [==============================] - 16s 1ms/step - loss: 0.5286 - accuracy: 0.8714 - val_loss: 0.5383 - val_accuracy: 0.8679\n",
            "Epoch 11/25\n",
            "11580/11580 [==============================] - 16s 1ms/step - loss: 0.5258 - accuracy: 0.8714 - val_loss: 0.5419 - val_accuracy: 0.8678\n",
            "Epoch 12/25\n",
            "11580/11580 [==============================] - 16s 1ms/step - loss: 0.5243 - accuracy: 0.8715 - val_loss: 0.5466 - val_accuracy: 0.8681\n",
            "Epoch 13/25\n",
            "11580/11580 [==============================] - 16s 1ms/step - loss: 0.5226 - accuracy: 0.8717 - val_loss: 0.5321 - val_accuracy: 0.8682\n",
            "Epoch 14/25\n",
            "11580/11580 [==============================] - 16s 1ms/step - loss: 0.5217 - accuracy: 0.8717 - val_loss: 0.5323 - val_accuracy: 0.8683\n",
            "Epoch 15/25\n",
            "11580/11580 [==============================] - 17s 1ms/step - loss: 0.5201 - accuracy: 0.8718 - val_loss: 0.5316 - val_accuracy: 0.8684\n",
            "Epoch 16/25\n",
            "11580/11580 [==============================] - 16s 1ms/step - loss: 0.5195 - accuracy: 0.8720 - val_loss: 0.5375 - val_accuracy: 0.8684\n",
            "Epoch 17/25\n",
            "11580/11580 [==============================] - 16s 1ms/step - loss: 0.5188 - accuracy: 0.8720 - val_loss: 0.5322 - val_accuracy: 0.8682\n",
            "Epoch 18/25\n",
            "11580/11580 [==============================] - 16s 1ms/step - loss: 0.5185 - accuracy: 0.8718 - val_loss: 0.5282 - val_accuracy: 0.8682\n",
            "Epoch 19/25\n",
            "11580/11580 [==============================] - 15s 1ms/step - loss: 0.5175 - accuracy: 0.8720 - val_loss: 0.5443 - val_accuracy: 0.8684\n",
            "Epoch 20/25\n",
            "11580/11580 [==============================] - 15s 1ms/step - loss: 0.5173 - accuracy: 0.8719 - val_loss: 0.5280 - val_accuracy: 0.8686\n",
            "Epoch 21/25\n",
            "11580/11580 [==============================] - 15s 1ms/step - loss: 0.5171 - accuracy: 0.8720 - val_loss: 0.5272 - val_accuracy: 0.8684\n",
            "Epoch 22/25\n",
            "11580/11580 [==============================] - 15s 1ms/step - loss: 0.5163 - accuracy: 0.8722 - val_loss: 0.5265 - val_accuracy: 0.8684\n",
            "Epoch 23/25\n",
            "11580/11580 [==============================] - 19s 2ms/step - loss: 0.5165 - accuracy: 0.8721 - val_loss: 0.5274 - val_accuracy: 0.8683\n",
            "Epoch 24/25\n",
            "11580/11580 [==============================] - 19s 2ms/step - loss: 0.5160 - accuracy: 0.8720 - val_loss: 0.5338 - val_accuracy: 0.8685\n",
            "Epoch 25/25\n",
            "11580/11580 [==============================] - 16s 1ms/step - loss: 0.5156 - accuracy: 0.8722 - val_loss: 0.5278 - val_accuracy: 0.8685\n"
          ],
          "name": "stdout"
        }
      ]
    },
    {
      "cell_type": "code",
      "metadata": {
        "id": "O5Xx39FNDgqJ",
        "colab_type": "code",
        "colab": {
          "base_uri": "https://localhost:8080/",
          "height": 68
        },
        "outputId": "4de08c09-4830-44f6-afd8-4c2005e4e41c"
      },
      "source": [
        "#6 Evaluate\n",
        "test_loss,test_acc=model1.evaluate(X_test,y_test)\n",
        "print(test_loss)\n",
        "print(test_acc)"
      ],
      "execution_count": 131,
      "outputs": [
        {
          "output_type": "stream",
          "text": [
            "604/604 [==============================] - 1s 1ms/step - loss: 0.5299 - accuracy: 0.8686\n",
            "0.5299469232559204\n",
            "0.8686010241508484\n"
          ],
          "name": "stdout"
        }
      ]
    },
    {
      "cell_type": "markdown",
      "metadata": {
        "id": "leUFgZi7MQP-",
        "colab_type": "text"
      },
      "source": [
        "##**Accuracy coming around ~ 86% in Training,Validation & Testing Dataset (i.e.above 75% Benchmark)**"
      ]
    },
    {
      "cell_type": "markdown",
      "metadata": {
        "id": "cLgKtRypJmrU",
        "colab_type": "text"
      },
      "source": [
        "##Plot of accuracy of Train & Validation"
      ]
    },
    {
      "cell_type": "code",
      "metadata": {
        "id": "C09EuwKXDX1m",
        "colab_type": "code",
        "colab": {
          "base_uri": "https://localhost:8080/",
          "height": 295
        },
        "outputId": "096695bb-fd4e-465c-b0d1-8fd59f4627cf"
      },
      "source": [
        "import matplotlib.pyplot as plt\n",
        "\n",
        "plt.plot(history.history['accuracy'])\n",
        "plt.plot(history.history['val_accuracy'])\n",
        "plt.title(\"Model accuracy\")\n",
        "plt.ylabel(\"Accuracy\")\n",
        "plt.xlabel(\"Epochs/iterations\")\n",
        "plt.legend(['Train','Validation'], loc=\"upper left\")\n",
        "plt.show()"
      ],
      "execution_count": 135,
      "outputs": [
        {
          "output_type": "display_data",
          "data": {
            "image/png": "[encoded data removed]",
            "text/plain": [
              "<Figure size 432x288 with 1 Axes>"
            ]
          },
          "metadata": {
            "tags": [],
            "needs_background": "light"
          }
        }
      ]
    },
    {
      "cell_type": "markdown",
      "metadata": {
        "id": "MMQ1sYUaJuL3",
        "colab_type": "text"
      },
      "source": [
        "##Plot of Loss of Train & Validation"
      ]
    },
    {
      "cell_type": "code",
      "metadata": {
        "id": "P60mOIZzDa88",
        "colab_type": "code",
        "colab": {
          "base_uri": "https://localhost:8080/",
          "height": 295
        },
        "outputId": "694e8678-e230-4418-cf38-d9e693ed14ec"
      },
      "source": [
        "import matplotlib.pyplot as plt\n",
        "\n",
        "plt.plot(history.history['loss'])\n",
        "plt.plot(history.history['val_loss'])\n",
        "plt.title(\"Model LOSS\")\n",
        "plt.ylabel(\"Accuracy\")\n",
        "plt.xlabel(\"Epochs/iterations\")\n",
        "plt.legend(['Train','Validation'], loc=\"upper left\")\n",
        "plt.show()"
      ],
      "execution_count": 134,
      "outputs": [
        {
          "output_type": "display_data",
          "data": {
            "image/png": "[encoded data removed]",
            "text/plain": [
              "<Figure size 432x288 with 1 Axes>"
            ]
          },
          "metadata": {
            "tags": [],
            "needs_background": "light"
          }
        }
      ]
    },
    {
      "cell_type": "markdown",
      "metadata": {
        "id": "QkN2cVMBImUY",
        "colab_type": "text"
      },
      "source": [
        "\n",
        "\n",
        "---\n",
        "\n"
      ]
    }
  ]
}