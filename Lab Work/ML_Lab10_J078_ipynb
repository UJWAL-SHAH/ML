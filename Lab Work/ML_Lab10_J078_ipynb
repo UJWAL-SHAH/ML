{
  "nbformat": 4,
  "nbformat_minor": 0,
  "metadata": {
    "colab": {
      "name": "ML_Lab10_J078.ipynb.ipynb",
      "provenance": [],
      "collapsed_sections": [],
      "authorship_tag": "ABX9TyPVEEiuEln9GMgrex3bIKvj"
    },
    "kernelspec": {
      "name": "python3",
      "display_name": "Python 3"
    },
    "accelerator": "GPU"
  },
  "cells": [
    {
      "cell_type": "markdown",
      "metadata": {
        "id": "ScFt6XVijqEl"
      },
      "source": [
        "#**LAB 10**\n",
        "\n",
        "#**ROLL NO : J078**"
      ]
    },
    {
      "cell_type": "markdown",
      "metadata": {
        "id": "1sKOtOvckG8e"
      },
      "source": [
        "**EXPERIMENT 10**\n",
        "\n",
        "Aim: Classification of Tweet weather topic classification data using machine learning models\n",
        "\n",
        "Objectives:\n",
        "\n",
        "Download from Repository data\n",
        "Perform classification on given dataset\n",
        "\n",
        "1.   Perform error analysis\n",
        "2.   Select correct architecture for maximum accuracy on cross validation and test set\n",
        "3.   Plot learning curves\n",
        "4.   List hyper-parameters used \n",
        "\n",
        "Dataset\n",
        "\n",
        " References\n",
        "\n",
        "        https://www.kaggle.com/c/crowdflower-weather-twitter/data\n",
        "\n",
        " Download from:\n",
        "\n",
        "        https://www.kaggle.com/c/3586/download/train.csv\n",
        "\n",
        "OR\n",
        "\n",
        "Download \n",
        "!wget -O train.csv.zip https://github.com/pranavn91/blockchain/blob/master/train.csv.zip?raw=true\n",
        "!wget -O test.csv.zip https://github.com/pranavn91/blockchain/blob/master/test.csv.zip?raw=true\n",
        "!unzip train.csv.zip\n",
        "!unzip test.csv.zip"
      ]
    },
    {
      "cell_type": "code",
      "metadata": {
        "id": "l9HSnu3sHeKe"
      },
      "source": [
        "import numpy as np\n",
        "import pandas as pd\n",
        "import matplotlib.pyplot as plt\n",
        "import seaborn as sns"
      ],
      "execution_count": 1,
      "outputs": []
    },
    {
      "cell_type": "code",
      "metadata": {
        "id": "G65BdRZcE4Mo",
        "outputId": "0cf91226-7847-4946-f08e-a73191f35f61",
        "colab": {
          "base_uri": "https://localhost:8080/"
        }
      },
      "source": [
        "!wget -O train.csv.zip https://github.com/pranavn91/blockchain/blob/master/train.csv.zip?raw=true\n",
        "!wget -O test.csv.zip https://github.com/pranavn91/blockchain/blob/master/test.csv.zip?raw=true\n",
        "!unzip train.csv.zip\n",
        "!unzip test.csv.zip\n",
        "train = pd.read_csv('train.csv')\n",
        "test = pd.read_csv('test.csv')"
      ],
      "execution_count": 2,
      "outputs": [
        {
          "output_type": "stream",
          "text": [
            "--2020-11-01 06:46:18--  https://github.com/pranavn91/blockchain/blob/master/train.csv.zip?raw=true\n",
            "Resolving github.com (github.com)... 140.82.112.4\n",
            "Connecting to github.com (github.com)|140.82.112.4|:443... connected.\n",
            "HTTP request sent, awaiting response... 302 Found\n",
            "Location: https://github.com/pranavn91/blockchain/raw/master/train.csv.zip [following]\n",
            "--2020-11-01 06:46:18--  https://github.com/pranavn91/blockchain/raw/master/train.csv.zip\n",
            "Reusing existing connection to github.com:443.\n",
            "HTTP request sent, awaiting response... 302 Found\n",
            "Location: https://raw.githubusercontent.com/pranavn91/blockchain/master/train.csv.zip [following]\n",
            "--2020-11-01 06:46:19--  https://raw.githubusercontent.com/pranavn91/blockchain/master/train.csv.zip\n",
            "Resolving raw.githubusercontent.com (raw.githubusercontent.com)... 151.101.0.133, 151.101.64.133, 151.101.128.133, ...\n",
            "Connecting to raw.githubusercontent.com (raw.githubusercontent.com)|151.101.0.133|:443... connected.\n",
            "HTTP request sent, awaiting response... 200 OK\n",
            "Length: 5237160 (5.0M) [application/zip]\n",
            "Saving to: ‘train.csv.zip’\n",
            "\n",
            "train.csv.zip       100%[===================>]   4.99M  --.-KB/s    in 0.08s   \n",
            "\n",
            "2020-11-01 06:46:19 (59.6 MB/s) - ‘train.csv.zip’ saved [5237160/5237160]\n",
            "\n",
            "--2020-11-01 06:46:19--  https://github.com/pranavn91/blockchain/blob/master/test.csv.zip?raw=true\n",
            "Resolving github.com (github.com)... 140.82.112.4\n",
            "Connecting to github.com (github.com)|140.82.112.4|:443... connected.\n",
            "HTTP request sent, awaiting response... 302 Found\n",
            "Location: https://github.com/pranavn91/blockchain/raw/master/test.csv.zip [following]\n",
            "--2020-11-01 06:46:19--  https://github.com/pranavn91/blockchain/raw/master/test.csv.zip\n",
            "Reusing existing connection to github.com:443.\n",
            "HTTP request sent, awaiting response... 302 Found\n",
            "Location: https://raw.githubusercontent.com/pranavn91/blockchain/master/test.csv.zip [following]\n",
            "--2020-11-01 06:46:19--  https://raw.githubusercontent.com/pranavn91/blockchain/master/test.csv.zip\n",
            "Resolving raw.githubusercontent.com (raw.githubusercontent.com)... 151.101.0.133, 151.101.64.133, 151.101.128.133, ...\n",
            "Connecting to raw.githubusercontent.com (raw.githubusercontent.com)|151.101.0.133|:443... connected.\n",
            "HTTP request sent, awaiting response... 200 OK\n",
            "Length: 2203010 (2.1M) [application/zip]\n",
            "Saving to: ‘test.csv.zip’\n",
            "\n",
            "test.csv.zip        100%[===================>]   2.10M  --.-KB/s    in 0.04s   \n",
            "\n",
            "2020-11-01 06:46:20 (54.5 MB/s) - ‘test.csv.zip’ saved [2203010/2203010]\n",
            "\n",
            "Archive:  train.csv.zip\n",
            "  inflating: train.csv               \n",
            "Archive:  test.csv.zip\n",
            "  inflating: test.csv                \n"
          ],
          "name": "stdout"
        }
      ]
    },
    {
      "cell_type": "code",
      "metadata": {
        "id": "F9Tdime9E7nv",
        "outputId": "216809c7-6a02-4206-c59f-221d7fa150c8",
        "colab": {
          "base_uri": "https://localhost:8080/",
          "height": 530
        }
      },
      "source": [
        "train.head()"
      ],
      "execution_count": 3,
      "outputs": [
        {
          "output_type": "execute_result",
          "data": {
            "text/html": [
              "<div>\n",
              "<style scoped>\n",
              "    .dataframe tbody tr th:only-of-type {\n",
              "        vertical-align: middle;\n",
              "    }\n",
              "\n",
              "    .dataframe tbody tr th {\n",
              "        vertical-align: top;\n",
              "    }\n",
              "\n",
              "    .dataframe thead th {\n",
              "        text-align: right;\n",
              "    }\n",
              "</style>\n",
              "<table border=\"1\" class=\"dataframe\">\n",
              "  <thead>\n",
              "    <tr style=\"text-align: right;\">\n",
              "      <th></th>\n",
              "      <th>id</th>\n",
              "      <th>tweet</th>\n",
              "      <th>state</th>\n",
              "      <th>location</th>\n",
              "      <th>s1</th>\n",
              "      <th>s2</th>\n",
              "      <th>s3</th>\n",
              "      <th>s4</th>\n",
              "      <th>s5</th>\n",
              "      <th>w1</th>\n",
              "      <th>w2</th>\n",
              "      <th>w3</th>\n",
              "      <th>w4</th>\n",
              "      <th>k1</th>\n",
              "      <th>k2</th>\n",
              "      <th>k3</th>\n",
              "      <th>k4</th>\n",
              "      <th>k5</th>\n",
              "      <th>k6</th>\n",
              "      <th>k7</th>\n",
              "      <th>k8</th>\n",
              "      <th>k9</th>\n",
              "      <th>k10</th>\n",
              "      <th>k11</th>\n",
              "      <th>k12</th>\n",
              "      <th>k13</th>\n",
              "      <th>k14</th>\n",
              "      <th>k15</th>\n",
              "    </tr>\n",
              "  </thead>\n",
              "  <tbody>\n",
              "    <tr>\n",
              "      <th>0</th>\n",
              "      <td>1</td>\n",
              "      <td>Jazz for a Rainy Afternoon:  {link}</td>\n",
              "      <td>oklahoma</td>\n",
              "      <td>Oklahoma</td>\n",
              "      <td>0.0</td>\n",
              "      <td>0.0</td>\n",
              "      <td>1.0</td>\n",
              "      <td>0.000</td>\n",
              "      <td>0.000</td>\n",
              "      <td>0.800</td>\n",
              "      <td>0.0</td>\n",
              "      <td>0.200</td>\n",
              "      <td>0.0</td>\n",
              "      <td>0.0</td>\n",
              "      <td>0.0</td>\n",
              "      <td>0.0</td>\n",
              "      <td>0.0</td>\n",
              "      <td>0.0</td>\n",
              "      <td>0.0</td>\n",
              "      <td>0.000</td>\n",
              "      <td>0.0</td>\n",
              "      <td>0.000</td>\n",
              "      <td>1.0</td>\n",
              "      <td>0.0</td>\n",
              "      <td>0.0</td>\n",
              "      <td>0.000</td>\n",
              "      <td>0.0</td>\n",
              "      <td>0.0</td>\n",
              "    </tr>\n",
              "    <tr>\n",
              "      <th>1</th>\n",
              "      <td>2</td>\n",
              "      <td>RT: @mention: I love rainy days.</td>\n",
              "      <td>florida</td>\n",
              "      <td>Miami-Ft. Lauderdale</td>\n",
              "      <td>0.0</td>\n",
              "      <td>0.0</td>\n",
              "      <td>0.0</td>\n",
              "      <td>1.000</td>\n",
              "      <td>0.000</td>\n",
              "      <td>0.196</td>\n",
              "      <td>0.0</td>\n",
              "      <td>0.804</td>\n",
              "      <td>0.0</td>\n",
              "      <td>0.0</td>\n",
              "      <td>0.0</td>\n",
              "      <td>0.0</td>\n",
              "      <td>0.0</td>\n",
              "      <td>0.0</td>\n",
              "      <td>0.0</td>\n",
              "      <td>0.000</td>\n",
              "      <td>0.0</td>\n",
              "      <td>0.000</td>\n",
              "      <td>1.0</td>\n",
              "      <td>0.0</td>\n",
              "      <td>0.0</td>\n",
              "      <td>0.000</td>\n",
              "      <td>0.0</td>\n",
              "      <td>0.0</td>\n",
              "    </tr>\n",
              "    <tr>\n",
              "      <th>2</th>\n",
              "      <td>3</td>\n",
              "      <td>Good Morning Chicago! Time to kick the Windy C...</td>\n",
              "      <td>idaho</td>\n",
              "      <td>NaN</td>\n",
              "      <td>0.0</td>\n",
              "      <td>0.0</td>\n",
              "      <td>0.0</td>\n",
              "      <td>0.000</td>\n",
              "      <td>1.000</td>\n",
              "      <td>0.000</td>\n",
              "      <td>0.0</td>\n",
              "      <td>1.000</td>\n",
              "      <td>0.0</td>\n",
              "      <td>0.0</td>\n",
              "      <td>0.0</td>\n",
              "      <td>0.0</td>\n",
              "      <td>0.0</td>\n",
              "      <td>0.0</td>\n",
              "      <td>0.0</td>\n",
              "      <td>1.000</td>\n",
              "      <td>0.0</td>\n",
              "      <td>0.000</td>\n",
              "      <td>0.0</td>\n",
              "      <td>0.0</td>\n",
              "      <td>0.0</td>\n",
              "      <td>0.000</td>\n",
              "      <td>0.0</td>\n",
              "      <td>0.0</td>\n",
              "    </tr>\n",
              "    <tr>\n",
              "      <th>3</th>\n",
              "      <td>6</td>\n",
              "      <td>Preach lol! :) RT @mention: #alliwantis this t...</td>\n",
              "      <td>minnesota</td>\n",
              "      <td>Minneapolis-St. Paul</td>\n",
              "      <td>0.0</td>\n",
              "      <td>0.0</td>\n",
              "      <td>0.0</td>\n",
              "      <td>1.000</td>\n",
              "      <td>0.000</td>\n",
              "      <td>1.000</td>\n",
              "      <td>0.0</td>\n",
              "      <td>0.000</td>\n",
              "      <td>0.0</td>\n",
              "      <td>0.0</td>\n",
              "      <td>0.0</td>\n",
              "      <td>0.0</td>\n",
              "      <td>0.0</td>\n",
              "      <td>0.0</td>\n",
              "      <td>0.0</td>\n",
              "      <td>0.604</td>\n",
              "      <td>0.0</td>\n",
              "      <td>0.196</td>\n",
              "      <td>0.0</td>\n",
              "      <td>0.0</td>\n",
              "      <td>0.0</td>\n",
              "      <td>0.201</td>\n",
              "      <td>0.0</td>\n",
              "      <td>0.0</td>\n",
              "    </tr>\n",
              "    <tr>\n",
              "      <th>4</th>\n",
              "      <td>9</td>\n",
              "      <td>@mention good morning sunshine</td>\n",
              "      <td>rhode island</td>\n",
              "      <td>Purgatory</td>\n",
              "      <td>0.0</td>\n",
              "      <td>0.0</td>\n",
              "      <td>0.0</td>\n",
              "      <td>0.403</td>\n",
              "      <td>0.597</td>\n",
              "      <td>1.000</td>\n",
              "      <td>0.0</td>\n",
              "      <td>0.000</td>\n",
              "      <td>0.0</td>\n",
              "      <td>0.0</td>\n",
              "      <td>0.0</td>\n",
              "      <td>0.0</td>\n",
              "      <td>0.0</td>\n",
              "      <td>0.0</td>\n",
              "      <td>0.0</td>\n",
              "      <td>0.000</td>\n",
              "      <td>0.0</td>\n",
              "      <td>0.000</td>\n",
              "      <td>0.0</td>\n",
              "      <td>0.0</td>\n",
              "      <td>0.0</td>\n",
              "      <td>1.000</td>\n",
              "      <td>0.0</td>\n",
              "      <td>0.0</td>\n",
              "    </tr>\n",
              "  </tbody>\n",
              "</table>\n",
              "</div>"
            ],
            "text/plain": [
              "   id                                              tweet  ...  k14  k15\n",
              "0   1                Jazz for a Rainy Afternoon:  {link}  ...  0.0  0.0\n",
              "1   2                   RT: @mention: I love rainy days.  ...  0.0  0.0\n",
              "2   3  Good Morning Chicago! Time to kick the Windy C...  ...  0.0  0.0\n",
              "3   6  Preach lol! :) RT @mention: #alliwantis this t...  ...  0.0  0.0\n",
              "4   9                     @mention good morning sunshine  ...  0.0  0.0\n",
              "\n",
              "[5 rows x 28 columns]"
            ]
          },
          "metadata": {
            "tags": []
          },
          "execution_count": 3
        }
      ]
    },
    {
      "cell_type": "code",
      "metadata": {
        "id": "PohAAonuE-Fs",
        "outputId": "298b82e3-cb6a-43c0-ca4c-040068150b1f",
        "colab": {
          "base_uri": "https://localhost:8080/",
          "height": 204
        }
      },
      "source": [
        "test.head()"
      ],
      "execution_count": 4,
      "outputs": [
        {
          "output_type": "execute_result",
          "data": {
            "text/html": [
              "<div>\n",
              "<style scoped>\n",
              "    .dataframe tbody tr th:only-of-type {\n",
              "        vertical-align: middle;\n",
              "    }\n",
              "\n",
              "    .dataframe tbody tr th {\n",
              "        vertical-align: top;\n",
              "    }\n",
              "\n",
              "    .dataframe thead th {\n",
              "        text-align: right;\n",
              "    }\n",
              "</style>\n",
              "<table border=\"1\" class=\"dataframe\">\n",
              "  <thead>\n",
              "    <tr style=\"text-align: right;\">\n",
              "      <th></th>\n",
              "      <th>id</th>\n",
              "      <th>tweet</th>\n",
              "      <th>state</th>\n",
              "      <th>location</th>\n",
              "    </tr>\n",
              "  </thead>\n",
              "  <tbody>\n",
              "    <tr>\n",
              "      <th>0</th>\n",
              "      <td>4</td>\n",
              "      <td>Edinburgh peeps is it sunny?? #weather</td>\n",
              "      <td>NaN</td>\n",
              "      <td>birmingham</td>\n",
              "    </tr>\n",
              "    <tr>\n",
              "      <th>1</th>\n",
              "      <td>5</td>\n",
              "      <td>SEEVERE T’STORM WARNING FOR TROUSDALE,  NORTHW...</td>\n",
              "      <td>NaN</td>\n",
              "      <td>Nashville</td>\n",
              "    </tr>\n",
              "    <tr>\n",
              "      <th>2</th>\n",
              "      <td>7</td>\n",
              "      <td>@Agilis1 sport or traditional climbing? Thats ...</td>\n",
              "      <td>NaN</td>\n",
              "      <td>Midwest</td>\n",
              "    </tr>\n",
              "    <tr>\n",
              "      <th>3</th>\n",
              "      <td>8</td>\n",
              "      <td>#WEATHER: 10:53 am : 63.0F. Feels 61F. 30.07% ...</td>\n",
              "      <td>tennessee</td>\n",
              "      <td>Nashville, TN, USA</td>\n",
              "    </tr>\n",
              "    <tr>\n",
              "      <th>4</th>\n",
              "      <td>12</td>\n",
              "      <td>We used to use umbrellas to face the bad weath...</td>\n",
              "      <td>NaN</td>\n",
              "      <td>Houston</td>\n",
              "    </tr>\n",
              "  </tbody>\n",
              "</table>\n",
              "</div>"
            ],
            "text/plain": [
              "   id  ...            location\n",
              "0   4  ...          birmingham\n",
              "1   5  ...           Nashville\n",
              "2   7  ...             Midwest\n",
              "3   8  ...  Nashville, TN, USA\n",
              "4  12  ...             Houston\n",
              "\n",
              "[5 rows x 4 columns]"
            ]
          },
          "metadata": {
            "tags": []
          },
          "execution_count": 4
        }
      ]
    },
    {
      "cell_type": "code",
      "metadata": {
        "id": "Dck468zjFAz0",
        "outputId": "65480c5b-e72b-43f2-f046-e74b1fb39457",
        "colab": {
          "base_uri": "https://localhost:8080/"
        }
      },
      "source": [
        "print(train.shape)\n",
        "print(test.shape)"
      ],
      "execution_count": 5,
      "outputs": [
        {
          "output_type": "stream",
          "text": [
            "(77946, 28)\n",
            "(42157, 4)\n"
          ],
          "name": "stdout"
        }
      ]
    },
    {
      "cell_type": "code",
      "metadata": {
        "id": "qLm-ImsqFCbj"
      },
      "source": [
        "target_cols = train.columns.difference(test.columns)\n",
        "target = train[target_cols]\n",
        "train.drop(target_cols,axis=1,inplace=True)"
      ],
      "execution_count": 6,
      "outputs": []
    },
    {
      "cell_type": "code",
      "metadata": {
        "id": "S91ogD0JFF1y"
      },
      "source": [
        "for data in (train,test):\n",
        "    missing_loc_idx = data.index[data.location.isnull()].tolist()\n",
        "    missing_loc_dict = {}\n",
        "    for i in range(len(data)):\n",
        "        if i in missing_loc_idx:\n",
        "            missing_loc_dict[i] = 1\n",
        "        else:\n",
        "            missing_loc_dict[i] = 0\n",
        "    data['missing_loc']= data.index.map(missing_loc_dict)"
      ],
      "execution_count": 7,
      "outputs": []
    },
    {
      "cell_type": "code",
      "metadata": {
        "id": "g95pQPxCFH9K"
      },
      "source": [
        "for data in (train,test):\n",
        "    missing_state_idx = data.index[data.state.isnull()].tolist()\n",
        "    missing_state_dict = {}\n",
        "    for i in range(len(data)):\n",
        "        if i in missing_state_idx:\n",
        "            missing_state_dict[i] = 1\n",
        "        else:\n",
        "            missing_state_dict[i] = 0\n",
        "    data['missing_state']= data.index.map(missing_state_dict)"
      ],
      "execution_count": 8,
      "outputs": []
    },
    {
      "cell_type": "code",
      "metadata": {
        "id": "YBuMskBTFKp3"
      },
      "source": [
        "for data in (train,test):\n",
        "    data['location'] = data['location'].replace(np.nan, '', regex=True)\n",
        "    data['state'] = data['state'].replace(np.nan, '', regex=True)\n",
        "    data['full_text'] = data['tweet']+' '+data['state']+' '+data['location']"
      ],
      "execution_count": 9,
      "outputs": []
    },
    {
      "cell_type": "code",
      "metadata": {
        "id": "UsBk3G_fFNbD"
      },
      "source": [
        "states = {\"AL\":\"Alabama\",\"AK\":\"Alaska\",\"AZ\":\"Arizona\",\"AR\":\"Arkansas\",\"CA\":\"California\",\"CO\":\"Colorado\",\"CT\":\"Connecticut\",\"DE\":\"Delaware\",\"FL\":\"Florida\",\"GA\":\"Georgia\",\"HI\":\"Hawaii\",\"ID\":\"Idaho\",\"IL\":\"Illinois\",\"IN\":\"Indiana\",\"IA\":\"Iowa\",\"KS\":\"Kansas\",\"KY\":\"Kentucky\",\"LA\":\"Louisiana\",\"ME\":\"Maine\",\"MD\":\"Maryland\",\"MA\":\"Massachusetts\",\"MI\":\"Michigan\",\"MN\":\"Minnesota\",\"MS\":\"Mississippi\",\"MO\":\"Missouri\",\"MT\":\"Montana\",\"NE\":\"Nebraska\",\"NV\":\"Nevada\",\"NH\":\"New Hampshire\",\"NJ\":\"New Jersey\",\"NM\":\"New Mexico\",\"NY\":\"New York\",\"NC\":\"North Carolina\",\"ND\":\"North Dakota\",\"OH\":\"Ohio\",\"OK\":\"Oklahoma\",\"OR\":\"Oregon\",\"PA\":\"Pennsylvania\",\"RI\":\"Rhode Island\",\"SC\":\"South Carolina\",\"SD\":\"South Dakota\",\"TN\":\"Tennessee\",\"TX\":\"Texas\",\"UT\":\"Utah\",\"VT\":\"Vermont\",\"VA\":\"Virginia\",\"WA\":\"Washington\",\"WV\":\"West Virginia\",\"WI\":\"Wisconsin\",\"WY\":\"Wyoming\",\"NYC\":\"New York\"}"
      ],
      "execution_count": 10,
      "outputs": []
    },
    {
      "cell_type": "code",
      "metadata": {
        "id": "u5ylrE2OFP0O"
      },
      "source": [
        "import re\n",
        "def cleanpunc(sentence):\n",
        "    cleaned = re.sub(r'[?|!|\\'|\"|#]',r'',sentence)\n",
        "    cleaned = re.sub(r'[.|,|)|(|)|\\|/||:]',r' ',cleaned)      \n",
        "    return cleaned\n",
        "\n",
        "def acronym(s, dct):\n",
        "  return ' '.join([dct.get(i, i) for i in s.split()])\n",
        "\n",
        "for data in (train,test):\n",
        "    full_text_dict = {}\n",
        "    for i,row in data.iterrows():\n",
        "            full_text_dict[i] = acronym(cleanpunc(row['full_text']),states)\n",
        "            #print(i)       \n",
        "    data['full_txt2'] = data.index.map(full_text_dict)"
      ],
      "execution_count": 11,
      "outputs": []
    },
    {
      "cell_type": "code",
      "metadata": {
        "id": "7N8Eg-v5FR83"
      },
      "source": [
        "for data in (train,test):\n",
        "    data['num_word'] = data['tweet'].apply(lambda x : len(x.split()))\n",
        "    data['num_char'] = data['tweet'].apply(lambda x : len(x))\n",
        "    data['avg_word_length']= data['num_char']+1/data['num_word']"
      ],
      "execution_count": 12,
      "outputs": []
    },
    {
      "cell_type": "code",
      "metadata": {
        "id": "53efNAmoFW9o"
      },
      "source": [
        "for data in (train,test):\n",
        "    linkword = \"{link}\"\n",
        "    link_dict = {}\n",
        "    for idx in range(len(data)):\n",
        "        text = data.loc[idx,'full_text']\n",
        "        if linkword in text.split():\n",
        "            link_dict[idx]=1\n",
        "        else:\n",
        "            link_dict[idx]=0\n",
        "    data['link_word'] = data.index.map(link_dict)"
      ],
      "execution_count": 13,
      "outputs": []
    },
    {
      "cell_type": "code",
      "metadata": {
        "id": "Wg_L0i8_FZWB"
      },
      "source": [
        "for data in (train,test):\n",
        "    mention= \"@mention\"\n",
        "    mention_dict = {}\n",
        "    for idx in range(len(data)):\n",
        "        text = data.loc[idx,'full_text']\n",
        "        if mention in cleanpunc(text).split():\n",
        "            mention_dict[idx]=1\n",
        "        else:\n",
        "            mention_dict[idx]=0\n",
        "    data['mention_word'] = data.index.map(mention_dict)"
      ],
      "execution_count": 14,
      "outputs": []
    },
    {
      "cell_type": "code",
      "metadata": {
        "id": "aa7r4NrGFcJ8",
        "outputId": "c29252fb-4b2b-40ea-b81b-af0fe53b220d",
        "colab": {
          "base_uri": "https://localhost:8080/"
        }
      },
      "source": [
        "import re\n",
        "!pip install nltk\n",
        "import nltk\n",
        "nltk.download('stopwords')\n",
        "from nltk.stem import PorterStemmer\n",
        "ps = PorterStemmer()\n",
        "from nltk.corpus import stopwords\n",
        "stopwords = set(stopwords.words('english'))\n",
        "from wordcloud import WordCloud, STOPWORDS, ImageColorGenerator\n",
        "\n",
        "def cleanhtml (sentence):\n",
        "    cleantext = re.sub(r'http\\S+',r'',sentence)\n",
        "    return cleantext\n",
        "\n",
        "def cleanpunc(sentence):\n",
        "    cleaned = re.sub(r'[?|!|\\'|\"|#]',r'',sentence)\n",
        "    cleaned = re.sub(r'[.|,|)|(|)|\\|/|:]',r' ',cleaned)      \n",
        "    return cleaned"
      ],
      "execution_count": 15,
      "outputs": [
        {
          "output_type": "stream",
          "text": [
            "Requirement already satisfied: nltk in /usr/local/lib/python3.6/dist-packages (3.2.5)\n",
            "Requirement already satisfied: six in /usr/local/lib/python3.6/dist-packages (from nltk) (1.15.0)\n",
            "[nltk_data] Downloading package stopwords to /root/nltk_data...\n",
            "[nltk_data]   Unzipping corpora/stopwords.zip.\n"
          ],
          "name": "stdout"
        }
      ]
    },
    {
      "cell_type": "code",
      "metadata": {
        "id": "gWno0S6ZFeJi"
      },
      "source": [
        "for data in (train,test):\n",
        "    str1=' '\n",
        "    final_string=[]\n",
        "    s=''\n",
        "    for sent in data['full_text']:\n",
        "        filter_sent = []\n",
        "        rem_html = cleanhtml(sent)\n",
        "        rem_punc = cleanpunc (rem_html)\n",
        "        for w in rem_punc.split():\n",
        "            if ((w.isalpha())):\n",
        "                if (w.lower() not in stopwords):\n",
        "                    s=(ps.stem(w.lower())).encode('utf8')\n",
        "                    s=(w.lower()).encode('utf8')\n",
        "                    filter_sent.append(s)\n",
        "                else:\n",
        "                    continue\n",
        "            else:\n",
        "                continue\n",
        "        str1 = b\" \".join(filter_sent)\n",
        "        final_string.append(str1)\n",
        "    data['clean_text'] = np.array(final_string)"
      ],
      "execution_count": 16,
      "outputs": []
    },
    {
      "cell_type": "code",
      "metadata": {
        "id": "d65GOtBOFgL5"
      },
      "source": [
        "import scipy as sp\n",
        "from sklearn.feature_extraction.text import TfidfVectorizer\n",
        "from sklearn.preprocessing import normalize\n",
        "from sklearn.preprocessing import OneHotEncoder\n",
        "\n",
        "vectorizer = TfidfVectorizer(encoding='utf-8', ngram_range=(1, 3), max_df=0.75, min_df=5) #max_features=12500\n",
        "\n",
        "train_vec = vectorizer.fit_transform(train.clean_text)\n",
        "test_vec = vectorizer.transform(test.clean_text)"
      ],
      "execution_count": 17,
      "outputs": []
    },
    {
      "cell_type": "code",
      "metadata": {
        "id": "Ga6NHJknFife"
      },
      "source": [
        "from sklearn.decomposition import TruncatedSVD\n",
        "svd = TruncatedSVD(n_components=2, algorithm='randomized', n_iter=5, random_state=None, tol=0.0)\n",
        "train_svd = svd.fit_transform(train_vec)\n",
        "test_svd = svd.transform(test_vec)"
      ],
      "execution_count": 18,
      "outputs": []
    },
    {
      "cell_type": "code",
      "metadata": {
        "id": "BBqc5SmnFkfz"
      },
      "source": [
        "col = ['svd1','svd2']\n",
        "svd_train =  pd.DataFrame(train_svd, columns=col)\n",
        "svd_test = pd.DataFrame(test_svd, columns=col)"
      ],
      "execution_count": 19,
      "outputs": []
    },
    {
      "cell_type": "code",
      "metadata": {
        "id": "eYtR2rUhFpS6",
        "outputId": "6832b960-0ff8-4757-9731-8d914c325900",
        "colab": {
          "base_uri": "https://localhost:8080/"
        }
      },
      "source": [
        "import scipy as sp\n",
        "from sklearn.feature_extraction.text import TfidfVectorizer\n",
        "from sklearn.preprocessing import normalize\n",
        "from sklearn.preprocessing import OneHotEncoder\n",
        "ohe = OneHotEncoder()\n",
        "vectorizer2 = TfidfVectorizer(encoding='utf-8', ngram_range=(1, 3), max_df=0.75, min_df=5,max_features=50000)\n",
        "\n",
        "X = sp.sparse.hstack((vectorizer2.fit_transform(train.clean_text),normalize(train[['num_word', 'num_char', 'avg_word_length']].values),train[['missing_loc', 'missing_state','link_word', 'mention_word']],svd_train [['svd1','svd2']]),format='csr')\n",
        "\n",
        "X_columns=vectorizer.get_feature_names()+train[['num_word', 'num_char', 'avg_word_length','missing_loc', 'missing_state','link_word', 'mention_word']].columns.tolist() + svd_train [['svd1','svd2']].columns.tolist()\n",
        "print(X.shape)\n",
        "test_sp = sp.sparse.hstack((vectorizer2.transform(test.clean_text),normalize(test[['num_word', 'num_char', 'avg_word_length']].values),test[['missing_loc', 'missing_state','link_word', 'mention_word']],svd_test [['svd1','svd2']]),format='csr')\n"
      ],
      "execution_count": 20,
      "outputs": [
        {
          "output_type": "stream",
          "text": [
            "(77946, 32439)\n"
          ],
          "name": "stdout"
        }
      ]
    },
    {
      "cell_type": "code",
      "metadata": {
        "id": "Rm5gXZTKFrPa",
        "outputId": "0a48826c-7cd4-451e-9663-f5762579d370",
        "colab": {
          "base_uri": "https://localhost:8080/"
        }
      },
      "source": [
        "test_columns=vectorizer.get_feature_names()+test[['num_word', 'num_char', 'avg_word_length','missing_loc', 'missing_state','link_word', 'mention_word']].columns.tolist() + svd_test [['svd1','svd2']].columns.tolist()\n",
        "\n",
        "print(test_sp.shape)"
      ],
      "execution_count": 21,
      "outputs": [
        {
          "output_type": "stream",
          "text": [
            "(42157, 32439)\n"
          ],
          "name": "stdout"
        }
      ]
    },
    {
      "cell_type": "code",
      "metadata": {
        "id": "1DaGuK8XFvdm"
      },
      "source": [
        "# splitting train data for cross validation\n",
        "from sklearn.model_selection import train_test_split\n",
        "x, x_test, y, y_test = train_test_split(X,target,test_size=0.2,train_size=0.8, random_state = 0)"
      ],
      "execution_count": 22,
      "outputs": []
    },
    {
      "cell_type": "code",
      "metadata": {
        "id": "VJ43vjRfFwil",
        "outputId": "f72eef97-3a15-4be1-c49c-b128fdcb8ed9",
        "colab": {
          "base_uri": "https://localhost:8080/"
        }
      },
      "source": [
        "from sklearn.ensemble import GradientBoostingRegressor\n",
        "from sklearn.metrics import accuracy_score\n",
        "from sklearn.multiclass import OneVsRestClassifier\n",
        "from sklearn.metrics import mean_squared_error\n",
        "from sklearn.naive_bayes import MultinomialNB\n",
        "from sklearn.metrics import mean_squared_error\n",
        "from math import sqrt\n",
        "from sklearn.linear_model import SGDRegressor\n",
        "from sklearn.linear_model import LinearRegression\n",
        "from sklearn.linear_model import Ridge\n",
        "from sklearn import linear_model\n",
        "from sklearn.svm import LinearSVR\n",
        "# Fit regression model\n",
        "cols = target.columns\n",
        "params = {'n_estimators': 500, 'max_depth': 3, 'min_samples_split': 2,\n",
        "          'learning_rate': 0.01, 'loss': 'ls'}\n",
        "dict_preds = {}\n",
        "#clf = GradientBoostingRegressor(**params)\n",
        "clf = Ridge(random_state=25)\n",
        "#clf = SGDRegressor(max_iter=6000)\n",
        "#clf = linear_model.Lasso(alpha=1)\n",
        "#clf = LinearSVR(max_iter=2500)\n",
        "#clf = LinearRegression()\n",
        "for col in cols:\n",
        "    print('start',col)\n",
        "    clf.fit(x,y[col])\n",
        "    rmse = sqrt(mean_squared_error(y_test[col], clf.predict(x_test)))\n",
        "    print(\"RMSE: %.4f\" % rmse)\n",
        "    dict_preds[col]=clf.predict(test_sp)"
      ],
      "execution_count": 23,
      "outputs": [
        {
          "output_type": "stream",
          "text": [
            "start k1\n",
            "RMSE: 0.0691\n",
            "start k10\n",
            "RMSE: 0.1242\n",
            "start k11\n",
            "RMSE: 0.0856\n",
            "start k12\n",
            "RMSE: 0.1363\n",
            "start k13\n",
            "RMSE: 0.1511\n",
            "start k14\n",
            "RMSE: 0.0504\n",
            "start k15\n",
            "RMSE: 0.0842\n",
            "start k2\n",
            "RMSE: 0.1420\n",
            "start k3\n",
            "RMSE: 0.0471\n",
            "start k4\n",
            "RMSE: 0.1569\n",
            "start k5\n",
            "RMSE: 0.0697\n",
            "start k6\n",
            "RMSE: 0.0216\n",
            "start k7\n",
            "RMSE: 0.2419\n",
            "start k8\n",
            "RMSE: 0.0324\n",
            "start k9\n",
            "RMSE: 0.1461\n",
            "start s1\n",
            "RMSE: 0.1145\n",
            "start s2\n",
            "RMSE: 0.2436\n",
            "start s3\n",
            "RMSE: 0.2168\n",
            "start s4\n",
            "RMSE: 0.2297\n",
            "start s5\n",
            "RMSE: 0.2079\n",
            "start w1\n",
            "RMSE: 0.2833\n",
            "start w2\n",
            "RMSE: 0.1760\n",
            "start w3\n",
            "RMSE: 0.2315\n",
            "start w4\n",
            "RMSE: 0.1546\n"
          ],
          "name": "stdout"
        }
      ]
    },
    {
      "cell_type": "code",
      "metadata": {
        "id": "DzmP-SoHFzlc",
        "outputId": "93a6a54f-9645-48bf-e106-e88c5ccd9ca0",
        "colab": {
          "base_uri": "https://localhost:8080/"
        }
      },
      "source": [
        "from sklearn.multioutput import RegressorChain\n",
        "regressor = RegressorChain(Ridge(random_state=25))\n",
        "regressor.fit(x,y)\n",
        "predictions = regressor.predict(x_test)\n",
        "sqrt(mean_squared_error(y_test,predictions))"
      ],
      "execution_count": 24,
      "outputs": [
        {
          "output_type": "execute_result",
          "data": {
            "text/plain": [
              "0.16019825890632838"
            ]
          },
          "metadata": {
            "tags": []
          },
          "execution_count": 24
        }
      ]
    },
    {
      "cell_type": "markdown",
      "metadata": {
        "id": "KS5iONkUj6ac"
      },
      "source": [
        "\n",
        "\n",
        "---\n",
        "\n",
        "\n",
        "\n",
        "---\n",
        "\n"
      ]
    }
  ]
}