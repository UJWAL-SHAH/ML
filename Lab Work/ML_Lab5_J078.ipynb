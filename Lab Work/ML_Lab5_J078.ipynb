{
  "nbformat": 4,
  "nbformat_minor": 0,
  "metadata": {
    "colab": {
      "name": "ML_Lab5_J078.ipynb",
      "provenance": [],
      "collapsed_sections": [
        "FeTNPxsGwGYy"
      ],
      "authorship_tag": "ABX9TyOBrJjmQfEKp0ex9QkVDBt9",
      "include_colab_link": true
    },
    "kernelspec": {
      "name": "python3",
      "display_name": "Python 3"
    }
  },
  "cells": [
    {
      "cell_type": "markdown",
      "metadata": {
        "id": "view-in-github",
        "colab_type": "text"
      },
      "source": [
        "<a href=\"https://colab.research.google.com/github/UJWAL-SHAH/ML/blob/master/Lab%20Work/ML_Lab5_J078.ipynb\" target=\"_parent\"><img src=\"https://colab.research.google.com/assets/colab-badge.svg\" alt=\"Open In Colab\"/></a>"
      ]
    },
    {
      "cell_type": "markdown",
      "metadata": {
        "id": "-8rJF7hz_VFC",
        "colab_type": "text"
      },
      "source": [
        "#**Fuel Consumption Regression**"
      ]
    },
    {
      "cell_type": "code",
      "metadata": {
        "id": "aegZNADSv-Ha",
        "colab_type": "code",
        "colab": {
          "base_uri": "https://localhost:8080/",
          "height": 71
        },
        "outputId": "d6979313-509a-43ab-ebeb-d0d3a28d67d2"
      },
      "source": [
        "import numpy as np\n",
        "import pandas as pd\n",
        "\n",
        "import matplotlib.pyplot as plt\n",
        "import seaborn as sns\n",
        "\n",
        "from sklearn.model_selection import train_test_split, cross_val_score\n",
        "from sklearn.preprocessing import StandardScaler\n",
        "\n",
        "from sklearn import linear_model\n",
        "from sklearn.metrics import mean_squared_error, r2_score\n",
        "from sklearn.model_selection import GridSearchCV, RandomizedSearchCV"
      ],
      "execution_count": 1,
      "outputs": [
        {
          "output_type": "stream",
          "text": [
            "/usr/local/lib/python3.6/dist-packages/statsmodels/tools/_testing.py:19: FutureWarning: pandas.util.testing is deprecated. Use the functions in the public API at pandas.testing instead.\n",
            "  import pandas.util.testing as tm\n"
          ],
          "name": "stderr"
        }
      ]
    },
    {
      "cell_type": "code",
      "metadata": {
        "id": "h2N6UEDLsG_I",
        "colab_type": "code",
        "colab": {
          "base_uri": "https://localhost:8080/",
          "height": 204
        },
        "outputId": "da5eebdd-8b21-40a6-ebd6-4d9c32306b10"
      },
      "source": [
        "!wget -O FuelConsumption.csv https://s3-api.us-geo.objectstorage.softlayer.net/cf-courses-data/CognitiveClass/ML0101ENv3/labs/FuelConsumptionCo2.csv"
      ],
      "execution_count": 2,
      "outputs": [
        {
          "output_type": "stream",
          "text": [
            "--2020-09-01 10:58:24--  https://s3-api.us-geo.objectstorage.softlayer.net/cf-courses-data/CognitiveClass/ML0101ENv3/labs/FuelConsumptionCo2.csv\n",
            "Resolving s3-api.us-geo.objectstorage.softlayer.net (s3-api.us-geo.objectstorage.softlayer.net)... 67.228.254.196\n",
            "Connecting to s3-api.us-geo.objectstorage.softlayer.net (s3-api.us-geo.objectstorage.softlayer.net)|67.228.254.196|:443... connected.\n",
            "HTTP request sent, awaiting response... 200 OK\n",
            "Length: 72629 (71K) [text/csv]\n",
            "Saving to: ‘FuelConsumption.csv’\n",
            "\n",
            "FuelConsumption.csv 100%[===================>]  70.93K   233KB/s    in 0.3s    \n",
            "\n",
            "2020-09-01 10:58:25 (233 KB/s) - ‘FuelConsumption.csv’ saved [72629/72629]\n",
            "\n"
          ],
          "name": "stdout"
        }
      ]
    },
    {
      "cell_type": "code",
      "metadata": {
        "id": "Xo8Etj0tvxDy",
        "colab_type": "code",
        "colab": {}
      },
      "source": [
        "data = pd.read_csv(\"FuelConsumption.csv\")"
      ],
      "execution_count": 3,
      "outputs": []
    },
    {
      "cell_type": "code",
      "metadata": {
        "id": "B6h005icwHbh",
        "colab_type": "code",
        "colab": {
          "base_uri": "https://localhost:8080/",
          "height": 357
        },
        "outputId": "79be1030-03c0-4efa-a467-dd5d67b74b8e"
      },
      "source": [
        "data.info()"
      ],
      "execution_count": 4,
      "outputs": [
        {
          "output_type": "stream",
          "text": [
            "<class 'pandas.core.frame.DataFrame'>\n",
            "RangeIndex: 1067 entries, 0 to 1066\n",
            "Data columns (total 13 columns):\n",
            " #   Column                    Non-Null Count  Dtype  \n",
            "---  ------                    --------------  -----  \n",
            " 0   MODELYEAR                 1067 non-null   int64  \n",
            " 1   MAKE                      1067 non-null   object \n",
            " 2   MODEL                     1067 non-null   object \n",
            " 3   VEHICLECLASS              1067 non-null   object \n",
            " 4   ENGINESIZE                1067 non-null   float64\n",
            " 5   CYLINDERS                 1067 non-null   int64  \n",
            " 6   TRANSMISSION              1067 non-null   object \n",
            " 7   FUELTYPE                  1067 non-null   object \n",
            " 8   FUELCONSUMPTION_CITY      1067 non-null   float64\n",
            " 9   FUELCONSUMPTION_HWY       1067 non-null   float64\n",
            " 10  FUELCONSUMPTION_COMB      1067 non-null   float64\n",
            " 11  FUELCONSUMPTION_COMB_MPG  1067 non-null   int64  \n",
            " 12  CO2EMISSIONS              1067 non-null   int64  \n",
            "dtypes: float64(4), int64(4), object(5)\n",
            "memory usage: 108.5+ KB\n"
          ],
          "name": "stdout"
        }
      ]
    },
    {
      "cell_type": "code",
      "metadata": {
        "id": "-qR6tVVnwepl",
        "colab_type": "code",
        "colab": {
          "base_uri": "https://localhost:8080/",
          "height": 275
        },
        "outputId": "f11fa478-445c-4451-e181-f4fb16ebbd4d"
      },
      "source": [
        "data.head()"
      ],
      "execution_count": 5,
      "outputs": [
        {
          "output_type": "execute_result",
          "data": {
            "text/html": [
              "<div>\n",
              "<style scoped>\n",
              "    .dataframe tbody tr th:only-of-type {\n",
              "        vertical-align: middle;\n",
              "    }\n",
              "\n",
              "    .dataframe tbody tr th {\n",
              "        vertical-align: top;\n",
              "    }\n",
              "\n",
              "    .dataframe thead th {\n",
              "        text-align: right;\n",
              "    }\n",
              "</style>\n",
              "<table border=\"1\" class=\"dataframe\">\n",
              "  <thead>\n",
              "    <tr style=\"text-align: right;\">\n",
              "      <th></th>\n",
              "      <th>MODELYEAR</th>\n",
              "      <th>MAKE</th>\n",
              "      <th>MODEL</th>\n",
              "      <th>VEHICLECLASS</th>\n",
              "      <th>ENGINESIZE</th>\n",
              "      <th>CYLINDERS</th>\n",
              "      <th>TRANSMISSION</th>\n",
              "      <th>FUELTYPE</th>\n",
              "      <th>FUELCONSUMPTION_CITY</th>\n",
              "      <th>FUELCONSUMPTION_HWY</th>\n",
              "      <th>FUELCONSUMPTION_COMB</th>\n",
              "      <th>FUELCONSUMPTION_COMB_MPG</th>\n",
              "      <th>CO2EMISSIONS</th>\n",
              "    </tr>\n",
              "  </thead>\n",
              "  <tbody>\n",
              "    <tr>\n",
              "      <th>0</th>\n",
              "      <td>2014</td>\n",
              "      <td>ACURA</td>\n",
              "      <td>ILX</td>\n",
              "      <td>COMPACT</td>\n",
              "      <td>2.0</td>\n",
              "      <td>4</td>\n",
              "      <td>AS5</td>\n",
              "      <td>Z</td>\n",
              "      <td>9.9</td>\n",
              "      <td>6.7</td>\n",
              "      <td>8.5</td>\n",
              "      <td>33</td>\n",
              "      <td>196</td>\n",
              "    </tr>\n",
              "    <tr>\n",
              "      <th>1</th>\n",
              "      <td>2014</td>\n",
              "      <td>ACURA</td>\n",
              "      <td>ILX</td>\n",
              "      <td>COMPACT</td>\n",
              "      <td>2.4</td>\n",
              "      <td>4</td>\n",
              "      <td>M6</td>\n",
              "      <td>Z</td>\n",
              "      <td>11.2</td>\n",
              "      <td>7.7</td>\n",
              "      <td>9.6</td>\n",
              "      <td>29</td>\n",
              "      <td>221</td>\n",
              "    </tr>\n",
              "    <tr>\n",
              "      <th>2</th>\n",
              "      <td>2014</td>\n",
              "      <td>ACURA</td>\n",
              "      <td>ILX HYBRID</td>\n",
              "      <td>COMPACT</td>\n",
              "      <td>1.5</td>\n",
              "      <td>4</td>\n",
              "      <td>AV7</td>\n",
              "      <td>Z</td>\n",
              "      <td>6.0</td>\n",
              "      <td>5.8</td>\n",
              "      <td>5.9</td>\n",
              "      <td>48</td>\n",
              "      <td>136</td>\n",
              "    </tr>\n",
              "    <tr>\n",
              "      <th>3</th>\n",
              "      <td>2014</td>\n",
              "      <td>ACURA</td>\n",
              "      <td>MDX 4WD</td>\n",
              "      <td>SUV - SMALL</td>\n",
              "      <td>3.5</td>\n",
              "      <td>6</td>\n",
              "      <td>AS6</td>\n",
              "      <td>Z</td>\n",
              "      <td>12.7</td>\n",
              "      <td>9.1</td>\n",
              "      <td>11.1</td>\n",
              "      <td>25</td>\n",
              "      <td>255</td>\n",
              "    </tr>\n",
              "    <tr>\n",
              "      <th>4</th>\n",
              "      <td>2014</td>\n",
              "      <td>ACURA</td>\n",
              "      <td>RDX AWD</td>\n",
              "      <td>SUV - SMALL</td>\n",
              "      <td>3.5</td>\n",
              "      <td>6</td>\n",
              "      <td>AS6</td>\n",
              "      <td>Z</td>\n",
              "      <td>12.1</td>\n",
              "      <td>8.7</td>\n",
              "      <td>10.6</td>\n",
              "      <td>27</td>\n",
              "      <td>244</td>\n",
              "    </tr>\n",
              "  </tbody>\n",
              "</table>\n",
              "</div>"
            ],
            "text/plain": [
              "   MODELYEAR   MAKE  ... FUELCONSUMPTION_COMB_MPG CO2EMISSIONS\n",
              "0       2014  ACURA  ...                       33          196\n",
              "1       2014  ACURA  ...                       29          221\n",
              "2       2014  ACURA  ...                       48          136\n",
              "3       2014  ACURA  ...                       25          255\n",
              "4       2014  ACURA  ...                       27          244\n",
              "\n",
              "[5 rows x 13 columns]"
            ]
          },
          "metadata": {
            "tags": []
          },
          "execution_count": 5
        }
      ]
    },
    {
      "cell_type": "code",
      "metadata": {
        "id": "krtvwzp2_qCo",
        "colab_type": "code",
        "colab": {
          "base_uri": "https://localhost:8080/",
          "height": 34
        },
        "outputId": "2f063b43-e66a-4738-9d52-287eb3b4058c"
      },
      "source": [
        "data['FUELTYPE'].unique()"
      ],
      "execution_count": 6,
      "outputs": [
        {
          "output_type": "execute_result",
          "data": {
            "text/plain": [
              "array(['Z', 'D', 'X', 'E'], dtype=object)"
            ]
          },
          "metadata": {
            "tags": []
          },
          "execution_count": 6
        }
      ]
    },
    {
      "cell_type": "markdown",
      "metadata": {
        "id": "_ag_j3_aAGex",
        "colab_type": "text"
      },
      "source": [
        "Do One-Hot Encoding in FUELTYPE not in Vehicleclass & Transmission as they have more than 15 unique values.So remove them only"
      ]
    },
    {
      "cell_type": "code",
      "metadata": {
        "id": "0uzUptP_AGDl",
        "colab_type": "code",
        "colab": {
          "base_uri": "https://localhost:8080/",
          "height": 204
        },
        "outputId": "70a82adc-2818-45ad-a1f5-84703381fc79"
      },
      "source": [
        "dummy_variable_1 = pd.get_dummies(data[\"FUELTYPE\"])\n",
        "dummy_variable_1.head()"
      ],
      "execution_count": 7,
      "outputs": [
        {
          "output_type": "execute_result",
          "data": {
            "text/html": [
              "<div>\n",
              "<style scoped>\n",
              "    .dataframe tbody tr th:only-of-type {\n",
              "        vertical-align: middle;\n",
              "    }\n",
              "\n",
              "    .dataframe tbody tr th {\n",
              "        vertical-align: top;\n",
              "    }\n",
              "\n",
              "    .dataframe thead th {\n",
              "        text-align: right;\n",
              "    }\n",
              "</style>\n",
              "<table border=\"1\" class=\"dataframe\">\n",
              "  <thead>\n",
              "    <tr style=\"text-align: right;\">\n",
              "      <th></th>\n",
              "      <th>D</th>\n",
              "      <th>E</th>\n",
              "      <th>X</th>\n",
              "      <th>Z</th>\n",
              "    </tr>\n",
              "  </thead>\n",
              "  <tbody>\n",
              "    <tr>\n",
              "      <th>0</th>\n",
              "      <td>0</td>\n",
              "      <td>0</td>\n",
              "      <td>0</td>\n",
              "      <td>1</td>\n",
              "    </tr>\n",
              "    <tr>\n",
              "      <th>1</th>\n",
              "      <td>0</td>\n",
              "      <td>0</td>\n",
              "      <td>0</td>\n",
              "      <td>1</td>\n",
              "    </tr>\n",
              "    <tr>\n",
              "      <th>2</th>\n",
              "      <td>0</td>\n",
              "      <td>0</td>\n",
              "      <td>0</td>\n",
              "      <td>1</td>\n",
              "    </tr>\n",
              "    <tr>\n",
              "      <th>3</th>\n",
              "      <td>0</td>\n",
              "      <td>0</td>\n",
              "      <td>0</td>\n",
              "      <td>1</td>\n",
              "    </tr>\n",
              "    <tr>\n",
              "      <th>4</th>\n",
              "      <td>0</td>\n",
              "      <td>0</td>\n",
              "      <td>0</td>\n",
              "      <td>1</td>\n",
              "    </tr>\n",
              "  </tbody>\n",
              "</table>\n",
              "</div>"
            ],
            "text/plain": [
              "   D  E  X  Z\n",
              "0  0  0  0  1\n",
              "1  0  0  0  1\n",
              "2  0  0  0  1\n",
              "3  0  0  0  1\n",
              "4  0  0  0  1"
            ]
          },
          "metadata": {
            "tags": []
          },
          "execution_count": 7
        }
      ]
    },
    {
      "cell_type": "code",
      "metadata": {
        "id": "Y66ZBUOqA2HF",
        "colab_type": "code",
        "colab": {
          "base_uri": "https://localhost:8080/",
          "height": 204
        },
        "outputId": "9e263200-77a4-43bc-c525-ad66cda8d277"
      },
      "source": [
        "dummy_variable_1.rename(columns={'D':'fueltype-D', 'E':'fueltype-E','X':'fueltype-X','Z':'fueltype-Z'}, inplace=True)\n",
        "dummy_variable_1.head()"
      ],
      "execution_count": 8,
      "outputs": [
        {
          "output_type": "execute_result",
          "data": {
            "text/html": [
              "<div>\n",
              "<style scoped>\n",
              "    .dataframe tbody tr th:only-of-type {\n",
              "        vertical-align: middle;\n",
              "    }\n",
              "\n",
              "    .dataframe tbody tr th {\n",
              "        vertical-align: top;\n",
              "    }\n",
              "\n",
              "    .dataframe thead th {\n",
              "        text-align: right;\n",
              "    }\n",
              "</style>\n",
              "<table border=\"1\" class=\"dataframe\">\n",
              "  <thead>\n",
              "    <tr style=\"text-align: right;\">\n",
              "      <th></th>\n",
              "      <th>fueltype-D</th>\n",
              "      <th>fueltype-E</th>\n",
              "      <th>fueltype-X</th>\n",
              "      <th>fueltype-Z</th>\n",
              "    </tr>\n",
              "  </thead>\n",
              "  <tbody>\n",
              "    <tr>\n",
              "      <th>0</th>\n",
              "      <td>0</td>\n",
              "      <td>0</td>\n",
              "      <td>0</td>\n",
              "      <td>1</td>\n",
              "    </tr>\n",
              "    <tr>\n",
              "      <th>1</th>\n",
              "      <td>0</td>\n",
              "      <td>0</td>\n",
              "      <td>0</td>\n",
              "      <td>1</td>\n",
              "    </tr>\n",
              "    <tr>\n",
              "      <th>2</th>\n",
              "      <td>0</td>\n",
              "      <td>0</td>\n",
              "      <td>0</td>\n",
              "      <td>1</td>\n",
              "    </tr>\n",
              "    <tr>\n",
              "      <th>3</th>\n",
              "      <td>0</td>\n",
              "      <td>0</td>\n",
              "      <td>0</td>\n",
              "      <td>1</td>\n",
              "    </tr>\n",
              "    <tr>\n",
              "      <th>4</th>\n",
              "      <td>0</td>\n",
              "      <td>0</td>\n",
              "      <td>0</td>\n",
              "      <td>1</td>\n",
              "    </tr>\n",
              "  </tbody>\n",
              "</table>\n",
              "</div>"
            ],
            "text/plain": [
              "   fueltype-D  fueltype-E  fueltype-X  fueltype-Z\n",
              "0           0           0           0           1\n",
              "1           0           0           0           1\n",
              "2           0           0           0           1\n",
              "3           0           0           0           1\n",
              "4           0           0           0           1"
            ]
          },
          "metadata": {
            "tags": []
          },
          "execution_count": 8
        }
      ]
    },
    {
      "cell_type": "code",
      "metadata": {
        "id": "_-l08BSm6Pbk",
        "colab_type": "code",
        "colab": {}
      },
      "source": [
        "# merge data frame \"df\" and \"dummy_variable_1\" \n",
        "data = pd.concat([data, dummy_variable_1], axis=1)\n",
        "\n",
        "# drop original column \"fuel-type\" from \"df\"\n",
        "data.drop(\"FUELTYPE\", axis = 1, inplace=True)"
      ],
      "execution_count": 9,
      "outputs": []
    },
    {
      "cell_type": "code",
      "metadata": {
        "id": "2Vt32UkaBux0",
        "colab_type": "code",
        "colab": {
          "base_uri": "https://localhost:8080/",
          "height": 292
        },
        "outputId": "a80ba5f9-fe9e-45e6-fdfb-bead5601ab7d"
      },
      "source": [
        "data.head()"
      ],
      "execution_count": 10,
      "outputs": [
        {
          "output_type": "execute_result",
          "data": {
            "text/html": [
              "<div>\n",
              "<style scoped>\n",
              "    .dataframe tbody tr th:only-of-type {\n",
              "        vertical-align: middle;\n",
              "    }\n",
              "\n",
              "    .dataframe tbody tr th {\n",
              "        vertical-align: top;\n",
              "    }\n",
              "\n",
              "    .dataframe thead th {\n",
              "        text-align: right;\n",
              "    }\n",
              "</style>\n",
              "<table border=\"1\" class=\"dataframe\">\n",
              "  <thead>\n",
              "    <tr style=\"text-align: right;\">\n",
              "      <th></th>\n",
              "      <th>MODELYEAR</th>\n",
              "      <th>MAKE</th>\n",
              "      <th>MODEL</th>\n",
              "      <th>VEHICLECLASS</th>\n",
              "      <th>ENGINESIZE</th>\n",
              "      <th>CYLINDERS</th>\n",
              "      <th>TRANSMISSION</th>\n",
              "      <th>FUELCONSUMPTION_CITY</th>\n",
              "      <th>FUELCONSUMPTION_HWY</th>\n",
              "      <th>FUELCONSUMPTION_COMB</th>\n",
              "      <th>FUELCONSUMPTION_COMB_MPG</th>\n",
              "      <th>CO2EMISSIONS</th>\n",
              "      <th>fueltype-D</th>\n",
              "      <th>fueltype-E</th>\n",
              "      <th>fueltype-X</th>\n",
              "      <th>fueltype-Z</th>\n",
              "    </tr>\n",
              "  </thead>\n",
              "  <tbody>\n",
              "    <tr>\n",
              "      <th>0</th>\n",
              "      <td>2014</td>\n",
              "      <td>ACURA</td>\n",
              "      <td>ILX</td>\n",
              "      <td>COMPACT</td>\n",
              "      <td>2.0</td>\n",
              "      <td>4</td>\n",
              "      <td>AS5</td>\n",
              "      <td>9.9</td>\n",
              "      <td>6.7</td>\n",
              "      <td>8.5</td>\n",
              "      <td>33</td>\n",
              "      <td>196</td>\n",
              "      <td>0</td>\n",
              "      <td>0</td>\n",
              "      <td>0</td>\n",
              "      <td>1</td>\n",
              "    </tr>\n",
              "    <tr>\n",
              "      <th>1</th>\n",
              "      <td>2014</td>\n",
              "      <td>ACURA</td>\n",
              "      <td>ILX</td>\n",
              "      <td>COMPACT</td>\n",
              "      <td>2.4</td>\n",
              "      <td>4</td>\n",
              "      <td>M6</td>\n",
              "      <td>11.2</td>\n",
              "      <td>7.7</td>\n",
              "      <td>9.6</td>\n",
              "      <td>29</td>\n",
              "      <td>221</td>\n",
              "      <td>0</td>\n",
              "      <td>0</td>\n",
              "      <td>0</td>\n",
              "      <td>1</td>\n",
              "    </tr>\n",
              "    <tr>\n",
              "      <th>2</th>\n",
              "      <td>2014</td>\n",
              "      <td>ACURA</td>\n",
              "      <td>ILX HYBRID</td>\n",
              "      <td>COMPACT</td>\n",
              "      <td>1.5</td>\n",
              "      <td>4</td>\n",
              "      <td>AV7</td>\n",
              "      <td>6.0</td>\n",
              "      <td>5.8</td>\n",
              "      <td>5.9</td>\n",
              "      <td>48</td>\n",
              "      <td>136</td>\n",
              "      <td>0</td>\n",
              "      <td>0</td>\n",
              "      <td>0</td>\n",
              "      <td>1</td>\n",
              "    </tr>\n",
              "    <tr>\n",
              "      <th>3</th>\n",
              "      <td>2014</td>\n",
              "      <td>ACURA</td>\n",
              "      <td>MDX 4WD</td>\n",
              "      <td>SUV - SMALL</td>\n",
              "      <td>3.5</td>\n",
              "      <td>6</td>\n",
              "      <td>AS6</td>\n",
              "      <td>12.7</td>\n",
              "      <td>9.1</td>\n",
              "      <td>11.1</td>\n",
              "      <td>25</td>\n",
              "      <td>255</td>\n",
              "      <td>0</td>\n",
              "      <td>0</td>\n",
              "      <td>0</td>\n",
              "      <td>1</td>\n",
              "    </tr>\n",
              "    <tr>\n",
              "      <th>4</th>\n",
              "      <td>2014</td>\n",
              "      <td>ACURA</td>\n",
              "      <td>RDX AWD</td>\n",
              "      <td>SUV - SMALL</td>\n",
              "      <td>3.5</td>\n",
              "      <td>6</td>\n",
              "      <td>AS6</td>\n",
              "      <td>12.1</td>\n",
              "      <td>8.7</td>\n",
              "      <td>10.6</td>\n",
              "      <td>27</td>\n",
              "      <td>244</td>\n",
              "      <td>0</td>\n",
              "      <td>0</td>\n",
              "      <td>0</td>\n",
              "      <td>1</td>\n",
              "    </tr>\n",
              "  </tbody>\n",
              "</table>\n",
              "</div>"
            ],
            "text/plain": [
              "   MODELYEAR   MAKE       MODEL  ... fueltype-E  fueltype-X  fueltype-Z\n",
              "0       2014  ACURA         ILX  ...          0           0           1\n",
              "1       2014  ACURA         ILX  ...          0           0           1\n",
              "2       2014  ACURA  ILX HYBRID  ...          0           0           1\n",
              "3       2014  ACURA     MDX 4WD  ...          0           0           1\n",
              "4       2014  ACURA     RDX AWD  ...          0           0           1\n",
              "\n",
              "[5 rows x 16 columns]"
            ]
          },
          "metadata": {
            "tags": []
          },
          "execution_count": 10
        }
      ]
    },
    {
      "cell_type": "code",
      "metadata": {
        "id": "SbLB8ekHBgt5",
        "colab_type": "code",
        "colab": {}
      },
      "source": [
        "X = data.drop(['MODELYEAR','MAKE','MODEL','VEHICLECLASS','TRANSMISSION'], axis='columns')"
      ],
      "execution_count": 11,
      "outputs": []
    },
    {
      "cell_type": "code",
      "metadata": {
        "id": "UxsNhDJJC8jY",
        "colab_type": "code",
        "colab": {
          "base_uri": "https://localhost:8080/",
          "height": 427
        },
        "outputId": "cfba3c4d-e471-4cce-b9f3-28e86a9544af"
      },
      "source": [
        "X.corr()"
      ],
      "execution_count": 12,
      "outputs": [
        {
          "output_type": "execute_result",
          "data": {
            "text/html": [
              "<div>\n",
              "<style scoped>\n",
              "    .dataframe tbody tr th:only-of-type {\n",
              "        vertical-align: middle;\n",
              "    }\n",
              "\n",
              "    .dataframe tbody tr th {\n",
              "        vertical-align: top;\n",
              "    }\n",
              "\n",
              "    .dataframe thead th {\n",
              "        text-align: right;\n",
              "    }\n",
              "</style>\n",
              "<table border=\"1\" class=\"dataframe\">\n",
              "  <thead>\n",
              "    <tr style=\"text-align: right;\">\n",
              "      <th></th>\n",
              "      <th>ENGINESIZE</th>\n",
              "      <th>CYLINDERS</th>\n",
              "      <th>FUELCONSUMPTION_CITY</th>\n",
              "      <th>FUELCONSUMPTION_HWY</th>\n",
              "      <th>FUELCONSUMPTION_COMB</th>\n",
              "      <th>FUELCONSUMPTION_COMB_MPG</th>\n",
              "      <th>CO2EMISSIONS</th>\n",
              "      <th>fueltype-D</th>\n",
              "      <th>fueltype-E</th>\n",
              "      <th>fueltype-X</th>\n",
              "      <th>fueltype-Z</th>\n",
              "    </tr>\n",
              "  </thead>\n",
              "  <tbody>\n",
              "    <tr>\n",
              "      <th>ENGINESIZE</th>\n",
              "      <td>1.000000</td>\n",
              "      <td>0.934011</td>\n",
              "      <td>0.832225</td>\n",
              "      <td>0.778746</td>\n",
              "      <td>0.819482</td>\n",
              "      <td>-0.808554</td>\n",
              "      <td>0.874154</td>\n",
              "      <td>-0.093400</td>\n",
              "      <td>0.237674</td>\n",
              "      <td>-0.266920</td>\n",
              "      <td>0.165557</td>\n",
              "    </tr>\n",
              "    <tr>\n",
              "      <th>CYLINDERS</th>\n",
              "      <td>0.934011</td>\n",
              "      <td>1.000000</td>\n",
              "      <td>0.796473</td>\n",
              "      <td>0.724594</td>\n",
              "      <td>0.776788</td>\n",
              "      <td>-0.770430</td>\n",
              "      <td>0.849685</td>\n",
              "      <td>-0.067955</td>\n",
              "      <td>0.194920</td>\n",
              "      <td>-0.339827</td>\n",
              "      <td>0.256011</td>\n",
              "    </tr>\n",
              "    <tr>\n",
              "      <th>FUELCONSUMPTION_CITY</th>\n",
              "      <td>0.832225</td>\n",
              "      <td>0.796473</td>\n",
              "      <td>1.000000</td>\n",
              "      <td>0.965718</td>\n",
              "      <td>0.995542</td>\n",
              "      <td>-0.935613</td>\n",
              "      <td>0.898039</td>\n",
              "      <td>-0.139180</td>\n",
              "      <td>0.567070</td>\n",
              "      <td>-0.319701</td>\n",
              "      <td>0.045660</td>\n",
              "    </tr>\n",
              "    <tr>\n",
              "      <th>FUELCONSUMPTION_HWY</th>\n",
              "      <td>0.778746</td>\n",
              "      <td>0.724594</td>\n",
              "      <td>0.965718</td>\n",
              "      <td>1.000000</td>\n",
              "      <td>0.985804</td>\n",
              "      <td>-0.893809</td>\n",
              "      <td>0.861748</td>\n",
              "      <td>-0.154498</td>\n",
              "      <td>0.598684</td>\n",
              "      <td>-0.269105</td>\n",
              "      <td>-0.018973</td>\n",
              "    </tr>\n",
              "    <tr>\n",
              "      <th>FUELCONSUMPTION_COMB</th>\n",
              "      <td>0.819482</td>\n",
              "      <td>0.776788</td>\n",
              "      <td>0.995542</td>\n",
              "      <td>0.985804</td>\n",
              "      <td>1.000000</td>\n",
              "      <td>-0.927965</td>\n",
              "      <td>0.892129</td>\n",
              "      <td>-0.145396</td>\n",
              "      <td>0.583125</td>\n",
              "      <td>-0.303950</td>\n",
              "      <td>0.022451</td>\n",
              "    </tr>\n",
              "    <tr>\n",
              "      <th>FUELCONSUMPTION_COMB_MPG</th>\n",
              "      <td>-0.808554</td>\n",
              "      <td>-0.770430</td>\n",
              "      <td>-0.935613</td>\n",
              "      <td>-0.893809</td>\n",
              "      <td>-0.927965</td>\n",
              "      <td>1.000000</td>\n",
              "      <td>-0.906394</td>\n",
              "      <td>0.176731</td>\n",
              "      <td>-0.425172</td>\n",
              "      <td>0.300779</td>\n",
              "      <td>-0.119499</td>\n",
              "    </tr>\n",
              "    <tr>\n",
              "      <th>CO2EMISSIONS</th>\n",
              "      <td>0.874154</td>\n",
              "      <td>0.849685</td>\n",
              "      <td>0.898039</td>\n",
              "      <td>0.861748</td>\n",
              "      <td>0.892129</td>\n",
              "      <td>-0.906394</td>\n",
              "      <td>1.000000</td>\n",
              "      <td>-0.072371</td>\n",
              "      <td>0.169045</td>\n",
              "      <td>-0.230304</td>\n",
              "      <td>0.160804</td>\n",
              "    </tr>\n",
              "    <tr>\n",
              "      <th>fueltype-D</th>\n",
              "      <td>-0.093400</td>\n",
              "      <td>-0.067955</td>\n",
              "      <td>-0.139180</td>\n",
              "      <td>-0.154498</td>\n",
              "      <td>-0.145396</td>\n",
              "      <td>0.176731</td>\n",
              "      <td>-0.072371</td>\n",
              "      <td>1.000000</td>\n",
              "      <td>-0.049494</td>\n",
              "      <td>-0.155340</td>\n",
              "      <td>-0.133416</td>\n",
              "    </tr>\n",
              "    <tr>\n",
              "      <th>fueltype-E</th>\n",
              "      <td>0.237674</td>\n",
              "      <td>0.194920</td>\n",
              "      <td>0.567070</td>\n",
              "      <td>0.598684</td>\n",
              "      <td>0.583125</td>\n",
              "      <td>-0.425172</td>\n",
              "      <td>0.169045</td>\n",
              "      <td>-0.049494</td>\n",
              "      <td>1.000000</td>\n",
              "      <td>-0.296149</td>\n",
              "      <td>-0.254352</td>\n",
              "    </tr>\n",
              "    <tr>\n",
              "      <th>fueltype-X</th>\n",
              "      <td>-0.266920</td>\n",
              "      <td>-0.339827</td>\n",
              "      <td>-0.319701</td>\n",
              "      <td>-0.269105</td>\n",
              "      <td>-0.303950</td>\n",
              "      <td>0.300779</td>\n",
              "      <td>-0.230304</td>\n",
              "      <td>-0.155340</td>\n",
              "      <td>-0.296149</td>\n",
              "      <td>1.000000</td>\n",
              "      <td>-0.798292</td>\n",
              "    </tr>\n",
              "    <tr>\n",
              "      <th>fueltype-Z</th>\n",
              "      <td>0.165557</td>\n",
              "      <td>0.256011</td>\n",
              "      <td>0.045660</td>\n",
              "      <td>-0.018973</td>\n",
              "      <td>0.022451</td>\n",
              "      <td>-0.119499</td>\n",
              "      <td>0.160804</td>\n",
              "      <td>-0.133416</td>\n",
              "      <td>-0.254352</td>\n",
              "      <td>-0.798292</td>\n",
              "      <td>1.000000</td>\n",
              "    </tr>\n",
              "  </tbody>\n",
              "</table>\n",
              "</div>"
            ],
            "text/plain": [
              "                          ENGINESIZE  CYLINDERS  ...  fueltype-X  fueltype-Z\n",
              "ENGINESIZE                  1.000000   0.934011  ...   -0.266920    0.165557\n",
              "CYLINDERS                   0.934011   1.000000  ...   -0.339827    0.256011\n",
              "FUELCONSUMPTION_CITY        0.832225   0.796473  ...   -0.319701    0.045660\n",
              "FUELCONSUMPTION_HWY         0.778746   0.724594  ...   -0.269105   -0.018973\n",
              "FUELCONSUMPTION_COMB        0.819482   0.776788  ...   -0.303950    0.022451\n",
              "FUELCONSUMPTION_COMB_MPG   -0.808554  -0.770430  ...    0.300779   -0.119499\n",
              "CO2EMISSIONS                0.874154   0.849685  ...   -0.230304    0.160804\n",
              "fueltype-D                 -0.093400  -0.067955  ...   -0.155340   -0.133416\n",
              "fueltype-E                  0.237674   0.194920  ...   -0.296149   -0.254352\n",
              "fueltype-X                 -0.266920  -0.339827  ...    1.000000   -0.798292\n",
              "fueltype-Z                  0.165557   0.256011  ...   -0.798292    1.000000\n",
              "\n",
              "[11 rows x 11 columns]"
            ]
          },
          "metadata": {
            "tags": []
          },
          "execution_count": 12
        }
      ]
    },
    {
      "cell_type": "code",
      "metadata": {
        "id": "UFxdrq3BDe4C",
        "colab_type": "code",
        "colab": {
          "base_uri": "https://localhost:8080/",
          "height": 421
        },
        "outputId": "730242ae-e2b9-463c-9845-c74add19c5fc"
      },
      "source": [
        "corr = X.corr()\n",
        "ax = sns.heatmap(\n",
        "    corr, \n",
        "    vmin=-1, vmax=1, center=0,\n",
        "    cmap=sns.diverging_palette(20, 220, n=200),\n",
        "    square=True\n",
        ")\n",
        "ax.set_xticklabels(\n",
        "    ax.get_xticklabels(),\n",
        "    rotation=90,\n",
        "    horizontalalignment='right'\n",
        ");"
      ],
      "execution_count": 13,
      "outputs": [
        {
          "output_type": "display_data",
          "data": {
            "image/png": "[encoded data removed]",
            "text/plain": [
              "<Figure size 432x288 with 2 Axes>"
            ]
          },
          "metadata": {
            "tags": [],
            "needs_background": "light"
          }
        }
      ]
    },
    {
      "cell_type": "markdown",
      "metadata": {
        "id": "StJKdRBGEZVB",
        "colab_type": "text"
      },
      "source": [
        "AS WE CAN SEE THAT FUELCONSUMPTION_CITY,FUELCONSUMPTION_HIGH,FUELCONSUMPTION_COMB IS HEAVILY CORRELATED  SO WE CAN REMOVE CITY BUT IT IS THEY ARE ALSO HIGHLY CORRELATED WITH CO2 EMSSIONS...BUT VARIABLES WITHIN CORRELATED DISTURB THE MODEL AND HENCE THEY HAVE TO BE REMOVED AND THEN CHECKED AGAIN"
      ]
    },
    {
      "cell_type": "code",
      "metadata": {
        "id": "_XugICwVymZM",
        "colab_type": "code",
        "colab": {}
      },
      "source": [
        "X = data.drop(['CO2EMISSIONS','CYLINDERS','MODELYEAR','MAKE','MODEL','VEHICLECLASS','TRANSMISSION','FUELCONSUMPTION_CITY','FUELCONSUMPTION_HWY','FUELCONSUMPTION_COMB_MPG'], axis='columns')\n",
        "Y=data['CO2EMISSIONS']"
      ],
      "execution_count": 14,
      "outputs": []
    },
    {
      "cell_type": "markdown",
      "metadata": {
        "id": "iBX-UJbkHZ5M",
        "colab_type": "text"
      },
      "source": [
        "FUELTYPE IS NOT CORRELATED BUT WE WILL TAKE IT AGAIN SO AS TO KEEP SOME MODELS INSIDE IT"
      ]
    },
    {
      "cell_type": "code",
      "metadata": {
        "id": "ajIywQo8FOSf",
        "colab_type": "code",
        "colab": {
          "base_uri": "https://localhost:8080/",
          "height": 102
        },
        "outputId": "87eb5bb7-68e8-4116-b0b9-ae0d71b92167"
      },
      "source": [
        "data.columns"
      ],
      "execution_count": 15,
      "outputs": [
        {
          "output_type": "execute_result",
          "data": {
            "text/plain": [
              "Index(['MODELYEAR', 'MAKE', 'MODEL', 'VEHICLECLASS', 'ENGINESIZE', 'CYLINDERS',\n",
              "       'TRANSMISSION', 'FUELCONSUMPTION_CITY', 'FUELCONSUMPTION_HWY',\n",
              "       'FUELCONSUMPTION_COMB', 'FUELCONSUMPTION_COMB_MPG', 'CO2EMISSIONS',\n",
              "       'fueltype-D', 'fueltype-E', 'fueltype-X', 'fueltype-Z'],\n",
              "      dtype='object')"
            ]
          },
          "metadata": {
            "tags": []
          },
          "execution_count": 15
        }
      ]
    },
    {
      "cell_type": "code",
      "metadata": {
        "id": "ufWn-KnY3VVe",
        "colab_type": "code",
        "colab": {
          "base_uri": "https://localhost:8080/",
          "height": 204
        },
        "outputId": "adcfaece-074e-47ad-8e54-78ba195dbfc2"
      },
      "source": [
        "X.head()"
      ],
      "execution_count": 16,
      "outputs": [
        {
          "output_type": "execute_result",
          "data": {
            "text/html": [
              "<div>\n",
              "<style scoped>\n",
              "    .dataframe tbody tr th:only-of-type {\n",
              "        vertical-align: middle;\n",
              "    }\n",
              "\n",
              "    .dataframe tbody tr th {\n",
              "        vertical-align: top;\n",
              "    }\n",
              "\n",
              "    .dataframe thead th {\n",
              "        text-align: right;\n",
              "    }\n",
              "</style>\n",
              "<table border=\"1\" class=\"dataframe\">\n",
              "  <thead>\n",
              "    <tr style=\"text-align: right;\">\n",
              "      <th></th>\n",
              "      <th>ENGINESIZE</th>\n",
              "      <th>FUELCONSUMPTION_COMB</th>\n",
              "      <th>fueltype-D</th>\n",
              "      <th>fueltype-E</th>\n",
              "      <th>fueltype-X</th>\n",
              "      <th>fueltype-Z</th>\n",
              "    </tr>\n",
              "  </thead>\n",
              "  <tbody>\n",
              "    <tr>\n",
              "      <th>0</th>\n",
              "      <td>2.0</td>\n",
              "      <td>8.5</td>\n",
              "      <td>0</td>\n",
              "      <td>0</td>\n",
              "      <td>0</td>\n",
              "      <td>1</td>\n",
              "    </tr>\n",
              "    <tr>\n",
              "      <th>1</th>\n",
              "      <td>2.4</td>\n",
              "      <td>9.6</td>\n",
              "      <td>0</td>\n",
              "      <td>0</td>\n",
              "      <td>0</td>\n",
              "      <td>1</td>\n",
              "    </tr>\n",
              "    <tr>\n",
              "      <th>2</th>\n",
              "      <td>1.5</td>\n",
              "      <td>5.9</td>\n",
              "      <td>0</td>\n",
              "      <td>0</td>\n",
              "      <td>0</td>\n",
              "      <td>1</td>\n",
              "    </tr>\n",
              "    <tr>\n",
              "      <th>3</th>\n",
              "      <td>3.5</td>\n",
              "      <td>11.1</td>\n",
              "      <td>0</td>\n",
              "      <td>0</td>\n",
              "      <td>0</td>\n",
              "      <td>1</td>\n",
              "    </tr>\n",
              "    <tr>\n",
              "      <th>4</th>\n",
              "      <td>3.5</td>\n",
              "      <td>10.6</td>\n",
              "      <td>0</td>\n",
              "      <td>0</td>\n",
              "      <td>0</td>\n",
              "      <td>1</td>\n",
              "    </tr>\n",
              "  </tbody>\n",
              "</table>\n",
              "</div>"
            ],
            "text/plain": [
              "   ENGINESIZE  FUELCONSUMPTION_COMB  ...  fueltype-X  fueltype-Z\n",
              "0         2.0                   8.5  ...           0           1\n",
              "1         2.4                   9.6  ...           0           1\n",
              "2         1.5                   5.9  ...           0           1\n",
              "3         3.5                  11.1  ...           0           1\n",
              "4         3.5                  10.6  ...           0           1\n",
              "\n",
              "[5 rows x 6 columns]"
            ]
          },
          "metadata": {
            "tags": []
          },
          "execution_count": 16
        }
      ]
    },
    {
      "cell_type": "code",
      "metadata": {
        "id": "ltEjxmlsDeso",
        "colab_type": "code",
        "colab": {
          "base_uri": "https://localhost:8080/",
          "height": 119
        },
        "outputId": "c542c184-4e35-4c11-cefb-48d2ccc2d91b"
      },
      "source": [
        "Y.head()"
      ],
      "execution_count": 17,
      "outputs": [
        {
          "output_type": "execute_result",
          "data": {
            "text/plain": [
              "0    196\n",
              "1    221\n",
              "2    136\n",
              "3    255\n",
              "4    244\n",
              "Name: CO2EMISSIONS, dtype: int64"
            ]
          },
          "metadata": {
            "tags": []
          },
          "execution_count": 17
        }
      ]
    },
    {
      "cell_type": "code",
      "metadata": {
        "id": "djoSDeXFJ7Eu",
        "colab_type": "code",
        "colab": {}
      },
      "source": [
        "#SCALING THE VALUES(EXCLUDED ONE-HOT ENCODED VALUES)\n",
        "\n",
        "X['ENGINESIZE'] = (X['ENGINESIZE'] - X['ENGINESIZE'].min()) / (X['ENGINESIZE'].max() - X['ENGINESIZE'].min())\n",
        "X['FUELCONSUMPTION_COMB'] = (X['FUELCONSUMPTION_COMB'] - X['FUELCONSUMPTION_COMB'].min()) / (X['FUELCONSUMPTION_COMB'].max() - X['FUELCONSUMPTION_COMB'].min())"
      ],
      "execution_count": 18,
      "outputs": []
    },
    {
      "cell_type": "code",
      "metadata": {
        "id": "F5HnHliY3n65",
        "colab_type": "code",
        "colab": {
          "base_uri": "https://localhost:8080/",
          "height": 51
        },
        "outputId": "5ce0dc9d-620e-45ac-e349-b86998d09b55"
      },
      "source": [
        "# split\n",
        "X_train, X_test, y_train, y_test = train_test_split(X, Y, test_size = 0.2,random_state=2)\n",
        "print(\"train set:\", X_train.shape)\n",
        "print(\"test set:\", X_test.shape)"
      ],
      "execution_count": 19,
      "outputs": [
        {
          "output_type": "stream",
          "text": [
            "train set: (853, 6)\n",
            "test set: (214, 6)\n"
          ],
          "name": "stdout"
        }
      ]
    },
    {
      "cell_type": "code",
      "metadata": {
        "id": "cAn-aTCVD0uq",
        "colab_type": "code",
        "colab": {
          "base_uri": "https://localhost:8080/",
          "height": 204
        },
        "outputId": "80f84526-1c02-450d-d732-2a3cfcdc7942"
      },
      "source": [
        "X_train.head()"
      ],
      "execution_count": 20,
      "outputs": [
        {
          "output_type": "execute_result",
          "data": {
            "text/html": [
              "<div>\n",
              "<style scoped>\n",
              "    .dataframe tbody tr th:only-of-type {\n",
              "        vertical-align: middle;\n",
              "    }\n",
              "\n",
              "    .dataframe tbody tr th {\n",
              "        vertical-align: top;\n",
              "    }\n",
              "\n",
              "    .dataframe thead th {\n",
              "        text-align: right;\n",
              "    }\n",
              "</style>\n",
              "<table border=\"1\" class=\"dataframe\">\n",
              "  <thead>\n",
              "    <tr style=\"text-align: right;\">\n",
              "      <th></th>\n",
              "      <th>ENGINESIZE</th>\n",
              "      <th>FUELCONSUMPTION_COMB</th>\n",
              "      <th>fueltype-D</th>\n",
              "      <th>fueltype-E</th>\n",
              "      <th>fueltype-X</th>\n",
              "      <th>fueltype-Z</th>\n",
              "    </tr>\n",
              "  </thead>\n",
              "  <tbody>\n",
              "    <tr>\n",
              "      <th>645</th>\n",
              "      <td>0.270270</td>\n",
              "      <td>0.601896</td>\n",
              "      <td>0</td>\n",
              "      <td>1</td>\n",
              "      <td>0</td>\n",
              "      <td>0</td>\n",
              "    </tr>\n",
              "    <tr>\n",
              "      <th>939</th>\n",
              "      <td>0.000000</td>\n",
              "      <td>0.080569</td>\n",
              "      <td>0</td>\n",
              "      <td>0</td>\n",
              "      <td>0</td>\n",
              "      <td>1</td>\n",
              "    </tr>\n",
              "    <tr>\n",
              "      <th>70</th>\n",
              "      <td>0.405405</td>\n",
              "      <td>0.436019</td>\n",
              "      <td>0</td>\n",
              "      <td>0</td>\n",
              "      <td>0</td>\n",
              "      <td>1</td>\n",
              "    </tr>\n",
              "    <tr>\n",
              "      <th>200</th>\n",
              "      <td>0.108108</td>\n",
              "      <td>0.165877</td>\n",
              "      <td>0</td>\n",
              "      <td>0</td>\n",
              "      <td>1</td>\n",
              "      <td>0</td>\n",
              "    </tr>\n",
              "    <tr>\n",
              "      <th>470</th>\n",
              "      <td>0.581081</td>\n",
              "      <td>0.649289</td>\n",
              "      <td>0</td>\n",
              "      <td>1</td>\n",
              "      <td>0</td>\n",
              "      <td>0</td>\n",
              "    </tr>\n",
              "  </tbody>\n",
              "</table>\n",
              "</div>"
            ],
            "text/plain": [
              "     ENGINESIZE  FUELCONSUMPTION_COMB  ...  fueltype-X  fueltype-Z\n",
              "645    0.270270              0.601896  ...           0           0\n",
              "939    0.000000              0.080569  ...           0           1\n",
              "70     0.405405              0.436019  ...           0           1\n",
              "200    0.108108              0.165877  ...           1           0\n",
              "470    0.581081              0.649289  ...           0           0\n",
              "\n",
              "[5 rows x 6 columns]"
            ]
          },
          "metadata": {
            "tags": []
          },
          "execution_count": 20
        }
      ]
    },
    {
      "cell_type": "code",
      "metadata": {
        "id": "C23UI2gZD5SB",
        "colab_type": "code",
        "colab": {
          "base_uri": "https://localhost:8080/",
          "height": 204
        },
        "outputId": "96d799b0-b842-47cc-f3a1-a1587137e624"
      },
      "source": [
        "X_test.head()"
      ],
      "execution_count": 21,
      "outputs": [
        {
          "output_type": "execute_result",
          "data": {
            "text/html": [
              "<div>\n",
              "<style scoped>\n",
              "    .dataframe tbody tr th:only-of-type {\n",
              "        vertical-align: middle;\n",
              "    }\n",
              "\n",
              "    .dataframe tbody tr th {\n",
              "        vertical-align: top;\n",
              "    }\n",
              "\n",
              "    .dataframe thead th {\n",
              "        text-align: right;\n",
              "    }\n",
              "</style>\n",
              "<table border=\"1\" class=\"dataframe\">\n",
              "  <thead>\n",
              "    <tr style=\"text-align: right;\">\n",
              "      <th></th>\n",
              "      <th>ENGINESIZE</th>\n",
              "      <th>FUELCONSUMPTION_COMB</th>\n",
              "      <th>fueltype-D</th>\n",
              "      <th>fueltype-E</th>\n",
              "      <th>fueltype-X</th>\n",
              "      <th>fueltype-Z</th>\n",
              "    </tr>\n",
              "  </thead>\n",
              "  <tbody>\n",
              "    <tr>\n",
              "      <th>455</th>\n",
              "      <td>0.581081</td>\n",
              "      <td>0.379147</td>\n",
              "      <td>0</td>\n",
              "      <td>0</td>\n",
              "      <td>1</td>\n",
              "      <td>0</td>\n",
              "    </tr>\n",
              "    <tr>\n",
              "      <th>954</th>\n",
              "      <td>0.202703</td>\n",
              "      <td>0.369668</td>\n",
              "      <td>0</td>\n",
              "      <td>0</td>\n",
              "      <td>0</td>\n",
              "      <td>1</td>\n",
              "    </tr>\n",
              "    <tr>\n",
              "      <th>738</th>\n",
              "      <td>0.608108</td>\n",
              "      <td>0.398104</td>\n",
              "      <td>0</td>\n",
              "      <td>0</td>\n",
              "      <td>0</td>\n",
              "      <td>1</td>\n",
              "    </tr>\n",
              "    <tr>\n",
              "      <th>913</th>\n",
              "      <td>0.270270</td>\n",
              "      <td>0.279621</td>\n",
              "      <td>1</td>\n",
              "      <td>0</td>\n",
              "      <td>0</td>\n",
              "      <td>0</td>\n",
              "    </tr>\n",
              "    <tr>\n",
              "      <th>702</th>\n",
              "      <td>0.067568</td>\n",
              "      <td>0.127962</td>\n",
              "      <td>0</td>\n",
              "      <td>0</td>\n",
              "      <td>1</td>\n",
              "      <td>0</td>\n",
              "    </tr>\n",
              "  </tbody>\n",
              "</table>\n",
              "</div>"
            ],
            "text/plain": [
              "     ENGINESIZE  FUELCONSUMPTION_COMB  ...  fueltype-X  fueltype-Z\n",
              "455    0.581081              0.379147  ...           1           0\n",
              "954    0.202703              0.369668  ...           0           1\n",
              "738    0.608108              0.398104  ...           0           1\n",
              "913    0.270270              0.279621  ...           0           0\n",
              "702    0.067568              0.127962  ...           1           0\n",
              "\n",
              "[5 rows x 6 columns]"
            ]
          },
          "metadata": {
            "tags": []
          },
          "execution_count": 21
        }
      ]
    },
    {
      "cell_type": "code",
      "metadata": {
        "id": "6oKVlSYZ4c27",
        "colab_type": "code",
        "colab": {
          "base_uri": "https://localhost:8080/",
          "height": 221
        },
        "outputId": "1f474cd9-556a-4fcf-ab84-3e48c58d6b5c"
      },
      "source": [
        "y_train"
      ],
      "execution_count": 22,
      "outputs": [
        {
          "output_type": "execute_result",
          "data": {
            "text/plain": [
              "645    278\n",
              "939    147\n",
              "70     320\n",
              "200    189\n",
              "470    294\n",
              "      ... \n",
              "360    230\n",
              "466    230\n",
              "299    294\n",
              "493    216\n",
              "527    248\n",
              "Name: CO2EMISSIONS, Length: 853, dtype: int64"
            ]
          },
          "metadata": {
            "tags": []
          },
          "execution_count": 22
        }
      ]
    },
    {
      "cell_type": "code",
      "metadata": {
        "id": "phH4RKu044Ad",
        "colab_type": "code",
        "colab": {}
      },
      "source": [
        "linear=linear_model.LinearRegression()\n",
        "ridge = linear_model.Ridge()\n",
        "lasso= linear_model.Lasso()\n",
        "elastic = linear_model.ElasticNet()\n",
        "bayes_ridge = linear_model.BayesianRidge(n_iter=1000)\n",
        "sgd = linear_model.SGDRegressor(max_iter=100000)"
      ],
      "execution_count": 23,
      "outputs": []
    },
    {
      "cell_type": "code",
      "metadata": {
        "id": "_yd27fcu5hoe",
        "colab_type": "code",
        "colab": {}
      },
      "source": [
        "models = [linear,ridge, lasso, elastic, bayes_ridge,sgd]"
      ],
      "execution_count": 24,
      "outputs": []
    },
    {
      "cell_type": "code",
      "metadata": {
        "trusted": true,
        "_uuid": "98130258fdfb513a43a59283f52a124cfb114a57",
        "id": "8QJ-bTWNpENe",
        "colab_type": "code",
        "colab": {}
      },
      "source": [
        "# function to get cross validation scores\n",
        "def get_cv_scores(model):\n",
        "    scores = cross_val_score(model, X_train, y_train, cv=5)\n",
        "    print(model,'\\nCV Mean: ', np.mean(scores))\n",
        "    print('STD: ', np.std(scores))\n",
        "    print('\\n')"
      ],
      "execution_count": 25,
      "outputs": []
    },
    {
      "cell_type": "code",
      "metadata": {
        "id": "6kY6JBZ4wf3r",
        "colab_type": "code",
        "colab": {
          "base_uri": "https://localhost:8080/",
          "height": 748
        },
        "outputId": "d413301f-f347-483b-8188-eb1f26497dea"
      },
      "source": [
        "# loop through list of models\n",
        "for model in models:\n",
        "  get_cv_scores(model)"
      ],
      "execution_count": 26,
      "outputs": [
        {
          "output_type": "stream",
          "text": [
            "LinearRegression(copy_X=True, fit_intercept=True, n_jobs=None, normalize=False) \n",
            "CV Mean:  0.9878392976260442\n",
            "STD:  0.004740174491154404\n",
            "\n",
            "\n",
            "Ridge(alpha=1.0, copy_X=True, fit_intercept=True, max_iter=None,\n",
            "      normalize=False, random_state=None, solver='auto', tol=0.001) \n",
            "CV Mean:  0.9758409673990368\n",
            "STD:  0.0042711703765946135\n",
            "\n",
            "\n",
            "Lasso(alpha=1.0, copy_X=True, fit_intercept=True, max_iter=1000,\n",
            "      normalize=False, positive=False, precompute=False, random_state=None,\n",
            "      selection='cyclic', tol=0.0001, warm_start=False) \n",
            "CV Mean:  0.9468639359134663\n",
            "STD:  0.009107360212398838\n",
            "\n",
            "\n",
            "ElasticNet(alpha=1.0, copy_X=True, fit_intercept=True, l1_ratio=0.5,\n",
            "           max_iter=1000, normalize=False, positive=False, precompute=False,\n",
            "           random_state=None, selection='cyclic', tol=0.0001, warm_start=False) \n",
            "CV Mean:  0.16475669045369765\n",
            "STD:  0.010925042570736414\n",
            "\n",
            "\n",
            "BayesianRidge(alpha_1=1e-06, alpha_2=1e-06, alpha_init=None,\n",
            "              compute_score=False, copy_X=True, fit_intercept=True,\n",
            "              lambda_1=1e-06, lambda_2=1e-06, lambda_init=None, n_iter=1000,\n",
            "              normalize=False, tol=0.001, verbose=False) \n",
            "CV Mean:  0.9878400374817596\n",
            "STD:  0.004732868594242924\n",
            "\n",
            "\n",
            "SGDRegressor(alpha=0.0001, average=False, early_stopping=False, epsilon=0.1,\n",
            "             eta0=0.01, fit_intercept=True, l1_ratio=0.15,\n",
            "             learning_rate='invscaling', loss='squared_loss', max_iter=100000,\n",
            "             n_iter_no_change=5, penalty='l2', power_t=0.25, random_state=None,\n",
            "             shuffle=True, tol=0.001, validation_fraction=0.1, verbose=0,\n",
            "             warm_start=False) \n",
            "CV Mean:  0.9872736798093431\n",
            "STD:  0.0036765917263482857\n",
            "\n",
            "\n"
          ],
          "name": "stdout"
        }
      ]
    },
    {
      "cell_type": "markdown",
      "metadata": {
        "id": "7fTTe6DV-s1a",
        "colab_type": "text"
      },
      "source": [
        "###So now the best models are in :1)Linear & 2)BayesianRidge Regresssion but we will solve each and every model  "
      ]
    },
    {
      "cell_type": "markdown",
      "metadata": {
        "id": "usM_F95O3FsM",
        "colab_type": "text"
      },
      "source": [
        "##**Linear Regression**"
      ]
    },
    {
      "cell_type": "code",
      "metadata": {
        "id": "Wt7p1aW9GRCe",
        "colab_type": "code",
        "colab": {
          "base_uri": "https://localhost:8080/",
          "height": 34
        },
        "outputId": "ddafbcac-22ee-43f2-cf75-988c66c07c5d"
      },
      "source": [
        "from sklearn.linear_model import LinearRegression\n",
        "lre=LinearRegression()\n",
        "lre.fit(X_train, y_train)\n",
        "lre.score(X_test, y_test)"
      ],
      "execution_count": 27,
      "outputs": [
        {
          "output_type": "execute_result",
          "data": {
            "text/plain": [
              "0.990352419394397"
            ]
          },
          "metadata": {
            "tags": []
          },
          "execution_count": 27
        }
      ]
    },
    {
      "cell_type": "code",
      "metadata": {
        "id": "-JMrbtTBHLIo",
        "colab_type": "code",
        "colab": {
          "base_uri": "https://localhost:8080/",
          "height": 34
        },
        "outputId": "78eeecd5-ca5f-4719-b6e0-0d44c44449ed"
      },
      "source": [
        "#Using cross-Validation for better & accuarte results\n",
        "from sklearn.model_selection import cross_val_score\n",
        "Rcross = cross_val_score(lre, X_train, y_train, cv=4)\n",
        "print(\"The mean of the folds are\", Rcross.mean(), \"and the standard deviation is\" , Rcross.std())"
      ],
      "execution_count": 28,
      "outputs": [
        {
          "output_type": "stream",
          "text": [
            "The mean of the folds are 0.9886497051733331 and the standard deviation is 0.0019323609564059385\n"
          ],
          "name": "stdout"
        }
      ]
    },
    {
      "cell_type": "code",
      "metadata": {
        "id": "vAPxvApvJg6Y",
        "colab_type": "code",
        "colab": {}
      },
      "source": [
        "#Prediction of values\n",
        "y_test_pred = lre.predict(X_test)"
      ],
      "execution_count": 29,
      "outputs": []
    },
    {
      "cell_type": "code",
      "metadata": {
        "id": "l9oo2URFJO9M",
        "colab_type": "code",
        "colab": {
          "base_uri": "https://localhost:8080/",
          "height": 51
        },
        "outputId": "60defa5b-88f1-41b3-a018-384d5561d88f"
      },
      "source": [
        "print('Mean squared error: %.2f'% mean_squared_error(y_test,y_test_pred))\n",
        "print('Coefficient of determination: %.7f'% r2_score(y_test,y_test_pred))"
      ],
      "execution_count": 30,
      "outputs": [
        {
          "output_type": "stream",
          "text": [
            "Mean squared error: 44.67\n",
            "Coefficient of determination: 0.9903524\n"
          ],
          "name": "stdout"
        }
      ]
    },
    {
      "cell_type": "code",
      "metadata": {
        "id": "Qly_MiRkJUh2",
        "colab_type": "code",
        "colab": {
          "base_uri": "https://localhost:8080/",
          "height": 102
        },
        "outputId": "55581d0e-1d55-42d1-c237-4ee66584c241"
      },
      "source": [
        "import sklearn.metrics as sm\n",
        "print(\"Mean absolute error =\", round(sm.mean_absolute_error(y_test, y_test_pred), 2)) \n",
        "print(\"Mean squared error =\", round(sm.mean_squared_error(y_test, y_test_pred), 2)) \n",
        "print(\"Median absolute error =\", round(sm.median_absolute_error(y_test, y_test_pred), 2)) \n",
        "print(\"Explain variance score =\", round(sm.explained_variance_score(y_test, y_test_pred), 2)) \n",
        "print(\"R2 score =\", round(sm.r2_score(y_test, y_test_pred), 7))"
      ],
      "execution_count": 31,
      "outputs": [
        {
          "output_type": "stream",
          "text": [
            "Mean absolute error = 3.54\n",
            "Mean squared error = 44.67\n",
            "Median absolute error = 1.84\n",
            "Explain variance score = 0.99\n",
            "R2 score = 0.9903524\n"
          ],
          "name": "stdout"
        }
      ]
    },
    {
      "cell_type": "code",
      "metadata": {
        "id": "SiNgy-gBegV4",
        "colab_type": "code",
        "colab": {
          "base_uri": "https://localhost:8080/",
          "height": 34
        },
        "outputId": "9f9ef852-1f54-448a-8072-6da0fa33057c"
      },
      "source": [
        "linear.get_params().keys()"
      ],
      "execution_count": 32,
      "outputs": [
        {
          "output_type": "execute_result",
          "data": {
            "text/plain": [
              "dict_keys(['copy_X', 'fit_intercept', 'n_jobs', 'normalize'])"
            ]
          },
          "metadata": {
            "tags": []
          },
          "execution_count": 32
        }
      ]
    },
    {
      "cell_type": "code",
      "metadata": {
        "id": "ChQMXsUKeTRo",
        "colab_type": "code",
        "colab": {
          "base_uri": "https://localhost:8080/",
          "height": 258
        },
        "outputId": "460ea592-efed-45fa-8c4b-d70538b5cca9"
      },
      "source": [
        "from sklearn.model_selection import GridSearchCV,RandomizedSearchCV\n",
        "\n",
        "fit_intercept=[False,True]\n",
        "\n",
        "param_grid = dict(fit_intercept=fit_intercept)\n",
        "\n",
        "#Specifying the value of the cv attribute will trigger the use of cross-validation with GridSearchCV, \n",
        "#for example cv=10 for 10-fold cross-validation, rather than Generalized Cross-Validation.\n",
        "Grid1 = GridSearchCV(estimator=linear, param_grid=param_grid, verbose=1, n_jobs=-1,cv=10,scoring='r2')\n",
        "Grid1.fit(X_train,y_train)\n",
        "\n",
        "BestLinearR=Grid1.best_estimator_\n",
        "print(\"\\nGrid Search\",BestLinearR.score(X_test, y_test))\n",
        "\n",
        "Grid2 = RandomizedSearchCV(estimator=linear, param_distributions=param_grid, verbose=1, n_jobs=-1,cv=10,scoring='r2')\n",
        "Grid2.fit(X_train,y_train)\n",
        "\n",
        "BestLinearR=Grid2.best_estimator_\n",
        "BestLinearR.score(X_test, y_test)\n",
        "print(\"\\nRandom Search\",BestLinearR.score(X_test, y_test))\n"
      ],
      "execution_count": 33,
      "outputs": [
        {
          "output_type": "stream",
          "text": [
            "Fitting 10 folds for each of 2 candidates, totalling 20 fits\n"
          ],
          "name": "stdout"
        },
        {
          "output_type": "stream",
          "text": [
            "[Parallel(n_jobs=-1)]: Using backend LokyBackend with 2 concurrent workers.\n"
          ],
          "name": "stderr"
        },
        {
          "output_type": "stream",
          "text": [
            "\n",
            "Grid Search 0.990352419394397\n",
            "Fitting 10 folds for each of 2 candidates, totalling 20 fits\n",
            "\n",
            "Random Search 0.990352419394397\n"
          ],
          "name": "stdout"
        },
        {
          "output_type": "stream",
          "text": [
            "[Parallel(n_jobs=-1)]: Done  17 out of  20 | elapsed:    1.7s remaining:    0.3s\n",
            "[Parallel(n_jobs=-1)]: Done  20 out of  20 | elapsed:    1.7s finished\n",
            "/usr/local/lib/python3.6/dist-packages/sklearn/model_selection/_search.py:281: UserWarning: The total space of parameters 2 is smaller than n_iter=10. Running 2 iterations. For exhaustive searches, use GridSearchCV.\n",
            "  % (grid_size, self.n_iter, grid_size), UserWarning)\n",
            "[Parallel(n_jobs=-1)]: Using backend LokyBackend with 2 concurrent workers.\n",
            "[Parallel(n_jobs=-1)]: Done  20 out of  20 | elapsed:    0.1s finished\n"
          ],
          "name": "stderr"
        }
      ]
    },
    {
      "cell_type": "markdown",
      "metadata": {
        "id": "XBOmk9PnF_5E",
        "colab_type": "text"
      },
      "source": [
        "###Both of Searches have same R^2 value so the final R^2 value is given below:\n",
        "###**R^2 : 0.9903524**"
      ]
    },
    {
      "cell_type": "markdown",
      "metadata": {
        "id": "bBC2P5UZy-0j",
        "colab_type": "text"
      },
      "source": [
        "##**Ridge Regression**"
      ]
    },
    {
      "cell_type": "code",
      "metadata": {
        "id": "NGBEfs6PzCcn",
        "colab_type": "code",
        "colab": {}
      },
      "source": [
        "from sklearn.linear_model import Ridge\n",
        "RigeModel=Ridge(alpha=0.1) # setting the regularization parameter to 0.1\n",
        "RigeModel.fit(X_train, y_train)\n",
        "RigeModel.score(X_test, y_test)\n",
        "y_test_pred = RigeModel.predict(X_test)"
      ],
      "execution_count": 34,
      "outputs": []
    },
    {
      "cell_type": "code",
      "metadata": {
        "id": "CW3PzQ2j3htD",
        "colab_type": "code",
        "colab": {
          "base_uri": "https://localhost:8080/",
          "height": 34
        },
        "outputId": "6392353f-99dd-4133-a74c-710c494fa4b1"
      },
      "source": [
        "RigeModel.score(X_test, y_test)"
      ],
      "execution_count": 35,
      "outputs": [
        {
          "output_type": "execute_result",
          "data": {
            "text/plain": [
              "0.9898943423677532"
            ]
          },
          "metadata": {
            "tags": []
          },
          "execution_count": 35
        }
      ]
    },
    {
      "cell_type": "markdown",
      "metadata": {
        "id": "GWAvpLoX30kF",
        "colab_type": "text"
      },
      "source": [
        "Understanding behaviour of Alpha with R^2 value"
      ]
    },
    {
      "cell_type": "code",
      "metadata": {
        "id": "J8AnvRgwzXPy",
        "colab_type": "code",
        "colab": {}
      },
      "source": [
        "Rsqu_test = []\n",
        "Rsqu_train = []\n",
        "dummy1 = []\n",
        "ALFA = 10 * np.array(range(0,1000))\n",
        "for alfa in ALFA:\n",
        "    RigeModel = Ridge(alpha=alfa) \n",
        "    RigeModel.fit(X_train, y_train)\n",
        "    Rsqu_test.append(RigeModel.score(X_test, y_test))\n",
        "    Rsqu_train.append(RigeModel.score(X_train, y_train))"
      ],
      "execution_count": 36,
      "outputs": []
    },
    {
      "cell_type": "code",
      "metadata": {
        "id": "iNsPHc-W0Cli",
        "colab_type": "code",
        "colab": {
          "base_uri": "https://localhost:8080/",
          "height": 623
        },
        "outputId": "f0ad022f-89a6-4d06-e0fb-d4b15f883c3d"
      },
      "source": [
        "width = 12\n",
        "height = 10\n",
        "plt.figure(figsize=(width, height))\n",
        "\n",
        "plt.plot(ALFA,Rsqu_test, label='validation data  ')\n",
        "plt.plot(ALFA,Rsqu_train, 'r', label='training Data ')\n",
        "plt.xlabel('alpha')\n",
        "plt.ylabel('R^2')\n",
        "plt.legend()"
      ],
      "execution_count": 37,
      "outputs": [
        {
          "output_type": "execute_result",
          "data": {
            "text/plain": [
              "<matplotlib.legend.Legend at 0x7f06b125cac8>"
            ]
          },
          "metadata": {
            "tags": []
          },
          "execution_count": 37
        },
        {
          "output_type": "display_data",
          "data": {
            "image/png": "[encoded data removed]",
            "text/plain": [
              "<Figure size 864x720 with 1 Axes>"
            ]
          },
          "metadata": {
            "tags": [],
            "needs_background": "light"
          }
        }
      ]
    },
    {
      "cell_type": "markdown",
      "metadata": {
        "id": "Ga5dKpHu0VQy",
        "colab_type": "text"
      },
      "source": [
        "###**Ridge Regression with Best Parameter**\n",
        "\n",
        "###Now we will find best hyperparameter alpha using Grid Search in Ridge Model only\n",
        "\n"
      ]
    },
    {
      "cell_type": "code",
      "metadata": {
        "id": "Jv4QKr-Q0Uez",
        "colab_type": "code",
        "colab": {
          "base_uri": "https://localhost:8080/",
          "height": 255
        },
        "outputId": "a6ba72d5-1dca-432a-8736-d8eed179f543"
      },
      "source": [
        "from sklearn.model_selection import GridSearchCV,RandomizedSearchCV\n",
        "\n",
        "alpha = [0.001,0.1,0.5, 1]\n",
        "solver = ['auto', 'svd']\n",
        "fit_intercept=[False,True]\n",
        "\n",
        "param_grid = dict(alpha=alpha,\n",
        "                  solver=solver,\n",
        "                  fit_intercept=fit_intercept)\n",
        "\n",
        "#Specifying the value of the cv attribute will trigger the use of cross-validation with GridSearchCV, \n",
        "#for example cv=10 for 10-fold cross-validation, rather than Generalized Cross-Validation.\n",
        "Grid1 = GridSearchCV(estimator=ridge, param_grid=param_grid, verbose=1, n_jobs=-1,cv=10,scoring='r2')\n",
        "Grid1.fit(X_train,y_train)\n",
        "\n",
        "Grid1 = RandomizedSearchCV(estimator=ridge, param_distributions=param_grid, verbose=1, n_jobs=-1,cv=10,scoring='r2')\n",
        "Grid1.fit(X_train,y_train)\n",
        "\n",
        "BestRRG=Grid1.best_estimator_\n",
        "print(\"\\nGrid Search Best Score: \",BestRRG.score(X_test, y_test))\n",
        "\n",
        "Grid2 = RandomizedSearchCV(estimator=ridge, param_distributions=param_grid, verbose=1, n_jobs=-1,cv=10,scoring='r2')\n",
        "Grid2.fit(X_train,y_train)\n",
        "\n",
        "BestRRR=Grid2.best_estimator_\n",
        "print(\"\\nRandom Search Best Score: \",BestRRR.score(X_test, y_test))"
      ],
      "execution_count": 38,
      "outputs": [
        {
          "output_type": "stream",
          "text": [
            "Fitting 10 folds for each of 16 candidates, totalling 160 fits\n"
          ],
          "name": "stdout"
        },
        {
          "output_type": "stream",
          "text": [
            "[Parallel(n_jobs=-1)]: Using backend LokyBackend with 2 concurrent workers.\n",
            "[Parallel(n_jobs=-1)]: Done 150 tasks      | elapsed:    0.7s\n",
            "[Parallel(n_jobs=-1)]: Done 160 out of 160 | elapsed:    0.8s finished\n",
            "[Parallel(n_jobs=-1)]: Using backend LokyBackend with 2 concurrent workers.\n"
          ],
          "name": "stderr"
        },
        {
          "output_type": "stream",
          "text": [
            "Fitting 10 folds for each of 10 candidates, totalling 100 fits\n"
          ],
          "name": "stdout"
        },
        {
          "output_type": "stream",
          "text": [
            "[Parallel(n_jobs=-1)]: Done 100 out of 100 | elapsed:    0.5s finished\n",
            "[Parallel(n_jobs=-1)]: Using backend LokyBackend with 2 concurrent workers.\n"
          ],
          "name": "stderr"
        },
        {
          "output_type": "stream",
          "text": [
            "\n",
            "Grid Search Best Score:  0.9903489682283481\n",
            "Fitting 10 folds for each of 10 candidates, totalling 100 fits\n",
            "\n",
            "Random Search Best Score:  0.9903489682283481\n"
          ],
          "name": "stdout"
        },
        {
          "output_type": "stream",
          "text": [
            "[Parallel(n_jobs=-1)]: Done 100 out of 100 | elapsed:    0.5s finished\n"
          ],
          "name": "stderr"
        }
      ]
    },
    {
      "cell_type": "code",
      "metadata": {
        "id": "LL5PCRMinCJa",
        "colab_type": "code",
        "colab": {}
      },
      "source": [
        "y_test_pred = BestRRG.predict(X_test)"
      ],
      "execution_count": 39,
      "outputs": []
    },
    {
      "cell_type": "code",
      "metadata": {
        "id": "m4331diK2YMN",
        "colab_type": "code",
        "colab": {
          "base_uri": "https://localhost:8080/",
          "height": 102
        },
        "outputId": "6860c5a5-5f4b-4433-b6c1-ece9fefd7011"
      },
      "source": [
        "import sklearn.metrics as sm\n",
        "print(\"Mean absolute error =\", round(sm.mean_absolute_error(y_test, y_test_pred), 2)) \n",
        "print(\"Mean squared error =\", round(sm.mean_squared_error(y_test, y_test_pred), 2)) \n",
        "print(\"Median absolute error =\", round(sm.median_absolute_error(y_test, y_test_pred), 2)) \n",
        "print(\"Explain variance score =\", round(sm.explained_variance_score(y_test, y_test_pred), 2)) \n",
        "print(\"R2 score =\", round(BestRRG.score(X_test, y_test), 7))"
      ],
      "execution_count": 40,
      "outputs": [
        {
          "output_type": "stream",
          "text": [
            "Mean absolute error = 3.55\n",
            "Mean squared error = 44.69\n",
            "Median absolute error = 1.84\n",
            "Explain variance score = 0.99\n",
            "R2 score = 0.990349\n"
          ],
          "name": "stdout"
        }
      ]
    },
    {
      "cell_type": "code",
      "metadata": {
        "id": "3GDngJu9OKy2",
        "colab_type": "code",
        "colab": {
          "base_uri": "https://localhost:8080/",
          "height": 34
        },
        "outputId": "cc9f88b6-d7d5-4cdc-e483-1ca4001d4a9a"
      },
      "source": [
        "#Can use RidgeCV also but we got with GridSearchCV only\n",
        "from sklearn import linear_model\n",
        "\n",
        "reg = linear_model.RidgeCV(alphas=np.logspace(-6, 6, 13))\n",
        "reg.fit(X_train,y_train)\n",
        "reg.alpha_"
      ],
      "execution_count": 41,
      "outputs": [
        {
          "output_type": "execute_result",
          "data": {
            "text/plain": [
              "0.01"
            ]
          },
          "metadata": {
            "tags": []
          },
          "execution_count": 41
        }
      ]
    },
    {
      "cell_type": "markdown",
      "metadata": {
        "id": "KG4D2rgC1NLp",
        "colab_type": "text"
      },
      "source": [
        "So we created 2 models:\n",
        "\n",
        "1) Ridge Regression Model:\n",
        "\n",
        "**R^2:     0.9898943423677532**\n",
        "\n",
        "2) Ridge Regression Model with best Parameter\n",
        "\n",
        "**R^2:  0.990349**"
      ]
    },
    {
      "cell_type": "markdown",
      "metadata": {
        "id": "_TviKZtLqb6B",
        "colab_type": "text"
      },
      "source": [
        "##**Lasso Regression**"
      ]
    },
    {
      "cell_type": "code",
      "metadata": {
        "colab_type": "code",
        "id": "AGpHXyDprEed",
        "colab": {
          "base_uri": "https://localhost:8080/",
          "height": 34
        },
        "outputId": "ff840c24-acde-4d66-b23d-be5651291dd7"
      },
      "source": [
        "from sklearn.linear_model import Lasso\n",
        "LassoModel=Lasso() # setting the regularization parameter to 0.1\n",
        "LassoModel.fit(X_train, y_train)\n",
        "LassoModel.score(X_test, y_test)\n",
        "y_test_pred = LassoModel.predict(X_test)\n",
        "LassoModel.score(X_test, y_test)"
      ],
      "execution_count": 42,
      "outputs": [
        {
          "output_type": "execute_result",
          "data": {
            "text/plain": [
              "0.9472101397321239"
            ]
          },
          "metadata": {
            "tags": []
          },
          "execution_count": 42
        }
      ]
    },
    {
      "cell_type": "code",
      "metadata": {
        "colab_type": "code",
        "id": "TyNAM-P_rWPZ",
        "colab": {
          "base_uri": "https://localhost:8080/",
          "height": 102
        },
        "outputId": "64effd2f-0d7f-4635-bddd-575848a6e2a4"
      },
      "source": [
        "import sklearn.metrics as sm\n",
        "print(\"Mean absolute error =\", round(sm.mean_absolute_error(y_test, y_test_pred), 2)) \n",
        "print(\"Mean squared error =\", round(sm.mean_squared_error(y_test, y_test_pred), 2)) \n",
        "print(\"Median absolute error =\", round(sm.median_absolute_error(y_test, y_test_pred), 2)) \n",
        "print(\"Explain variance score =\", round(sm.explained_variance_score(y_test, y_test_pred), 2)) \n",
        "print(\"R2 score =\", round(LassoModel.score(X_test, y_test), 7))"
      ],
      "execution_count": 43,
      "outputs": [
        {
          "output_type": "stream",
          "text": [
            "Mean absolute error = 11.4\n",
            "Mean squared error = 244.45\n",
            "Median absolute error = 8.01\n",
            "Explain variance score = 0.95\n",
            "R2 score = 0.9472101\n"
          ],
          "name": "stdout"
        }
      ]
    },
    {
      "cell_type": "markdown",
      "metadata": {
        "id": "sPZ5ZkuGtlo1",
        "colab_type": "text"
      },
      "source": [
        "###**Lasso Regression with Best Parameters**"
      ]
    },
    {
      "cell_type": "code",
      "metadata": {
        "colab_type": "code",
        "id": "1D4TTS0lstpy",
        "colab": {
          "base_uri": "https://localhost:8080/",
          "height": 241
        },
        "outputId": "e07a5e80-3ac2-48b9-be0d-dc1d3cb4bac3"
      },
      "source": [
        "alpha = [0.001,0.1,0.5, 1]#No solver is there\n",
        "fit_intercept=[False,True]\n",
        "\n",
        "param_grid = dict(alpha=alpha, fit_intercept=fit_intercept)\n",
        "\n",
        "Grid2 = GridSearchCV(estimator=lasso, param_grid=param_grid, verbose=1, n_jobs=-1,cv=10)\n",
        "Grid2.fit(X_train,y_train)\n",
        "\n",
        "BestLRG=Grid2.best_estimator_\n",
        "print(\"\\nGrid Search Best Score: \",BestLRG.score(X_test, y_test))\n",
        "\n",
        "Grid3 = RandomizedSearchCV(estimator=lasso, param_distributions=param_grid, verbose=1, n_jobs=-1,cv=10,scoring='r2')\n",
        "Grid3.fit(X_train,y_train)\n",
        "\n",
        "BestLRR=Grid3.best_estimator_\n",
        "print(\"\\nRandom Search Best Score: \",BestLRR.score(X_test, y_test))"
      ],
      "execution_count": 44,
      "outputs": [
        {
          "output_type": "stream",
          "text": [
            "[Parallel(n_jobs=-1)]: Using backend LokyBackend with 2 concurrent workers.\n"
          ],
          "name": "stderr"
        },
        {
          "output_type": "stream",
          "text": [
            "Fitting 10 folds for each of 8 candidates, totalling 80 fits\n"
          ],
          "name": "stdout"
        },
        {
          "output_type": "stream",
          "text": [
            "[Parallel(n_jobs=-1)]: Done  80 out of  80 | elapsed:    0.5s finished\n",
            "/usr/local/lib/python3.6/dist-packages/sklearn/model_selection/_search.py:281: UserWarning: The total space of parameters 8 is smaller than n_iter=10. Running 8 iterations. For exhaustive searches, use GridSearchCV.\n",
            "  % (grid_size, self.n_iter, grid_size), UserWarning)\n",
            "[Parallel(n_jobs=-1)]: Using backend LokyBackend with 2 concurrent workers.\n"
          ],
          "name": "stderr"
        },
        {
          "output_type": "stream",
          "text": [
            "\n",
            "Grid Search Best Score:  0.9903295192218332\n",
            "Fitting 10 folds for each of 8 candidates, totalling 80 fits\n",
            "\n",
            "Random Search Best Score:  0.9903295192218332\n"
          ],
          "name": "stdout"
        },
        {
          "output_type": "stream",
          "text": [
            "[Parallel(n_jobs=-1)]: Done  80 out of  80 | elapsed:    0.5s finished\n"
          ],
          "name": "stderr"
        }
      ]
    },
    {
      "cell_type": "code",
      "metadata": {
        "colab_type": "code",
        "id": "83EkBHjktNWz",
        "colab": {
          "base_uri": "https://localhost:8080/",
          "height": 34
        },
        "outputId": "f3216ee3-b8ff-42d2-9c78-fc50afaf2468"
      },
      "source": [
        "#Both value are same..can take any of them\n",
        "#So taking grid ...\n",
        "BestLR=Grid2.best_estimator_\n",
        "BestLR.score(X_test, y_test)"
      ],
      "execution_count": 45,
      "outputs": [
        {
          "output_type": "execute_result",
          "data": {
            "text/plain": [
              "0.9903295192218332"
            ]
          },
          "metadata": {
            "tags": []
          },
          "execution_count": 45
        }
      ]
    },
    {
      "cell_type": "code",
      "metadata": {
        "colab_type": "code",
        "id": "iB9DQgKTtNW_",
        "colab": {}
      },
      "source": [
        "y_test_pred = BestLR.predict(X_test)"
      ],
      "execution_count": 46,
      "outputs": []
    },
    {
      "cell_type": "code",
      "metadata": {
        "colab_type": "code",
        "id": "4Yg7lnuMt0w5",
        "colab": {
          "base_uri": "https://localhost:8080/",
          "height": 102
        },
        "outputId": "2edf3beb-085b-4902-e3df-83de6c42cdd8"
      },
      "source": [
        "import sklearn.metrics as sm\n",
        "print(\"Mean absolute error =\", round(sm.mean_absolute_error(y_test, y_test_pred), 2)) \n",
        "print(\"Mean squared error =\", round(sm.mean_squared_error(y_test, y_test_pred), 2)) \n",
        "print(\"Median absolute error =\", round(sm.median_absolute_error(y_test, y_test_pred), 2)) \n",
        "print(\"Explain variance score =\", round(sm.explained_variance_score(y_test, y_test_pred), 2)) \n",
        "print(\"R2 score =\", round(BestLR.score(X_test, y_test), 7))"
      ],
      "execution_count": 47,
      "outputs": [
        {
          "output_type": "stream",
          "text": [
            "Mean absolute error = 3.57\n",
            "Mean squared error = 44.78\n",
            "Median absolute error = 1.87\n",
            "Explain variance score = 0.99\n",
            "R2 score = 0.9903295\n"
          ],
          "name": "stdout"
        }
      ]
    },
    {
      "cell_type": "markdown",
      "metadata": {
        "colab_type": "text",
        "id": "kdGHgCagt9gB"
      },
      "source": [
        "So we created 2 models:\n",
        "\n",
        "1) Lasso Regression Model\n",
        "\n",
        "**R^2:      0.9472101**\n",
        "\n",
        "2) Lasso Regression Model with best Parameter\n",
        "\n",
        "**R^2: 0.9903295**"
      ]
    },
    {
      "cell_type": "markdown",
      "metadata": {
        "id": "aTZSV3gxuprs",
        "colab_type": "text"
      },
      "source": [
        "##**Bayesian Ridge Regression**"
      ]
    },
    {
      "cell_type": "code",
      "metadata": {
        "id": "ugwvlN7kffT_",
        "colab_type": "code",
        "colab": {
          "base_uri": "https://localhost:8080/",
          "height": 187
        },
        "outputId": "a63091c5-dac3-4b2a-b6f9-5e1511d28541"
      },
      "source": [
        "bayes_ridge = linear_model.BayesianRidge()\n",
        "alpha_1=[np.exp(-6),np.exp(-5),np.exp(-4)]\n",
        "alpha_2=[np.exp(-6),np.exp(-5),np.exp(-4)]\n",
        "lambda_1=[np.exp(-6),np.exp(-5),np.exp(-4)]\n",
        "lambda_2=[np.exp(-6),np.exp(-5),np.exp(-4)]\n",
        "alpha_init=None\n",
        "lambda_init=None\n",
        "compute_score=[False,True]\n",
        "fit_intercept=[False,True]\n",
        "normalize=[False,True]\n",
        " \n",
        "param_grid = dict(alpha_1=alpha_1,\n",
        "                  alpha_2=alpha_2,lambda_1=lambda_1,lambda_2=lambda_2)\n",
        " \n",
        "grids = GridSearchCV(estimator=bayes_ridge, param_grid=param_grid, verbose=1, n_jobs=-1,cv=10)\n",
        "grids.fit(X_train, y_train)\n",
        "\n",
        "BestBRG=grids.best_estimator_\n",
        "print(\"\\nGrid Search Best Score: \",BestBRG.score(X_test, y_test))\n",
        "\n",
        "Random = RandomizedSearchCV(estimator=bayes_ridge, param_distributions=param_grid, verbose=1, n_jobs=-1,cv=10)\n",
        "Random.fit(X_train, y_train)\n",
        "\n",
        "\n",
        "BestBRR=Random.best_estimator_\n",
        "print(\"\\Random Search Best Score: \",BestBRR.score(X_test, y_test))"
      ],
      "execution_count": 48,
      "outputs": [
        {
          "output_type": "stream",
          "text": [
            "[Parallel(n_jobs=-1)]: Using backend LokyBackend with 2 concurrent workers.\n"
          ],
          "name": "stderr"
        },
        {
          "output_type": "stream",
          "text": [
            "Fitting 10 folds for each of 81 candidates, totalling 810 fits\n"
          ],
          "name": "stdout"
        },
        {
          "output_type": "stream",
          "text": [
            "[Parallel(n_jobs=-1)]: Done 776 tasks      | elapsed:    3.5s\n",
            "[Parallel(n_jobs=-1)]: Done 810 out of 810 | elapsed:    3.7s finished\n",
            "[Parallel(n_jobs=-1)]: Using backend LokyBackend with 2 concurrent workers.\n"
          ],
          "name": "stderr"
        },
        {
          "output_type": "stream",
          "text": [
            "\n",
            "Grid Search Best Score:  0.9903488758814121\n",
            "Fitting 10 folds for each of 10 candidates, totalling 100 fits\n",
            "\\Random Search Best Score:  0.9903488759199582\n"
          ],
          "name": "stdout"
        },
        {
          "output_type": "stream",
          "text": [
            "[Parallel(n_jobs=-1)]: Done 100 out of 100 | elapsed:    0.5s finished\n"
          ],
          "name": "stderr"
        }
      ]
    },
    {
      "cell_type": "code",
      "metadata": {
        "colab_type": "code",
        "id": "FRcANi5Kvc_t",
        "colab": {}
      },
      "source": [
        "#As Random Search had higher value than Random Search\n",
        "y_test_pred = BestBRR.predict(X_test)"
      ],
      "execution_count": 49,
      "outputs": []
    },
    {
      "cell_type": "code",
      "metadata": {
        "colab_type": "code",
        "id": "1mMDmx7_vc_w",
        "colab": {
          "base_uri": "https://localhost:8080/",
          "height": 102
        },
        "outputId": "9b8e1838-3903-4c64-a973-68870c216e50"
      },
      "source": [
        "import sklearn.metrics as sm\n",
        "print(\"Mean absolute error =\", round(sm.mean_absolute_error(y_test, y_test_pred), 2)) \n",
        "print(\"Mean squared error =\", round(sm.mean_squared_error(y_test, y_test_pred), 2)) \n",
        "print(\"Median absolute error =\", round(sm.median_absolute_error(y_test, y_test_pred), 2)) \n",
        "print(\"Explain variance score =\", round(sm.explained_variance_score(y_test, y_test_pred), 2)) \n",
        "print(\"R2 score =\", round(BestBRR.score(X_test, y_test), 7))"
      ],
      "execution_count": 50,
      "outputs": [
        {
          "output_type": "stream",
          "text": [
            "Mean absolute error = 3.55\n",
            "Mean squared error = 44.69\n",
            "Median absolute error = 1.84\n",
            "Explain variance score = 0.99\n",
            "R2 score = 0.9903489\n"
          ],
          "name": "stdout"
        }
      ]
    },
    {
      "cell_type": "markdown",
      "metadata": {
        "id": "FeTNPxsGwGYy",
        "colab_type": "text"
      },
      "source": [
        "###**R^2: 0.9903489**"
      ]
    },
    {
      "cell_type": "markdown",
      "metadata": {
        "id": "X6o9KYRu4E1t",
        "colab_type": "text"
      },
      "source": [
        "##**SGD REGRESSOR**"
      ]
    },
    {
      "cell_type": "code",
      "metadata": {
        "id": "8oOJqsF14Ijx",
        "colab_type": "code",
        "colab": {
          "base_uri": "https://localhost:8080/",
          "height": 54
        },
        "outputId": "6fa117b5-43b6-4552-aae0-b3a6385259cf"
      },
      "source": [
        "from sklearn.linear_model import SGDRegressor\n",
        "from sklearn.metrics import r2_score\n",
        "import sklearn.metrics\n",
        "sklearn.metrics.SCORERS.keys()"
      ],
      "execution_count": 51,
      "outputs": [
        {
          "output_type": "execute_result",
          "data": {
            "text/plain": [
              "dict_keys(['explained_variance', 'r2', 'max_error', 'neg_median_absolute_error', 'neg_mean_absolute_error', 'neg_mean_squared_error', 'neg_mean_squared_log_error', 'neg_root_mean_squared_error', 'neg_mean_poisson_deviance', 'neg_mean_gamma_deviance', 'accuracy', 'roc_auc', 'roc_auc_ovr', 'roc_auc_ovo', 'roc_auc_ovr_weighted', 'roc_auc_ovo_weighted', 'balanced_accuracy', 'average_precision', 'neg_log_loss', 'neg_brier_score', 'adjusted_rand_score', 'homogeneity_score', 'completeness_score', 'v_measure_score', 'mutual_info_score', 'adjusted_mutual_info_score', 'normalized_mutual_info_score', 'fowlkes_mallows_score', 'precision', 'precision_macro', 'precision_micro', 'precision_samples', 'precision_weighted', 'recall', 'recall_macro', 'recall_micro', 'recall_samples', 'recall_weighted', 'f1', 'f1_macro', 'f1_micro', 'f1_samples', 'f1_weighted', 'jaccard', 'jaccard_macro', 'jaccard_micro', 'jaccard_samples', 'jaccard_weighted'])"
            ]
          },
          "metadata": {
            "tags": []
          },
          "execution_count": 51
        }
      ]
    },
    {
      "cell_type": "code",
      "metadata": {
        "id": "3TZ7tPPJCFKc",
        "colab_type": "code",
        "colab": {
          "base_uri": "https://localhost:8080/",
          "height": 187
        },
        "outputId": "1e0770bd-dfeb-42b6-bbd9-b0eff352088a"
      },
      "source": [
        "alpha = [0.001,0.1,0.5, 1]\n",
        "penalty=['l2', 'l1', 'elasticnet']\n",
        "fit_intercept=[True,False]\n",
        "\n",
        "param_grid = dict(alpha=alpha,\n",
        "                  penalty=penalty,max_iter=[10000],\n",
        "                  fit_intercept=fit_intercept)\n",
        "\n",
        "#Specifying the value of the cv attribute will trigger the use of cross-validation with GridSearchCV, \n",
        "#for example cv=10 for 10-fold cross-validation, rather than Generalized Cross-Validation.\n",
        "Grid1 = GridSearchCV(estimator=sgd, param_grid=param_grid, verbose=1, n_jobs=-1,cv=5,scoring=\"r2\")\n",
        "Grid1.fit(X_train,y_train)\n",
        "\n",
        "BestSGDG=Grid1.best_estimator_\n",
        "print(\"\\nGrid Search Best Score: \",BestSGDG.score(X_test, y_test))\n",
        "\n",
        "Random = RandomizedSearchCV(estimator=sgd, param_distributions=param_grid, verbose=1, n_jobs=-1,cv=5)\n",
        "Random.fit(X_train, y_train)\n",
        "\n",
        "\n",
        "BestSGDR=Random.best_estimator_\n",
        "print(\"\\Random Search Best Score: \",BestSGDR.score(X_test, y_test))"
      ],
      "execution_count": 52,
      "outputs": [
        {
          "output_type": "stream",
          "text": [
            "[Parallel(n_jobs=-1)]: Using backend LokyBackend with 2 concurrent workers.\n"
          ],
          "name": "stderr"
        },
        {
          "output_type": "stream",
          "text": [
            "Fitting 5 folds for each of 24 candidates, totalling 120 fits\n"
          ],
          "name": "stdout"
        },
        {
          "output_type": "stream",
          "text": [
            "[Parallel(n_jobs=-1)]: Done  46 tasks      | elapsed:   10.0s\n",
            "[Parallel(n_jobs=-1)]: Done 120 out of 120 | elapsed:   15.0s finished\n"
          ],
          "name": "stderr"
        },
        {
          "output_type": "stream",
          "text": [
            "\n",
            "Grid Search Best Score:  0.9895741841883127\n",
            "Fitting 5 folds for each of 10 candidates, totalling 50 fits\n"
          ],
          "name": "stdout"
        },
        {
          "output_type": "stream",
          "text": [
            "[Parallel(n_jobs=-1)]: Using backend LokyBackend with 2 concurrent workers.\n",
            "[Parallel(n_jobs=-1)]: Done  50 out of  50 | elapsed:    4.0s finished\n"
          ],
          "name": "stderr"
        },
        {
          "output_type": "stream",
          "text": [
            "\\Random Search Best Score:  0.9883583669448133\n"
          ],
          "name": "stdout"
        }
      ]
    },
    {
      "cell_type": "code",
      "metadata": {
        "colab_type": "code",
        "id": "oAv4fDTLG_Il",
        "colab": {}
      },
      "source": [
        "#As Grid Search has higher score lets take it\n",
        "y_test_pred = BestSGDG.predict(X_test)"
      ],
      "execution_count": 53,
      "outputs": []
    },
    {
      "cell_type": "code",
      "metadata": {
        "id": "CnZSvZ0S47Fd",
        "colab_type": "code",
        "colab": {
          "base_uri": "https://localhost:8080/",
          "height": 295
        },
        "outputId": "fe2bc115-a1c6-4acc-b0cc-8ae5b6eb90ba"
      },
      "source": [
        "plt.scatter(y_test,y_test_pred)\n",
        "plt.grid()\n",
        "plt.xlabel('Actual y')\n",
        "plt.ylabel('Predicted y')\n",
        "plt.title('Scatter plot from actual y and predicted y')\n",
        "plt.show()"
      ],
      "execution_count": 54,
      "outputs": [
        {
          "output_type": "display_data",
          "data": {
            "image/png": "[encoded data removed]",
            "text/plain": [
              "<Figure size 432x288 with 1 Axes>"
            ]
          },
          "metadata": {
            "tags": [],
            "needs_background": "light"
          }
        }
      ]
    },
    {
      "cell_type": "code",
      "metadata": {
        "colab_type": "code",
        "id": "D2v_5PdK5maU",
        "colab": {
          "base_uri": "https://localhost:8080/",
          "height": 102
        },
        "outputId": "d23b260d-0fb2-443c-bfce-15913170f122"
      },
      "source": [
        "import sklearn.metrics as sm\n",
        "print(\"Mean absolute error =\", round(sm.mean_absolute_error(y_test, y_test_pred), 2)) \n",
        "print(\"Mean squared error =\", round(sm.mean_squared_error(y_test, y_test_pred), 2)) \n",
        "print(\"Median absolute error =\", round(sm.median_absolute_error(y_test, y_test_pred), 2)) \n",
        "print(\"Explain variance score =\", round(sm.explained_variance_score(y_test, y_test_pred), 2)) \n",
        "print(\"R2 score =\", round(BestSGDG.score(X_test, y_test), 7))"
      ],
      "execution_count": 55,
      "outputs": [
        {
          "output_type": "stream",
          "text": [
            "Mean absolute error = 4.17\n",
            "Mean squared error = 48.28\n",
            "Median absolute error = 2.62\n",
            "Explain variance score = 0.99\n",
            "R2 score = 0.9895742\n"
          ],
          "name": "stdout"
        }
      ]
    },
    {
      "cell_type": "markdown",
      "metadata": {
        "id": "DJv08Ts36qSs",
        "colab_type": "text"
      },
      "source": [
        "###**R^2: 0.9895586**"
      ]
    },
    {
      "cell_type": "markdown",
      "metadata": {
        "id": "J6aN5--bAfl4",
        "colab_type": "text"
      },
      "source": [
        "##**Elastic Net**"
      ]
    },
    {
      "cell_type": "code",
      "metadata": {
        "id": "yIzwoesFB6xy",
        "colab_type": "code",
        "colab": {
          "base_uri": "https://localhost:8080/",
          "height": 187
        },
        "outputId": "62754389-2b5e-46d9-e293-d25f91fbcb8e"
      },
      "source": [
        "from sklearn.linear_model import ElasticNet,ElasticNetCV\n",
        "alphas = [0.0001, 0.001, 0.01, 0.1, 0.3, 0.5, 0.7, 1]\n",
        "l1_ratio=[0,0.25,0.5,0.75,1]\n",
        "\n",
        "param_grid = dict(alpha=alphas,max_iter=[10000],l1_ratio=l1_ratio)\n",
        "\n",
        "#Specifying the value of the cv attribute will trigger the use of cross-validation with GridSearchCV, \n",
        "#for example cv=10 for 10-fold cross-validation, rather than Generalized Cross-Validation.\n",
        "Grid3 = GridSearchCV(estimator=elastic, param_grid=param_grid, verbose=1, n_jobs=-1,cv=10,scoring=\"r2\")\n",
        "Grid3.fit(X_train,y_train)\n",
        "\n",
        "BestENG=Grid3.best_estimator_\n",
        "print(\"\\nGrid Search Best Score: \",BestENG.score(X_test, y_test))\n",
        "\n",
        "Random = RandomizedSearchCV(estimator=elastic, param_distributions=param_grid, verbose=1, n_jobs=-1,cv=5)\n",
        "Random.fit(X_train, y_train)\n",
        "\n",
        "BestENR=Random.best_estimator_\n",
        "print(\"\\Random Search Best Score: \",BestENR.score(X_test, y_test))"
      ],
      "execution_count": 56,
      "outputs": [
        {
          "output_type": "stream",
          "text": [
            "Fitting 10 folds for each of 40 candidates, totalling 400 fits\n"
          ],
          "name": "stdout"
        },
        {
          "output_type": "stream",
          "text": [
            "[Parallel(n_jobs=-1)]: Using backend LokyBackend with 2 concurrent workers.\n",
            "[Parallel(n_jobs=-1)]: Done 136 tasks      | elapsed:    3.1s\n",
            "[Parallel(n_jobs=-1)]: Done 400 out of 400 | elapsed:    6.0s finished\n",
            "[Parallel(n_jobs=-1)]: Using backend LokyBackend with 2 concurrent workers.\n"
          ],
          "name": "stderr"
        },
        {
          "output_type": "stream",
          "text": [
            "\n",
            "Grid Search Best Score:  0.9903448364462129\n",
            "Fitting 5 folds for each of 10 candidates, totalling 50 fits\n",
            "\\Random Search Best Score:  0.9903448364462129\n"
          ],
          "name": "stdout"
        },
        {
          "output_type": "stream",
          "text": [
            "[Parallel(n_jobs=-1)]: Done  50 out of  50 | elapsed:    1.0s finished\n"
          ],
          "name": "stderr"
        }
      ]
    },
    {
      "cell_type": "code",
      "metadata": {
        "colab_type": "code",
        "id": "YORjg0P0QxtQ",
        "colab": {}
      },
      "source": [
        "#as value of grid is better so using grid searchBestEN=Grid3.best_estimator_\n",
        "y_test_pred = BestENG.predict(X_test)"
      ],
      "execution_count": 57,
      "outputs": []
    },
    {
      "cell_type": "code",
      "metadata": {
        "colab_type": "code",
        "id": "fazcqxOPROD4",
        "colab": {
          "base_uri": "https://localhost:8080/",
          "height": 102
        },
        "outputId": "24d1b2a3-651d-4c40-f412-181cf11c8581"
      },
      "source": [
        "import sklearn.metrics as sm\n",
        "print(\"Mean absolute error =\", round(sm.mean_absolute_error(y_test, y_test_pred), 2)) \n",
        "print(\"Mean squared error =\", round(sm.mean_squared_error(y_test, y_test_pred), 2)) \n",
        "print(\"Median absolute error =\", round(sm.median_absolute_error(y_test, y_test_pred), 2)) \n",
        "print(\"Explain variance score =\", round(sm.explained_variance_score(y_test, y_test_pred), 2)) \n",
        "print(\"R2 score =\", round(BestENG.score(X_test, y_test), 7))#The Model Name"
      ],
      "execution_count": 58,
      "outputs": [
        {
          "output_type": "stream",
          "text": [
            "Mean absolute error = 3.55\n",
            "Mean squared error = 44.71\n",
            "Median absolute error = 1.85\n",
            "Explain variance score = 0.99\n",
            "R2 score = 0.9903448\n"
          ],
          "name": "stdout"
        }
      ]
    },
    {
      "cell_type": "markdown",
      "metadata": {
        "id": "O4DdpG1sEtTe",
        "colab_type": "text"
      },
      "source": [
        "###**R^2: 0.9903448**"
      ]
    },
    {
      "cell_type": "markdown",
      "metadata": {
        "id": "fVk0O3m6E4lH",
        "colab_type": "text"
      },
      "source": [
        "###Checking changes of R2 & other parameters according to alpha"
      ]
    },
    {
      "cell_type": "code",
      "metadata": {
        "id": "ZKzeUKhwBHHY",
        "colab_type": "code",
        "colab": {
          "base_uri": "https://localhost:8080/",
          "height": 207
        },
        "outputId": "db607389-7307-475e-f26b-964baae4c9bd"
      },
      "source": [
        "for a in alphas:\n",
        "    model = ElasticNet(alpha=a).fit(X_train,y_train)   \n",
        "    score = model.score(X_test, y_test)\n",
        "    pred_y = model.predict(X_test)\n",
        "    mse = mean_squared_error(y_test, pred_y)   \n",
        "    print(\"Alpha:{0:.4f}, R2:{1:.2f}, MSE:{2:.2f}, RMSE:{3:.2f}\".format(a, score, mse, np.sqrt(mse)))"
      ],
      "execution_count": 59,
      "outputs": [
        {
          "output_type": "stream",
          "text": [
            "Alpha:0.0001, R2:0.99, MSE:45.45, RMSE:6.74\n",
            "Alpha:0.0010, R2:0.99, MSE:59.19, RMSE:7.69\n",
            "Alpha:0.0100, R2:0.94, MSE:275.84, RMSE:16.61\n",
            "Alpha:0.1000, R2:0.66, MSE:1562.62, RMSE:39.53\n",
            "Alpha:0.3000, R2:0.40, MSE:2785.18, RMSE:52.77\n",
            "Alpha:0.5000, R2:0.29, MSE:3294.90, RMSE:57.40\n",
            "Alpha:0.7000, R2:0.23, MSE:3579.09, RMSE:59.83\n",
            "Alpha:1.0000, R2:0.17, MSE:3832.89, RMSE:61.91\n"
          ],
          "name": "stdout"
        },
        {
          "output_type": "stream",
          "text": [
            "/usr/local/lib/python3.6/dist-packages/sklearn/linear_model/_coordinate_descent.py:476: ConvergenceWarning: Objective did not converge. You might want to increase the number of iterations. Duality gap: 20970.99877815401, tolerance: 328.96459695193437\n",
            "  positive)\n"
          ],
          "name": "stderr"
        }
      ]
    },
    {
      "cell_type": "code",
      "metadata": {
        "id": "_THqPJf7BiR1",
        "colab_type": "code",
        "colab": {
          "base_uri": "https://localhost:8080/",
          "height": 275
        },
        "outputId": "32238d60-8979-4c69-c39e-7d538c49cf32"
      },
      "source": [
        "#Using CV for validating the results but in Grid Search already applied Cv so no need of this method actually \n",
        "elastic_cv=ElasticNetCV(alphas=alphas, cv=5)\n",
        "elastic_cv.fit(X_train, y_train)\n",
        "print(elastic_cv.alpha_)\n",
        "print(elastic_cv.intercept_)"
      ],
      "execution_count": 60,
      "outputs": [
        {
          "output_type": "stream",
          "text": [
            "0.0001\n",
            "105.18646040830703\n"
          ],
          "name": "stdout"
        },
        {
          "output_type": "stream",
          "text": [
            "/usr/local/lib/python3.6/dist-packages/sklearn/linear_model/_coordinate_descent.py:472: ConvergenceWarning: Objective did not converge. You might want to increase the number of iterations. Duality gap: 8753.049587067835, tolerance: 265.33791085043987\n",
            "  tol, rng, random, positive)\n",
            "/usr/local/lib/python3.6/dist-packages/sklearn/linear_model/_coordinate_descent.py:472: ConvergenceWarning: Objective did not converge. You might want to increase the number of iterations. Duality gap: 7075.889641729801, tolerance: 260.7308897360703\n",
            "  tol, rng, random, positive)\n",
            "/usr/local/lib/python3.6/dist-packages/sklearn/linear_model/_coordinate_descent.py:472: ConvergenceWarning: Objective did not converge. You might want to increase the number of iterations. Duality gap: 8166.386977725228, tolerance: 260.94778181818197\n",
            "  tol, rng, random, positive)\n",
            "/usr/local/lib/python3.6/dist-packages/sklearn/linear_model/_coordinate_descent.py:472: ConvergenceWarning: Objective did not converge. You might want to increase the number of iterations. Duality gap: 8422.982042735584, tolerance: 271.1134916544655\n",
            "  tol, rng, random, positive)\n",
            "/usr/local/lib/python3.6/dist-packages/sklearn/linear_model/_coordinate_descent.py:472: ConvergenceWarning: Objective did not converge. You might want to increase the number of iterations. Duality gap: 7357.345291231975, tolerance: 256.8509560761346\n",
            "  tol, rng, random, positive)\n",
            "/usr/local/lib/python3.6/dist-packages/sklearn/linear_model/_coordinate_descent.py:476: ConvergenceWarning: Objective did not converge. You might want to increase the number of iterations. Duality gap: 20970.99877815401, tolerance: 328.96459695193437\n",
            "  positive)\n"
          ],
          "name": "stderr"
        }
      ]
    },
    {
      "cell_type": "code",
      "metadata": {
        "id": "aOf0vskMCGyV",
        "colab_type": "code",
        "colab": {
          "base_uri": "https://localhost:8080/",
          "height": 34
        },
        "outputId": "cb73c868-f9d3-407f-a91c-e620e95bce8a"
      },
      "source": [
        "ypred = elastic_cv.predict(X_test)\n",
        "score = elastic_cv.score(X_test, y_test)\n",
        "mse = mean_squared_error(y_test, ypred)\n",
        "print(\"R2:{0:.7f}, MSE:{1:.2f}, RMSE:{2:.2f}\"\n",
        "      .format(score, mse, np.sqrt(mse)))\n",
        " "
      ],
      "execution_count": 61,
      "outputs": [
        {
          "output_type": "stream",
          "text": [
            "R2:0.9901849, MSE:45.45, RMSE:6.74\n"
          ],
          "name": "stdout"
        }
      ]
    },
    {
      "cell_type": "markdown",
      "metadata": {
        "id": "q_KLQQSb50EA",
        "colab_type": "text"
      },
      "source": [
        "#**IRIS DATASET**\n"
      ]
    },
    {
      "cell_type": "code",
      "metadata": {
        "id": "O_2LogkQ5kCr",
        "colab_type": "code",
        "colab": {}
      },
      "source": [
        "import pandas as pd\n",
        "from keras.models import Sequential\n",
        "from keras.layers import Dense\n",
        "from keras.wrappers.scikit_learn import KerasClassifier\n",
        "from keras.utils import np_utils\n",
        "from sklearn.model_selection import cross_val_score\n",
        "from sklearn.model_selection import KFold\n",
        "from sklearn.preprocessing import LabelEncoder\n",
        "from sklearn.pipeline import Pipeline\n",
        "from sklearn.datasets import load_iris\n",
        "from sklearn.model_selection import train_test_split\n",
        "from sklearn.preprocessing import OneHotEncoder\n",
        "from keras.optimizers import Adam\n",
        " \n",
        "iris = load_iris()\n",
        "X=iris.data\n",
        "Y=iris.target"
      ],
      "execution_count": 62,
      "outputs": []
    },
    {
      "cell_type": "code",
      "metadata": {
        "id": "6AYAjDKqBN2S",
        "colab_type": "code",
        "colab": {}
      },
      "source": [
        "X=pd.DataFrame(X)"
      ],
      "execution_count": 63,
      "outputs": []
    },
    {
      "cell_type": "code",
      "metadata": {
        "id": "0jqQbcb6BjrH",
        "colab_type": "code",
        "colab": {
          "base_uri": "https://localhost:8080/",
          "height": 204
        },
        "outputId": "cc4e841a-c858-40c2-d76c-c7fc73a24f06"
      },
      "source": [
        "X.head()"
      ],
      "execution_count": 64,
      "outputs": [
        {
          "output_type": "execute_result",
          "data": {
            "text/html": [
              "<div>\n",
              "<style scoped>\n",
              "    .dataframe tbody tr th:only-of-type {\n",
              "        vertical-align: middle;\n",
              "    }\n",
              "\n",
              "    .dataframe tbody tr th {\n",
              "        vertical-align: top;\n",
              "    }\n",
              "\n",
              "    .dataframe thead th {\n",
              "        text-align: right;\n",
              "    }\n",
              "</style>\n",
              "<table border=\"1\" class=\"dataframe\">\n",
              "  <thead>\n",
              "    <tr style=\"text-align: right;\">\n",
              "      <th></th>\n",
              "      <th>0</th>\n",
              "      <th>1</th>\n",
              "      <th>2</th>\n",
              "      <th>3</th>\n",
              "    </tr>\n",
              "  </thead>\n",
              "  <tbody>\n",
              "    <tr>\n",
              "      <th>0</th>\n",
              "      <td>5.1</td>\n",
              "      <td>3.5</td>\n",
              "      <td>1.4</td>\n",
              "      <td>0.2</td>\n",
              "    </tr>\n",
              "    <tr>\n",
              "      <th>1</th>\n",
              "      <td>4.9</td>\n",
              "      <td>3.0</td>\n",
              "      <td>1.4</td>\n",
              "      <td>0.2</td>\n",
              "    </tr>\n",
              "    <tr>\n",
              "      <th>2</th>\n",
              "      <td>4.7</td>\n",
              "      <td>3.2</td>\n",
              "      <td>1.3</td>\n",
              "      <td>0.2</td>\n",
              "    </tr>\n",
              "    <tr>\n",
              "      <th>3</th>\n",
              "      <td>4.6</td>\n",
              "      <td>3.1</td>\n",
              "      <td>1.5</td>\n",
              "      <td>0.2</td>\n",
              "    </tr>\n",
              "    <tr>\n",
              "      <th>4</th>\n",
              "      <td>5.0</td>\n",
              "      <td>3.6</td>\n",
              "      <td>1.4</td>\n",
              "      <td>0.2</td>\n",
              "    </tr>\n",
              "  </tbody>\n",
              "</table>\n",
              "</div>"
            ],
            "text/plain": [
              "     0    1    2    3\n",
              "0  5.1  3.5  1.4  0.2\n",
              "1  4.9  3.0  1.4  0.2\n",
              "2  4.7  3.2  1.3  0.2\n",
              "3  4.6  3.1  1.5  0.2\n",
              "4  5.0  3.6  1.4  0.2"
            ]
          },
          "metadata": {
            "tags": []
          },
          "execution_count": 64
        }
      ]
    },
    {
      "cell_type": "code",
      "metadata": {
        "id": "QN9iz8ElB2JB",
        "colab_type": "code",
        "colab": {}
      },
      "source": [
        "from sklearn import preprocessing\n",
        "X_scaled = preprocessing.scale(X)"
      ],
      "execution_count": 65,
      "outputs": []
    },
    {
      "cell_type": "code",
      "metadata": {
        "colab_type": "code",
        "id": "XoZGsuIjjSU9",
        "colab": {}
      },
      "source": [
        "seed = 8\n",
        "test_size = 0.2\n",
        "X_train, X_test, y_train, y_test = train_test_split(X_scaled, Y, test_size=test_size, random_state=seed)"
      ],
      "execution_count": 66,
      "outputs": []
    },
    {
      "cell_type": "code",
      "metadata": {
        "colab_type": "code",
        "id": "TZ9RiwcFjSVE",
        "colab": {}
      },
      "source": [
        "logistic = linear_model.LogisticRegression(solver='liblinear')#liblinear: Optimizer like  Gradient dissent\n",
        "#CV Mean:  0.875\n",
        "#STD:  0.03535533905932741\n",
        "\n",
        "sgd = linear_model.SGDClassifier()\n",
        "#CV Mean:  0.8916666666666666\n",
        "#STD:  0.023570226039551608\n",
        "\n",
        "ridge = linear_model.RidgeClassifier()\n",
        "\n",
        "models = [logistic, sgd,ridge]"
      ],
      "execution_count": 93,
      "outputs": []
    },
    {
      "cell_type": "code",
      "metadata": {
        "colab_type": "code",
        "id": "Rc_zjAKgjSVJ",
        "colab": {}
      },
      "source": [
        "def get_cv_scores(model):\n",
        "    scores = cross_val_score(model, X_train, y_train, cv=3, scoring='accuracy')\n",
        "    print('CV Mean: ', np.mean(scores))\n",
        "    print('STD: ', np.std(scores))\n",
        "    print('\\n')"
      ],
      "execution_count": 94,
      "outputs": []
    },
    {
      "cell_type": "code",
      "metadata": {
        "id": "AEOiE9dYDyjN",
        "colab_type": "code",
        "colab": {
          "base_uri": "https://localhost:8080/",
          "height": 459
        },
        "outputId": "7fcf6c00-3b38-49e2-c93b-483c6190f228"
      },
      "source": [
        "# loop through list of models\n",
        "for model in models:\n",
        "    print(model)\n",
        "    get_cv_scores(model)"
      ],
      "execution_count": 95,
      "outputs": [
        {
          "output_type": "stream",
          "text": [
            "LogisticRegression(C=1.0, class_weight=None, dual=False, fit_intercept=True,\n",
            "                   intercept_scaling=1, l1_ratio=None, max_iter=100,\n",
            "                   multi_class='auto', n_jobs=None, penalty='l2',\n",
            "                   random_state=None, solver='liblinear', tol=0.0001, verbose=0,\n",
            "                   warm_start=False)\n",
            "CV Mean:  0.875\n",
            "STD:  0.03535533905932741\n",
            "\n",
            "\n",
            "SGDClassifier(alpha=0.0001, average=False, class_weight=None,\n",
            "              early_stopping=False, epsilon=0.1, eta0=0.0, fit_intercept=True,\n",
            "              l1_ratio=0.15, learning_rate='optimal', loss='hinge',\n",
            "              max_iter=1000, n_iter_no_change=5, n_jobs=None, penalty='l2',\n",
            "              power_t=0.5, random_state=None, shuffle=True, tol=0.001,\n",
            "              validation_fraction=0.1, verbose=0, warm_start=False)\n",
            "CV Mean:  0.8583333333333334\n",
            "STD:  0.08249579113843052\n",
            "\n",
            "\n",
            "RidgeClassifier(alpha=1.0, class_weight=None, copy_X=True, fit_intercept=True,\n",
            "                max_iter=None, normalize=False, random_state=None,\n",
            "                solver='auto', tol=0.001)\n",
            "CV Mean:  0.8583333333333334\n",
            "STD:  0.05892556509887896\n",
            "\n",
            "\n"
          ],
          "name": "stdout"
        }
      ]
    },
    {
      "cell_type": "markdown",
      "metadata": {
        "id": "dBDoxplSDFZn",
        "colab_type": "text"
      },
      "source": [
        "##As SGD mean is higher then Logistic Mean &  SGD SD is Lesser than Logistics SD.Hence we choose SGD for Final Modelling"
      ]
    },
    {
      "cell_type": "code",
      "metadata": {
        "id": "Op89hBSvERMb",
        "colab_type": "code",
        "colab": {
          "base_uri": "https://localhost:8080/",
          "height": 241
        },
        "outputId": "38493228-18c8-4469-f757-a1c4f922cd0f"
      },
      "source": [
        "loss = ['hinge', 'log']\n",
        "penalty = ['l1', 'l2']\n",
        "alpha = [0.0001, 0.001]\n",
        "learning_rate = ['constant', 'optimal']\n",
        "class_weight = [{1:0.5, 0:0.5}, {1:0.4, 0:0.6}]\n",
        "eta0 = [1, 10]\n",
        "\n",
        "param = dict(loss=loss,\n",
        "                           penalty=penalty,\n",
        "                           alpha=alpha,\n",
        "                           learning_rate=learning_rate,\n",
        "                           class_weight=class_weight,\n",
        "                           eta0=eta0)\n",
        "\n",
        "Grid = GridSearchCV(estimator=sgd, param_grid=param, verbose=1, n_jobs=-1,cv=10,scoring='accuracy')\n",
        "Grid.fit(X_train, y_train)\n",
        "print(\"\\nGrid Search Best Score: \",Grid.best_score_)\n",
        "\n",
        "random = RandomizedSearchCV(estimator=sgd, param_distributions=param, scoring='accuracy', verbose=1, n_jobs=-1, n_iter=1000)\n",
        "random.fit(X_train, y_train)\n",
        "print('\\nBest Score  of Random : ', random.best_score_)"
      ],
      "execution_count": 81,
      "outputs": [
        {
          "output_type": "stream",
          "text": [
            "Fitting 10 folds for each of 64 candidates, totalling 640 fits\n"
          ],
          "name": "stdout"
        },
        {
          "output_type": "stream",
          "text": [
            "[Parallel(n_jobs=-1)]: Using backend LokyBackend with 2 concurrent workers.\n",
            "[Parallel(n_jobs=-1)]: Done 640 out of 640 | elapsed:    1.9s finished\n",
            "/usr/local/lib/python3.6/dist-packages/sklearn/model_selection/_search.py:281: UserWarning: The total space of parameters 64 is smaller than n_iter=1000. Running 64 iterations. For exhaustive searches, use GridSearchCV.\n",
            "  % (grid_size, self.n_iter, grid_size), UserWarning)\n",
            "[Parallel(n_jobs=-1)]: Using backend LokyBackend with 2 concurrent workers.\n"
          ],
          "name": "stderr"
        },
        {
          "output_type": "stream",
          "text": [
            "\n",
            "Grid Search Best Score:  0.9583333333333333\n",
            "Fitting 5 folds for each of 64 candidates, totalling 320 fits\n",
            "\n",
            "Best Score  of Random :  0.9583333333333334\n"
          ],
          "name": "stdout"
        },
        {
          "output_type": "stream",
          "text": [
            "[Parallel(n_jobs=-1)]: Done 320 out of 320 | elapsed:    0.9s finished\n"
          ],
          "name": "stderr"
        }
      ]
    },
    {
      "cell_type": "code",
      "metadata": {
        "id": "iWgtpx1qIDMn",
        "colab_type": "code",
        "colab": {
          "base_uri": "https://localhost:8080/",
          "height": 119
        },
        "outputId": "645f521c-f53d-4341-c941-4f3ddcf40295"
      },
      "source": [
        "#Since both have same score so choose any ...chossing random\n",
        "BestModel=random.best_estimator_\n",
        "print(BestModel)"
      ],
      "execution_count": 82,
      "outputs": [
        {
          "output_type": "stream",
          "text": [
            "SGDClassifier(alpha=0.001, average=False, class_weight={0: 0.5, 1: 0.5},\n",
            "              early_stopping=False, epsilon=0.1, eta0=1, fit_intercept=True,\n",
            "              l1_ratio=0.15, learning_rate='optimal', loss='hinge',\n",
            "              max_iter=1000, n_iter_no_change=5, n_jobs=None, penalty='l1',\n",
            "              power_t=0.5, random_state=None, shuffle=True, tol=0.001,\n",
            "              validation_fraction=0.1, verbose=0, warm_start=False)\n"
          ],
          "name": "stdout"
        }
      ]
    },
    {
      "cell_type": "code",
      "metadata": {
        "trusted": true,
        "_uuid": "b6431fcc35280c4863804af277cee785dd7b046d",
        "id": "-_1TIg-_pEN_",
        "colab_type": "code",
        "colab": {
          "base_uri": "https://localhost:8080/",
          "height": 51
        },
        "outputId": "68e04de8-fc92-44fb-b5e3-b50e55626d1a"
      },
      "source": [
        "from sklearn.metrics import accuracy_score\n",
        "\n",
        "BestModel.fit(X_train, y_train)\n",
        "\n",
        "y_train_pred = BestModel.predict(X_train)\n",
        "\n",
        "accuracy_train = accuracy_score(y_train, y_train_pred)\n",
        "print(\"Accuracy of Train: %.2f%%\" % (accuracy_train))\n",
        "\n",
        "\n",
        "y_test_pred = BestModel.predict(X_test)\n",
        "accuracy_test = accuracy_score(y_test, y_test_pred)\n",
        "print(\"Accuracy of Test : %.2f%%\" % (accuracy_test))"
      ],
      "execution_count": 84,
      "outputs": [
        {
          "output_type": "stream",
          "text": [
            "Accuracy of Train: 0.97%\n",
            "Accuracy of Test : 0.93%\n"
          ],
          "name": "stdout"
        }
      ]
    },
    {
      "cell_type": "markdown",
      "metadata": {
        "id": "MMQcr4GmFZBB",
        "colab_type": "text"
      },
      "source": [
        "###Training Accuracy: 97%\n",
        "###Testing Accuracy: 93%\n",
        "\n",
        "###Now as there is not much difference between Train & Testing accuracy.So the trainign Model perfectly fits the Testing Model. "
      ]
    },
    {
      "cell_type": "markdown",
      "metadata": {
        "id": "gcXLpPuDGcK1",
        "colab_type": "text"
      },
      "source": [
        "###**Logistic is done below  only to prove that SGD is best by comparing the results**"
      ]
    },
    {
      "cell_type": "code",
      "metadata": {
        "trusted": true,
        "_uuid": "7edd0173203e4d9475ffb799a91497431dbe9844",
        "id": "g-Jh_OAWpENm",
        "colab_type": "code",
        "colab": {
          "base_uri": "https://localhost:8080/",
          "height": 241
        },
        "outputId": "b60d64e1-a91b-4122-aaeb-a61a8e954124"
      },
      "source": [
        "#class sklearn.model_selection.GridSearchCV(estimator, param_grid, *, scoring=None, n_jobs=None, \n",
        "#iid='deprecated', refit=True, cv=None, verbose=0, pre_dispatch='2*n_jobs', error_score=nan, return_train_score=False)\n",
        "\n",
        "#n_jobs int, default=None\n",
        "#Number of jobs to run in parallel. None means 1 unless in a joblib.parallel_backend context. -1 means using all processors.\n",
        "penalty = ['l1', 'l2']\n",
        "C = [0.0001, 0.001, 0.01]\n",
        "class_weight = [{1:0.5, 0:0.5}, {1:0.4, 0:0.6}]\n",
        "solver = ['liblinear', 'saga']\n",
        "\n",
        "param_grid = dict(penalty=penalty,\n",
        "                  C=C,\n",
        "                  class_weight=class_weight,\n",
        "                  solver=solver)\n",
        "\n",
        "grid = GridSearchCV(estimator=logistic, param_grid=param_grid, scoring='accuracy', verbose=1, n_jobs=-1,cv=10)\n",
        "grid.fit(X_train, y_train)\n",
        "print(\"\\nGrid Search Best Score: \",grid.best_score_)\n",
        "\n",
        "random = RandomizedSearchCV(estimator=logistic, param_distributions=param_grid, scoring='accuracy', verbose=1, n_jobs=-1, n_iter=1000,cv=10)\n",
        "random.fit(X_train, y_train)\n",
        "print('\\nBest Score  of Random : ', random.best_score_)"
      ],
      "execution_count": 85,
      "outputs": [
        {
          "output_type": "stream",
          "text": [
            "Fitting 10 folds for each of 24 candidates, totalling 240 fits\n"
          ],
          "name": "stdout"
        },
        {
          "output_type": "stream",
          "text": [
            "[Parallel(n_jobs=-1)]: Using backend LokyBackend with 2 concurrent workers.\n",
            "[Parallel(n_jobs=-1)]: Done 240 out of 240 | elapsed:    0.5s finished\n",
            "/usr/local/lib/python3.6/dist-packages/sklearn/model_selection/_search.py:281: UserWarning: The total space of parameters 24 is smaller than n_iter=1000. Running 24 iterations. For exhaustive searches, use GridSearchCV.\n",
            "  % (grid_size, self.n_iter, grid_size), UserWarning)\n",
            "[Parallel(n_jobs=-1)]: Using backend LokyBackend with 2 concurrent workers.\n"
          ],
          "name": "stderr"
        },
        {
          "output_type": "stream",
          "text": [
            "\n",
            "Grid Search Best Score:  0.8083333333333333\n",
            "Fitting 10 folds for each of 24 candidates, totalling 240 fits\n",
            "\n",
            "Best Score  of Random :  0.8083333333333333\n"
          ],
          "name": "stdout"
        },
        {
          "output_type": "stream",
          "text": [
            "[Parallel(n_jobs=-1)]: Done 240 out of 240 | elapsed:    0.5s finished\n"
          ],
          "name": "stderr"
        }
      ]
    },
    {
      "cell_type": "code",
      "metadata": {
        "id": "lhFxlskmLoEG",
        "colab_type": "code",
        "colab": {
          "base_uri": "https://localhost:8080/",
          "height": 102
        },
        "outputId": "1e708c61-deb9-4005-8a86-460c73a830bb"
      },
      "source": [
        "#As both Models are same we can  taken any so taking Grid Search\n",
        "logistic=grid.best_estimator_\n",
        "print(logistic)"
      ],
      "execution_count": 86,
      "outputs": [
        {
          "output_type": "stream",
          "text": [
            "LogisticRegression(C=0.01, class_weight={0: 0.5, 1: 0.5}, dual=False,\n",
            "                   fit_intercept=True, intercept_scaling=1, l1_ratio=None,\n",
            "                   max_iter=100, multi_class='auto', n_jobs=None, penalty='l2',\n",
            "                   random_state=None, solver='liblinear', tol=0.0001, verbose=0,\n",
            "                   warm_start=False)\n"
          ],
          "name": "stdout"
        }
      ]
    },
    {
      "cell_type": "code",
      "metadata": {
        "trusted": true,
        "_uuid": "91f9287a24c6892ec1899252a6d449c1e4f5318a",
        "id": "dKX9zr9PpENv",
        "colab_type": "code",
        "colab": {
          "base_uri": "https://localhost:8080/",
          "height": 51
        },
        "outputId": "3fe78498-e064-4621-a535-88a4dd6269fb"
      },
      "source": [
        "from sklearn.metrics import accuracy_score\n",
        "\n",
        "logistic.fit(X_train, y_train)\n",
        "\n",
        "y_train_pred = logistic.predict(X_train)\n",
        "accuracy_train = accuracy_score(y_train, y_train_pred)\n",
        "print(\"Accuracy: %.2f%%\" % (accuracy_train))\n",
        "\n",
        "y_test_pred = logistic.predict(X_test)\n",
        "accuracy_test = accuracy_score(y_test, y_test_pred)\n",
        "print(\"Accuracy: %.2f%%\" % (accuracy_test))"
      ],
      "execution_count": 87,
      "outputs": [
        {
          "output_type": "stream",
          "text": [
            "Accuracy: 0.82%\n",
            "Accuracy: 0.70%\n"
          ],
          "name": "stdout"
        }
      ]
    },
    {
      "cell_type": "markdown",
      "metadata": {
        "id": "quC6TUjiGDEb",
        "colab_type": "text"
      },
      "source": [
        "###**Logistc training & Testing accuracy is very less so hence proved for IRIS dataset.SGD is the perfect model**"
      ]
    },
    {
      "cell_type": "markdown",
      "metadata": {
        "id": "H0uqKZxnVEAi",
        "colab_type": "text"
      },
      "source": [
        "##**Ridge Classifier CV**"
      ]
    },
    {
      "cell_type": "code",
      "metadata": {
        "id": "1nE5MCA_Mda3",
        "colab_type": "code",
        "colab": {
          "base_uri": "https://localhost:8080/",
          "height": 241
        },
        "outputId": "36dc5ad2-8ea4-4262-ac85-1ea8966ec499"
      },
      "source": [
        "alpha = [0.01,0.001,0.0001,1.0]\n",
        "fit_intercept=[False,True]\n",
        "\n",
        "param = dict(alpha=alpha,fit_intercept=fit_intercept)\n",
        "\n",
        "Grid = GridSearchCV(estimator=ridge, param_grid=param, verbose=1, n_jobs=-1,cv=10,scoring='accuracy')\n",
        "Grid.fit(X_train, y_train)\n",
        "print(\"\\nGrid Search Best Score: \",grid.best_score_)\n",
        "\n",
        "random = RandomizedSearchCV(estimator=ridge, param_distributions=param, scoring='accuracy', verbose=1, n_jobs=-1, n_iter=1000,cv=5)\n",
        "random.fit(X_train, y_train)\n",
        "print('\\nBest Score  of Random : ', random.best_score_)"
      ],
      "execution_count": 99,
      "outputs": [
        {
          "output_type": "stream",
          "text": [
            "Fitting 10 folds for each of 8 candidates, totalling 80 fits\n"
          ],
          "name": "stdout"
        },
        {
          "output_type": "stream",
          "text": [
            "[Parallel(n_jobs=-1)]: Using backend LokyBackend with 2 concurrent workers.\n"
          ],
          "name": "stderr"
        },
        {
          "output_type": "stream",
          "text": [
            "\n",
            "Grid Search Best Score:  0.8083333333333333\n",
            "Fitting 5 folds for each of 8 candidates, totalling 40 fits\n",
            "\n",
            "Best Score  of Random :  0.875\n"
          ],
          "name": "stdout"
        },
        {
          "output_type": "stream",
          "text": [
            "[Parallel(n_jobs=-1)]: Done  80 out of  80 | elapsed:    0.3s finished\n",
            "/usr/local/lib/python3.6/dist-packages/sklearn/model_selection/_search.py:281: UserWarning: The total space of parameters 8 is smaller than n_iter=1000. Running 8 iterations. For exhaustive searches, use GridSearchCV.\n",
            "  % (grid_size, self.n_iter, grid_size), UserWarning)\n",
            "[Parallel(n_jobs=-1)]: Using backend LokyBackend with 2 concurrent workers.\n",
            "[Parallel(n_jobs=-1)]: Done  40 out of  40 | elapsed:    0.1s finished\n"
          ],
          "name": "stderr"
        }
      ]
    },
    {
      "cell_type": "code",
      "metadata": {
        "id": "54HgEYf0bEhW",
        "colab_type": "code",
        "colab": {}
      },
      "source": [
        "#as Random Search has greater score ..hence using Random  "
      ],
      "execution_count": null,
      "outputs": []
    },
    {
      "cell_type": "code",
      "metadata": {
        "colab_type": "code",
        "id": "K9jl_BK9bNWJ",
        "colab": {
          "base_uri": "https://localhost:8080/",
          "height": 68
        },
        "outputId": "935a3818-d85c-48c0-b2fb-f60383d1ee80"
      },
      "source": [
        "#As both Models are same we can  taken any so taking Grid Search\n",
        "ridgemodel=random.best_estimator_\n",
        "print(ridgemodel)"
      ],
      "execution_count": 100,
      "outputs": [
        {
          "output_type": "stream",
          "text": [
            "RidgeClassifier(alpha=0.01, class_weight=None, copy_X=True, fit_intercept=False,\n",
            "                max_iter=None, normalize=False, random_state=None,\n",
            "                solver='auto', tol=0.001)\n"
          ],
          "name": "stdout"
        }
      ]
    },
    {
      "cell_type": "code",
      "metadata": {
        "trusted": true,
        "_uuid": "91f9287a24c6892ec1899252a6d449c1e4f5318a",
        "colab_type": "code",
        "id": "aipNjVFtbNWT",
        "colab": {
          "base_uri": "https://localhost:8080/",
          "height": 51
        },
        "outputId": "dbde46a2-9e0f-4d71-9644-17ce024402cd"
      },
      "source": [
        "from sklearn.metrics import accuracy_score\n",
        "\n",
        "ridgemodel.fit(X_train, y_train)\n",
        "\n",
        "y_train_pred = ridgemodel.predict(X_train)\n",
        "accuracy_train = accuracy_score(y_train, y_train_pred)\n",
        "print(\"Accuracy: %.2f%%\" % (accuracy_train))\n",
        "\n",
        "y_test_pred = ridgemodel.predict(X_test)\n",
        "accuracy_test = accuracy_score(y_test, y_test_pred)\n",
        "print(\"Accuracy: %.2f%%\" % (accuracy_test))"
      ],
      "execution_count": 101,
      "outputs": [
        {
          "output_type": "stream",
          "text": [
            "Accuracy: 0.88%\n",
            "Accuracy: 0.77%\n"
          ],
          "name": "stdout"
        }
      ]
    },
    {
      "cell_type": "markdown",
      "metadata": {
        "id": "t7i8YBMwbZ7u",
        "colab_type": "text"
      },
      "source": [
        "**Train Accuracy: 88%**\n",
        "\n",
        "**Testing Accuracy : 77%**"
      ]
    },
    {
      "cell_type": "markdown",
      "metadata": {
        "id": "ONlWmkkVdq8n",
        "colab_type": "text"
      },
      "source": [
        "\n",
        "\n",
        "---\n",
        "\n"
      ]
    }
  ]
}