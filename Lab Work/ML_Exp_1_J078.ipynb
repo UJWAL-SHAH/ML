{
  "nbformat": 4,
  "nbformat_minor": 0,
  "metadata": {
    "colab": {
      "name": "ML_Exp_1_J078",
      "provenance": [],
      "authorship_tag": "ABX9TyMVkET9MnRhytEe8Om5R2JJ",
      "include_colab_link": true
    },
    "kernelspec": {
      "name": "python3",
      "display_name": "Python 3"
    }
  },
  "cells": [
    {
      "cell_type": "markdown",
      "metadata": {
        "id": "view-in-github",
        "colab_type": "text"
      },
      "source": [
        "<a href=\"https://colab.research.google.com/github/UJWAL-SHAH/ML/blob/master/Lab%20Work/ML_Exp_1_J078.ipynb\" target=\"_parent\"><img src=\"https://colab.research.google.com/assets/colab-badge.svg\" alt=\"Open In Colab\"/></a>"
      ]
    },
    {
      "cell_type": "markdown",
      "metadata": {
        "id": "XD2q6vcitp81",
        "colab_type": "text"
      },
      "source": [
        "# Experiment No: 1\n",
        "\n",
        "Name: Ujwal Shah\n",
        "\n",
        "Roll No: J078\n",
        "\n"
      ]
    },
    {
      "cell_type": "code",
      "metadata": {
        "id": "FBSQtJOJvgT5",
        "colab_type": "code",
        "colab": {}
      },
      "source": [
        "import numpy as np\n",
        "import pandas as pd\n",
        "import sklearn\n",
        "import sklearn.datasets\n",
        "import matplotlib.pyplot as plt"
      ],
      "execution_count": null,
      "outputs": []
    },
    {
      "cell_type": "markdown",
      "metadata": {
        "id": "K_hKPpkiwxKS",
        "colab_type": "text"
      },
      "source": [
        "# Questions:\n",
        "1.\tWhat are the categorical variables in this dataset?\n"
      ]
    },
    {
      "cell_type": "code",
      "metadata": {
        "id": "573F86PCvzfv",
        "colab_type": "code",
        "colab": {}
      },
      "source": [
        "dep = pd.read_csv('/content/depression.csv') "
      ],
      "execution_count": null,
      "outputs": []
    },
    {
      "cell_type": "code",
      "metadata": {
        "id": "WB5gpt6Px6jL",
        "colab_type": "code",
        "colab": {
          "base_uri": "https://localhost:8080/",
          "height": 204
        },
        "outputId": "0005fb84-5164-4a28-d985-81199cddf784"
      },
      "source": [
        "dep.tail()"
      ],
      "execution_count": null,
      "outputs": [
        {
          "output_type": "execute_result",
          "data": {
            "text/html": [
              "<div>\n",
              "<style scoped>\n",
              "    .dataframe tbody tr th:only-of-type {\n",
              "        vertical-align: middle;\n",
              "    }\n",
              "\n",
              "    .dataframe tbody tr th {\n",
              "        vertical-align: top;\n",
              "    }\n",
              "\n",
              "    .dataframe thead th {\n",
              "        text-align: right;\n",
              "    }\n",
              "</style>\n",
              "<table border=\"1\" class=\"dataframe\">\n",
              "  <thead>\n",
              "    <tr style=\"text-align: right;\">\n",
              "      <th></th>\n",
              "      <th>Sr.No</th>\n",
              "      <th>Hospt</th>\n",
              "      <th>Treat</th>\n",
              "      <th>Outcome</th>\n",
              "      <th>Time</th>\n",
              "      <th>AcuteT</th>\n",
              "      <th>Age</th>\n",
              "      <th>Gender</th>\n",
              "    </tr>\n",
              "  </thead>\n",
              "  <tbody>\n",
              "    <tr>\n",
              "      <th>104</th>\n",
              "      <td>105</td>\n",
              "      <td>6</td>\n",
              "      <td>2</td>\n",
              "      <td>1</td>\n",
              "      <td>20.857000</td>\n",
              "      <td>207</td>\n",
              "      <td>43</td>\n",
              "      <td>1</td>\n",
              "    </tr>\n",
              "    <tr>\n",
              "      <th>105</th>\n",
              "      <td>106</td>\n",
              "      <td>6</td>\n",
              "      <td>2</td>\n",
              "      <td>1</td>\n",
              "      <td>18.285999</td>\n",
              "      <td>102</td>\n",
              "      <td>29</td>\n",
              "      <td>1</td>\n",
              "    </tr>\n",
              "    <tr>\n",
              "      <th>106</th>\n",
              "      <td>107</td>\n",
              "      <td>6</td>\n",
              "      <td>1</td>\n",
              "      <td>1</td>\n",
              "      <td>31.857000</td>\n",
              "      <td>154</td>\n",
              "      <td>28</td>\n",
              "      <td>1</td>\n",
              "    </tr>\n",
              "    <tr>\n",
              "      <th>107</th>\n",
              "      <td>108</td>\n",
              "      <td>6</td>\n",
              "      <td>1</td>\n",
              "      <td>1</td>\n",
              "      <td>22.000000</td>\n",
              "      <td>203</td>\n",
              "      <td>51</td>\n",
              "      <td>1</td>\n",
              "    </tr>\n",
              "    <tr>\n",
              "      <th>108</th>\n",
              "      <td>109</td>\n",
              "      <td>6</td>\n",
              "      <td>0</td>\n",
              "      <td>1</td>\n",
              "      <td>2.000000</td>\n",
              "      <td>176</td>\n",
              "      <td>33</td>\n",
              "      <td>1</td>\n",
              "    </tr>\n",
              "  </tbody>\n",
              "</table>\n",
              "</div>"
            ],
            "text/plain": [
              "     Sr.No  Hospt  Treat  Outcome       Time  AcuteT  Age  Gender\n",
              "104    105      6      2        1  20.857000     207   43       1\n",
              "105    106      6      2        1  18.285999     102   29       1\n",
              "106    107      6      1        1  31.857000     154   28       1\n",
              "107    108      6      1        1  22.000000     203   51       1\n",
              "108    109      6      0        1   2.000000     176   33       1"
            ]
          },
          "metadata": {
            "tags": []
          },
          "execution_count": 15
        }
      ]
    },
    {
      "cell_type": "code",
      "metadata": {
        "id": "ZD5wwUBvyZfP",
        "colab_type": "code",
        "colab": {}
      },
      "source": [
        ""
      ],
      "execution_count": null,
      "outputs": []
    },
    {
      "cell_type": "markdown",
      "metadata": {
        "id": "z5NdlDxFyaLE",
        "colab_type": "text"
      },
      "source": [
        "**Hospt,Treat,Outcome,Gender are categorial variables in the dataset**"
      ]
    },
    {
      "cell_type": "markdown",
      "metadata": {
        "id": "e9UR6TnTyqtn",
        "colab_type": "text"
      },
      "source": [
        "# Question No: 2\n",
        "What are the quantitative variables in this dataset?"
      ]
    },
    {
      "cell_type": "markdown",
      "metadata": {
        "id": "OhKMVTx4y_0Z",
        "colab_type": "text"
      },
      "source": [
        "**Time,Acute & Age are Quantitative variables in this dataset**"
      ]
    },
    {
      "cell_type": "markdown",
      "metadata": {
        "id": "aK8zX0P1zMfX",
        "colab_type": "text"
      },
      "source": [
        "## Question No: 3\n",
        "Describe the distribution of the variable \"friends\" in dataset - Survey that asked 1,200 U.S. college students about their body perception"
      ]
    },
    {
      "cell_type": "code",
      "metadata": {
        "id": "RdJtCQhSzZ1F",
        "colab_type": "code",
        "colab": {}
      },
      "source": [
        "fr=pd.read_csv(\"/content/friends.csv\")"
      ],
      "execution_count": null,
      "outputs": []
    },
    {
      "cell_type": "code",
      "metadata": {
        "id": "jE17XxGJzpfo",
        "colab_type": "code",
        "colab": {
          "base_uri": "https://localhost:8080/",
          "height": 102
        },
        "outputId": "7077756d-6a4f-4daf-8d5d-84cf6015cd63"
      },
      "source": [
        "fr['Friends'].describe()"
      ],
      "execution_count": null,
      "outputs": [
        {
          "output_type": "execute_result",
          "data": {
            "text/plain": [
              "count              1200\n",
              "unique                3\n",
              "top       No difference\n",
              "freq                602\n",
              "Name: Friends, dtype: object"
            ]
          },
          "metadata": {
            "tags": []
          },
          "execution_count": 25
        }
      ]
    },
    {
      "cell_type": "code",
      "metadata": {
        "id": "QsZlOB5v0an_",
        "colab_type": "code",
        "colab": {
          "base_uri": "https://localhost:8080/",
          "height": 85
        },
        "outputId": "6e32ac94-b7f6-4b75-e79f-9e4fdc58c71b"
      },
      "source": [
        "fr['Friends'].value_counts()"
      ],
      "execution_count": null,
      "outputs": [
        {
          "output_type": "execute_result",
          "data": {
            "text/plain": [
              "No difference    602\n",
              "Opposite sex     434\n",
              "Same sex         164\n",
              "Name: Friends, dtype: int64"
            ]
          },
          "metadata": {
            "tags": []
          },
          "execution_count": 27
        }
      ]
    },
    {
      "cell_type": "code",
      "metadata": {
        "id": "J28TTyzh0cfY",
        "colab_type": "code",
        "colab": {
          "base_uri": "https://localhost:8080/",
          "height": 282
        },
        "outputId": "4758b09c-3159-46c9-b453-20394fa3bd05"
      },
      "source": [
        "fr['Friends'].hist()"
      ],
      "execution_count": null,
      "outputs": [
        {
          "output_type": "execute_result",
          "data": {
            "text/plain": [
              "<matplotlib.axes._subplots.AxesSubplot at 0x7f6f4feb25f8>"
            ]
          },
          "metadata": {
            "tags": []
          },
          "execution_count": 28
        },
        {
          "output_type": "display_data",
          "data": {
            "image/png": "[encoded data removed]",
            "text/plain": [
              "<Figure size 432x288 with 1 Axes>"
            ]
          },
          "metadata": {
            "tags": [],
            "needs_background": "light"
          }
        }
      ]
    },
    {
      "cell_type": "markdown",
      "metadata": {
        "id": "Ti3atkuo0qS3",
        "colab_type": "text"
      },
      "source": [
        "**\"No difference\" has the highest frequency whereas \"Opposite Sex\" has frequency of  434 & \"Same Sex\" has lowest frequency of 164 only**"
      ]
    },
    {
      "cell_type": "markdown",
      "metadata": {
        "id": "sjAWx8Jg1aFb",
        "colab_type": "text"
      },
      "source": [
        "#\tQuestion No: 4 \n",
        "\n",
        "Describe the distribution of the ages of the Best Actor Oscar winners. Be sure to address shape, center, spread and outliers (Dataset - Best Actor Oscar winners (1970-2013))"
      ]
    },
    {
      "cell_type": "code",
      "metadata": {
        "id": "sinQn9bl1ghF",
        "colab_type": "code",
        "colab": {}
      },
      "source": [
        "actor=pd.read_csv(\"/content/actor_age.csv\")"
      ],
      "execution_count": null,
      "outputs": []
    },
    {
      "cell_type": "code",
      "metadata": {
        "id": "bA1VQhSQ1zXC",
        "colab_type": "code",
        "colab": {
          "base_uri": "https://localhost:8080/",
          "height": 297
        },
        "outputId": "ec5aedbd-e0a5-40bc-b433-c4269cb9b093"
      },
      "source": [
        "actor.describe(include=\"all\")"
      ],
      "execution_count": null,
      "outputs": [
        {
          "output_type": "execute_result",
          "data": {
            "text/html": [
              "<div>\n",
              "<style scoped>\n",
              "    .dataframe tbody tr th:only-of-type {\n",
              "        vertical-align: middle;\n",
              "    }\n",
              "\n",
              "    .dataframe tbody tr th {\n",
              "        vertical-align: top;\n",
              "    }\n",
              "\n",
              "    .dataframe thead th {\n",
              "        text-align: right;\n",
              "    }\n",
              "</style>\n",
              "<table border=\"1\" class=\"dataframe\">\n",
              "  <thead>\n",
              "    <tr style=\"text-align: right;\">\n",
              "      <th></th>\n",
              "      <th>Unnamed: 0</th>\n",
              "      <th>Age</th>\n",
              "    </tr>\n",
              "  </thead>\n",
              "  <tbody>\n",
              "    <tr>\n",
              "      <th>count</th>\n",
              "      <td>44.000000</td>\n",
              "      <td>44.000000</td>\n",
              "    </tr>\n",
              "    <tr>\n",
              "      <th>mean</th>\n",
              "      <td>22.500000</td>\n",
              "      <td>44.977273</td>\n",
              "    </tr>\n",
              "    <tr>\n",
              "      <th>std</th>\n",
              "      <td>12.845233</td>\n",
              "      <td>9.749153</td>\n",
              "    </tr>\n",
              "    <tr>\n",
              "      <th>min</th>\n",
              "      <td>1.000000</td>\n",
              "      <td>29.000000</td>\n",
              "    </tr>\n",
              "    <tr>\n",
              "      <th>25%</th>\n",
              "      <td>11.750000</td>\n",
              "      <td>38.000000</td>\n",
              "    </tr>\n",
              "    <tr>\n",
              "      <th>50%</th>\n",
              "      <td>22.500000</td>\n",
              "      <td>43.500000</td>\n",
              "    </tr>\n",
              "    <tr>\n",
              "      <th>75%</th>\n",
              "      <td>33.250000</td>\n",
              "      <td>50.250000</td>\n",
              "    </tr>\n",
              "    <tr>\n",
              "      <th>max</th>\n",
              "      <td>44.000000</td>\n",
              "      <td>76.000000</td>\n",
              "    </tr>\n",
              "  </tbody>\n",
              "</table>\n",
              "</div>"
            ],
            "text/plain": [
              "       Unnamed: 0        Age\n",
              "count   44.000000  44.000000\n",
              "mean    22.500000  44.977273\n",
              "std     12.845233   9.749153\n",
              "min      1.000000  29.000000\n",
              "25%     11.750000  38.000000\n",
              "50%     22.500000  43.500000\n",
              "75%     33.250000  50.250000\n",
              "max     44.000000  76.000000"
            ]
          },
          "metadata": {
            "tags": []
          },
          "execution_count": 15
        }
      ]
    },
    {
      "cell_type": "code",
      "metadata": {
        "id": "S88_qbZh2x50",
        "colab_type": "code",
        "colab": {
          "base_uri": "https://localhost:8080/",
          "height": 282
        },
        "outputId": "dd56d16a-662b-4ff6-d332-4e081b0a50fa"
      },
      "source": [
        "actor['Age'].hist()"
      ],
      "execution_count": null,
      "outputs": [
        {
          "output_type": "execute_result",
          "data": {
            "text/plain": [
              "<matplotlib.axes._subplots.AxesSubplot at 0x7f13d40d1cc0>"
            ]
          },
          "metadata": {
            "tags": []
          },
          "execution_count": 16
        },
        {
          "output_type": "display_data",
          "data": {
            "image/png": "[encoded data removed]",
            "text/plain": [
              "<Figure size 432x288 with 1 Axes>"
            ]
          },
          "metadata": {
            "tags": [],
            "needs_background": "light"
          }
        }
      ]
    },
    {
      "cell_type": "code",
      "metadata": {
        "id": "loDHCQ_g3roQ",
        "colab_type": "code",
        "colab": {
          "base_uri": "https://localhost:8080/",
          "height": 282
        },
        "outputId": "31817457-fb05-4c1a-cddc-2e65db33c98d"
      },
      "source": [
        "actor.boxplot(column=\"Age\")"
      ],
      "execution_count": null,
      "outputs": [
        {
          "output_type": "execute_result",
          "data": {
            "text/plain": [
              "<matplotlib.axes._subplots.AxesSubplot at 0x7f13d5184668>"
            ]
          },
          "metadata": {
            "tags": []
          },
          "execution_count": 17
        },
        {
          "output_type": "display_data",
          "data": {
            "image/png": "[encoded data removed]",
            "text/plain": [
              "<Figure size 432x288 with 1 Axes>"
            ]
          },
          "metadata": {
            "tags": [],
            "needs_background": "light"
          }
        }
      ]
    },
    {
      "cell_type": "markdown",
      "metadata": {
        "id": "jgbIQSvRbgvW",
        "colab_type": "text"
      },
      "source": [
        "**Shape: The graph is Positively Skewed**\n",
        "\n",
        "**Center: The mean age is ~ 45 years**\n",
        "\n",
        "**Spread: Through histogram we can see that the data is more spreaded around 30-60 age**\n",
        "\n",
        "**Outliers: There is one outliear at age 76**\n"
      ]
    },
    {
      "cell_type": "markdown",
      "metadata": {
        "id": "HosyCWoXeLh6",
        "colab_type": "text"
      },
      "source": [
        "# Question 5: \n",
        "\n",
        "### Getting information from the output: a. How many observations are in this data set? b. What is the mean age of the actors who won the Oscar? c. What is the five-number summary of the distribution? (Dataset - Best Actor Oscar winners (1970-2013))"
      ]
    },
    {
      "cell_type": "code",
      "metadata": {
        "id": "H5NaC1t9eiJw",
        "colab_type": "code",
        "colab": {
          "base_uri": "https://localhost:8080/",
          "height": 170
        },
        "outputId": "3dc4281b-4b81-4dd7-c322-54f1f6ee4a3b"
      },
      "source": [
        "actor[\"Age\"].describe()"
      ],
      "execution_count": null,
      "outputs": [
        {
          "output_type": "execute_result",
          "data": {
            "text/plain": [
              "count    44.000000\n",
              "mean     44.977273\n",
              "std       9.749153\n",
              "min      29.000000\n",
              "25%      38.000000\n",
              "50%      43.500000\n",
              "75%      50.250000\n",
              "max      76.000000\n",
              "Name: Age, dtype: float64"
            ]
          },
          "metadata": {
            "tags": []
          },
          "execution_count": 22
        }
      ]
    },
    {
      "cell_type": "markdown",
      "metadata": {
        "id": "29Ur3Lswg-p9",
        "colab_type": "text"
      },
      "source": [
        "**a) There are total 44 observations in the data  set**\n",
        "\n",
        "**b)Mean Age= 44.977273 ~ 45**\n",
        "\n",
        "**c)**\n",
        "\n",
        "**min:    29.000000**\n",
        "\n",
        "**25%:    38.000000**\n",
        "\n",
        "**50%:    43.500000**\n",
        "\n",
        "**75%:    50.250000**\n",
        "\n",
        "**max:    76.000000**"
      ]
    },
    {
      "cell_type": "markdown",
      "metadata": {
        "id": "d4EtiC6WiFBB",
        "colab_type": "text"
      },
      "source": [
        "# Question 6\n",
        "\n",
        "###Get information from the five-number summary: a. Half of the actors won the Oscar before what age? b. What is the range covered by all the actors' ages? c. What is the range covered by the middle 50% of the ages? (Dataset - Best Actor Oscar winners (1970-2013))"
      ]
    },
    {
      "cell_type": "code",
      "metadata": {
        "id": "UKpGanKKiYUk",
        "colab_type": "code",
        "colab": {
          "base_uri": "https://localhost:8080/",
          "height": 170
        },
        "outputId": "f735e73e-de09-431d-e4df-b4cbe9ba08fc"
      },
      "source": [
        "actor[\"Age\"].describe()"
      ],
      "execution_count": null,
      "outputs": [
        {
          "output_type": "execute_result",
          "data": {
            "text/plain": [
              "count    44.000000\n",
              "mean     44.977273\n",
              "std       9.749153\n",
              "min      29.000000\n",
              "25%      38.000000\n",
              "50%      43.500000\n",
              "75%      50.250000\n",
              "max      76.000000\n",
              "Name: Age, dtype: float64"
            ]
          },
          "metadata": {
            "tags": []
          },
          "execution_count": 23
        }
      ]
    },
    {
      "cell_type": "code",
      "metadata": {
        "id": "xHSEp9FRjMwp",
        "colab_type": "code",
        "colab": {
          "base_uri": "https://localhost:8080/",
          "height": 34
        },
        "outputId": "69f720d0-d435-41ee-b35f-1fa3d767fe92"
      },
      "source": [
        "Range_1=actor[\"Age\"].max()-actor[\"Age\"].min()\n",
        "print(Range_1)"
      ],
      "execution_count": null,
      "outputs": [
        {
          "output_type": "stream",
          "text": [
            "47\n"
          ],
          "name": "stdout"
        }
      ]
    },
    {
      "cell_type": "code",
      "metadata": {
        "id": "BFv3z_2Xj8tr",
        "colab_type": "code",
        "colab": {
          "base_uri": "https://localhost:8080/",
          "height": 34
        },
        "outputId": "5fa76474-d2eb-465c-b86a-ce1be8e54925"
      },
      "source": [
        "Range_2=actor[\"Age\"].describe()[\"75%\"]-actor[\"Age\"].describe()[\"25%\"]\n",
        "print(Range_2)"
      ],
      "execution_count": null,
      "outputs": [
        {
          "output_type": "stream",
          "text": [
            "12.25\n"
          ],
          "name": "stdout"
        }
      ]
    },
    {
      "cell_type": "markdown",
      "metadata": {
        "id": "_hA6l1ELisB4",
        "colab_type": "text"
      },
      "source": [
        "**a) That is the median = 43.5 which means that half of the actors won the Oscar before this age**\n",
        "\n",
        "**b) Range = 47 years (Max- Min)**\n",
        "\n",
        "**c)Range_2 =Q3-Q1 = 12.25 years**\n"
      ]
    },
    {
      "cell_type": "markdown",
      "metadata": {
        "id": "1ZsTt7E4lRO4",
        "colab_type": "text"
      },
      "source": [
        "# Question 7\n",
        "\n",
        "###What are the standard deviations of the three rating distributions? Was your intuition correct? (Dataset - 27 students in the class were asked to rate the instructor on a number scale of 1 to 9)"
      ]
    },
    {
      "cell_type": "code",
      "metadata": {
        "id": "c5LBurVcljjp",
        "colab_type": "code",
        "colab": {
          "base_uri": "https://localhost:8080/",
          "height": 204
        },
        "outputId": "d5aa5fc9-55ec-4f8b-966a-5257e5bcd54f"
      },
      "source": [
        "rating=pd.read_csv('/content/ratings.csv')\n",
        "rating.tail()"
      ],
      "execution_count": null,
      "outputs": [
        {
          "output_type": "execute_result",
          "data": {
            "text/html": [
              "<div>\n",
              "<style scoped>\n",
              "    .dataframe tbody tr th:only-of-type {\n",
              "        vertical-align: middle;\n",
              "    }\n",
              "\n",
              "    .dataframe tbody tr th {\n",
              "        vertical-align: top;\n",
              "    }\n",
              "\n",
              "    .dataframe thead th {\n",
              "        text-align: right;\n",
              "    }\n",
              "</style>\n",
              "<table border=\"1\" class=\"dataframe\">\n",
              "  <thead>\n",
              "    <tr style=\"text-align: right;\">\n",
              "      <th></th>\n",
              "      <th>Unnamed: 0</th>\n",
              "      <th>Class.I</th>\n",
              "      <th>Class.II</th>\n",
              "      <th>Class.III</th>\n",
              "    </tr>\n",
              "  </thead>\n",
              "  <tbody>\n",
              "    <tr>\n",
              "      <th>22</th>\n",
              "      <td>23</td>\n",
              "      <td>5</td>\n",
              "      <td>9</td>\n",
              "      <td>5</td>\n",
              "    </tr>\n",
              "    <tr>\n",
              "      <th>23</th>\n",
              "      <td>24</td>\n",
              "      <td>5</td>\n",
              "      <td>9</td>\n",
              "      <td>6</td>\n",
              "    </tr>\n",
              "    <tr>\n",
              "      <th>24</th>\n",
              "      <td>25</td>\n",
              "      <td>5</td>\n",
              "      <td>9</td>\n",
              "      <td>7</td>\n",
              "    </tr>\n",
              "    <tr>\n",
              "      <th>25</th>\n",
              "      <td>26</td>\n",
              "      <td>9</td>\n",
              "      <td>9</td>\n",
              "      <td>8</td>\n",
              "    </tr>\n",
              "    <tr>\n",
              "      <th>26</th>\n",
              "      <td>27</td>\n",
              "      <td>9</td>\n",
              "      <td>9</td>\n",
              "      <td>9</td>\n",
              "    </tr>\n",
              "  </tbody>\n",
              "</table>\n",
              "</div>"
            ],
            "text/plain": [
              "    Unnamed: 0  Class.I  Class.II  Class.III\n",
              "22          23        5         9          5\n",
              "23          24        5         9          6\n",
              "24          25        5         9          7\n",
              "25          26        9         9          8\n",
              "26          27        9         9          9"
            ]
          },
          "metadata": {
            "tags": []
          },
          "execution_count": 38
        }
      ]
    },
    {
      "cell_type": "code",
      "metadata": {
        "id": "KDK3QurcnT5B",
        "colab_type": "code",
        "colab": {
          "base_uri": "https://localhost:8080/",
          "height": 297
        },
        "outputId": "07bc455c-8b7b-4dce-ee5a-8d120f0807d0"
      },
      "source": [
        "rating.describe()"
      ],
      "execution_count": null,
      "outputs": [
        {
          "output_type": "execute_result",
          "data": {
            "text/html": [
              "<div>\n",
              "<style scoped>\n",
              "    .dataframe tbody tr th:only-of-type {\n",
              "        vertical-align: middle;\n",
              "    }\n",
              "\n",
              "    .dataframe tbody tr th {\n",
              "        vertical-align: top;\n",
              "    }\n",
              "\n",
              "    .dataframe thead th {\n",
              "        text-align: right;\n",
              "    }\n",
              "</style>\n",
              "<table border=\"1\" class=\"dataframe\">\n",
              "  <thead>\n",
              "    <tr style=\"text-align: right;\">\n",
              "      <th></th>\n",
              "      <th>Unnamed: 0</th>\n",
              "      <th>Class.I</th>\n",
              "      <th>Class.II</th>\n",
              "      <th>Class.III</th>\n",
              "    </tr>\n",
              "  </thead>\n",
              "  <tbody>\n",
              "    <tr>\n",
              "      <th>count</th>\n",
              "      <td>27.000000</td>\n",
              "      <td>27.000000</td>\n",
              "      <td>27.0</td>\n",
              "      <td>27.000000</td>\n",
              "    </tr>\n",
              "    <tr>\n",
              "      <th>mean</th>\n",
              "      <td>14.000000</td>\n",
              "      <td>5.000000</td>\n",
              "      <td>5.0</td>\n",
              "      <td>5.000000</td>\n",
              "    </tr>\n",
              "    <tr>\n",
              "      <th>std</th>\n",
              "      <td>7.937254</td>\n",
              "      <td>1.568929</td>\n",
              "      <td>4.0</td>\n",
              "      <td>2.631174</td>\n",
              "    </tr>\n",
              "    <tr>\n",
              "      <th>min</th>\n",
              "      <td>1.000000</td>\n",
              "      <td>1.000000</td>\n",
              "      <td>1.0</td>\n",
              "      <td>1.000000</td>\n",
              "    </tr>\n",
              "    <tr>\n",
              "      <th>25%</th>\n",
              "      <td>7.500000</td>\n",
              "      <td>5.000000</td>\n",
              "      <td>1.0</td>\n",
              "      <td>3.000000</td>\n",
              "    </tr>\n",
              "    <tr>\n",
              "      <th>50%</th>\n",
              "      <td>14.000000</td>\n",
              "      <td>5.000000</td>\n",
              "      <td>5.0</td>\n",
              "      <td>5.000000</td>\n",
              "    </tr>\n",
              "    <tr>\n",
              "      <th>75%</th>\n",
              "      <td>20.500000</td>\n",
              "      <td>5.000000</td>\n",
              "      <td>9.0</td>\n",
              "      <td>7.000000</td>\n",
              "    </tr>\n",
              "    <tr>\n",
              "      <th>max</th>\n",
              "      <td>27.000000</td>\n",
              "      <td>9.000000</td>\n",
              "      <td>9.0</td>\n",
              "      <td>9.000000</td>\n",
              "    </tr>\n",
              "  </tbody>\n",
              "</table>\n",
              "</div>"
            ],
            "text/plain": [
              "       Unnamed: 0    Class.I  Class.II  Class.III\n",
              "count   27.000000  27.000000      27.0  27.000000\n",
              "mean    14.000000   5.000000       5.0   5.000000\n",
              "std      7.937254   1.568929       4.0   2.631174\n",
              "min      1.000000   1.000000       1.0   1.000000\n",
              "25%      7.500000   5.000000       1.0   3.000000\n",
              "50%     14.000000   5.000000       5.0   5.000000\n",
              "75%     20.500000   5.000000       9.0   7.000000\n",
              "max     27.000000   9.000000       9.0   9.000000"
            ]
          },
          "metadata": {
            "tags": []
          },
          "execution_count": 39
        }
      ]
    },
    {
      "cell_type": "markdown",
      "metadata": {
        "id": "61yNBoPLnWdm",
        "colab_type": "text"
      },
      "source": [
        "**a) SD of 1st Class: 1.56**\n",
        "\n",
        "**SD of 2nd Class:  4.0**\n",
        "\n",
        "**SD of 3rd Class:  2.63**\n",
        "\n",
        "**There is more deviation from the mean in 2nd class as comapred to 1st and 3rd class**\n",
        "\n"
      ]
    },
    {
      "cell_type": "markdown",
      "metadata": {
        "id": "MmYURkB2oGx7",
        "colab_type": "text"
      },
      "source": [
        "# Question 8\n",
        "\n",
        "###Assume that the average rating in each of the three classes is 5 (which should be visually reasonably clear from the histograms), and recall the interpretation of the SD as a \"typical\" or \"average\" distance between the data points and their mean. Judging from the table and the histograms, which class would have the largest standard deviation, and which one would have the smallest standard deviation? Explain your reasoning (Dataset - 27 students in the class were asked to rate the instructor on a number scale of 1 to 9)"
      ]
    },
    {
      "cell_type": "code",
      "metadata": {
        "id": "x7kC0VdKp1ZZ",
        "colab_type": "code",
        "colab": {
          "base_uri": "https://localhost:8080/",
          "height": 34
        },
        "outputId": "c00f3c0a-0dc7-42e0-afcf-a39e3d9690d5"
      },
      "source": [
        "rating.columns"
      ],
      "execution_count": null,
      "outputs": [
        {
          "output_type": "execute_result",
          "data": {
            "text/plain": [
              "Index(['Unnamed: 0', 'Class.I', 'Class.II', 'Class.III'], dtype='object')"
            ]
          },
          "metadata": {
            "tags": []
          },
          "execution_count": 44
        }
      ]
    },
    {
      "cell_type": "code",
      "metadata": {
        "id": "kK-se30bovpF",
        "colab_type": "code",
        "colab": {
          "base_uri": "https://localhost:8080/",
          "height": 282
        },
        "outputId": "82061963-9b65-438e-9f0a-f4cc82ba11b9"
      },
      "source": [
        "rating[\"Class.I\"].hist()"
      ],
      "execution_count": null,
      "outputs": [
        {
          "output_type": "execute_result",
          "data": {
            "text/plain": [
              "<matplotlib.axes._subplots.AxesSubplot at 0x7f13d2866978>"
            ]
          },
          "metadata": {
            "tags": []
          },
          "execution_count": 64
        },
        {
          "output_type": "display_data",
          "data": {
            "image/png": "[encoded data removed]",
            "text/plain": [
              "<Figure size 432x288 with 1 Axes>"
            ]
          },
          "metadata": {
            "tags": [],
            "needs_background": "light"
          }
        }
      ]
    },
    {
      "cell_type": "code",
      "metadata": {
        "id": "4xkbLFhVwTed",
        "colab_type": "code",
        "colab": {
          "base_uri": "https://localhost:8080/",
          "height": 282
        },
        "outputId": "f76d92da-5f98-4487-f2c8-347aaa2c4859"
      },
      "source": [
        "rating[\"Class.II\"].hist()"
      ],
      "execution_count": null,
      "outputs": [
        {
          "output_type": "execute_result",
          "data": {
            "text/plain": [
              "<matplotlib.axes._subplots.AxesSubplot at 0x7f13d277c978>"
            ]
          },
          "metadata": {
            "tags": []
          },
          "execution_count": 65
        },
        {
          "output_type": "display_data",
          "data": {
            "image/png": "[encoded data removed]",
            "text/plain": [
              "<Figure size 432x288 with 1 Axes>"
            ]
          },
          "metadata": {
            "tags": [],
            "needs_background": "light"
          }
        }
      ]
    },
    {
      "cell_type": "code",
      "metadata": {
        "id": "Y9gOwiUbwWz-",
        "colab_type": "code",
        "colab": {
          "base_uri": "https://localhost:8080/",
          "height": 282
        },
        "outputId": "77843ff3-7708-4e5e-ad58-f9dc33bfddce"
      },
      "source": [
        "rating[\"Class.III\"].hist()"
      ],
      "execution_count": null,
      "outputs": [
        {
          "output_type": "execute_result",
          "data": {
            "text/plain": [
              "<matplotlib.axes._subplots.AxesSubplot at 0x7f13d2839898>"
            ]
          },
          "metadata": {
            "tags": []
          },
          "execution_count": 66
        },
        {
          "output_type": "display_data",
          "data": {
            "image/png": "[encoded data removed]",
            "text/plain": [
              "<Figure size 432x288 with 1 Axes>"
            ]
          },
          "metadata": {
            "tags": [],
            "needs_background": "light"
          }
        }
      ]
    },
    {
      "cell_type": "markdown",
      "metadata": {
        "id": "fD9gXiRawZu8",
        "colab_type": "text"
      },
      "source": [
        "OR "
      ]
    },
    {
      "cell_type": "code",
      "metadata": {
        "id": "8-ssTWETqJro",
        "colab_type": "code",
        "colab": {
          "base_uri": "https://localhost:8080/",
          "height": 355
        },
        "outputId": "a5b47845-44ba-4e80-b4fd-a49673163f8e"
      },
      "source": [
        "plt.figure(figsize=(150,150))\n",
        "#plt.set_ylim = ((0,20))\n",
        "fig, axes = plt.subplots(ncols=len(rating.columns), figsize=(10,5))\n",
        "for col, ax in zip(rating,axes):\n",
        "  #ax.set_ylim = ((0,20))\n",
        "  rating[col].value_counts().sort_index().plot.bar(ax=ax,title=col)\n",
        "  ax.set_ylim(0, 30)"
      ],
      "execution_count": null,
      "outputs": [
        {
          "output_type": "display_data",
          "data": {
            "text/plain": [
              "<Figure size 10800x10800 with 0 Axes>"
            ]
          },
          "metadata": {
            "tags": []
          }
        },
        {
          "output_type": "display_data",
          "data": {
            "image/png": "[encoded data removed]",
            "text/plain": [
              "<Figure size 720x360 with 4 Axes>"
            ]
          },
          "metadata": {
            "tags": [],
            "needs_background": "light"
          }
        }
      ]
    },
    {
      "cell_type": "markdown",
      "metadata": {
        "id": "LclifZG_owWk",
        "colab_type": "text"
      },
      "source": [
        "**Since most of the values in class I are near the mean value of 5 and hence SD would be less.**\n",
        "\n",
        "**In Class II,most values are away from mean and hence SD in Class II would be the maximum.**\n",
        "\n",
        "**In Class III,Values are equally dstributed & hence some values would be far and some very near and so the SD would get averaged.**\n",
        "\n",
        "**So according to me Order of Sd : Class II > Class III > Class I**"
      ]
    },
    {
      "cell_type": "markdown",
      "metadata": {
        "id": "IHOROc1SycSk",
        "colab_type": "text"
      },
      "source": [
        "---\n",
        "\n"
      ]
    }
  ]
}